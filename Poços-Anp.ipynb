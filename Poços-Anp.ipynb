{
 "metadata": {
  "language_info": {
   "codemirror_mode": {
    "name": "ipython",
    "version": 3
   },
   "file_extension": ".py",
   "mimetype": "text/x-python",
   "name": "python",
   "nbconvert_exporter": "python",
   "pygments_lexer": "ipython3",
   "version": "3.8.5-final"
  },
  "orig_nbformat": 2,
  "kernelspec": {
   "name": "python3",
   "display_name": "Python 3",
   "language": "python"
  }
 },
 "nbformat": 4,
 "nbformat_minor": 2,
 "cells": [
  {
   "source": [
    "# Projeto de Análise Exploratória \n",
    "\n",
    "Esse projeto vai utilizar com dataset a base de dados dos poços ativos, oferecida pela ANP (Agência Nacional de Petróleo) de 2018.\n",
    "\n",
    "Essa base de dados pode ser encontrada no Kaggle no seguinte link: \n",
    "\n",
    "https://www.kaggle.com/dtommasini/oil-gas-wells-brazil\n",
    "\n"
   ],
   "cell_type": "markdown",
   "metadata": {}
  },
  {
   "cell_type": "code",
   "execution_count": 100,
   "metadata": {},
   "outputs": [
    {
     "output_type": "display_data",
     "data": {
      "text/html": "        <script type=\"text/javascript\">\n        window.PlotlyConfig = {MathJaxConfig: 'local'};\n        if (window.MathJax) {MathJax.Hub.Config({SVG: {font: \"STIX-Web\"}});}\n        if (typeof require !== 'undefined') {\n        require.undef(\"plotly\");\n        requirejs.config({\n            paths: {\n                'plotly': ['https://cdn.plot.ly/plotly-latest.min']\n            }\n        });\n        require(['plotly'], function(Plotly) {\n            window._Plotly = Plotly;\n        });\n        }\n        </script>\n        "
     },
     "metadata": {}
    },
    {
     "output_type": "display_data",
     "data": {
      "text/html": "        <script type=\"text/javascript\">\n        window.PlotlyConfig = {MathJaxConfig: 'local'};\n        if (window.MathJax) {MathJax.Hub.Config({SVG: {font: \"STIX-Web\"}});}\n        if (typeof require !== 'undefined') {\n        require.undef(\"plotly\");\n        requirejs.config({\n            paths: {\n                'plotly': ['https://cdn.plot.ly/plotly-latest.min']\n            }\n        });\n        require(['plotly'], function(Plotly) {\n            window._Plotly = Plotly;\n        });\n        }\n        </script>\n        "
     },
     "metadata": {}
    }
   ],
   "source": [
    "# Carregando as bibliotecas\n",
    "import numpy as np \n",
    "import pandas as pd \n",
    "import seaborn as sns\n",
    "import cufflinks as cf\n",
    "import matplotlib.pyplot as plt\n",
    "from plotly.offline import download_plotlyjs, init_notebook_mode, plot, iplot\n",
    "import plotly.offline as py\n",
    "import plotly.graph_objs as go\n",
    "%matplotlib inline\n",
    "init_notebook_mode(connected=True)\n",
    "cf.go_offline()"
   ]
  },
  {
   "cell_type": "code",
   "execution_count": 101,
   "metadata": {},
   "outputs": [
    {
     "output_type": "execute_result",
     "data": {
      "text/plain": [
       "             POCO     CADASTRO      OPERADOR POCO_OPERADOR ESTADO   BACIA  \\\n",
       "0  7-RO-123HP-RJS  74281026087     Petrobras   7RO123HPRJS     RJ  Campos   \n",
       "1      1-BP-7-RJS  74281026107     BP Energy           ANU     RJ  Campos   \n",
       "2   7-ARGO-4H-ESS  34281026170  Shell Brasil    7ARGO4HESS     ES  Campos   \n",
       "3   7-ARGO-5H-ESS  34281026180  Shell Brasil    7ARGO5HESS     ES  Campos   \n",
       "4   8-ARGO-6H-ESS  34281026210  Shell Brasil    8ARGO6HESS     ES  Campos   \n",
       "\n",
       "     BLOCO SIG_CAMPO      CAMPO TERRA_MAR  ... TABELA_TEMPO_PROFUNDIDADE  \\\n",
       "0      NaN     RO      RONCADOR         M  ...                       NaN   \n",
       "1  C-M-473       NaN        NaN         M  ...                       NaN   \n",
       "2      NaN     ARGO   ARGONAUTA         M  ...                       NaN   \n",
       "3      NaN     ARGO   ARGONAUTA         M  ...                       NaN   \n",
       "4      NaN     ARGO   ARGONAUTA         M  ...                       NaN   \n",
       "\n",
       "  DADOS_DIRECIONAIS TESTE_A_CABO TESTE_DE_FORMACAO CANHONEIO TESTEMUNHO  \\\n",
       "0            Existe       Existe               NaN       NaN        NaN   \n",
       "1            Existe       Existe               NaN       NaN        NaN   \n",
       "2            Existe          NaN               NaN       NaN        NaN   \n",
       "3            Existe          NaN               NaN       NaN        NaN   \n",
       "4            Existe          NaN               NaN       NaN        NaN   \n",
       "\n",
       "  GEOQUIMICA SIG_SONDA           NOM_SONDA     DHA_ATUALIZACAO  \n",
       "0        NaN     SS-49           SEDCO 707 2018-01-28 05:00:06  \n",
       "1        NaN       DS4  Deep Ocean Clarion 2018-01-28 05:00:06  \n",
       "2        NaN       NB2             Bully 2 2018-01-28 05:00:06  \n",
       "3        NaN       NB2             Bully 2 2018-01-28 05:00:06  \n",
       "4        NaN       NB2             Bully 2 2018-01-28 05:00:06  \n",
       "\n",
       "[5 rows x 59 columns]"
      ],
      "text/html": "<div>\n<style scoped>\n    .dataframe tbody tr th:only-of-type {\n        vertical-align: middle;\n    }\n\n    .dataframe tbody tr th {\n        vertical-align: top;\n    }\n\n    .dataframe thead th {\n        text-align: right;\n    }\n</style>\n<table border=\"1\" class=\"dataframe\">\n  <thead>\n    <tr style=\"text-align: right;\">\n      <th></th>\n      <th>POCO</th>\n      <th>CADASTRO</th>\n      <th>OPERADOR</th>\n      <th>POCO_OPERADOR</th>\n      <th>ESTADO</th>\n      <th>BACIA</th>\n      <th>BLOCO</th>\n      <th>SIG_CAMPO</th>\n      <th>CAMPO</th>\n      <th>TERRA_MAR</th>\n      <th>...</th>\n      <th>TABELA_TEMPO_PROFUNDIDADE</th>\n      <th>DADOS_DIRECIONAIS</th>\n      <th>TESTE_A_CABO</th>\n      <th>TESTE_DE_FORMACAO</th>\n      <th>CANHONEIO</th>\n      <th>TESTEMUNHO</th>\n      <th>GEOQUIMICA</th>\n      <th>SIG_SONDA</th>\n      <th>NOM_SONDA</th>\n      <th>DHA_ATUALIZACAO</th>\n    </tr>\n  </thead>\n  <tbody>\n    <tr>\n      <th>0</th>\n      <td>7-RO-123HP-RJS</td>\n      <td>74281026087</td>\n      <td>Petrobras</td>\n      <td>7RO123HPRJS</td>\n      <td>RJ</td>\n      <td>Campos</td>\n      <td>NaN</td>\n      <td>RO</td>\n      <td>RONCADOR</td>\n      <td>M</td>\n      <td>...</td>\n      <td>NaN</td>\n      <td>Existe</td>\n      <td>Existe</td>\n      <td>NaN</td>\n      <td>NaN</td>\n      <td>NaN</td>\n      <td>NaN</td>\n      <td>SS-49</td>\n      <td>SEDCO 707</td>\n      <td>2018-01-28 05:00:06</td>\n    </tr>\n    <tr>\n      <th>1</th>\n      <td>1-BP-7-RJS</td>\n      <td>74281026107</td>\n      <td>BP Energy</td>\n      <td>ANU</td>\n      <td>RJ</td>\n      <td>Campos</td>\n      <td>C-M-473</td>\n      <td>NaN</td>\n      <td>NaN</td>\n      <td>M</td>\n      <td>...</td>\n      <td>NaN</td>\n      <td>Existe</td>\n      <td>Existe</td>\n      <td>NaN</td>\n      <td>NaN</td>\n      <td>NaN</td>\n      <td>NaN</td>\n      <td>DS4</td>\n      <td>Deep Ocean Clarion</td>\n      <td>2018-01-28 05:00:06</td>\n    </tr>\n    <tr>\n      <th>2</th>\n      <td>7-ARGO-4H-ESS</td>\n      <td>34281026170</td>\n      <td>Shell Brasil</td>\n      <td>7ARGO4HESS</td>\n      <td>ES</td>\n      <td>Campos</td>\n      <td>NaN</td>\n      <td>ARGO</td>\n      <td>ARGONAUTA</td>\n      <td>M</td>\n      <td>...</td>\n      <td>NaN</td>\n      <td>Existe</td>\n      <td>NaN</td>\n      <td>NaN</td>\n      <td>NaN</td>\n      <td>NaN</td>\n      <td>NaN</td>\n      <td>NB2</td>\n      <td>Bully 2</td>\n      <td>2018-01-28 05:00:06</td>\n    </tr>\n    <tr>\n      <th>3</th>\n      <td>7-ARGO-5H-ESS</td>\n      <td>34281026180</td>\n      <td>Shell Brasil</td>\n      <td>7ARGO5HESS</td>\n      <td>ES</td>\n      <td>Campos</td>\n      <td>NaN</td>\n      <td>ARGO</td>\n      <td>ARGONAUTA</td>\n      <td>M</td>\n      <td>...</td>\n      <td>NaN</td>\n      <td>Existe</td>\n      <td>NaN</td>\n      <td>NaN</td>\n      <td>NaN</td>\n      <td>NaN</td>\n      <td>NaN</td>\n      <td>NB2</td>\n      <td>Bully 2</td>\n      <td>2018-01-28 05:00:06</td>\n    </tr>\n    <tr>\n      <th>4</th>\n      <td>8-ARGO-6H-ESS</td>\n      <td>34281026210</td>\n      <td>Shell Brasil</td>\n      <td>8ARGO6HESS</td>\n      <td>ES</td>\n      <td>Campos</td>\n      <td>NaN</td>\n      <td>ARGO</td>\n      <td>ARGONAUTA</td>\n      <td>M</td>\n      <td>...</td>\n      <td>NaN</td>\n      <td>Existe</td>\n      <td>NaN</td>\n      <td>NaN</td>\n      <td>NaN</td>\n      <td>NaN</td>\n      <td>NaN</td>\n      <td>NB2</td>\n      <td>Bully 2</td>\n      <td>2018-01-28 05:00:06</td>\n    </tr>\n  </tbody>\n</table>\n<p>5 rows × 59 columns</p>\n</div>"
     },
     "metadata": {},
     "execution_count": 101
    }
   ],
   "source": [
    "# Carregando a base de dados\n",
    "Anp_dataset=pd.read_excel('datasets/tabela_de_pocos_janeiro_2018.xlsx')\n",
    "# Exibindo os primeiros 5 itens do data set \n",
    "Anp_dataset.head(5)"
   ]
  },
  {
   "cell_type": "code",
   "execution_count": 102,
   "metadata": {},
   "outputs": [
    {
     "output_type": "stream",
     "name": "stdout",
     "text": [
      "<class 'pandas.core.frame.DataFrame'>\nRangeIndex: 29575 entries, 0 to 29574\nData columns (total 59 columns):\n #   Column                      Non-Null Count  Dtype         \n---  ------                      --------------  -----         \n 0   POCO                        29575 non-null  object        \n 1   CADASTRO                    29575 non-null  int64         \n 2   OPERADOR                    26643 non-null  object        \n 3   POCO_OPERADOR               28870 non-null  object        \n 4   ESTADO                      29575 non-null  object        \n 5   BACIA                       29575 non-null  object        \n 6   BLOCO                       26254 non-null  object        \n 7   SIG_CAMPO                   24954 non-null  object        \n 8   CAMPO                       24954 non-null  object        \n 9   TERRA_MAR                   29575 non-null  object        \n 10  POCO_POS_ANP                29575 non-null  object        \n 11  TIPO                        29575 non-null  object        \n 12  CATEGORIA                   29575 non-null  object        \n 13  RECLASSIFICACAO             27972 non-null  object        \n 14  SITUACAO                    28751 non-null  object        \n 15  INICIO                      29575 non-null  datetime64[ns]\n 16  TERMINO                     27729 non-null  datetime64[ns]\n 17  CONCLUSAO                   29311 non-null  datetime64[ns]\n 18  TITULARIDADE                29575 non-null  object        \n 19  LATITUDE_BASE_4C            29575 non-null  object        \n 20  LONGITUDE_BASE_4C           29575 non-null  object        \n 21  LATITUDE_BASE_DD            29575 non-null  object        \n 22  LONGITUDE_BASE_DD           29575 non-null  object        \n 23  DATUM_HORIZONTAL            29575 non-null  object        \n 24  TIPO_DE_COORDENADA_DE_BASE  29575 non-null  object        \n 25  DIRECAO                     29575 non-null  object        \n 26  PROFUNDIDADE_VERTICAL_M     8701 non-null   float64       \n 27  PROFUNDIDADE_SONDADOR_M     27793 non-null  float64       \n 28  PROFUNDIDADE_MEDIDA_M       10311 non-null  float64       \n 29  REFERENCIA_DE_PROFUNDIDADE  28870 non-null  object        \n 30  MESA_ROTATIVA               28870 non-null  float64       \n 31  COTA_ALTIMETRICA_M          10920 non-null  float64       \n 32  LAMINA_D_AGUA_M             13466 non-null  float64       \n 33  DATUM_VERTICAL              13944 non-null  object        \n 34  UNIDADE_ESTRATIGRAFICA      15312 non-null  object        \n 35  GEOLOGIA_GRUPO_FINAL        4054 non-null   object        \n 36  GEOLOGIA_FORMACAO_FINAL     4945 non-null   object        \n 37  GEOLOGIA_MEMBRO_FINAL       617 non-null    object        \n 38  CDPE                        7241 non-null   object        \n 39  AGP                         6900 non-null   object        \n 40  PC                          8206 non-null   object        \n 41  PAG                         1032 non-null   object        \n 42  PERFIS_CONVENCIONAIS        6519 non-null   object        \n 43  DURANTE_PERFURACAO          2510 non-null   object        \n 44  PERFIS_DIGITAIS             20696 non-null  object        \n 45  PERFIS_PROCESSADOS          15 non-null     object        \n 46  PERFIS_ESPECIAIS            714 non-null    object        \n 47  AMOSTRA_LATERAL             752 non-null    object        \n 48  SISMICA                     1620 non-null   object        \n 49  TABELA_TEMPO_PROFUNDIDADE   832 non-null    object        \n 50  DADOS_DIRECIONAIS           6090 non-null   object        \n 51  TESTE_A_CABO                3586 non-null   object        \n 52  TESTE_DE_FORMACAO           571 non-null    object        \n 53  CANHONEIO                   138 non-null    object        \n 54  TESTEMUNHO                  379 non-null    object        \n 55  GEOQUIMICA                  3146 non-null   object        \n 56  SIG_SONDA                   28787 non-null  object        \n 57  NOM_SONDA                   24716 non-null  object        \n 58  DHA_ATUALIZACAO             29575 non-null  datetime64[ns]\ndtypes: datetime64[ns](4), float64(6), int64(1), object(48)\nmemory usage: 13.3+ MB\n"
     ]
    }
   ],
   "source": [
    "# Analisando as informações de cada variavel do Dataset\n",
    "Anp_dataset.info()"
   ]
  },
  {
   "source": [
    "Nessa base de dados, temos muitos dados Técnicos e por isso vou selecionar apenas algumas das colunas."
   ],
   "cell_type": "markdown",
   "metadata": {}
  },
  {
   "cell_type": "code",
   "execution_count": 103,
   "metadata": {},
   "outputs": [
    {
     "output_type": "execute_result",
     "data": {
      "text/plain": [
       "             POCO   BACIA      CAMPO ESTADO      OPERADOR TERRA_MAR  \\\n",
       "0  7-RO-123HP-RJS  Campos   RONCADOR     RJ     Petrobras         M   \n",
       "1      1-BP-7-RJS  Campos        NaN     RJ     BP Energy         M   \n",
       "2   7-ARGO-4H-ESS  Campos  ARGONAUTA     ES  Shell Brasil         M   \n",
       "3   7-ARGO-5H-ESS  Campos  ARGONAUTA     ES  Shell Brasil         M   \n",
       "4   8-ARGO-6H-ESS  Campos  ARGONAUTA     ES  Shell Brasil         M   \n",
       "\n",
       "                                SITUACAO          TIPO        CATEGORIA  \\\n",
       "0                               PRODUTOR  Explotatório  Desenvolvimento   \n",
       "1  ABANDONADO POR LOGÍSTICA EXPLORATÓRIA  Exploratório         Pioneiro   \n",
       "2             ABANDONADO DEFINITIVAMENTE  Explotatório  Desenvolvimento   \n",
       "3                               PRODUTOR  Explotatório  Desenvolvimento   \n",
       "4                                INJETOR  Explotatório          Injeção   \n",
       "\n",
       "   LAMINA_D_AGUA_M  \n",
       "0          1827.00  \n",
       "1          2730.00  \n",
       "2          1705.84  \n",
       "3          1705.35  \n",
       "4          1653.56  "
      ],
      "text/html": "<div>\n<style scoped>\n    .dataframe tbody tr th:only-of-type {\n        vertical-align: middle;\n    }\n\n    .dataframe tbody tr th {\n        vertical-align: top;\n    }\n\n    .dataframe thead th {\n        text-align: right;\n    }\n</style>\n<table border=\"1\" class=\"dataframe\">\n  <thead>\n    <tr style=\"text-align: right;\">\n      <th></th>\n      <th>POCO</th>\n      <th>BACIA</th>\n      <th>CAMPO</th>\n      <th>ESTADO</th>\n      <th>OPERADOR</th>\n      <th>TERRA_MAR</th>\n      <th>SITUACAO</th>\n      <th>TIPO</th>\n      <th>CATEGORIA</th>\n      <th>LAMINA_D_AGUA_M</th>\n    </tr>\n  </thead>\n  <tbody>\n    <tr>\n      <th>0</th>\n      <td>7-RO-123HP-RJS</td>\n      <td>Campos</td>\n      <td>RONCADOR</td>\n      <td>RJ</td>\n      <td>Petrobras</td>\n      <td>M</td>\n      <td>PRODUTOR</td>\n      <td>Explotatório</td>\n      <td>Desenvolvimento</td>\n      <td>1827.00</td>\n    </tr>\n    <tr>\n      <th>1</th>\n      <td>1-BP-7-RJS</td>\n      <td>Campos</td>\n      <td>NaN</td>\n      <td>RJ</td>\n      <td>BP Energy</td>\n      <td>M</td>\n      <td>ABANDONADO POR LOGÍSTICA EXPLORATÓRIA</td>\n      <td>Exploratório</td>\n      <td>Pioneiro</td>\n      <td>2730.00</td>\n    </tr>\n    <tr>\n      <th>2</th>\n      <td>7-ARGO-4H-ESS</td>\n      <td>Campos</td>\n      <td>ARGONAUTA</td>\n      <td>ES</td>\n      <td>Shell Brasil</td>\n      <td>M</td>\n      <td>ABANDONADO DEFINITIVAMENTE</td>\n      <td>Explotatório</td>\n      <td>Desenvolvimento</td>\n      <td>1705.84</td>\n    </tr>\n    <tr>\n      <th>3</th>\n      <td>7-ARGO-5H-ESS</td>\n      <td>Campos</td>\n      <td>ARGONAUTA</td>\n      <td>ES</td>\n      <td>Shell Brasil</td>\n      <td>M</td>\n      <td>PRODUTOR</td>\n      <td>Explotatório</td>\n      <td>Desenvolvimento</td>\n      <td>1705.35</td>\n    </tr>\n    <tr>\n      <th>4</th>\n      <td>8-ARGO-6H-ESS</td>\n      <td>Campos</td>\n      <td>ARGONAUTA</td>\n      <td>ES</td>\n      <td>Shell Brasil</td>\n      <td>M</td>\n      <td>INJETOR</td>\n      <td>Explotatório</td>\n      <td>Injeção</td>\n      <td>1653.56</td>\n    </tr>\n  </tbody>\n</table>\n</div>"
     },
     "metadata": {},
     "execution_count": 103
    }
   ],
   "source": [
    "Anp_dataset=Anp_dataset[['POCO','BACIA','CAMPO','ESTADO','OPERADOR','TERRA_MAR','SITUACAO','TIPO','CATEGORIA','LAMINA_D_AGUA_M']]\n",
    "Anp_dataset.head()"
   ]
  },
  {
   "cell_type": "code",
   "execution_count": 104,
   "metadata": {},
   "outputs": [
    {
     "output_type": "stream",
     "name": "stdout",
     "text": [
      "<class 'pandas.core.frame.DataFrame'>\nRangeIndex: 29575 entries, 0 to 29574\nData columns (total 10 columns):\n #   Column           Non-Null Count  Dtype  \n---  ------           --------------  -----  \n 0   POCO             29575 non-null  object \n 1   BACIA            29575 non-null  object \n 2   CAMPO            24954 non-null  object \n 3   ESTADO           29575 non-null  object \n 4   OPERADOR         26643 non-null  object \n 5   TERRA_MAR        29575 non-null  object \n 6   SITUACAO         28751 non-null  object \n 7   TIPO             29575 non-null  object \n 8   CATEGORIA        29575 non-null  object \n 9   LAMINA_D_AGUA_M  13466 non-null  float64\ndtypes: float64(1), object(9)\nmemory usage: 2.3+ MB\n"
     ]
    }
   ],
   "source": [
    "# Informations of the dataset\n",
    "Anp_dataset.info()"
   ]
  },
  {
   "source": [
    "### Como podemos observar nas informações do Dataset, vemos que temos muitos valores nulos, mas no entanto como estou apenas fazendo uma análise exploratória nesse data set"
   ],
   "cell_type": "markdown",
   "metadata": {}
  },
  {
   "cell_type": "code",
   "execution_count": 105,
   "metadata": {},
   "outputs": [
    {
     "output_type": "execute_result",
     "data": {
      "text/plain": [
       "0    1827.00\n",
       "1    2730.00\n",
       "2    1705.84\n",
       "3    1705.35\n",
       "4    1653.56\n",
       "Name: LAMINA_D_AGUA_M, dtype: float64"
      ]
     },
     "metadata": {},
     "execution_count": 105
    }
   ],
   "source": [
    "Anp_dataset['LAMINA_D_AGUA_M'].head(5)"
   ]
  },
  {
   "source": [
    "## Quantas Bacias de Exploração temos no pais?"
   ],
   "cell_type": "markdown",
   "metadata": {}
  },
  {
   "cell_type": "code",
   "execution_count": 106,
   "metadata": {},
   "outputs": [
    {
     "output_type": "execute_result",
     "data": {
      "text/plain": [
       "37"
      ]
     },
     "metadata": {},
     "execution_count": 106
    }
   ],
   "source": [
    "# Para conhecer a quantidade de bacias existentes, basta fazer uma contagem de valores unicos, utilizando com referencia a coluna \"BACIA\" do dataset\n",
    "Anp_dataset['BACIA'].nunique()"
   ]
  },
  {
   "source": [
    "## Qual das Bacias possui a maior quantidade de poços?"
   ],
   "cell_type": "markdown",
   "metadata": {}
  },
  {
   "cell_type": "code",
   "execution_count": 107,
   "metadata": {},
   "outputs": [
    {
     "output_type": "execute_result",
     "data": {
      "text/plain": [
       "Potiguar                9187\n",
       "Recôncavo               6694\n",
       "Sergipe                 4707\n",
       "Campos                  3418\n",
       "Espírito Santo          1997\n",
       "Alagoas                  935\n",
       "Santos                   706\n",
       "Solimões                 364\n",
       "Ceará                    228\n",
       "Amazonas                 218\n",
       "Parnaíba                 163\n",
       "Tucano Sul               136\n",
       "Paraná                   125\n",
       "Barreirinhas             123\n",
       "Camamu                    96\n",
       "Foz do Amazonas           95\n",
       "São Francisco             59\n",
       "Mucuri                    56\n",
       "Cumuruxatiba              48\n",
       "Jequitinhonha             40\n",
       "Pará - Maranhão           34\n",
       "Almada                    24\n",
       "Pelotas                   20\n",
       "São Luís                  19\n",
       "Marajó                    18\n",
       "Pantanal                  13\n",
       "Tucano Central            13\n",
       "Acre                      11\n",
       "Parecis - Alto Xingu       6\n",
       "Rio do Peixe               5\n",
       "Tucano Norte               5\n",
       "Pernambuco - Paraíba       3\n",
       "Jatobá                     2\n",
       "Bragança - Vizeu           2\n",
       "Tacutu                     2\n",
       "Araripe                    2\n",
       "Jacuípe                    1\n",
       "Name: BACIA, dtype: int64"
      ]
     },
     "metadata": {},
     "execution_count": 107
    }
   ],
   "source": [
    "# Para fazer essa contagem, agora precisamos contar a quantidade de vezes que cada bacia esta sendo referenciada no dataset\n",
    "Anp_dataset['BACIA'].value_counts()"
   ]
  },
  {
   "cell_type": "code",
   "execution_count": 108,
   "metadata": {},
   "outputs": [
    {
     "output_type": "execute_result",
     "data": {
      "text/plain": [
       "BACIA\n",
       "Potiguar                9187\n",
       "Recôncavo               6694\n",
       "Sergipe                 4707\n",
       "Campos                  3417\n",
       "Espírito Santo          1997\n",
       "Alagoas                  935\n",
       "Santos                   706\n",
       "Solimões                 364\n",
       "Ceará                    228\n",
       "Amazonas                 218\n",
       "Parnaíba                 163\n",
       "Tucano Sul               136\n",
       "Paraná                   125\n",
       "Barreirinhas             123\n",
       "Camamu                    96\n",
       "Foz do Amazonas           95\n",
       "São Francisco             59\n",
       "Mucuri                    56\n",
       "Cumuruxatiba              48\n",
       "Jequitinhonha             40\n",
       "Pará - Maranhão           34\n",
       "Almada                    24\n",
       "Pelotas                   20\n",
       "São Luís                  19\n",
       "Marajó                    18\n",
       "Pantanal                  13\n",
       "Tucano Central            13\n",
       "Acre                      11\n",
       "Parecis - Alto Xingu       6\n",
       "Tucano Norte               5\n",
       "Rio do Peixe               5\n",
       "Pernambuco - Paraíba       3\n",
       "Jatobá                     2\n",
       "Bragança - Vizeu           2\n",
       "Araripe                    2\n",
       "Tacutu                     2\n",
       "Jacuípe                    1\n",
       "Name: POCO, dtype: int64"
      ]
     },
     "metadata": {},
     "execution_count": 108
    }
   ],
   "source": [
    "# Para termos mais uma confirmação das quantidades acima, podemos utilizar o comando groupby e fazer a contagem de valores unicos considerando o poço como referencia \n",
    "Anp_dataset.groupby('BACIA')['POCO'].nunique().sort_values( ascending=False)"
   ]
  },
  {
   "cell_type": "code",
   "execution_count": 109,
   "metadata": {},
   "outputs": [
    {
     "output_type": "display_data",
     "data": {
      "application/vnd.plotly.v1+json": {
       "config": {
        "linkText": "Export to plotly.com",
        "plotlyServerURL": "https://plotly.com",
        "showLink": true
       },
       "data": [
        {
         "marker": {
          "color": "rgba(255, 153, 51, 0.6)",
          "line": {
           "color": "rgba(255, 153, 51, 1.0)",
           "width": 1
          }
         },
         "name": "BACIA",
         "orientation": "v",
         "text": "",
         "type": "bar",
         "x": [
          "Potiguar",
          "Recôncavo",
          "Sergipe",
          "Campos",
          "Espírito Santo",
          "Alagoas",
          "Santos",
          "Solimões",
          "Ceará",
          "Amazonas",
          "Parnaíba",
          "Tucano Sul",
          "Paraná",
          "Barreirinhas",
          "Camamu",
          "Foz do Amazonas",
          "São Francisco",
          "Mucuri",
          "Cumuruxatiba",
          "Jequitinhonha",
          "Pará - Maranhão",
          "Almada",
          "Pelotas",
          "São Luís",
          "Marajó",
          "Pantanal",
          "Tucano Central",
          "Acre",
          "Parecis - Alto Xingu",
          "Rio do Peixe",
          "Tucano Norte",
          "Pernambuco - Paraíba",
          "Jatobá",
          "Bragança - Vizeu",
          "Tacutu",
          "Araripe",
          "Jacuípe"
         ],
         "y": [
          9187,
          6694,
          4707,
          3418,
          1997,
          935,
          706,
          364,
          228,
          218,
          163,
          136,
          125,
          123,
          96,
          95,
          59,
          56,
          48,
          40,
          34,
          24,
          20,
          19,
          18,
          13,
          13,
          11,
          6,
          5,
          5,
          3,
          2,
          2,
          2,
          2,
          1
         ]
        }
       ],
       "layout": {
        "legend": {
         "bgcolor": "#F5F6F9",
         "font": {
          "color": "#4D5663"
         }
        },
        "paper_bgcolor": "#F5F6F9",
        "plot_bgcolor": "#F5F6F9",
        "template": {
         "data": {
          "bar": [
           {
            "error_x": {
             "color": "#2a3f5f"
            },
            "error_y": {
             "color": "#2a3f5f"
            },
            "marker": {
             "line": {
              "color": "#E5ECF6",
              "width": 0.5
             }
            },
            "type": "bar"
           }
          ],
          "barpolar": [
           {
            "marker": {
             "line": {
              "color": "#E5ECF6",
              "width": 0.5
             }
            },
            "type": "barpolar"
           }
          ],
          "carpet": [
           {
            "aaxis": {
             "endlinecolor": "#2a3f5f",
             "gridcolor": "white",
             "linecolor": "white",
             "minorgridcolor": "white",
             "startlinecolor": "#2a3f5f"
            },
            "baxis": {
             "endlinecolor": "#2a3f5f",
             "gridcolor": "white",
             "linecolor": "white",
             "minorgridcolor": "white",
             "startlinecolor": "#2a3f5f"
            },
            "type": "carpet"
           }
          ],
          "choropleth": [
           {
            "colorbar": {
             "outlinewidth": 0,
             "ticks": ""
            },
            "type": "choropleth"
           }
          ],
          "contour": [
           {
            "colorbar": {
             "outlinewidth": 0,
             "ticks": ""
            },
            "colorscale": [
             [
              0,
              "#0d0887"
             ],
             [
              0.1111111111111111,
              "#46039f"
             ],
             [
              0.2222222222222222,
              "#7201a8"
             ],
             [
              0.3333333333333333,
              "#9c179e"
             ],
             [
              0.4444444444444444,
              "#bd3786"
             ],
             [
              0.5555555555555556,
              "#d8576b"
             ],
             [
              0.6666666666666666,
              "#ed7953"
             ],
             [
              0.7777777777777778,
              "#fb9f3a"
             ],
             [
              0.8888888888888888,
              "#fdca26"
             ],
             [
              1,
              "#f0f921"
             ]
            ],
            "type": "contour"
           }
          ],
          "contourcarpet": [
           {
            "colorbar": {
             "outlinewidth": 0,
             "ticks": ""
            },
            "type": "contourcarpet"
           }
          ],
          "heatmap": [
           {
            "colorbar": {
             "outlinewidth": 0,
             "ticks": ""
            },
            "colorscale": [
             [
              0,
              "#0d0887"
             ],
             [
              0.1111111111111111,
              "#46039f"
             ],
             [
              0.2222222222222222,
              "#7201a8"
             ],
             [
              0.3333333333333333,
              "#9c179e"
             ],
             [
              0.4444444444444444,
              "#bd3786"
             ],
             [
              0.5555555555555556,
              "#d8576b"
             ],
             [
              0.6666666666666666,
              "#ed7953"
             ],
             [
              0.7777777777777778,
              "#fb9f3a"
             ],
             [
              0.8888888888888888,
              "#fdca26"
             ],
             [
              1,
              "#f0f921"
             ]
            ],
            "type": "heatmap"
           }
          ],
          "heatmapgl": [
           {
            "colorbar": {
             "outlinewidth": 0,
             "ticks": ""
            },
            "colorscale": [
             [
              0,
              "#0d0887"
             ],
             [
              0.1111111111111111,
              "#46039f"
             ],
             [
              0.2222222222222222,
              "#7201a8"
             ],
             [
              0.3333333333333333,
              "#9c179e"
             ],
             [
              0.4444444444444444,
              "#bd3786"
             ],
             [
              0.5555555555555556,
              "#d8576b"
             ],
             [
              0.6666666666666666,
              "#ed7953"
             ],
             [
              0.7777777777777778,
              "#fb9f3a"
             ],
             [
              0.8888888888888888,
              "#fdca26"
             ],
             [
              1,
              "#f0f921"
             ]
            ],
            "type": "heatmapgl"
           }
          ],
          "histogram": [
           {
            "marker": {
             "colorbar": {
              "outlinewidth": 0,
              "ticks": ""
             }
            },
            "type": "histogram"
           }
          ],
          "histogram2d": [
           {
            "colorbar": {
             "outlinewidth": 0,
             "ticks": ""
            },
            "colorscale": [
             [
              0,
              "#0d0887"
             ],
             [
              0.1111111111111111,
              "#46039f"
             ],
             [
              0.2222222222222222,
              "#7201a8"
             ],
             [
              0.3333333333333333,
              "#9c179e"
             ],
             [
              0.4444444444444444,
              "#bd3786"
             ],
             [
              0.5555555555555556,
              "#d8576b"
             ],
             [
              0.6666666666666666,
              "#ed7953"
             ],
             [
              0.7777777777777778,
              "#fb9f3a"
             ],
             [
              0.8888888888888888,
              "#fdca26"
             ],
             [
              1,
              "#f0f921"
             ]
            ],
            "type": "histogram2d"
           }
          ],
          "histogram2dcontour": [
           {
            "colorbar": {
             "outlinewidth": 0,
             "ticks": ""
            },
            "colorscale": [
             [
              0,
              "#0d0887"
             ],
             [
              0.1111111111111111,
              "#46039f"
             ],
             [
              0.2222222222222222,
              "#7201a8"
             ],
             [
              0.3333333333333333,
              "#9c179e"
             ],
             [
              0.4444444444444444,
              "#bd3786"
             ],
             [
              0.5555555555555556,
              "#d8576b"
             ],
             [
              0.6666666666666666,
              "#ed7953"
             ],
             [
              0.7777777777777778,
              "#fb9f3a"
             ],
             [
              0.8888888888888888,
              "#fdca26"
             ],
             [
              1,
              "#f0f921"
             ]
            ],
            "type": "histogram2dcontour"
           }
          ],
          "mesh3d": [
           {
            "colorbar": {
             "outlinewidth": 0,
             "ticks": ""
            },
            "type": "mesh3d"
           }
          ],
          "parcoords": [
           {
            "line": {
             "colorbar": {
              "outlinewidth": 0,
              "ticks": ""
             }
            },
            "type": "parcoords"
           }
          ],
          "pie": [
           {
            "automargin": true,
            "type": "pie"
           }
          ],
          "scatter": [
           {
            "marker": {
             "colorbar": {
              "outlinewidth": 0,
              "ticks": ""
             }
            },
            "type": "scatter"
           }
          ],
          "scatter3d": [
           {
            "line": {
             "colorbar": {
              "outlinewidth": 0,
              "ticks": ""
             }
            },
            "marker": {
             "colorbar": {
              "outlinewidth": 0,
              "ticks": ""
             }
            },
            "type": "scatter3d"
           }
          ],
          "scattercarpet": [
           {
            "marker": {
             "colorbar": {
              "outlinewidth": 0,
              "ticks": ""
             }
            },
            "type": "scattercarpet"
           }
          ],
          "scattergeo": [
           {
            "marker": {
             "colorbar": {
              "outlinewidth": 0,
              "ticks": ""
             }
            },
            "type": "scattergeo"
           }
          ],
          "scattergl": [
           {
            "marker": {
             "colorbar": {
              "outlinewidth": 0,
              "ticks": ""
             }
            },
            "type": "scattergl"
           }
          ],
          "scattermapbox": [
           {
            "marker": {
             "colorbar": {
              "outlinewidth": 0,
              "ticks": ""
             }
            },
            "type": "scattermapbox"
           }
          ],
          "scatterpolar": [
           {
            "marker": {
             "colorbar": {
              "outlinewidth": 0,
              "ticks": ""
             }
            },
            "type": "scatterpolar"
           }
          ],
          "scatterpolargl": [
           {
            "marker": {
             "colorbar": {
              "outlinewidth": 0,
              "ticks": ""
             }
            },
            "type": "scatterpolargl"
           }
          ],
          "scatterternary": [
           {
            "marker": {
             "colorbar": {
              "outlinewidth": 0,
              "ticks": ""
             }
            },
            "type": "scatterternary"
           }
          ],
          "surface": [
           {
            "colorbar": {
             "outlinewidth": 0,
             "ticks": ""
            },
            "colorscale": [
             [
              0,
              "#0d0887"
             ],
             [
              0.1111111111111111,
              "#46039f"
             ],
             [
              0.2222222222222222,
              "#7201a8"
             ],
             [
              0.3333333333333333,
              "#9c179e"
             ],
             [
              0.4444444444444444,
              "#bd3786"
             ],
             [
              0.5555555555555556,
              "#d8576b"
             ],
             [
              0.6666666666666666,
              "#ed7953"
             ],
             [
              0.7777777777777778,
              "#fb9f3a"
             ],
             [
              0.8888888888888888,
              "#fdca26"
             ],
             [
              1,
              "#f0f921"
             ]
            ],
            "type": "surface"
           }
          ],
          "table": [
           {
            "cells": {
             "fill": {
              "color": "#EBF0F8"
             },
             "line": {
              "color": "white"
             }
            },
            "header": {
             "fill": {
              "color": "#C8D4E3"
             },
             "line": {
              "color": "white"
             }
            },
            "type": "table"
           }
          ]
         },
         "layout": {
          "annotationdefaults": {
           "arrowcolor": "#2a3f5f",
           "arrowhead": 0,
           "arrowwidth": 1
          },
          "autotypenumbers": "strict",
          "coloraxis": {
           "colorbar": {
            "outlinewidth": 0,
            "ticks": ""
           }
          },
          "colorscale": {
           "diverging": [
            [
             0,
             "#8e0152"
            ],
            [
             0.1,
             "#c51b7d"
            ],
            [
             0.2,
             "#de77ae"
            ],
            [
             0.3,
             "#f1b6da"
            ],
            [
             0.4,
             "#fde0ef"
            ],
            [
             0.5,
             "#f7f7f7"
            ],
            [
             0.6,
             "#e6f5d0"
            ],
            [
             0.7,
             "#b8e186"
            ],
            [
             0.8,
             "#7fbc41"
            ],
            [
             0.9,
             "#4d9221"
            ],
            [
             1,
             "#276419"
            ]
           ],
           "sequential": [
            [
             0,
             "#0d0887"
            ],
            [
             0.1111111111111111,
             "#46039f"
            ],
            [
             0.2222222222222222,
             "#7201a8"
            ],
            [
             0.3333333333333333,
             "#9c179e"
            ],
            [
             0.4444444444444444,
             "#bd3786"
            ],
            [
             0.5555555555555556,
             "#d8576b"
            ],
            [
             0.6666666666666666,
             "#ed7953"
            ],
            [
             0.7777777777777778,
             "#fb9f3a"
            ],
            [
             0.8888888888888888,
             "#fdca26"
            ],
            [
             1,
             "#f0f921"
            ]
           ],
           "sequentialminus": [
            [
             0,
             "#0d0887"
            ],
            [
             0.1111111111111111,
             "#46039f"
            ],
            [
             0.2222222222222222,
             "#7201a8"
            ],
            [
             0.3333333333333333,
             "#9c179e"
            ],
            [
             0.4444444444444444,
             "#bd3786"
            ],
            [
             0.5555555555555556,
             "#d8576b"
            ],
            [
             0.6666666666666666,
             "#ed7953"
            ],
            [
             0.7777777777777778,
             "#fb9f3a"
            ],
            [
             0.8888888888888888,
             "#fdca26"
            ],
            [
             1,
             "#f0f921"
            ]
           ]
          },
          "colorway": [
           "#636efa",
           "#EF553B",
           "#00cc96",
           "#ab63fa",
           "#FFA15A",
           "#19d3f3",
           "#FF6692",
           "#B6E880",
           "#FF97FF",
           "#FECB52"
          ],
          "font": {
           "color": "#2a3f5f"
          },
          "geo": {
           "bgcolor": "white",
           "lakecolor": "white",
           "landcolor": "#E5ECF6",
           "showlakes": true,
           "showland": true,
           "subunitcolor": "white"
          },
          "hoverlabel": {
           "align": "left"
          },
          "hovermode": "closest",
          "mapbox": {
           "style": "light"
          },
          "paper_bgcolor": "white",
          "plot_bgcolor": "#E5ECF6",
          "polar": {
           "angularaxis": {
            "gridcolor": "white",
            "linecolor": "white",
            "ticks": ""
           },
           "bgcolor": "#E5ECF6",
           "radialaxis": {
            "gridcolor": "white",
            "linecolor": "white",
            "ticks": ""
           }
          },
          "scene": {
           "xaxis": {
            "backgroundcolor": "#E5ECF6",
            "gridcolor": "white",
            "gridwidth": 2,
            "linecolor": "white",
            "showbackground": true,
            "ticks": "",
            "zerolinecolor": "white"
           },
           "yaxis": {
            "backgroundcolor": "#E5ECF6",
            "gridcolor": "white",
            "gridwidth": 2,
            "linecolor": "white",
            "showbackground": true,
            "ticks": "",
            "zerolinecolor": "white"
           },
           "zaxis": {
            "backgroundcolor": "#E5ECF6",
            "gridcolor": "white",
            "gridwidth": 2,
            "linecolor": "white",
            "showbackground": true,
            "ticks": "",
            "zerolinecolor": "white"
           }
          },
          "shapedefaults": {
           "line": {
            "color": "#2a3f5f"
           }
          },
          "ternary": {
           "aaxis": {
            "gridcolor": "white",
            "linecolor": "white",
            "ticks": ""
           },
           "baxis": {
            "gridcolor": "white",
            "linecolor": "white",
            "ticks": ""
           },
           "bgcolor": "#E5ECF6",
           "caxis": {
            "gridcolor": "white",
            "linecolor": "white",
            "ticks": ""
           }
          },
          "title": {
           "x": 0.05
          },
          "xaxis": {
           "automargin": true,
           "gridcolor": "white",
           "linecolor": "white",
           "ticks": "",
           "title": {
            "standoff": 15
           },
           "zerolinecolor": "white",
           "zerolinewidth": 2
          },
          "yaxis": {
           "automargin": true,
           "gridcolor": "white",
           "linecolor": "white",
           "ticks": "",
           "title": {
            "standoff": 15
           },
           "zerolinecolor": "white",
           "zerolinewidth": 2
          }
         }
        },
        "title": {
         "font": {
          "color": "#4D5663"
         }
        },
        "xaxis": {
         "gridcolor": "#E1E5ED",
         "showgrid": true,
         "tickfont": {
          "color": "#4D5663"
         },
         "title": {
          "font": {
           "color": "#4D5663"
          },
          "text": ""
         },
         "zerolinecolor": "#E1E5ED"
        },
        "yaxis": {
         "gridcolor": "#E1E5ED",
         "showgrid": true,
         "tickfont": {
          "color": "#4D5663"
         },
         "title": {
          "font": {
           "color": "#4D5663"
          },
          "text": ""
         },
         "zerolinecolor": "#E1E5ED"
        }
       }
      },
      "text/html": "<div>                            <div id=\"04a40290-1c84-453b-a4da-6b873d5f0848\" class=\"plotly-graph-div\" style=\"height:525px; width:100%;\"></div>            <script type=\"text/javascript\">                require([\"plotly\"], function(Plotly) {                    window.PLOTLYENV=window.PLOTLYENV || {};\n                    window.PLOTLYENV.BASE_URL='https://plotly.com';                                    if (document.getElementById(\"04a40290-1c84-453b-a4da-6b873d5f0848\")) {                    Plotly.newPlot(                        \"04a40290-1c84-453b-a4da-6b873d5f0848\",                        [{\"marker\": {\"color\": \"rgba(255, 153, 51, 0.6)\", \"line\": {\"color\": \"rgba(255, 153, 51, 1.0)\", \"width\": 1}}, \"name\": \"BACIA\", \"orientation\": \"v\", \"text\": \"\", \"type\": \"bar\", \"x\": [\"Potiguar\", \"Rec\\u00f4ncavo\", \"Sergipe\", \"Campos\", \"Esp\\u00edrito Santo\", \"Alagoas\", \"Santos\", \"Solim\\u00f5es\", \"Cear\\u00e1\", \"Amazonas\", \"Parna\\u00edba\", \"Tucano Sul\", \"Paran\\u00e1\", \"Barreirinhas\", \"Camamu\", \"Foz do Amazonas\", \"S\\u00e3o Francisco\", \"Mucuri\", \"Cumuruxatiba\", \"Jequitinhonha\", \"Par\\u00e1 - Maranh\\u00e3o\", \"Almada\", \"Pelotas\", \"S\\u00e3o Lu\\u00eds\", \"Maraj\\u00f3\", \"Pantanal\", \"Tucano Central\", \"Acre\", \"Parecis - Alto Xingu\", \"Rio do Peixe\", \"Tucano Norte\", \"Pernambuco - Para\\u00edba\", \"Jatob\\u00e1\", \"Bragan\\u00e7a - Vizeu\", \"Tacutu\", \"Araripe\", \"Jacu\\u00edpe\"], \"y\": [9187, 6694, 4707, 3418, 1997, 935, 706, 364, 228, 218, 163, 136, 125, 123, 96, 95, 59, 56, 48, 40, 34, 24, 20, 19, 18, 13, 13, 11, 6, 5, 5, 3, 2, 2, 2, 2, 1]}],                        {\"legend\": {\"bgcolor\": \"#F5F6F9\", \"font\": {\"color\": \"#4D5663\"}}, \"paper_bgcolor\": \"#F5F6F9\", \"plot_bgcolor\": \"#F5F6F9\", \"template\": {\"data\": {\"bar\": [{\"error_x\": {\"color\": \"#2a3f5f\"}, \"error_y\": {\"color\": \"#2a3f5f\"}, \"marker\": {\"line\": {\"color\": \"#E5ECF6\", \"width\": 0.5}}, \"type\": \"bar\"}], \"barpolar\": [{\"marker\": {\"line\": {\"color\": \"#E5ECF6\", \"width\": 0.5}}, \"type\": \"barpolar\"}], \"carpet\": [{\"aaxis\": {\"endlinecolor\": \"#2a3f5f\", \"gridcolor\": \"white\", \"linecolor\": \"white\", \"minorgridcolor\": \"white\", \"startlinecolor\": \"#2a3f5f\"}, \"baxis\": {\"endlinecolor\": \"#2a3f5f\", \"gridcolor\": \"white\", \"linecolor\": \"white\", \"minorgridcolor\": \"white\", \"startlinecolor\": \"#2a3f5f\"}, \"type\": \"carpet\"}], \"choropleth\": [{\"colorbar\": {\"outlinewidth\": 0, \"ticks\": \"\"}, \"type\": \"choropleth\"}], \"contour\": [{\"colorbar\": {\"outlinewidth\": 0, \"ticks\": \"\"}, \"colorscale\": [[0.0, \"#0d0887\"], [0.1111111111111111, \"#46039f\"], [0.2222222222222222, \"#7201a8\"], [0.3333333333333333, \"#9c179e\"], [0.4444444444444444, \"#bd3786\"], [0.5555555555555556, \"#d8576b\"], [0.6666666666666666, \"#ed7953\"], [0.7777777777777778, \"#fb9f3a\"], [0.8888888888888888, \"#fdca26\"], [1.0, \"#f0f921\"]], \"type\": \"contour\"}], \"contourcarpet\": [{\"colorbar\": {\"outlinewidth\": 0, \"ticks\": \"\"}, \"type\": \"contourcarpet\"}], \"heatmap\": [{\"colorbar\": {\"outlinewidth\": 0, \"ticks\": \"\"}, \"colorscale\": [[0.0, \"#0d0887\"], [0.1111111111111111, \"#46039f\"], [0.2222222222222222, \"#7201a8\"], [0.3333333333333333, \"#9c179e\"], [0.4444444444444444, \"#bd3786\"], [0.5555555555555556, \"#d8576b\"], [0.6666666666666666, \"#ed7953\"], [0.7777777777777778, \"#fb9f3a\"], [0.8888888888888888, \"#fdca26\"], [1.0, \"#f0f921\"]], \"type\": \"heatmap\"}], \"heatmapgl\": [{\"colorbar\": {\"outlinewidth\": 0, \"ticks\": \"\"}, \"colorscale\": [[0.0, \"#0d0887\"], [0.1111111111111111, \"#46039f\"], [0.2222222222222222, \"#7201a8\"], [0.3333333333333333, \"#9c179e\"], [0.4444444444444444, \"#bd3786\"], [0.5555555555555556, \"#d8576b\"], [0.6666666666666666, \"#ed7953\"], [0.7777777777777778, \"#fb9f3a\"], [0.8888888888888888, \"#fdca26\"], [1.0, \"#f0f921\"]], \"type\": \"heatmapgl\"}], \"histogram\": [{\"marker\": {\"colorbar\": {\"outlinewidth\": 0, \"ticks\": \"\"}}, \"type\": \"histogram\"}], \"histogram2d\": [{\"colorbar\": {\"outlinewidth\": 0, \"ticks\": \"\"}, \"colorscale\": [[0.0, \"#0d0887\"], [0.1111111111111111, \"#46039f\"], [0.2222222222222222, \"#7201a8\"], [0.3333333333333333, \"#9c179e\"], [0.4444444444444444, \"#bd3786\"], [0.5555555555555556, \"#d8576b\"], [0.6666666666666666, \"#ed7953\"], [0.7777777777777778, \"#fb9f3a\"], [0.8888888888888888, \"#fdca26\"], [1.0, \"#f0f921\"]], \"type\": \"histogram2d\"}], \"histogram2dcontour\": [{\"colorbar\": {\"outlinewidth\": 0, \"ticks\": \"\"}, \"colorscale\": [[0.0, \"#0d0887\"], [0.1111111111111111, \"#46039f\"], [0.2222222222222222, \"#7201a8\"], [0.3333333333333333, \"#9c179e\"], [0.4444444444444444, \"#bd3786\"], [0.5555555555555556, \"#d8576b\"], [0.6666666666666666, \"#ed7953\"], [0.7777777777777778, \"#fb9f3a\"], [0.8888888888888888, \"#fdca26\"], [1.0, \"#f0f921\"]], \"type\": \"histogram2dcontour\"}], \"mesh3d\": [{\"colorbar\": {\"outlinewidth\": 0, \"ticks\": \"\"}, \"type\": \"mesh3d\"}], \"parcoords\": [{\"line\": {\"colorbar\": {\"outlinewidth\": 0, \"ticks\": \"\"}}, \"type\": \"parcoords\"}], \"pie\": [{\"automargin\": true, \"type\": \"pie\"}], \"scatter\": [{\"marker\": {\"colorbar\": {\"outlinewidth\": 0, \"ticks\": \"\"}}, \"type\": \"scatter\"}], \"scatter3d\": [{\"line\": {\"colorbar\": {\"outlinewidth\": 0, \"ticks\": \"\"}}, \"marker\": {\"colorbar\": {\"outlinewidth\": 0, \"ticks\": \"\"}}, \"type\": \"scatter3d\"}], \"scattercarpet\": [{\"marker\": {\"colorbar\": {\"outlinewidth\": 0, \"ticks\": \"\"}}, \"type\": \"scattercarpet\"}], \"scattergeo\": [{\"marker\": {\"colorbar\": {\"outlinewidth\": 0, \"ticks\": \"\"}}, \"type\": \"scattergeo\"}], \"scattergl\": [{\"marker\": {\"colorbar\": {\"outlinewidth\": 0, \"ticks\": \"\"}}, \"type\": \"scattergl\"}], \"scattermapbox\": [{\"marker\": {\"colorbar\": {\"outlinewidth\": 0, \"ticks\": \"\"}}, \"type\": \"scattermapbox\"}], \"scatterpolar\": [{\"marker\": {\"colorbar\": {\"outlinewidth\": 0, \"ticks\": \"\"}}, \"type\": \"scatterpolar\"}], \"scatterpolargl\": [{\"marker\": {\"colorbar\": {\"outlinewidth\": 0, \"ticks\": \"\"}}, \"type\": \"scatterpolargl\"}], \"scatterternary\": [{\"marker\": {\"colorbar\": {\"outlinewidth\": 0, \"ticks\": \"\"}}, \"type\": \"scatterternary\"}], \"surface\": [{\"colorbar\": {\"outlinewidth\": 0, \"ticks\": \"\"}, \"colorscale\": [[0.0, \"#0d0887\"], [0.1111111111111111, \"#46039f\"], [0.2222222222222222, \"#7201a8\"], [0.3333333333333333, \"#9c179e\"], [0.4444444444444444, \"#bd3786\"], [0.5555555555555556, \"#d8576b\"], [0.6666666666666666, \"#ed7953\"], [0.7777777777777778, \"#fb9f3a\"], [0.8888888888888888, \"#fdca26\"], [1.0, \"#f0f921\"]], \"type\": \"surface\"}], \"table\": [{\"cells\": {\"fill\": {\"color\": \"#EBF0F8\"}, \"line\": {\"color\": \"white\"}}, \"header\": {\"fill\": {\"color\": \"#C8D4E3\"}, \"line\": {\"color\": \"white\"}}, \"type\": \"table\"}]}, \"layout\": {\"annotationdefaults\": {\"arrowcolor\": \"#2a3f5f\", \"arrowhead\": 0, \"arrowwidth\": 1}, \"autotypenumbers\": \"strict\", \"coloraxis\": {\"colorbar\": {\"outlinewidth\": 0, \"ticks\": \"\"}}, \"colorscale\": {\"diverging\": [[0, \"#8e0152\"], [0.1, \"#c51b7d\"], [0.2, \"#de77ae\"], [0.3, \"#f1b6da\"], [0.4, \"#fde0ef\"], [0.5, \"#f7f7f7\"], [0.6, \"#e6f5d0\"], [0.7, \"#b8e186\"], [0.8, \"#7fbc41\"], [0.9, \"#4d9221\"], [1, \"#276419\"]], \"sequential\": [[0.0, \"#0d0887\"], [0.1111111111111111, \"#46039f\"], [0.2222222222222222, \"#7201a8\"], [0.3333333333333333, \"#9c179e\"], [0.4444444444444444, \"#bd3786\"], [0.5555555555555556, \"#d8576b\"], [0.6666666666666666, \"#ed7953\"], [0.7777777777777778, \"#fb9f3a\"], [0.8888888888888888, \"#fdca26\"], [1.0, \"#f0f921\"]], \"sequentialminus\": [[0.0, \"#0d0887\"], [0.1111111111111111, \"#46039f\"], [0.2222222222222222, \"#7201a8\"], [0.3333333333333333, \"#9c179e\"], [0.4444444444444444, \"#bd3786\"], [0.5555555555555556, \"#d8576b\"], [0.6666666666666666, \"#ed7953\"], [0.7777777777777778, \"#fb9f3a\"], [0.8888888888888888, \"#fdca26\"], [1.0, \"#f0f921\"]]}, \"colorway\": [\"#636efa\", \"#EF553B\", \"#00cc96\", \"#ab63fa\", \"#FFA15A\", \"#19d3f3\", \"#FF6692\", \"#B6E880\", \"#FF97FF\", \"#FECB52\"], \"font\": {\"color\": \"#2a3f5f\"}, \"geo\": {\"bgcolor\": \"white\", \"lakecolor\": \"white\", \"landcolor\": \"#E5ECF6\", \"showlakes\": true, \"showland\": true, \"subunitcolor\": \"white\"}, \"hoverlabel\": {\"align\": \"left\"}, \"hovermode\": \"closest\", \"mapbox\": {\"style\": \"light\"}, \"paper_bgcolor\": \"white\", \"plot_bgcolor\": \"#E5ECF6\", \"polar\": {\"angularaxis\": {\"gridcolor\": \"white\", \"linecolor\": \"white\", \"ticks\": \"\"}, \"bgcolor\": \"#E5ECF6\", \"radialaxis\": {\"gridcolor\": \"white\", \"linecolor\": \"white\", \"ticks\": \"\"}}, \"scene\": {\"xaxis\": {\"backgroundcolor\": \"#E5ECF6\", \"gridcolor\": \"white\", \"gridwidth\": 2, \"linecolor\": \"white\", \"showbackground\": true, \"ticks\": \"\", \"zerolinecolor\": \"white\"}, \"yaxis\": {\"backgroundcolor\": \"#E5ECF6\", \"gridcolor\": \"white\", \"gridwidth\": 2, \"linecolor\": \"white\", \"showbackground\": true, \"ticks\": \"\", \"zerolinecolor\": \"white\"}, \"zaxis\": {\"backgroundcolor\": \"#E5ECF6\", \"gridcolor\": \"white\", \"gridwidth\": 2, \"linecolor\": \"white\", \"showbackground\": true, \"ticks\": \"\", \"zerolinecolor\": \"white\"}}, \"shapedefaults\": {\"line\": {\"color\": \"#2a3f5f\"}}, \"ternary\": {\"aaxis\": {\"gridcolor\": \"white\", \"linecolor\": \"white\", \"ticks\": \"\"}, \"baxis\": {\"gridcolor\": \"white\", \"linecolor\": \"white\", \"ticks\": \"\"}, \"bgcolor\": \"#E5ECF6\", \"caxis\": {\"gridcolor\": \"white\", \"linecolor\": \"white\", \"ticks\": \"\"}}, \"title\": {\"x\": 0.05}, \"xaxis\": {\"automargin\": true, \"gridcolor\": \"white\", \"linecolor\": \"white\", \"ticks\": \"\", \"title\": {\"standoff\": 15}, \"zerolinecolor\": \"white\", \"zerolinewidth\": 2}, \"yaxis\": {\"automargin\": true, \"gridcolor\": \"white\", \"linecolor\": \"white\", \"ticks\": \"\", \"title\": {\"standoff\": 15}, \"zerolinecolor\": \"white\", \"zerolinewidth\": 2}}}, \"title\": {\"font\": {\"color\": \"#4D5663\"}}, \"xaxis\": {\"gridcolor\": \"#E1E5ED\", \"showgrid\": true, \"tickfont\": {\"color\": \"#4D5663\"}, \"title\": {\"font\": {\"color\": \"#4D5663\"}, \"text\": \"\"}, \"zerolinecolor\": \"#E1E5ED\"}, \"yaxis\": {\"gridcolor\": \"#E1E5ED\", \"showgrid\": true, \"tickfont\": {\"color\": \"#4D5663\"}, \"title\": {\"font\": {\"color\": \"#4D5663\"}, \"text\": \"\"}, \"zerolinecolor\": \"#E1E5ED\"}},                        {\"showLink\": true, \"linkText\": \"Export to plotly.com\", \"plotlyServerURL\": \"https://plotly.com\", \"responsive\": true}                    ).then(function(){\n                            \nvar gd = document.getElementById('04a40290-1c84-453b-a4da-6b873d5f0848');\nvar x = new MutationObserver(function (mutations, observer) {{\n        var display = window.getComputedStyle(gd).display;\n        if (!display || display === 'none') {{\n            console.log([gd, 'removed!']);\n            Plotly.purge(gd);\n            observer.disconnect();\n        }}\n}});\n\n// Listen for the removal of the full notebook cells\nvar notebookContainer = gd.closest('#notebook-container');\nif (notebookContainer) {{\n    x.observe(notebookContainer, {childList: true});\n}}\n\n// Listen for the clearing of the current output cell\nvar outputEl = gd.closest('.output');\nif (outputEl) {{\n    x.observe(outputEl, {childList: true});\n}}\n\n                        })                };                });            </script>        </div>"
     },
     "metadata": {}
    }
   ],
   "source": [
    "fig=Anp_dataset['BACIA'].value_counts().iplot(kind='bar')\n"
   ]
  },
  {
   "source": [
    "## Quantas operadoras diferentes operam no pais?"
   ],
   "cell_type": "markdown",
   "metadata": {}
  },
  {
   "cell_type": "code",
   "execution_count": 110,
   "metadata": {},
   "outputs": [
    {
     "output_type": "execute_result",
     "data": {
      "text/plain": [
       "81"
      ]
     },
     "metadata": {},
     "execution_count": 110
    }
   ],
   "source": [
    "# Para saber a quantidades de operadores diferentes temos em nosso pais, podemos fazer os unique\n",
    "Anp_dataset['OPERADOR'].nunique()"
   ]
  },
  {
   "source": [
    "## Quais operadoras possuem mais de 20 poços sob exploração?"
   ],
   "cell_type": "markdown",
   "metadata": {}
  },
  {
   "cell_type": "code",
   "execution_count": 111,
   "metadata": {},
   "outputs": [
    {
     "output_type": "stream",
     "name": "stdout",
     "text": [
      "OPERADOR\nPetrobras               25142\nPetrosynergy              142\nParnaíba Gás Natural      121\nDommo Energia             115\nShell Brasil              115\nStatoil Brasil O&G        105\nChevron Frade              65\nImetame                    61\nNova Petróleo Rec          57\nPetroRio O&G               52\nPartex Brasil              52\nSantana                    47\nPetrogal Brasil            43\nRecôncavo E&P              41\nSHB                        40\nPetra Energia              28\nNorteoleum                 23\nName: POCO, dtype: int64\n"
     ]
    }
   ],
   "source": [
    "lista_operadores=Anp_dataset.groupby('OPERADOR')['POCO'].nunique().sort_values( ascending=False)\n",
    "lista_operadores_up_20=lista_operadores[lista_operadores.values>20]\n",
    "print(lista_operadores_up_20)"
   ]
  },
  {
   "source": [
    "Como podemos observar, a Petrobrás possui a maioria dos poços de petróleo. No gráfico abaixo podemos ter uma melhor visualização dessa supremacia da Petrobrás."
   ],
   "cell_type": "markdown",
   "metadata": {}
  },
  {
   "cell_type": "code",
   "execution_count": 112,
   "metadata": {},
   "outputs": [
    {
     "output_type": "display_data",
     "data": {
      "application/vnd.plotly.v1+json": {
       "config": {
        "linkText": "Export to plotly.com",
        "plotlyServerURL": "https://plotly.com",
        "showLink": true
       },
       "data": [
        {
         "marker": {
          "color": "rgba(255, 153, 51, 0.6)",
          "line": {
           "color": "rgba(255, 153, 51, 1.0)",
           "width": 1
          }
         },
         "name": "POCO",
         "orientation": "v",
         "text": "",
         "type": "bar",
         "x": [
          "Petrobras",
          "Petrosynergy",
          "Parnaíba Gás Natural",
          "Dommo Energia",
          "Shell Brasil",
          "Statoil Brasil O&G",
          "Chevron Frade",
          "Imetame",
          "Nova Petróleo Rec",
          "PetroRio O&G",
          "Partex Brasil",
          "Santana",
          "Petrogal Brasil",
          "Recôncavo E&P",
          "SHB",
          "Petra Energia",
          "Norteoleum"
         ],
         "y": [
          25142,
          142,
          121,
          115,
          115,
          105,
          65,
          61,
          57,
          52,
          52,
          47,
          43,
          41,
          40,
          28,
          23
         ]
        }
       ],
       "layout": {
        "legend": {
         "bgcolor": "#F5F6F9",
         "font": {
          "color": "#4D5663"
         }
        },
        "paper_bgcolor": "#F5F6F9",
        "plot_bgcolor": "#F5F6F9",
        "template": {
         "data": {
          "bar": [
           {
            "error_x": {
             "color": "#2a3f5f"
            },
            "error_y": {
             "color": "#2a3f5f"
            },
            "marker": {
             "line": {
              "color": "#E5ECF6",
              "width": 0.5
             }
            },
            "type": "bar"
           }
          ],
          "barpolar": [
           {
            "marker": {
             "line": {
              "color": "#E5ECF6",
              "width": 0.5
             }
            },
            "type": "barpolar"
           }
          ],
          "carpet": [
           {
            "aaxis": {
             "endlinecolor": "#2a3f5f",
             "gridcolor": "white",
             "linecolor": "white",
             "minorgridcolor": "white",
             "startlinecolor": "#2a3f5f"
            },
            "baxis": {
             "endlinecolor": "#2a3f5f",
             "gridcolor": "white",
             "linecolor": "white",
             "minorgridcolor": "white",
             "startlinecolor": "#2a3f5f"
            },
            "type": "carpet"
           }
          ],
          "choropleth": [
           {
            "colorbar": {
             "outlinewidth": 0,
             "ticks": ""
            },
            "type": "choropleth"
           }
          ],
          "contour": [
           {
            "colorbar": {
             "outlinewidth": 0,
             "ticks": ""
            },
            "colorscale": [
             [
              0,
              "#0d0887"
             ],
             [
              0.1111111111111111,
              "#46039f"
             ],
             [
              0.2222222222222222,
              "#7201a8"
             ],
             [
              0.3333333333333333,
              "#9c179e"
             ],
             [
              0.4444444444444444,
              "#bd3786"
             ],
             [
              0.5555555555555556,
              "#d8576b"
             ],
             [
              0.6666666666666666,
              "#ed7953"
             ],
             [
              0.7777777777777778,
              "#fb9f3a"
             ],
             [
              0.8888888888888888,
              "#fdca26"
             ],
             [
              1,
              "#f0f921"
             ]
            ],
            "type": "contour"
           }
          ],
          "contourcarpet": [
           {
            "colorbar": {
             "outlinewidth": 0,
             "ticks": ""
            },
            "type": "contourcarpet"
           }
          ],
          "heatmap": [
           {
            "colorbar": {
             "outlinewidth": 0,
             "ticks": ""
            },
            "colorscale": [
             [
              0,
              "#0d0887"
             ],
             [
              0.1111111111111111,
              "#46039f"
             ],
             [
              0.2222222222222222,
              "#7201a8"
             ],
             [
              0.3333333333333333,
              "#9c179e"
             ],
             [
              0.4444444444444444,
              "#bd3786"
             ],
             [
              0.5555555555555556,
              "#d8576b"
             ],
             [
              0.6666666666666666,
              "#ed7953"
             ],
             [
              0.7777777777777778,
              "#fb9f3a"
             ],
             [
              0.8888888888888888,
              "#fdca26"
             ],
             [
              1,
              "#f0f921"
             ]
            ],
            "type": "heatmap"
           }
          ],
          "heatmapgl": [
           {
            "colorbar": {
             "outlinewidth": 0,
             "ticks": ""
            },
            "colorscale": [
             [
              0,
              "#0d0887"
             ],
             [
              0.1111111111111111,
              "#46039f"
             ],
             [
              0.2222222222222222,
              "#7201a8"
             ],
             [
              0.3333333333333333,
              "#9c179e"
             ],
             [
              0.4444444444444444,
              "#bd3786"
             ],
             [
              0.5555555555555556,
              "#d8576b"
             ],
             [
              0.6666666666666666,
              "#ed7953"
             ],
             [
              0.7777777777777778,
              "#fb9f3a"
             ],
             [
              0.8888888888888888,
              "#fdca26"
             ],
             [
              1,
              "#f0f921"
             ]
            ],
            "type": "heatmapgl"
           }
          ],
          "histogram": [
           {
            "marker": {
             "colorbar": {
              "outlinewidth": 0,
              "ticks": ""
             }
            },
            "type": "histogram"
           }
          ],
          "histogram2d": [
           {
            "colorbar": {
             "outlinewidth": 0,
             "ticks": ""
            },
            "colorscale": [
             [
              0,
              "#0d0887"
             ],
             [
              0.1111111111111111,
              "#46039f"
             ],
             [
              0.2222222222222222,
              "#7201a8"
             ],
             [
              0.3333333333333333,
              "#9c179e"
             ],
             [
              0.4444444444444444,
              "#bd3786"
             ],
             [
              0.5555555555555556,
              "#d8576b"
             ],
             [
              0.6666666666666666,
              "#ed7953"
             ],
             [
              0.7777777777777778,
              "#fb9f3a"
             ],
             [
              0.8888888888888888,
              "#fdca26"
             ],
             [
              1,
              "#f0f921"
             ]
            ],
            "type": "histogram2d"
           }
          ],
          "histogram2dcontour": [
           {
            "colorbar": {
             "outlinewidth": 0,
             "ticks": ""
            },
            "colorscale": [
             [
              0,
              "#0d0887"
             ],
             [
              0.1111111111111111,
              "#46039f"
             ],
             [
              0.2222222222222222,
              "#7201a8"
             ],
             [
              0.3333333333333333,
              "#9c179e"
             ],
             [
              0.4444444444444444,
              "#bd3786"
             ],
             [
              0.5555555555555556,
              "#d8576b"
             ],
             [
              0.6666666666666666,
              "#ed7953"
             ],
             [
              0.7777777777777778,
              "#fb9f3a"
             ],
             [
              0.8888888888888888,
              "#fdca26"
             ],
             [
              1,
              "#f0f921"
             ]
            ],
            "type": "histogram2dcontour"
           }
          ],
          "mesh3d": [
           {
            "colorbar": {
             "outlinewidth": 0,
             "ticks": ""
            },
            "type": "mesh3d"
           }
          ],
          "parcoords": [
           {
            "line": {
             "colorbar": {
              "outlinewidth": 0,
              "ticks": ""
             }
            },
            "type": "parcoords"
           }
          ],
          "pie": [
           {
            "automargin": true,
            "type": "pie"
           }
          ],
          "scatter": [
           {
            "marker": {
             "colorbar": {
              "outlinewidth": 0,
              "ticks": ""
             }
            },
            "type": "scatter"
           }
          ],
          "scatter3d": [
           {
            "line": {
             "colorbar": {
              "outlinewidth": 0,
              "ticks": ""
             }
            },
            "marker": {
             "colorbar": {
              "outlinewidth": 0,
              "ticks": ""
             }
            },
            "type": "scatter3d"
           }
          ],
          "scattercarpet": [
           {
            "marker": {
             "colorbar": {
              "outlinewidth": 0,
              "ticks": ""
             }
            },
            "type": "scattercarpet"
           }
          ],
          "scattergeo": [
           {
            "marker": {
             "colorbar": {
              "outlinewidth": 0,
              "ticks": ""
             }
            },
            "type": "scattergeo"
           }
          ],
          "scattergl": [
           {
            "marker": {
             "colorbar": {
              "outlinewidth": 0,
              "ticks": ""
             }
            },
            "type": "scattergl"
           }
          ],
          "scattermapbox": [
           {
            "marker": {
             "colorbar": {
              "outlinewidth": 0,
              "ticks": ""
             }
            },
            "type": "scattermapbox"
           }
          ],
          "scatterpolar": [
           {
            "marker": {
             "colorbar": {
              "outlinewidth": 0,
              "ticks": ""
             }
            },
            "type": "scatterpolar"
           }
          ],
          "scatterpolargl": [
           {
            "marker": {
             "colorbar": {
              "outlinewidth": 0,
              "ticks": ""
             }
            },
            "type": "scatterpolargl"
           }
          ],
          "scatterternary": [
           {
            "marker": {
             "colorbar": {
              "outlinewidth": 0,
              "ticks": ""
             }
            },
            "type": "scatterternary"
           }
          ],
          "surface": [
           {
            "colorbar": {
             "outlinewidth": 0,
             "ticks": ""
            },
            "colorscale": [
             [
              0,
              "#0d0887"
             ],
             [
              0.1111111111111111,
              "#46039f"
             ],
             [
              0.2222222222222222,
              "#7201a8"
             ],
             [
              0.3333333333333333,
              "#9c179e"
             ],
             [
              0.4444444444444444,
              "#bd3786"
             ],
             [
              0.5555555555555556,
              "#d8576b"
             ],
             [
              0.6666666666666666,
              "#ed7953"
             ],
             [
              0.7777777777777778,
              "#fb9f3a"
             ],
             [
              0.8888888888888888,
              "#fdca26"
             ],
             [
              1,
              "#f0f921"
             ]
            ],
            "type": "surface"
           }
          ],
          "table": [
           {
            "cells": {
             "fill": {
              "color": "#EBF0F8"
             },
             "line": {
              "color": "white"
             }
            },
            "header": {
             "fill": {
              "color": "#C8D4E3"
             },
             "line": {
              "color": "white"
             }
            },
            "type": "table"
           }
          ]
         },
         "layout": {
          "annotationdefaults": {
           "arrowcolor": "#2a3f5f",
           "arrowhead": 0,
           "arrowwidth": 1
          },
          "autotypenumbers": "strict",
          "coloraxis": {
           "colorbar": {
            "outlinewidth": 0,
            "ticks": ""
           }
          },
          "colorscale": {
           "diverging": [
            [
             0,
             "#8e0152"
            ],
            [
             0.1,
             "#c51b7d"
            ],
            [
             0.2,
             "#de77ae"
            ],
            [
             0.3,
             "#f1b6da"
            ],
            [
             0.4,
             "#fde0ef"
            ],
            [
             0.5,
             "#f7f7f7"
            ],
            [
             0.6,
             "#e6f5d0"
            ],
            [
             0.7,
             "#b8e186"
            ],
            [
             0.8,
             "#7fbc41"
            ],
            [
             0.9,
             "#4d9221"
            ],
            [
             1,
             "#276419"
            ]
           ],
           "sequential": [
            [
             0,
             "#0d0887"
            ],
            [
             0.1111111111111111,
             "#46039f"
            ],
            [
             0.2222222222222222,
             "#7201a8"
            ],
            [
             0.3333333333333333,
             "#9c179e"
            ],
            [
             0.4444444444444444,
             "#bd3786"
            ],
            [
             0.5555555555555556,
             "#d8576b"
            ],
            [
             0.6666666666666666,
             "#ed7953"
            ],
            [
             0.7777777777777778,
             "#fb9f3a"
            ],
            [
             0.8888888888888888,
             "#fdca26"
            ],
            [
             1,
             "#f0f921"
            ]
           ],
           "sequentialminus": [
            [
             0,
             "#0d0887"
            ],
            [
             0.1111111111111111,
             "#46039f"
            ],
            [
             0.2222222222222222,
             "#7201a8"
            ],
            [
             0.3333333333333333,
             "#9c179e"
            ],
            [
             0.4444444444444444,
             "#bd3786"
            ],
            [
             0.5555555555555556,
             "#d8576b"
            ],
            [
             0.6666666666666666,
             "#ed7953"
            ],
            [
             0.7777777777777778,
             "#fb9f3a"
            ],
            [
             0.8888888888888888,
             "#fdca26"
            ],
            [
             1,
             "#f0f921"
            ]
           ]
          },
          "colorway": [
           "#636efa",
           "#EF553B",
           "#00cc96",
           "#ab63fa",
           "#FFA15A",
           "#19d3f3",
           "#FF6692",
           "#B6E880",
           "#FF97FF",
           "#FECB52"
          ],
          "font": {
           "color": "#2a3f5f"
          },
          "geo": {
           "bgcolor": "white",
           "lakecolor": "white",
           "landcolor": "#E5ECF6",
           "showlakes": true,
           "showland": true,
           "subunitcolor": "white"
          },
          "hoverlabel": {
           "align": "left"
          },
          "hovermode": "closest",
          "mapbox": {
           "style": "light"
          },
          "paper_bgcolor": "white",
          "plot_bgcolor": "#E5ECF6",
          "polar": {
           "angularaxis": {
            "gridcolor": "white",
            "linecolor": "white",
            "ticks": ""
           },
           "bgcolor": "#E5ECF6",
           "radialaxis": {
            "gridcolor": "white",
            "linecolor": "white",
            "ticks": ""
           }
          },
          "scene": {
           "xaxis": {
            "backgroundcolor": "#E5ECF6",
            "gridcolor": "white",
            "gridwidth": 2,
            "linecolor": "white",
            "showbackground": true,
            "ticks": "",
            "zerolinecolor": "white"
           },
           "yaxis": {
            "backgroundcolor": "#E5ECF6",
            "gridcolor": "white",
            "gridwidth": 2,
            "linecolor": "white",
            "showbackground": true,
            "ticks": "",
            "zerolinecolor": "white"
           },
           "zaxis": {
            "backgroundcolor": "#E5ECF6",
            "gridcolor": "white",
            "gridwidth": 2,
            "linecolor": "white",
            "showbackground": true,
            "ticks": "",
            "zerolinecolor": "white"
           }
          },
          "shapedefaults": {
           "line": {
            "color": "#2a3f5f"
           }
          },
          "ternary": {
           "aaxis": {
            "gridcolor": "white",
            "linecolor": "white",
            "ticks": ""
           },
           "baxis": {
            "gridcolor": "white",
            "linecolor": "white",
            "ticks": ""
           },
           "bgcolor": "#E5ECF6",
           "caxis": {
            "gridcolor": "white",
            "linecolor": "white",
            "ticks": ""
           }
          },
          "title": {
           "x": 0.05
          },
          "xaxis": {
           "automargin": true,
           "gridcolor": "white",
           "linecolor": "white",
           "ticks": "",
           "title": {
            "standoff": 15
           },
           "zerolinecolor": "white",
           "zerolinewidth": 2
          },
          "yaxis": {
           "automargin": true,
           "gridcolor": "white",
           "linecolor": "white",
           "ticks": "",
           "title": {
            "standoff": 15
           },
           "zerolinecolor": "white",
           "zerolinewidth": 2
          }
         }
        },
        "title": {
         "font": {
          "color": "#4D5663"
         }
        },
        "xaxis": {
         "gridcolor": "#E1E5ED",
         "showgrid": true,
         "tickfont": {
          "color": "#4D5663"
         },
         "title": {
          "font": {
           "color": "#4D5663"
          },
          "text": ""
         },
         "zerolinecolor": "#E1E5ED"
        },
        "yaxis": {
         "gridcolor": "#E1E5ED",
         "showgrid": true,
         "tickfont": {
          "color": "#4D5663"
         },
         "title": {
          "font": {
           "color": "#4D5663"
          },
          "text": ""
         },
         "zerolinecolor": "#E1E5ED"
        }
       }
      },
      "text/html": "<div>                            <div id=\"9c732a84-6282-4b7e-9148-33ff94cd60c0\" class=\"plotly-graph-div\" style=\"height:525px; width:100%;\"></div>            <script type=\"text/javascript\">                require([\"plotly\"], function(Plotly) {                    window.PLOTLYENV=window.PLOTLYENV || {};\n                    window.PLOTLYENV.BASE_URL='https://plotly.com';                                    if (document.getElementById(\"9c732a84-6282-4b7e-9148-33ff94cd60c0\")) {                    Plotly.newPlot(                        \"9c732a84-6282-4b7e-9148-33ff94cd60c0\",                        [{\"marker\": {\"color\": \"rgba(255, 153, 51, 0.6)\", \"line\": {\"color\": \"rgba(255, 153, 51, 1.0)\", \"width\": 1}}, \"name\": \"POCO\", \"orientation\": \"v\", \"text\": \"\", \"type\": \"bar\", \"x\": [\"Petrobras\", \"Petrosynergy\", \"Parna\\u00edba G\\u00e1s Natural\", \"Dommo Energia\", \"Shell Brasil\", \"Statoil Brasil O&G\", \"Chevron Frade\", \"Imetame\", \"Nova Petr\\u00f3leo Rec\", \"PetroRio O&G\", \"Partex Brasil\", \"Santana\", \"Petrogal Brasil\", \"Rec\\u00f4ncavo E&P\", \"SHB\", \"Petra Energia\", \"Norteoleum\"], \"y\": [25142, 142, 121, 115, 115, 105, 65, 61, 57, 52, 52, 47, 43, 41, 40, 28, 23]}],                        {\"legend\": {\"bgcolor\": \"#F5F6F9\", \"font\": {\"color\": \"#4D5663\"}}, \"paper_bgcolor\": \"#F5F6F9\", \"plot_bgcolor\": \"#F5F6F9\", \"template\": {\"data\": {\"bar\": [{\"error_x\": {\"color\": \"#2a3f5f\"}, \"error_y\": {\"color\": \"#2a3f5f\"}, \"marker\": {\"line\": {\"color\": \"#E5ECF6\", \"width\": 0.5}}, \"type\": \"bar\"}], \"barpolar\": [{\"marker\": {\"line\": {\"color\": \"#E5ECF6\", \"width\": 0.5}}, \"type\": \"barpolar\"}], \"carpet\": [{\"aaxis\": {\"endlinecolor\": \"#2a3f5f\", \"gridcolor\": \"white\", \"linecolor\": \"white\", \"minorgridcolor\": \"white\", \"startlinecolor\": \"#2a3f5f\"}, \"baxis\": {\"endlinecolor\": \"#2a3f5f\", \"gridcolor\": \"white\", \"linecolor\": \"white\", \"minorgridcolor\": \"white\", \"startlinecolor\": \"#2a3f5f\"}, \"type\": \"carpet\"}], \"choropleth\": [{\"colorbar\": {\"outlinewidth\": 0, \"ticks\": \"\"}, \"type\": \"choropleth\"}], \"contour\": [{\"colorbar\": {\"outlinewidth\": 0, \"ticks\": \"\"}, \"colorscale\": [[0.0, \"#0d0887\"], [0.1111111111111111, \"#46039f\"], [0.2222222222222222, \"#7201a8\"], [0.3333333333333333, \"#9c179e\"], [0.4444444444444444, \"#bd3786\"], [0.5555555555555556, \"#d8576b\"], [0.6666666666666666, \"#ed7953\"], [0.7777777777777778, \"#fb9f3a\"], [0.8888888888888888, \"#fdca26\"], [1.0, \"#f0f921\"]], \"type\": \"contour\"}], \"contourcarpet\": [{\"colorbar\": {\"outlinewidth\": 0, \"ticks\": \"\"}, \"type\": \"contourcarpet\"}], \"heatmap\": [{\"colorbar\": {\"outlinewidth\": 0, \"ticks\": \"\"}, \"colorscale\": [[0.0, \"#0d0887\"], [0.1111111111111111, \"#46039f\"], [0.2222222222222222, \"#7201a8\"], [0.3333333333333333, \"#9c179e\"], [0.4444444444444444, \"#bd3786\"], [0.5555555555555556, \"#d8576b\"], [0.6666666666666666, \"#ed7953\"], [0.7777777777777778, \"#fb9f3a\"], [0.8888888888888888, \"#fdca26\"], [1.0, \"#f0f921\"]], \"type\": \"heatmap\"}], \"heatmapgl\": [{\"colorbar\": {\"outlinewidth\": 0, \"ticks\": \"\"}, \"colorscale\": [[0.0, \"#0d0887\"], [0.1111111111111111, \"#46039f\"], [0.2222222222222222, \"#7201a8\"], [0.3333333333333333, \"#9c179e\"], [0.4444444444444444, \"#bd3786\"], [0.5555555555555556, \"#d8576b\"], [0.6666666666666666, \"#ed7953\"], [0.7777777777777778, \"#fb9f3a\"], [0.8888888888888888, \"#fdca26\"], [1.0, \"#f0f921\"]], \"type\": \"heatmapgl\"}], \"histogram\": [{\"marker\": {\"colorbar\": {\"outlinewidth\": 0, \"ticks\": \"\"}}, \"type\": \"histogram\"}], \"histogram2d\": [{\"colorbar\": {\"outlinewidth\": 0, \"ticks\": \"\"}, \"colorscale\": [[0.0, \"#0d0887\"], [0.1111111111111111, \"#46039f\"], [0.2222222222222222, \"#7201a8\"], [0.3333333333333333, \"#9c179e\"], [0.4444444444444444, \"#bd3786\"], [0.5555555555555556, \"#d8576b\"], [0.6666666666666666, \"#ed7953\"], [0.7777777777777778, \"#fb9f3a\"], [0.8888888888888888, \"#fdca26\"], [1.0, \"#f0f921\"]], \"type\": \"histogram2d\"}], \"histogram2dcontour\": [{\"colorbar\": {\"outlinewidth\": 0, \"ticks\": \"\"}, \"colorscale\": [[0.0, \"#0d0887\"], [0.1111111111111111, \"#46039f\"], [0.2222222222222222, \"#7201a8\"], [0.3333333333333333, \"#9c179e\"], [0.4444444444444444, \"#bd3786\"], [0.5555555555555556, \"#d8576b\"], [0.6666666666666666, \"#ed7953\"], [0.7777777777777778, \"#fb9f3a\"], [0.8888888888888888, \"#fdca26\"], [1.0, \"#f0f921\"]], \"type\": \"histogram2dcontour\"}], \"mesh3d\": [{\"colorbar\": {\"outlinewidth\": 0, \"ticks\": \"\"}, \"type\": \"mesh3d\"}], \"parcoords\": [{\"line\": {\"colorbar\": {\"outlinewidth\": 0, \"ticks\": \"\"}}, \"type\": \"parcoords\"}], \"pie\": [{\"automargin\": true, \"type\": \"pie\"}], \"scatter\": [{\"marker\": {\"colorbar\": {\"outlinewidth\": 0, \"ticks\": \"\"}}, \"type\": \"scatter\"}], \"scatter3d\": [{\"line\": {\"colorbar\": {\"outlinewidth\": 0, \"ticks\": \"\"}}, \"marker\": {\"colorbar\": {\"outlinewidth\": 0, \"ticks\": \"\"}}, \"type\": \"scatter3d\"}], \"scattercarpet\": [{\"marker\": {\"colorbar\": {\"outlinewidth\": 0, \"ticks\": \"\"}}, \"type\": \"scattercarpet\"}], \"scattergeo\": [{\"marker\": {\"colorbar\": {\"outlinewidth\": 0, \"ticks\": \"\"}}, \"type\": \"scattergeo\"}], \"scattergl\": [{\"marker\": {\"colorbar\": {\"outlinewidth\": 0, \"ticks\": \"\"}}, \"type\": \"scattergl\"}], \"scattermapbox\": [{\"marker\": {\"colorbar\": {\"outlinewidth\": 0, \"ticks\": \"\"}}, \"type\": \"scattermapbox\"}], \"scatterpolar\": [{\"marker\": {\"colorbar\": {\"outlinewidth\": 0, \"ticks\": \"\"}}, \"type\": \"scatterpolar\"}], \"scatterpolargl\": [{\"marker\": {\"colorbar\": {\"outlinewidth\": 0, \"ticks\": \"\"}}, \"type\": \"scatterpolargl\"}], \"scatterternary\": [{\"marker\": {\"colorbar\": {\"outlinewidth\": 0, \"ticks\": \"\"}}, \"type\": \"scatterternary\"}], \"surface\": [{\"colorbar\": {\"outlinewidth\": 0, \"ticks\": \"\"}, \"colorscale\": [[0.0, \"#0d0887\"], [0.1111111111111111, \"#46039f\"], [0.2222222222222222, \"#7201a8\"], [0.3333333333333333, \"#9c179e\"], [0.4444444444444444, \"#bd3786\"], [0.5555555555555556, \"#d8576b\"], [0.6666666666666666, \"#ed7953\"], [0.7777777777777778, \"#fb9f3a\"], [0.8888888888888888, \"#fdca26\"], [1.0, \"#f0f921\"]], \"type\": \"surface\"}], \"table\": [{\"cells\": {\"fill\": {\"color\": \"#EBF0F8\"}, \"line\": {\"color\": \"white\"}}, \"header\": {\"fill\": {\"color\": \"#C8D4E3\"}, \"line\": {\"color\": \"white\"}}, \"type\": \"table\"}]}, \"layout\": {\"annotationdefaults\": {\"arrowcolor\": \"#2a3f5f\", \"arrowhead\": 0, \"arrowwidth\": 1}, \"autotypenumbers\": \"strict\", \"coloraxis\": {\"colorbar\": {\"outlinewidth\": 0, \"ticks\": \"\"}}, \"colorscale\": {\"diverging\": [[0, \"#8e0152\"], [0.1, \"#c51b7d\"], [0.2, \"#de77ae\"], [0.3, \"#f1b6da\"], [0.4, \"#fde0ef\"], [0.5, \"#f7f7f7\"], [0.6, \"#e6f5d0\"], [0.7, \"#b8e186\"], [0.8, \"#7fbc41\"], [0.9, \"#4d9221\"], [1, \"#276419\"]], \"sequential\": [[0.0, \"#0d0887\"], [0.1111111111111111, \"#46039f\"], [0.2222222222222222, \"#7201a8\"], [0.3333333333333333, \"#9c179e\"], [0.4444444444444444, \"#bd3786\"], [0.5555555555555556, \"#d8576b\"], [0.6666666666666666, \"#ed7953\"], [0.7777777777777778, \"#fb9f3a\"], [0.8888888888888888, \"#fdca26\"], [1.0, \"#f0f921\"]], \"sequentialminus\": [[0.0, \"#0d0887\"], [0.1111111111111111, \"#46039f\"], [0.2222222222222222, \"#7201a8\"], [0.3333333333333333, \"#9c179e\"], [0.4444444444444444, \"#bd3786\"], [0.5555555555555556, \"#d8576b\"], [0.6666666666666666, \"#ed7953\"], [0.7777777777777778, \"#fb9f3a\"], [0.8888888888888888, \"#fdca26\"], [1.0, \"#f0f921\"]]}, \"colorway\": [\"#636efa\", \"#EF553B\", \"#00cc96\", \"#ab63fa\", \"#FFA15A\", \"#19d3f3\", \"#FF6692\", \"#B6E880\", \"#FF97FF\", \"#FECB52\"], \"font\": {\"color\": \"#2a3f5f\"}, \"geo\": {\"bgcolor\": \"white\", \"lakecolor\": \"white\", \"landcolor\": \"#E5ECF6\", \"showlakes\": true, \"showland\": true, \"subunitcolor\": \"white\"}, \"hoverlabel\": {\"align\": \"left\"}, \"hovermode\": \"closest\", \"mapbox\": {\"style\": \"light\"}, \"paper_bgcolor\": \"white\", \"plot_bgcolor\": \"#E5ECF6\", \"polar\": {\"angularaxis\": {\"gridcolor\": \"white\", \"linecolor\": \"white\", \"ticks\": \"\"}, \"bgcolor\": \"#E5ECF6\", \"radialaxis\": {\"gridcolor\": \"white\", \"linecolor\": \"white\", \"ticks\": \"\"}}, \"scene\": {\"xaxis\": {\"backgroundcolor\": \"#E5ECF6\", \"gridcolor\": \"white\", \"gridwidth\": 2, \"linecolor\": \"white\", \"showbackground\": true, \"ticks\": \"\", \"zerolinecolor\": \"white\"}, \"yaxis\": {\"backgroundcolor\": \"#E5ECF6\", \"gridcolor\": \"white\", \"gridwidth\": 2, \"linecolor\": \"white\", \"showbackground\": true, \"ticks\": \"\", \"zerolinecolor\": \"white\"}, \"zaxis\": {\"backgroundcolor\": \"#E5ECF6\", \"gridcolor\": \"white\", \"gridwidth\": 2, \"linecolor\": \"white\", \"showbackground\": true, \"ticks\": \"\", \"zerolinecolor\": \"white\"}}, \"shapedefaults\": {\"line\": {\"color\": \"#2a3f5f\"}}, \"ternary\": {\"aaxis\": {\"gridcolor\": \"white\", \"linecolor\": \"white\", \"ticks\": \"\"}, \"baxis\": {\"gridcolor\": \"white\", \"linecolor\": \"white\", \"ticks\": \"\"}, \"bgcolor\": \"#E5ECF6\", \"caxis\": {\"gridcolor\": \"white\", \"linecolor\": \"white\", \"ticks\": \"\"}}, \"title\": {\"x\": 0.05}, \"xaxis\": {\"automargin\": true, \"gridcolor\": \"white\", \"linecolor\": \"white\", \"ticks\": \"\", \"title\": {\"standoff\": 15}, \"zerolinecolor\": \"white\", \"zerolinewidth\": 2}, \"yaxis\": {\"automargin\": true, \"gridcolor\": \"white\", \"linecolor\": \"white\", \"ticks\": \"\", \"title\": {\"standoff\": 15}, \"zerolinecolor\": \"white\", \"zerolinewidth\": 2}}}, \"title\": {\"font\": {\"color\": \"#4D5663\"}}, \"xaxis\": {\"gridcolor\": \"#E1E5ED\", \"showgrid\": true, \"tickfont\": {\"color\": \"#4D5663\"}, \"title\": {\"font\": {\"color\": \"#4D5663\"}, \"text\": \"\"}, \"zerolinecolor\": \"#E1E5ED\"}, \"yaxis\": {\"gridcolor\": \"#E1E5ED\", \"showgrid\": true, \"tickfont\": {\"color\": \"#4D5663\"}, \"title\": {\"font\": {\"color\": \"#4D5663\"}, \"text\": \"\"}, \"zerolinecolor\": \"#E1E5ED\"}},                        {\"showLink\": true, \"linkText\": \"Export to plotly.com\", \"plotlyServerURL\": \"https://plotly.com\", \"responsive\": true}                    ).then(function(){\n                            \nvar gd = document.getElementById('9c732a84-6282-4b7e-9148-33ff94cd60c0');\nvar x = new MutationObserver(function (mutations, observer) {{\n        var display = window.getComputedStyle(gd).display;\n        if (!display || display === 'none') {{\n            console.log([gd, 'removed!']);\n            Plotly.purge(gd);\n            observer.disconnect();\n        }}\n}});\n\n// Listen for the removal of the full notebook cells\nvar notebookContainer = gd.closest('#notebook-container');\nif (notebookContainer) {{\n    x.observe(notebookContainer, {childList: true});\n}}\n\n// Listen for the clearing of the current output cell\nvar outputEl = gd.closest('.output');\nif (outputEl) {{\n    x.observe(outputEl, {childList: true});\n}}\n\n                        })                };                });            </script>        </div>"
     },
     "metadata": {}
    }
   ],
   "source": [
    "fig=lista_operadores_up_20.iplot(kind='bar')\n"
   ]
  },
  {
   "source": [
    "No intuito de melhor visualizar as outras operadoras que possuem mais de 20 poços, eu removi a Petrobrás da lista e repeti o mesmo plot."
   ],
   "cell_type": "markdown",
   "metadata": {}
  },
  {
   "cell_type": "code",
   "execution_count": 113,
   "metadata": {},
   "outputs": [
    {
     "output_type": "display_data",
     "data": {
      "application/vnd.plotly.v1+json": {
       "config": {
        "linkText": "Export to plotly.com",
        "plotlyServerURL": "https://plotly.com",
        "showLink": true
       },
       "data": [
        {
         "marker": {
          "color": "rgba(255, 153, 51, 0.6)",
          "line": {
           "color": "rgba(255, 153, 51, 1.0)",
           "width": 1
          }
         },
         "name": "POCO",
         "orientation": "v",
         "text": "",
         "type": "bar",
         "x": [
          "Petrosynergy",
          "Parnaíba Gás Natural",
          "Dommo Energia",
          "Shell Brasil",
          "Statoil Brasil O&G",
          "Chevron Frade",
          "Imetame",
          "Nova Petróleo Rec",
          "PetroRio O&G",
          "Partex Brasil",
          "Santana",
          "Petrogal Brasil",
          "Recôncavo E&P",
          "SHB",
          "Petra Energia",
          "Norteoleum"
         ],
         "y": [
          142,
          121,
          115,
          115,
          105,
          65,
          61,
          57,
          52,
          52,
          47,
          43,
          41,
          40,
          28,
          23
         ]
        }
       ],
       "layout": {
        "legend": {
         "bgcolor": "#F5F6F9",
         "font": {
          "color": "#4D5663"
         }
        },
        "paper_bgcolor": "#F5F6F9",
        "plot_bgcolor": "#F5F6F9",
        "template": {
         "data": {
          "bar": [
           {
            "error_x": {
             "color": "#2a3f5f"
            },
            "error_y": {
             "color": "#2a3f5f"
            },
            "marker": {
             "line": {
              "color": "#E5ECF6",
              "width": 0.5
             }
            },
            "type": "bar"
           }
          ],
          "barpolar": [
           {
            "marker": {
             "line": {
              "color": "#E5ECF6",
              "width": 0.5
             }
            },
            "type": "barpolar"
           }
          ],
          "carpet": [
           {
            "aaxis": {
             "endlinecolor": "#2a3f5f",
             "gridcolor": "white",
             "linecolor": "white",
             "minorgridcolor": "white",
             "startlinecolor": "#2a3f5f"
            },
            "baxis": {
             "endlinecolor": "#2a3f5f",
             "gridcolor": "white",
             "linecolor": "white",
             "minorgridcolor": "white",
             "startlinecolor": "#2a3f5f"
            },
            "type": "carpet"
           }
          ],
          "choropleth": [
           {
            "colorbar": {
             "outlinewidth": 0,
             "ticks": ""
            },
            "type": "choropleth"
           }
          ],
          "contour": [
           {
            "colorbar": {
             "outlinewidth": 0,
             "ticks": ""
            },
            "colorscale": [
             [
              0,
              "#0d0887"
             ],
             [
              0.1111111111111111,
              "#46039f"
             ],
             [
              0.2222222222222222,
              "#7201a8"
             ],
             [
              0.3333333333333333,
              "#9c179e"
             ],
             [
              0.4444444444444444,
              "#bd3786"
             ],
             [
              0.5555555555555556,
              "#d8576b"
             ],
             [
              0.6666666666666666,
              "#ed7953"
             ],
             [
              0.7777777777777778,
              "#fb9f3a"
             ],
             [
              0.8888888888888888,
              "#fdca26"
             ],
             [
              1,
              "#f0f921"
             ]
            ],
            "type": "contour"
           }
          ],
          "contourcarpet": [
           {
            "colorbar": {
             "outlinewidth": 0,
             "ticks": ""
            },
            "type": "contourcarpet"
           }
          ],
          "heatmap": [
           {
            "colorbar": {
             "outlinewidth": 0,
             "ticks": ""
            },
            "colorscale": [
             [
              0,
              "#0d0887"
             ],
             [
              0.1111111111111111,
              "#46039f"
             ],
             [
              0.2222222222222222,
              "#7201a8"
             ],
             [
              0.3333333333333333,
              "#9c179e"
             ],
             [
              0.4444444444444444,
              "#bd3786"
             ],
             [
              0.5555555555555556,
              "#d8576b"
             ],
             [
              0.6666666666666666,
              "#ed7953"
             ],
             [
              0.7777777777777778,
              "#fb9f3a"
             ],
             [
              0.8888888888888888,
              "#fdca26"
             ],
             [
              1,
              "#f0f921"
             ]
            ],
            "type": "heatmap"
           }
          ],
          "heatmapgl": [
           {
            "colorbar": {
             "outlinewidth": 0,
             "ticks": ""
            },
            "colorscale": [
             [
              0,
              "#0d0887"
             ],
             [
              0.1111111111111111,
              "#46039f"
             ],
             [
              0.2222222222222222,
              "#7201a8"
             ],
             [
              0.3333333333333333,
              "#9c179e"
             ],
             [
              0.4444444444444444,
              "#bd3786"
             ],
             [
              0.5555555555555556,
              "#d8576b"
             ],
             [
              0.6666666666666666,
              "#ed7953"
             ],
             [
              0.7777777777777778,
              "#fb9f3a"
             ],
             [
              0.8888888888888888,
              "#fdca26"
             ],
             [
              1,
              "#f0f921"
             ]
            ],
            "type": "heatmapgl"
           }
          ],
          "histogram": [
           {
            "marker": {
             "colorbar": {
              "outlinewidth": 0,
              "ticks": ""
             }
            },
            "type": "histogram"
           }
          ],
          "histogram2d": [
           {
            "colorbar": {
             "outlinewidth": 0,
             "ticks": ""
            },
            "colorscale": [
             [
              0,
              "#0d0887"
             ],
             [
              0.1111111111111111,
              "#46039f"
             ],
             [
              0.2222222222222222,
              "#7201a8"
             ],
             [
              0.3333333333333333,
              "#9c179e"
             ],
             [
              0.4444444444444444,
              "#bd3786"
             ],
             [
              0.5555555555555556,
              "#d8576b"
             ],
             [
              0.6666666666666666,
              "#ed7953"
             ],
             [
              0.7777777777777778,
              "#fb9f3a"
             ],
             [
              0.8888888888888888,
              "#fdca26"
             ],
             [
              1,
              "#f0f921"
             ]
            ],
            "type": "histogram2d"
           }
          ],
          "histogram2dcontour": [
           {
            "colorbar": {
             "outlinewidth": 0,
             "ticks": ""
            },
            "colorscale": [
             [
              0,
              "#0d0887"
             ],
             [
              0.1111111111111111,
              "#46039f"
             ],
             [
              0.2222222222222222,
              "#7201a8"
             ],
             [
              0.3333333333333333,
              "#9c179e"
             ],
             [
              0.4444444444444444,
              "#bd3786"
             ],
             [
              0.5555555555555556,
              "#d8576b"
             ],
             [
              0.6666666666666666,
              "#ed7953"
             ],
             [
              0.7777777777777778,
              "#fb9f3a"
             ],
             [
              0.8888888888888888,
              "#fdca26"
             ],
             [
              1,
              "#f0f921"
             ]
            ],
            "type": "histogram2dcontour"
           }
          ],
          "mesh3d": [
           {
            "colorbar": {
             "outlinewidth": 0,
             "ticks": ""
            },
            "type": "mesh3d"
           }
          ],
          "parcoords": [
           {
            "line": {
             "colorbar": {
              "outlinewidth": 0,
              "ticks": ""
             }
            },
            "type": "parcoords"
           }
          ],
          "pie": [
           {
            "automargin": true,
            "type": "pie"
           }
          ],
          "scatter": [
           {
            "marker": {
             "colorbar": {
              "outlinewidth": 0,
              "ticks": ""
             }
            },
            "type": "scatter"
           }
          ],
          "scatter3d": [
           {
            "line": {
             "colorbar": {
              "outlinewidth": 0,
              "ticks": ""
             }
            },
            "marker": {
             "colorbar": {
              "outlinewidth": 0,
              "ticks": ""
             }
            },
            "type": "scatter3d"
           }
          ],
          "scattercarpet": [
           {
            "marker": {
             "colorbar": {
              "outlinewidth": 0,
              "ticks": ""
             }
            },
            "type": "scattercarpet"
           }
          ],
          "scattergeo": [
           {
            "marker": {
             "colorbar": {
              "outlinewidth": 0,
              "ticks": ""
             }
            },
            "type": "scattergeo"
           }
          ],
          "scattergl": [
           {
            "marker": {
             "colorbar": {
              "outlinewidth": 0,
              "ticks": ""
             }
            },
            "type": "scattergl"
           }
          ],
          "scattermapbox": [
           {
            "marker": {
             "colorbar": {
              "outlinewidth": 0,
              "ticks": ""
             }
            },
            "type": "scattermapbox"
           }
          ],
          "scatterpolar": [
           {
            "marker": {
             "colorbar": {
              "outlinewidth": 0,
              "ticks": ""
             }
            },
            "type": "scatterpolar"
           }
          ],
          "scatterpolargl": [
           {
            "marker": {
             "colorbar": {
              "outlinewidth": 0,
              "ticks": ""
             }
            },
            "type": "scatterpolargl"
           }
          ],
          "scatterternary": [
           {
            "marker": {
             "colorbar": {
              "outlinewidth": 0,
              "ticks": ""
             }
            },
            "type": "scatterternary"
           }
          ],
          "surface": [
           {
            "colorbar": {
             "outlinewidth": 0,
             "ticks": ""
            },
            "colorscale": [
             [
              0,
              "#0d0887"
             ],
             [
              0.1111111111111111,
              "#46039f"
             ],
             [
              0.2222222222222222,
              "#7201a8"
             ],
             [
              0.3333333333333333,
              "#9c179e"
             ],
             [
              0.4444444444444444,
              "#bd3786"
             ],
             [
              0.5555555555555556,
              "#d8576b"
             ],
             [
              0.6666666666666666,
              "#ed7953"
             ],
             [
              0.7777777777777778,
              "#fb9f3a"
             ],
             [
              0.8888888888888888,
              "#fdca26"
             ],
             [
              1,
              "#f0f921"
             ]
            ],
            "type": "surface"
           }
          ],
          "table": [
           {
            "cells": {
             "fill": {
              "color": "#EBF0F8"
             },
             "line": {
              "color": "white"
             }
            },
            "header": {
             "fill": {
              "color": "#C8D4E3"
             },
             "line": {
              "color": "white"
             }
            },
            "type": "table"
           }
          ]
         },
         "layout": {
          "annotationdefaults": {
           "arrowcolor": "#2a3f5f",
           "arrowhead": 0,
           "arrowwidth": 1
          },
          "autotypenumbers": "strict",
          "coloraxis": {
           "colorbar": {
            "outlinewidth": 0,
            "ticks": ""
           }
          },
          "colorscale": {
           "diverging": [
            [
             0,
             "#8e0152"
            ],
            [
             0.1,
             "#c51b7d"
            ],
            [
             0.2,
             "#de77ae"
            ],
            [
             0.3,
             "#f1b6da"
            ],
            [
             0.4,
             "#fde0ef"
            ],
            [
             0.5,
             "#f7f7f7"
            ],
            [
             0.6,
             "#e6f5d0"
            ],
            [
             0.7,
             "#b8e186"
            ],
            [
             0.8,
             "#7fbc41"
            ],
            [
             0.9,
             "#4d9221"
            ],
            [
             1,
             "#276419"
            ]
           ],
           "sequential": [
            [
             0,
             "#0d0887"
            ],
            [
             0.1111111111111111,
             "#46039f"
            ],
            [
             0.2222222222222222,
             "#7201a8"
            ],
            [
             0.3333333333333333,
             "#9c179e"
            ],
            [
             0.4444444444444444,
             "#bd3786"
            ],
            [
             0.5555555555555556,
             "#d8576b"
            ],
            [
             0.6666666666666666,
             "#ed7953"
            ],
            [
             0.7777777777777778,
             "#fb9f3a"
            ],
            [
             0.8888888888888888,
             "#fdca26"
            ],
            [
             1,
             "#f0f921"
            ]
           ],
           "sequentialminus": [
            [
             0,
             "#0d0887"
            ],
            [
             0.1111111111111111,
             "#46039f"
            ],
            [
             0.2222222222222222,
             "#7201a8"
            ],
            [
             0.3333333333333333,
             "#9c179e"
            ],
            [
             0.4444444444444444,
             "#bd3786"
            ],
            [
             0.5555555555555556,
             "#d8576b"
            ],
            [
             0.6666666666666666,
             "#ed7953"
            ],
            [
             0.7777777777777778,
             "#fb9f3a"
            ],
            [
             0.8888888888888888,
             "#fdca26"
            ],
            [
             1,
             "#f0f921"
            ]
           ]
          },
          "colorway": [
           "#636efa",
           "#EF553B",
           "#00cc96",
           "#ab63fa",
           "#FFA15A",
           "#19d3f3",
           "#FF6692",
           "#B6E880",
           "#FF97FF",
           "#FECB52"
          ],
          "font": {
           "color": "#2a3f5f"
          },
          "geo": {
           "bgcolor": "white",
           "lakecolor": "white",
           "landcolor": "#E5ECF6",
           "showlakes": true,
           "showland": true,
           "subunitcolor": "white"
          },
          "hoverlabel": {
           "align": "left"
          },
          "hovermode": "closest",
          "mapbox": {
           "style": "light"
          },
          "paper_bgcolor": "white",
          "plot_bgcolor": "#E5ECF6",
          "polar": {
           "angularaxis": {
            "gridcolor": "white",
            "linecolor": "white",
            "ticks": ""
           },
           "bgcolor": "#E5ECF6",
           "radialaxis": {
            "gridcolor": "white",
            "linecolor": "white",
            "ticks": ""
           }
          },
          "scene": {
           "xaxis": {
            "backgroundcolor": "#E5ECF6",
            "gridcolor": "white",
            "gridwidth": 2,
            "linecolor": "white",
            "showbackground": true,
            "ticks": "",
            "zerolinecolor": "white"
           },
           "yaxis": {
            "backgroundcolor": "#E5ECF6",
            "gridcolor": "white",
            "gridwidth": 2,
            "linecolor": "white",
            "showbackground": true,
            "ticks": "",
            "zerolinecolor": "white"
           },
           "zaxis": {
            "backgroundcolor": "#E5ECF6",
            "gridcolor": "white",
            "gridwidth": 2,
            "linecolor": "white",
            "showbackground": true,
            "ticks": "",
            "zerolinecolor": "white"
           }
          },
          "shapedefaults": {
           "line": {
            "color": "#2a3f5f"
           }
          },
          "ternary": {
           "aaxis": {
            "gridcolor": "white",
            "linecolor": "white",
            "ticks": ""
           },
           "baxis": {
            "gridcolor": "white",
            "linecolor": "white",
            "ticks": ""
           },
           "bgcolor": "#E5ECF6",
           "caxis": {
            "gridcolor": "white",
            "linecolor": "white",
            "ticks": ""
           }
          },
          "title": {
           "x": 0.05
          },
          "xaxis": {
           "automargin": true,
           "gridcolor": "white",
           "linecolor": "white",
           "ticks": "",
           "title": {
            "standoff": 15
           },
           "zerolinecolor": "white",
           "zerolinewidth": 2
          },
          "yaxis": {
           "automargin": true,
           "gridcolor": "white",
           "linecolor": "white",
           "ticks": "",
           "title": {
            "standoff": 15
           },
           "zerolinecolor": "white",
           "zerolinewidth": 2
          }
         }
        },
        "title": {
         "font": {
          "color": "#4D5663"
         }
        },
        "xaxis": {
         "gridcolor": "#E1E5ED",
         "showgrid": true,
         "tickfont": {
          "color": "#4D5663"
         },
         "title": {
          "font": {
           "color": "#4D5663"
          },
          "text": ""
         },
         "zerolinecolor": "#E1E5ED"
        },
        "yaxis": {
         "gridcolor": "#E1E5ED",
         "showgrid": true,
         "tickfont": {
          "color": "#4D5663"
         },
         "title": {
          "font": {
           "color": "#4D5663"
          },
          "text": ""
         },
         "zerolinecolor": "#E1E5ED"
        }
       }
      },
      "text/html": "<div>                            <div id=\"42fe870f-f650-4811-8900-bb977722064d\" class=\"plotly-graph-div\" style=\"height:525px; width:100%;\"></div>            <script type=\"text/javascript\">                require([\"plotly\"], function(Plotly) {                    window.PLOTLYENV=window.PLOTLYENV || {};\n                    window.PLOTLYENV.BASE_URL='https://plotly.com';                                    if (document.getElementById(\"42fe870f-f650-4811-8900-bb977722064d\")) {                    Plotly.newPlot(                        \"42fe870f-f650-4811-8900-bb977722064d\",                        [{\"marker\": {\"color\": \"rgba(255, 153, 51, 0.6)\", \"line\": {\"color\": \"rgba(255, 153, 51, 1.0)\", \"width\": 1}}, \"name\": \"POCO\", \"orientation\": \"v\", \"text\": \"\", \"type\": \"bar\", \"x\": [\"Petrosynergy\", \"Parna\\u00edba G\\u00e1s Natural\", \"Dommo Energia\", \"Shell Brasil\", \"Statoil Brasil O&G\", \"Chevron Frade\", \"Imetame\", \"Nova Petr\\u00f3leo Rec\", \"PetroRio O&G\", \"Partex Brasil\", \"Santana\", \"Petrogal Brasil\", \"Rec\\u00f4ncavo E&P\", \"SHB\", \"Petra Energia\", \"Norteoleum\"], \"y\": [142, 121, 115, 115, 105, 65, 61, 57, 52, 52, 47, 43, 41, 40, 28, 23]}],                        {\"legend\": {\"bgcolor\": \"#F5F6F9\", \"font\": {\"color\": \"#4D5663\"}}, \"paper_bgcolor\": \"#F5F6F9\", \"plot_bgcolor\": \"#F5F6F9\", \"template\": {\"data\": {\"bar\": [{\"error_x\": {\"color\": \"#2a3f5f\"}, \"error_y\": {\"color\": \"#2a3f5f\"}, \"marker\": {\"line\": {\"color\": \"#E5ECF6\", \"width\": 0.5}}, \"type\": \"bar\"}], \"barpolar\": [{\"marker\": {\"line\": {\"color\": \"#E5ECF6\", \"width\": 0.5}}, \"type\": \"barpolar\"}], \"carpet\": [{\"aaxis\": {\"endlinecolor\": \"#2a3f5f\", \"gridcolor\": \"white\", \"linecolor\": \"white\", \"minorgridcolor\": \"white\", \"startlinecolor\": \"#2a3f5f\"}, \"baxis\": {\"endlinecolor\": \"#2a3f5f\", \"gridcolor\": \"white\", \"linecolor\": \"white\", \"minorgridcolor\": \"white\", \"startlinecolor\": \"#2a3f5f\"}, \"type\": \"carpet\"}], \"choropleth\": [{\"colorbar\": {\"outlinewidth\": 0, \"ticks\": \"\"}, \"type\": \"choropleth\"}], \"contour\": [{\"colorbar\": {\"outlinewidth\": 0, \"ticks\": \"\"}, \"colorscale\": [[0.0, \"#0d0887\"], [0.1111111111111111, \"#46039f\"], [0.2222222222222222, \"#7201a8\"], [0.3333333333333333, \"#9c179e\"], [0.4444444444444444, \"#bd3786\"], [0.5555555555555556, \"#d8576b\"], [0.6666666666666666, \"#ed7953\"], [0.7777777777777778, \"#fb9f3a\"], [0.8888888888888888, \"#fdca26\"], [1.0, \"#f0f921\"]], \"type\": \"contour\"}], \"contourcarpet\": [{\"colorbar\": {\"outlinewidth\": 0, \"ticks\": \"\"}, \"type\": \"contourcarpet\"}], \"heatmap\": [{\"colorbar\": {\"outlinewidth\": 0, \"ticks\": \"\"}, \"colorscale\": [[0.0, \"#0d0887\"], [0.1111111111111111, \"#46039f\"], [0.2222222222222222, \"#7201a8\"], [0.3333333333333333, \"#9c179e\"], [0.4444444444444444, \"#bd3786\"], [0.5555555555555556, \"#d8576b\"], [0.6666666666666666, \"#ed7953\"], [0.7777777777777778, \"#fb9f3a\"], [0.8888888888888888, \"#fdca26\"], [1.0, \"#f0f921\"]], \"type\": \"heatmap\"}], \"heatmapgl\": [{\"colorbar\": {\"outlinewidth\": 0, \"ticks\": \"\"}, \"colorscale\": [[0.0, \"#0d0887\"], [0.1111111111111111, \"#46039f\"], [0.2222222222222222, \"#7201a8\"], [0.3333333333333333, \"#9c179e\"], [0.4444444444444444, \"#bd3786\"], [0.5555555555555556, \"#d8576b\"], [0.6666666666666666, \"#ed7953\"], [0.7777777777777778, \"#fb9f3a\"], [0.8888888888888888, \"#fdca26\"], [1.0, \"#f0f921\"]], \"type\": \"heatmapgl\"}], \"histogram\": [{\"marker\": {\"colorbar\": {\"outlinewidth\": 0, \"ticks\": \"\"}}, \"type\": \"histogram\"}], \"histogram2d\": [{\"colorbar\": {\"outlinewidth\": 0, \"ticks\": \"\"}, \"colorscale\": [[0.0, \"#0d0887\"], [0.1111111111111111, \"#46039f\"], [0.2222222222222222, \"#7201a8\"], [0.3333333333333333, \"#9c179e\"], [0.4444444444444444, \"#bd3786\"], [0.5555555555555556, \"#d8576b\"], [0.6666666666666666, \"#ed7953\"], [0.7777777777777778, \"#fb9f3a\"], [0.8888888888888888, \"#fdca26\"], [1.0, \"#f0f921\"]], \"type\": \"histogram2d\"}], \"histogram2dcontour\": [{\"colorbar\": {\"outlinewidth\": 0, \"ticks\": \"\"}, \"colorscale\": [[0.0, \"#0d0887\"], [0.1111111111111111, \"#46039f\"], [0.2222222222222222, \"#7201a8\"], [0.3333333333333333, \"#9c179e\"], [0.4444444444444444, \"#bd3786\"], [0.5555555555555556, \"#d8576b\"], [0.6666666666666666, \"#ed7953\"], [0.7777777777777778, \"#fb9f3a\"], [0.8888888888888888, \"#fdca26\"], [1.0, \"#f0f921\"]], \"type\": \"histogram2dcontour\"}], \"mesh3d\": [{\"colorbar\": {\"outlinewidth\": 0, \"ticks\": \"\"}, \"type\": \"mesh3d\"}], \"parcoords\": [{\"line\": {\"colorbar\": {\"outlinewidth\": 0, \"ticks\": \"\"}}, \"type\": \"parcoords\"}], \"pie\": [{\"automargin\": true, \"type\": \"pie\"}], \"scatter\": [{\"marker\": {\"colorbar\": {\"outlinewidth\": 0, \"ticks\": \"\"}}, \"type\": \"scatter\"}], \"scatter3d\": [{\"line\": {\"colorbar\": {\"outlinewidth\": 0, \"ticks\": \"\"}}, \"marker\": {\"colorbar\": {\"outlinewidth\": 0, \"ticks\": \"\"}}, \"type\": \"scatter3d\"}], \"scattercarpet\": [{\"marker\": {\"colorbar\": {\"outlinewidth\": 0, \"ticks\": \"\"}}, \"type\": \"scattercarpet\"}], \"scattergeo\": [{\"marker\": {\"colorbar\": {\"outlinewidth\": 0, \"ticks\": \"\"}}, \"type\": \"scattergeo\"}], \"scattergl\": [{\"marker\": {\"colorbar\": {\"outlinewidth\": 0, \"ticks\": \"\"}}, \"type\": \"scattergl\"}], \"scattermapbox\": [{\"marker\": {\"colorbar\": {\"outlinewidth\": 0, \"ticks\": \"\"}}, \"type\": \"scattermapbox\"}], \"scatterpolar\": [{\"marker\": {\"colorbar\": {\"outlinewidth\": 0, \"ticks\": \"\"}}, \"type\": \"scatterpolar\"}], \"scatterpolargl\": [{\"marker\": {\"colorbar\": {\"outlinewidth\": 0, \"ticks\": \"\"}}, \"type\": \"scatterpolargl\"}], \"scatterternary\": [{\"marker\": {\"colorbar\": {\"outlinewidth\": 0, \"ticks\": \"\"}}, \"type\": \"scatterternary\"}], \"surface\": [{\"colorbar\": {\"outlinewidth\": 0, \"ticks\": \"\"}, \"colorscale\": [[0.0, \"#0d0887\"], [0.1111111111111111, \"#46039f\"], [0.2222222222222222, \"#7201a8\"], [0.3333333333333333, \"#9c179e\"], [0.4444444444444444, \"#bd3786\"], [0.5555555555555556, \"#d8576b\"], [0.6666666666666666, \"#ed7953\"], [0.7777777777777778, \"#fb9f3a\"], [0.8888888888888888, \"#fdca26\"], [1.0, \"#f0f921\"]], \"type\": \"surface\"}], \"table\": [{\"cells\": {\"fill\": {\"color\": \"#EBF0F8\"}, \"line\": {\"color\": \"white\"}}, \"header\": {\"fill\": {\"color\": \"#C8D4E3\"}, \"line\": {\"color\": \"white\"}}, \"type\": \"table\"}]}, \"layout\": {\"annotationdefaults\": {\"arrowcolor\": \"#2a3f5f\", \"arrowhead\": 0, \"arrowwidth\": 1}, \"autotypenumbers\": \"strict\", \"coloraxis\": {\"colorbar\": {\"outlinewidth\": 0, \"ticks\": \"\"}}, \"colorscale\": {\"diverging\": [[0, \"#8e0152\"], [0.1, \"#c51b7d\"], [0.2, \"#de77ae\"], [0.3, \"#f1b6da\"], [0.4, \"#fde0ef\"], [0.5, \"#f7f7f7\"], [0.6, \"#e6f5d0\"], [0.7, \"#b8e186\"], [0.8, \"#7fbc41\"], [0.9, \"#4d9221\"], [1, \"#276419\"]], \"sequential\": [[0.0, \"#0d0887\"], [0.1111111111111111, \"#46039f\"], [0.2222222222222222, \"#7201a8\"], [0.3333333333333333, \"#9c179e\"], [0.4444444444444444, \"#bd3786\"], [0.5555555555555556, \"#d8576b\"], [0.6666666666666666, \"#ed7953\"], [0.7777777777777778, \"#fb9f3a\"], [0.8888888888888888, \"#fdca26\"], [1.0, \"#f0f921\"]], \"sequentialminus\": [[0.0, \"#0d0887\"], [0.1111111111111111, \"#46039f\"], [0.2222222222222222, \"#7201a8\"], [0.3333333333333333, \"#9c179e\"], [0.4444444444444444, \"#bd3786\"], [0.5555555555555556, \"#d8576b\"], [0.6666666666666666, \"#ed7953\"], [0.7777777777777778, \"#fb9f3a\"], [0.8888888888888888, \"#fdca26\"], [1.0, \"#f0f921\"]]}, \"colorway\": [\"#636efa\", \"#EF553B\", \"#00cc96\", \"#ab63fa\", \"#FFA15A\", \"#19d3f3\", \"#FF6692\", \"#B6E880\", \"#FF97FF\", \"#FECB52\"], \"font\": {\"color\": \"#2a3f5f\"}, \"geo\": {\"bgcolor\": \"white\", \"lakecolor\": \"white\", \"landcolor\": \"#E5ECF6\", \"showlakes\": true, \"showland\": true, \"subunitcolor\": \"white\"}, \"hoverlabel\": {\"align\": \"left\"}, \"hovermode\": \"closest\", \"mapbox\": {\"style\": \"light\"}, \"paper_bgcolor\": \"white\", \"plot_bgcolor\": \"#E5ECF6\", \"polar\": {\"angularaxis\": {\"gridcolor\": \"white\", \"linecolor\": \"white\", \"ticks\": \"\"}, \"bgcolor\": \"#E5ECF6\", \"radialaxis\": {\"gridcolor\": \"white\", \"linecolor\": \"white\", \"ticks\": \"\"}}, \"scene\": {\"xaxis\": {\"backgroundcolor\": \"#E5ECF6\", \"gridcolor\": \"white\", \"gridwidth\": 2, \"linecolor\": \"white\", \"showbackground\": true, \"ticks\": \"\", \"zerolinecolor\": \"white\"}, \"yaxis\": {\"backgroundcolor\": \"#E5ECF6\", \"gridcolor\": \"white\", \"gridwidth\": 2, \"linecolor\": \"white\", \"showbackground\": true, \"ticks\": \"\", \"zerolinecolor\": \"white\"}, \"zaxis\": {\"backgroundcolor\": \"#E5ECF6\", \"gridcolor\": \"white\", \"gridwidth\": 2, \"linecolor\": \"white\", \"showbackground\": true, \"ticks\": \"\", \"zerolinecolor\": \"white\"}}, \"shapedefaults\": {\"line\": {\"color\": \"#2a3f5f\"}}, \"ternary\": {\"aaxis\": {\"gridcolor\": \"white\", \"linecolor\": \"white\", \"ticks\": \"\"}, \"baxis\": {\"gridcolor\": \"white\", \"linecolor\": \"white\", \"ticks\": \"\"}, \"bgcolor\": \"#E5ECF6\", \"caxis\": {\"gridcolor\": \"white\", \"linecolor\": \"white\", \"ticks\": \"\"}}, \"title\": {\"x\": 0.05}, \"xaxis\": {\"automargin\": true, \"gridcolor\": \"white\", \"linecolor\": \"white\", \"ticks\": \"\", \"title\": {\"standoff\": 15}, \"zerolinecolor\": \"white\", \"zerolinewidth\": 2}, \"yaxis\": {\"automargin\": true, \"gridcolor\": \"white\", \"linecolor\": \"white\", \"ticks\": \"\", \"title\": {\"standoff\": 15}, \"zerolinecolor\": \"white\", \"zerolinewidth\": 2}}}, \"title\": {\"font\": {\"color\": \"#4D5663\"}}, \"xaxis\": {\"gridcolor\": \"#E1E5ED\", \"showgrid\": true, \"tickfont\": {\"color\": \"#4D5663\"}, \"title\": {\"font\": {\"color\": \"#4D5663\"}, \"text\": \"\"}, \"zerolinecolor\": \"#E1E5ED\"}, \"yaxis\": {\"gridcolor\": \"#E1E5ED\", \"showgrid\": true, \"tickfont\": {\"color\": \"#4D5663\"}, \"title\": {\"font\": {\"color\": \"#4D5663\"}, \"text\": \"\"}, \"zerolinecolor\": \"#E1E5ED\"}},                        {\"showLink\": true, \"linkText\": \"Export to plotly.com\", \"plotlyServerURL\": \"https://plotly.com\", \"responsive\": true}                    ).then(function(){\n                            \nvar gd = document.getElementById('42fe870f-f650-4811-8900-bb977722064d');\nvar x = new MutationObserver(function (mutations, observer) {{\n        var display = window.getComputedStyle(gd).display;\n        if (!display || display === 'none') {{\n            console.log([gd, 'removed!']);\n            Plotly.purge(gd);\n            observer.disconnect();\n        }}\n}});\n\n// Listen for the removal of the full notebook cells\nvar notebookContainer = gd.closest('#notebook-container');\nif (notebookContainer) {{\n    x.observe(notebookContainer, {childList: true});\n}}\n\n// Listen for the clearing of the current output cell\nvar outputEl = gd.closest('.output');\nif (outputEl) {{\n    x.observe(outputEl, {childList: true});\n}}\n\n                        })                };                });            </script>        </div>"
     },
     "metadata": {}
    }
   ],
   "source": [
    "lista_operadores_up_20_sem_petrobras=lista_operadores_up_20.drop('Petrobras')\n",
    "fig=lista_operadores_up_20_sem_petrobras.iplot(kind='bar')"
   ]
  },
  {
   "source": [
    "## Como esta distribuido a quantidade de poços ?"
   ],
   "cell_type": "markdown",
   "metadata": {}
  },
  {
   "cell_type": "code",
   "execution_count": 114,
   "metadata": {},
   "outputs": [
    {
     "output_type": "execute_result",
     "data": {
      "text/plain": [
       "TERRA_MAR\n",
       "M     6649\n",
       "T    22926\n",
       "Name: POCO, dtype: int64"
      ]
     },
     "metadata": {},
     "execution_count": 114
    }
   ],
   "source": [
    "dist_pocos=Anp_dataset.groupby('TERRA_MAR')['POCO'].count()\n",
    "dist_pocos"
   ]
  },
  {
   "cell_type": "code",
   "execution_count": 115,
   "metadata": {},
   "outputs": [
    {
     "output_type": "display_data",
     "data": {
      "application/vnd.plotly.v1+json": {
       "config": {
        "linkText": "Export to plotly.com",
        "plotlyServerURL": "https://plotly.com",
        "showLink": false
       },
       "data": [
        {
         "direction": "clockwise",
         "hoverinfo": "label+percent+value",
         "labels": [
          "M",
          "T"
         ],
         "marker": {
          "colors": [
           "#0000FF",
           "#D2691E"
          ],
          "line": {
           "color": "#000000",
           "width": 2
          }
         },
         "pull": [
          0,
          0.2
         ],
         "type": "pie",
         "values": [
          6649,
          22926
         ]
        }
       ],
       "layout": {
        "template": {
         "data": {
          "bar": [
           {
            "error_x": {
             "color": "#2a3f5f"
            },
            "error_y": {
             "color": "#2a3f5f"
            },
            "marker": {
             "line": {
              "color": "#E5ECF6",
              "width": 0.5
             }
            },
            "type": "bar"
           }
          ],
          "barpolar": [
           {
            "marker": {
             "line": {
              "color": "#E5ECF6",
              "width": 0.5
             }
            },
            "type": "barpolar"
           }
          ],
          "carpet": [
           {
            "aaxis": {
             "endlinecolor": "#2a3f5f",
             "gridcolor": "white",
             "linecolor": "white",
             "minorgridcolor": "white",
             "startlinecolor": "#2a3f5f"
            },
            "baxis": {
             "endlinecolor": "#2a3f5f",
             "gridcolor": "white",
             "linecolor": "white",
             "minorgridcolor": "white",
             "startlinecolor": "#2a3f5f"
            },
            "type": "carpet"
           }
          ],
          "choropleth": [
           {
            "colorbar": {
             "outlinewidth": 0,
             "ticks": ""
            },
            "type": "choropleth"
           }
          ],
          "contour": [
           {
            "colorbar": {
             "outlinewidth": 0,
             "ticks": ""
            },
            "colorscale": [
             [
              0,
              "#0d0887"
             ],
             [
              0.1111111111111111,
              "#46039f"
             ],
             [
              0.2222222222222222,
              "#7201a8"
             ],
             [
              0.3333333333333333,
              "#9c179e"
             ],
             [
              0.4444444444444444,
              "#bd3786"
             ],
             [
              0.5555555555555556,
              "#d8576b"
             ],
             [
              0.6666666666666666,
              "#ed7953"
             ],
             [
              0.7777777777777778,
              "#fb9f3a"
             ],
             [
              0.8888888888888888,
              "#fdca26"
             ],
             [
              1,
              "#f0f921"
             ]
            ],
            "type": "contour"
           }
          ],
          "contourcarpet": [
           {
            "colorbar": {
             "outlinewidth": 0,
             "ticks": ""
            },
            "type": "contourcarpet"
           }
          ],
          "heatmap": [
           {
            "colorbar": {
             "outlinewidth": 0,
             "ticks": ""
            },
            "colorscale": [
             [
              0,
              "#0d0887"
             ],
             [
              0.1111111111111111,
              "#46039f"
             ],
             [
              0.2222222222222222,
              "#7201a8"
             ],
             [
              0.3333333333333333,
              "#9c179e"
             ],
             [
              0.4444444444444444,
              "#bd3786"
             ],
             [
              0.5555555555555556,
              "#d8576b"
             ],
             [
              0.6666666666666666,
              "#ed7953"
             ],
             [
              0.7777777777777778,
              "#fb9f3a"
             ],
             [
              0.8888888888888888,
              "#fdca26"
             ],
             [
              1,
              "#f0f921"
             ]
            ],
            "type": "heatmap"
           }
          ],
          "heatmapgl": [
           {
            "colorbar": {
             "outlinewidth": 0,
             "ticks": ""
            },
            "colorscale": [
             [
              0,
              "#0d0887"
             ],
             [
              0.1111111111111111,
              "#46039f"
             ],
             [
              0.2222222222222222,
              "#7201a8"
             ],
             [
              0.3333333333333333,
              "#9c179e"
             ],
             [
              0.4444444444444444,
              "#bd3786"
             ],
             [
              0.5555555555555556,
              "#d8576b"
             ],
             [
              0.6666666666666666,
              "#ed7953"
             ],
             [
              0.7777777777777778,
              "#fb9f3a"
             ],
             [
              0.8888888888888888,
              "#fdca26"
             ],
             [
              1,
              "#f0f921"
             ]
            ],
            "type": "heatmapgl"
           }
          ],
          "histogram": [
           {
            "marker": {
             "colorbar": {
              "outlinewidth": 0,
              "ticks": ""
             }
            },
            "type": "histogram"
           }
          ],
          "histogram2d": [
           {
            "colorbar": {
             "outlinewidth": 0,
             "ticks": ""
            },
            "colorscale": [
             [
              0,
              "#0d0887"
             ],
             [
              0.1111111111111111,
              "#46039f"
             ],
             [
              0.2222222222222222,
              "#7201a8"
             ],
             [
              0.3333333333333333,
              "#9c179e"
             ],
             [
              0.4444444444444444,
              "#bd3786"
             ],
             [
              0.5555555555555556,
              "#d8576b"
             ],
             [
              0.6666666666666666,
              "#ed7953"
             ],
             [
              0.7777777777777778,
              "#fb9f3a"
             ],
             [
              0.8888888888888888,
              "#fdca26"
             ],
             [
              1,
              "#f0f921"
             ]
            ],
            "type": "histogram2d"
           }
          ],
          "histogram2dcontour": [
           {
            "colorbar": {
             "outlinewidth": 0,
             "ticks": ""
            },
            "colorscale": [
             [
              0,
              "#0d0887"
             ],
             [
              0.1111111111111111,
              "#46039f"
             ],
             [
              0.2222222222222222,
              "#7201a8"
             ],
             [
              0.3333333333333333,
              "#9c179e"
             ],
             [
              0.4444444444444444,
              "#bd3786"
             ],
             [
              0.5555555555555556,
              "#d8576b"
             ],
             [
              0.6666666666666666,
              "#ed7953"
             ],
             [
              0.7777777777777778,
              "#fb9f3a"
             ],
             [
              0.8888888888888888,
              "#fdca26"
             ],
             [
              1,
              "#f0f921"
             ]
            ],
            "type": "histogram2dcontour"
           }
          ],
          "mesh3d": [
           {
            "colorbar": {
             "outlinewidth": 0,
             "ticks": ""
            },
            "type": "mesh3d"
           }
          ],
          "parcoords": [
           {
            "line": {
             "colorbar": {
              "outlinewidth": 0,
              "ticks": ""
             }
            },
            "type": "parcoords"
           }
          ],
          "pie": [
           {
            "automargin": true,
            "type": "pie"
           }
          ],
          "scatter": [
           {
            "marker": {
             "colorbar": {
              "outlinewidth": 0,
              "ticks": ""
             }
            },
            "type": "scatter"
           }
          ],
          "scatter3d": [
           {
            "line": {
             "colorbar": {
              "outlinewidth": 0,
              "ticks": ""
             }
            },
            "marker": {
             "colorbar": {
              "outlinewidth": 0,
              "ticks": ""
             }
            },
            "type": "scatter3d"
           }
          ],
          "scattercarpet": [
           {
            "marker": {
             "colorbar": {
              "outlinewidth": 0,
              "ticks": ""
             }
            },
            "type": "scattercarpet"
           }
          ],
          "scattergeo": [
           {
            "marker": {
             "colorbar": {
              "outlinewidth": 0,
              "ticks": ""
             }
            },
            "type": "scattergeo"
           }
          ],
          "scattergl": [
           {
            "marker": {
             "colorbar": {
              "outlinewidth": 0,
              "ticks": ""
             }
            },
            "type": "scattergl"
           }
          ],
          "scattermapbox": [
           {
            "marker": {
             "colorbar": {
              "outlinewidth": 0,
              "ticks": ""
             }
            },
            "type": "scattermapbox"
           }
          ],
          "scatterpolar": [
           {
            "marker": {
             "colorbar": {
              "outlinewidth": 0,
              "ticks": ""
             }
            },
            "type": "scatterpolar"
           }
          ],
          "scatterpolargl": [
           {
            "marker": {
             "colorbar": {
              "outlinewidth": 0,
              "ticks": ""
             }
            },
            "type": "scatterpolargl"
           }
          ],
          "scatterternary": [
           {
            "marker": {
             "colorbar": {
              "outlinewidth": 0,
              "ticks": ""
             }
            },
            "type": "scatterternary"
           }
          ],
          "surface": [
           {
            "colorbar": {
             "outlinewidth": 0,
             "ticks": ""
            },
            "colorscale": [
             [
              0,
              "#0d0887"
             ],
             [
              0.1111111111111111,
              "#46039f"
             ],
             [
              0.2222222222222222,
              "#7201a8"
             ],
             [
              0.3333333333333333,
              "#9c179e"
             ],
             [
              0.4444444444444444,
              "#bd3786"
             ],
             [
              0.5555555555555556,
              "#d8576b"
             ],
             [
              0.6666666666666666,
              "#ed7953"
             ],
             [
              0.7777777777777778,
              "#fb9f3a"
             ],
             [
              0.8888888888888888,
              "#fdca26"
             ],
             [
              1,
              "#f0f921"
             ]
            ],
            "type": "surface"
           }
          ],
          "table": [
           {
            "cells": {
             "fill": {
              "color": "#EBF0F8"
             },
             "line": {
              "color": "white"
             }
            },
            "header": {
             "fill": {
              "color": "#C8D4E3"
             },
             "line": {
              "color": "white"
             }
            },
            "type": "table"
           }
          ]
         },
         "layout": {
          "annotationdefaults": {
           "arrowcolor": "#2a3f5f",
           "arrowhead": 0,
           "arrowwidth": 1
          },
          "autotypenumbers": "strict",
          "coloraxis": {
           "colorbar": {
            "outlinewidth": 0,
            "ticks": ""
           }
          },
          "colorscale": {
           "diverging": [
            [
             0,
             "#8e0152"
            ],
            [
             0.1,
             "#c51b7d"
            ],
            [
             0.2,
             "#de77ae"
            ],
            [
             0.3,
             "#f1b6da"
            ],
            [
             0.4,
             "#fde0ef"
            ],
            [
             0.5,
             "#f7f7f7"
            ],
            [
             0.6,
             "#e6f5d0"
            ],
            [
             0.7,
             "#b8e186"
            ],
            [
             0.8,
             "#7fbc41"
            ],
            [
             0.9,
             "#4d9221"
            ],
            [
             1,
             "#276419"
            ]
           ],
           "sequential": [
            [
             0,
             "#0d0887"
            ],
            [
             0.1111111111111111,
             "#46039f"
            ],
            [
             0.2222222222222222,
             "#7201a8"
            ],
            [
             0.3333333333333333,
             "#9c179e"
            ],
            [
             0.4444444444444444,
             "#bd3786"
            ],
            [
             0.5555555555555556,
             "#d8576b"
            ],
            [
             0.6666666666666666,
             "#ed7953"
            ],
            [
             0.7777777777777778,
             "#fb9f3a"
            ],
            [
             0.8888888888888888,
             "#fdca26"
            ],
            [
             1,
             "#f0f921"
            ]
           ],
           "sequentialminus": [
            [
             0,
             "#0d0887"
            ],
            [
             0.1111111111111111,
             "#46039f"
            ],
            [
             0.2222222222222222,
             "#7201a8"
            ],
            [
             0.3333333333333333,
             "#9c179e"
            ],
            [
             0.4444444444444444,
             "#bd3786"
            ],
            [
             0.5555555555555556,
             "#d8576b"
            ],
            [
             0.6666666666666666,
             "#ed7953"
            ],
            [
             0.7777777777777778,
             "#fb9f3a"
            ],
            [
             0.8888888888888888,
             "#fdca26"
            ],
            [
             1,
             "#f0f921"
            ]
           ]
          },
          "colorway": [
           "#636efa",
           "#EF553B",
           "#00cc96",
           "#ab63fa",
           "#FFA15A",
           "#19d3f3",
           "#FF6692",
           "#B6E880",
           "#FF97FF",
           "#FECB52"
          ],
          "font": {
           "color": "#2a3f5f"
          },
          "geo": {
           "bgcolor": "white",
           "lakecolor": "white",
           "landcolor": "#E5ECF6",
           "showlakes": true,
           "showland": true,
           "subunitcolor": "white"
          },
          "hoverlabel": {
           "align": "left"
          },
          "hovermode": "closest",
          "mapbox": {
           "style": "light"
          },
          "paper_bgcolor": "white",
          "plot_bgcolor": "#E5ECF6",
          "polar": {
           "angularaxis": {
            "gridcolor": "white",
            "linecolor": "white",
            "ticks": ""
           },
           "bgcolor": "#E5ECF6",
           "radialaxis": {
            "gridcolor": "white",
            "linecolor": "white",
            "ticks": ""
           }
          },
          "scene": {
           "xaxis": {
            "backgroundcolor": "#E5ECF6",
            "gridcolor": "white",
            "gridwidth": 2,
            "linecolor": "white",
            "showbackground": true,
            "ticks": "",
            "zerolinecolor": "white"
           },
           "yaxis": {
            "backgroundcolor": "#E5ECF6",
            "gridcolor": "white",
            "gridwidth": 2,
            "linecolor": "white",
            "showbackground": true,
            "ticks": "",
            "zerolinecolor": "white"
           },
           "zaxis": {
            "backgroundcolor": "#E5ECF6",
            "gridcolor": "white",
            "gridwidth": 2,
            "linecolor": "white",
            "showbackground": true,
            "ticks": "",
            "zerolinecolor": "white"
           }
          },
          "shapedefaults": {
           "line": {
            "color": "#2a3f5f"
           }
          },
          "ternary": {
           "aaxis": {
            "gridcolor": "white",
            "linecolor": "white",
            "ticks": ""
           },
           "baxis": {
            "gridcolor": "white",
            "linecolor": "white",
            "ticks": ""
           },
           "bgcolor": "#E5ECF6",
           "caxis": {
            "gridcolor": "white",
            "linecolor": "white",
            "ticks": ""
           }
          },
          "title": {
           "x": 0.05
          },
          "xaxis": {
           "automargin": true,
           "gridcolor": "white",
           "linecolor": "white",
           "ticks": "",
           "title": {
            "standoff": 15
           },
           "zerolinecolor": "white",
           "zerolinewidth": 2
          },
          "yaxis": {
           "automargin": true,
           "gridcolor": "white",
           "linecolor": "white",
           "ticks": "",
           "title": {
            "standoff": 15
           },
           "zerolinecolor": "white",
           "zerolinewidth": 2
          }
         }
        },
        "title": {
         "text": "Classificação dos Tipos de Poços( Terra (T) e Mar (M) )"
        }
       }
      },
      "text/html": "<div>                            <div id=\"00a6ae93-33b9-420f-aec5-789ed010a383\" class=\"plotly-graph-div\" style=\"height:525px; width:100%;\"></div>            <script type=\"text/javascript\">                require([\"plotly\"], function(Plotly) {                    window.PLOTLYENV=window.PLOTLYENV || {};                                    if (document.getElementById(\"00a6ae93-33b9-420f-aec5-789ed010a383\")) {                    Plotly.newPlot(                        \"00a6ae93-33b9-420f-aec5-789ed010a383\",                        [{\"direction\": \"clockwise\", \"hoverinfo\": \"label+percent+value\", \"labels\": [\"M\", \"T\"], \"marker\": {\"colors\": [\"#0000FF\", \"#D2691E\"], \"line\": {\"color\": \"#000000\", \"width\": 2}}, \"pull\": [0, 0.2], \"type\": \"pie\", \"values\": [6649, 22926]}],                        {\"template\": {\"data\": {\"bar\": [{\"error_x\": {\"color\": \"#2a3f5f\"}, \"error_y\": {\"color\": \"#2a3f5f\"}, \"marker\": {\"line\": {\"color\": \"#E5ECF6\", \"width\": 0.5}}, \"type\": \"bar\"}], \"barpolar\": [{\"marker\": {\"line\": {\"color\": \"#E5ECF6\", \"width\": 0.5}}, \"type\": \"barpolar\"}], \"carpet\": [{\"aaxis\": {\"endlinecolor\": \"#2a3f5f\", \"gridcolor\": \"white\", \"linecolor\": \"white\", \"minorgridcolor\": \"white\", \"startlinecolor\": \"#2a3f5f\"}, \"baxis\": {\"endlinecolor\": \"#2a3f5f\", \"gridcolor\": \"white\", \"linecolor\": \"white\", \"minorgridcolor\": \"white\", \"startlinecolor\": \"#2a3f5f\"}, \"type\": \"carpet\"}], \"choropleth\": [{\"colorbar\": {\"outlinewidth\": 0, \"ticks\": \"\"}, \"type\": \"choropleth\"}], \"contour\": [{\"colorbar\": {\"outlinewidth\": 0, \"ticks\": \"\"}, \"colorscale\": [[0.0, \"#0d0887\"], [0.1111111111111111, \"#46039f\"], [0.2222222222222222, \"#7201a8\"], [0.3333333333333333, \"#9c179e\"], [0.4444444444444444, \"#bd3786\"], [0.5555555555555556, \"#d8576b\"], [0.6666666666666666, \"#ed7953\"], [0.7777777777777778, \"#fb9f3a\"], [0.8888888888888888, \"#fdca26\"], [1.0, \"#f0f921\"]], \"type\": \"contour\"}], \"contourcarpet\": [{\"colorbar\": {\"outlinewidth\": 0, \"ticks\": \"\"}, \"type\": \"contourcarpet\"}], \"heatmap\": [{\"colorbar\": {\"outlinewidth\": 0, \"ticks\": \"\"}, \"colorscale\": [[0.0, \"#0d0887\"], [0.1111111111111111, \"#46039f\"], [0.2222222222222222, \"#7201a8\"], [0.3333333333333333, \"#9c179e\"], [0.4444444444444444, \"#bd3786\"], [0.5555555555555556, \"#d8576b\"], [0.6666666666666666, \"#ed7953\"], [0.7777777777777778, \"#fb9f3a\"], [0.8888888888888888, \"#fdca26\"], [1.0, \"#f0f921\"]], \"type\": \"heatmap\"}], \"heatmapgl\": [{\"colorbar\": {\"outlinewidth\": 0, \"ticks\": \"\"}, \"colorscale\": [[0.0, \"#0d0887\"], [0.1111111111111111, \"#46039f\"], [0.2222222222222222, \"#7201a8\"], [0.3333333333333333, \"#9c179e\"], [0.4444444444444444, \"#bd3786\"], [0.5555555555555556, \"#d8576b\"], [0.6666666666666666, \"#ed7953\"], [0.7777777777777778, \"#fb9f3a\"], [0.8888888888888888, \"#fdca26\"], [1.0, \"#f0f921\"]], \"type\": \"heatmapgl\"}], \"histogram\": [{\"marker\": {\"colorbar\": {\"outlinewidth\": 0, \"ticks\": \"\"}}, \"type\": \"histogram\"}], \"histogram2d\": [{\"colorbar\": {\"outlinewidth\": 0, \"ticks\": \"\"}, \"colorscale\": [[0.0, \"#0d0887\"], [0.1111111111111111, \"#46039f\"], [0.2222222222222222, \"#7201a8\"], [0.3333333333333333, \"#9c179e\"], [0.4444444444444444, \"#bd3786\"], [0.5555555555555556, \"#d8576b\"], [0.6666666666666666, \"#ed7953\"], [0.7777777777777778, \"#fb9f3a\"], [0.8888888888888888, \"#fdca26\"], [1.0, \"#f0f921\"]], \"type\": \"histogram2d\"}], \"histogram2dcontour\": [{\"colorbar\": {\"outlinewidth\": 0, \"ticks\": \"\"}, \"colorscale\": [[0.0, \"#0d0887\"], [0.1111111111111111, \"#46039f\"], [0.2222222222222222, \"#7201a8\"], [0.3333333333333333, \"#9c179e\"], [0.4444444444444444, \"#bd3786\"], [0.5555555555555556, \"#d8576b\"], [0.6666666666666666, \"#ed7953\"], [0.7777777777777778, \"#fb9f3a\"], [0.8888888888888888, \"#fdca26\"], [1.0, \"#f0f921\"]], \"type\": \"histogram2dcontour\"}], \"mesh3d\": [{\"colorbar\": {\"outlinewidth\": 0, \"ticks\": \"\"}, \"type\": \"mesh3d\"}], \"parcoords\": [{\"line\": {\"colorbar\": {\"outlinewidth\": 0, \"ticks\": \"\"}}, \"type\": \"parcoords\"}], \"pie\": [{\"automargin\": true, \"type\": \"pie\"}], \"scatter\": [{\"marker\": {\"colorbar\": {\"outlinewidth\": 0, \"ticks\": \"\"}}, \"type\": \"scatter\"}], \"scatter3d\": [{\"line\": {\"colorbar\": {\"outlinewidth\": 0, \"ticks\": \"\"}}, \"marker\": {\"colorbar\": {\"outlinewidth\": 0, \"ticks\": \"\"}}, \"type\": \"scatter3d\"}], \"scattercarpet\": [{\"marker\": {\"colorbar\": {\"outlinewidth\": 0, \"ticks\": \"\"}}, \"type\": \"scattercarpet\"}], \"scattergeo\": [{\"marker\": {\"colorbar\": {\"outlinewidth\": 0, \"ticks\": \"\"}}, \"type\": \"scattergeo\"}], \"scattergl\": [{\"marker\": {\"colorbar\": {\"outlinewidth\": 0, \"ticks\": \"\"}}, \"type\": \"scattergl\"}], \"scattermapbox\": [{\"marker\": {\"colorbar\": {\"outlinewidth\": 0, \"ticks\": \"\"}}, \"type\": \"scattermapbox\"}], \"scatterpolar\": [{\"marker\": {\"colorbar\": {\"outlinewidth\": 0, \"ticks\": \"\"}}, \"type\": \"scatterpolar\"}], \"scatterpolargl\": [{\"marker\": {\"colorbar\": {\"outlinewidth\": 0, \"ticks\": \"\"}}, \"type\": \"scatterpolargl\"}], \"scatterternary\": [{\"marker\": {\"colorbar\": {\"outlinewidth\": 0, \"ticks\": \"\"}}, \"type\": \"scatterternary\"}], \"surface\": [{\"colorbar\": {\"outlinewidth\": 0, \"ticks\": \"\"}, \"colorscale\": [[0.0, \"#0d0887\"], [0.1111111111111111, \"#46039f\"], [0.2222222222222222, \"#7201a8\"], [0.3333333333333333, \"#9c179e\"], [0.4444444444444444, \"#bd3786\"], [0.5555555555555556, \"#d8576b\"], [0.6666666666666666, \"#ed7953\"], [0.7777777777777778, \"#fb9f3a\"], [0.8888888888888888, \"#fdca26\"], [1.0, \"#f0f921\"]], \"type\": \"surface\"}], \"table\": [{\"cells\": {\"fill\": {\"color\": \"#EBF0F8\"}, \"line\": {\"color\": \"white\"}}, \"header\": {\"fill\": {\"color\": \"#C8D4E3\"}, \"line\": {\"color\": \"white\"}}, \"type\": \"table\"}]}, \"layout\": {\"annotationdefaults\": {\"arrowcolor\": \"#2a3f5f\", \"arrowhead\": 0, \"arrowwidth\": 1}, \"autotypenumbers\": \"strict\", \"coloraxis\": {\"colorbar\": {\"outlinewidth\": 0, \"ticks\": \"\"}}, \"colorscale\": {\"diverging\": [[0, \"#8e0152\"], [0.1, \"#c51b7d\"], [0.2, \"#de77ae\"], [0.3, \"#f1b6da\"], [0.4, \"#fde0ef\"], [0.5, \"#f7f7f7\"], [0.6, \"#e6f5d0\"], [0.7, \"#b8e186\"], [0.8, \"#7fbc41\"], [0.9, \"#4d9221\"], [1, \"#276419\"]], \"sequential\": [[0.0, \"#0d0887\"], [0.1111111111111111, \"#46039f\"], [0.2222222222222222, \"#7201a8\"], [0.3333333333333333, \"#9c179e\"], [0.4444444444444444, \"#bd3786\"], [0.5555555555555556, \"#d8576b\"], [0.6666666666666666, \"#ed7953\"], [0.7777777777777778, \"#fb9f3a\"], [0.8888888888888888, \"#fdca26\"], [1.0, \"#f0f921\"]], \"sequentialminus\": [[0.0, \"#0d0887\"], [0.1111111111111111, \"#46039f\"], [0.2222222222222222, \"#7201a8\"], [0.3333333333333333, \"#9c179e\"], [0.4444444444444444, \"#bd3786\"], [0.5555555555555556, \"#d8576b\"], [0.6666666666666666, \"#ed7953\"], [0.7777777777777778, \"#fb9f3a\"], [0.8888888888888888, \"#fdca26\"], [1.0, \"#f0f921\"]]}, \"colorway\": [\"#636efa\", \"#EF553B\", \"#00cc96\", \"#ab63fa\", \"#FFA15A\", \"#19d3f3\", \"#FF6692\", \"#B6E880\", \"#FF97FF\", \"#FECB52\"], \"font\": {\"color\": \"#2a3f5f\"}, \"geo\": {\"bgcolor\": \"white\", \"lakecolor\": \"white\", \"landcolor\": \"#E5ECF6\", \"showlakes\": true, \"showland\": true, \"subunitcolor\": \"white\"}, \"hoverlabel\": {\"align\": \"left\"}, \"hovermode\": \"closest\", \"mapbox\": {\"style\": \"light\"}, \"paper_bgcolor\": \"white\", \"plot_bgcolor\": \"#E5ECF6\", \"polar\": {\"angularaxis\": {\"gridcolor\": \"white\", \"linecolor\": \"white\", \"ticks\": \"\"}, \"bgcolor\": \"#E5ECF6\", \"radialaxis\": {\"gridcolor\": \"white\", \"linecolor\": \"white\", \"ticks\": \"\"}}, \"scene\": {\"xaxis\": {\"backgroundcolor\": \"#E5ECF6\", \"gridcolor\": \"white\", \"gridwidth\": 2, \"linecolor\": \"white\", \"showbackground\": true, \"ticks\": \"\", \"zerolinecolor\": \"white\"}, \"yaxis\": {\"backgroundcolor\": \"#E5ECF6\", \"gridcolor\": \"white\", \"gridwidth\": 2, \"linecolor\": \"white\", \"showbackground\": true, \"ticks\": \"\", \"zerolinecolor\": \"white\"}, \"zaxis\": {\"backgroundcolor\": \"#E5ECF6\", \"gridcolor\": \"white\", \"gridwidth\": 2, \"linecolor\": \"white\", \"showbackground\": true, \"ticks\": \"\", \"zerolinecolor\": \"white\"}}, \"shapedefaults\": {\"line\": {\"color\": \"#2a3f5f\"}}, \"ternary\": {\"aaxis\": {\"gridcolor\": \"white\", \"linecolor\": \"white\", \"ticks\": \"\"}, \"baxis\": {\"gridcolor\": \"white\", \"linecolor\": \"white\", \"ticks\": \"\"}, \"bgcolor\": \"#E5ECF6\", \"caxis\": {\"gridcolor\": \"white\", \"linecolor\": \"white\", \"ticks\": \"\"}}, \"title\": {\"x\": 0.05}, \"xaxis\": {\"automargin\": true, \"gridcolor\": \"white\", \"linecolor\": \"white\", \"ticks\": \"\", \"title\": {\"standoff\": 15}, \"zerolinecolor\": \"white\", \"zerolinewidth\": 2}, \"yaxis\": {\"automargin\": true, \"gridcolor\": \"white\", \"linecolor\": \"white\", \"ticks\": \"\", \"title\": {\"standoff\": 15}, \"zerolinecolor\": \"white\", \"zerolinewidth\": 2}}}, \"title\": {\"text\": \"Classifica\\u00e7\\u00e3o dos Tipos de Po\\u00e7os( Terra (T) e Mar (M) )\"}},                        {\"responsive\": true}                    ).then(function(){\n                            \nvar gd = document.getElementById('00a6ae93-33b9-420f-aec5-789ed010a383');\nvar x = new MutationObserver(function (mutations, observer) {{\n        var display = window.getComputedStyle(gd).display;\n        if (!display || display === 'none') {{\n            console.log([gd, 'removed!']);\n            Plotly.purge(gd);\n            observer.disconnect();\n        }}\n}});\n\n// Listen for the removal of the full notebook cells\nvar notebookContainer = gd.closest('#notebook-container');\nif (notebookContainer) {{\n    x.observe(notebookContainer, {childList: true});\n}}\n\n// Listen for the clearing of the current output cell\nvar outputEl = gd.closest('.output');\nif (outputEl) {{\n    x.observe(outputEl, {childList: true});\n}}\n\n                        })                };                });            </script>        </div>"
     },
     "metadata": {}
    }
   ],
   "source": [
    "cores = ['#0000FF','#D2691E']\n",
    "\n",
    "trace = go.Pie(labels = dist_pocos.index,\n",
    "               values = dist_pocos.values,\n",
    "               marker = {'colors': cores, \n",
    "                         'line' : {'color':'#000000','width':2}\n",
    "                        },\n",
    "               hoverinfo='label+percent+value',\n",
    "               pull=[0,0.2], #esse paramêtro diz quanto quero destacar desse parâmetro\n",
    "               direction='clockwise'\n",
    "              )\n",
    "\n",
    "# Armazenando gráfico em uma lista\n",
    "\n",
    "data = [trace]\n",
    "\n",
    "# Criando Layout\n",
    "\n",
    "layout = go.Layout(title='Classificação dos Tipos de Poços( Terra (T) e Mar (M) )')\n",
    "\n",
    "# Criando figura que será exibida\n",
    "fig = go.Figure(data=data, layout=layout)\n",
    "\n",
    "py.iplot(fig)"
   ]
  },
  {
   "source": [
    "## Quantas Bacias existem em cada estado?"
   ],
   "cell_type": "markdown",
   "metadata": {}
  },
  {
   "cell_type": "code",
   "execution_count": 116,
   "metadata": {},
   "outputs": [
    {
     "output_type": "execute_result",
     "data": {
      "text/plain": [
       "ESTADO\n",
       "BA    13\n",
       "PA     6\n",
       "MA     4\n",
       "MT     3\n",
       "SC     3\n",
       "AM     3\n",
       "AP     3\n",
       "CE     3\n",
       "ES     3\n",
       "PE     3\n",
       "MS     2\n",
       "AL     2\n",
       "GO     2\n",
       "SP     2\n",
       "PI     2\n",
       "PR     2\n",
       "RJ     2\n",
       "RS     2\n",
       "MG     1\n",
       "SE     1\n",
       "PB     1\n",
       "RN     1\n",
       "RR     1\n",
       "AC     1\n",
       "Name: BACIA, dtype: int64"
      ]
     },
     "metadata": {},
     "execution_count": 116
    }
   ],
   "source": [
    "Estados_Bacia_unique = Anp_dataset[['ESTADO', 'BACIA']].groupby('ESTADO')['BACIA'].nunique()\n",
    "Estados_Bacia_unique.sort_values(ascending=False)"
   ]
  },
  {
   "cell_type": "code",
   "execution_count": 117,
   "metadata": {},
   "outputs": [
    {
     "output_type": "display_data",
     "data": {
      "application/vnd.plotly.v1+json": {
       "config": {
        "linkText": "Export to plotly.com",
        "plotlyServerURL": "https://plotly.com",
        "showLink": false
       },
       "data": [
        {
         "marker": {
          "color": "lightblue",
          "line": {
           "color": "#333",
           "width": 2
          }
         },
         "orientation": "v",
         "type": "bar",
         "x": [
          "AC",
          "AL",
          "AM",
          "AP",
          "BA",
          "CE",
          "ES",
          "GO",
          "MA",
          "MG",
          "MS",
          "MT",
          "PA",
          "PB",
          "PE",
          "PI",
          "PR",
          "RJ",
          "RN",
          "RR",
          "RS",
          "SC",
          "SE",
          "SP"
         ],
         "y": [
          1,
          2,
          3,
          3,
          13,
          3,
          3,
          2,
          4,
          1,
          2,
          3,
          6,
          1,
          3,
          2,
          2,
          2,
          1,
          1,
          2,
          3,
          1,
          2
         ]
        }
       ],
       "layout": {
        "template": {
         "data": {
          "bar": [
           {
            "error_x": {
             "color": "#2a3f5f"
            },
            "error_y": {
             "color": "#2a3f5f"
            },
            "marker": {
             "line": {
              "color": "#E5ECF6",
              "width": 0.5
             }
            },
            "type": "bar"
           }
          ],
          "barpolar": [
           {
            "marker": {
             "line": {
              "color": "#E5ECF6",
              "width": 0.5
             }
            },
            "type": "barpolar"
           }
          ],
          "carpet": [
           {
            "aaxis": {
             "endlinecolor": "#2a3f5f",
             "gridcolor": "white",
             "linecolor": "white",
             "minorgridcolor": "white",
             "startlinecolor": "#2a3f5f"
            },
            "baxis": {
             "endlinecolor": "#2a3f5f",
             "gridcolor": "white",
             "linecolor": "white",
             "minorgridcolor": "white",
             "startlinecolor": "#2a3f5f"
            },
            "type": "carpet"
           }
          ],
          "choropleth": [
           {
            "colorbar": {
             "outlinewidth": 0,
             "ticks": ""
            },
            "type": "choropleth"
           }
          ],
          "contour": [
           {
            "colorbar": {
             "outlinewidth": 0,
             "ticks": ""
            },
            "colorscale": [
             [
              0,
              "#0d0887"
             ],
             [
              0.1111111111111111,
              "#46039f"
             ],
             [
              0.2222222222222222,
              "#7201a8"
             ],
             [
              0.3333333333333333,
              "#9c179e"
             ],
             [
              0.4444444444444444,
              "#bd3786"
             ],
             [
              0.5555555555555556,
              "#d8576b"
             ],
             [
              0.6666666666666666,
              "#ed7953"
             ],
             [
              0.7777777777777778,
              "#fb9f3a"
             ],
             [
              0.8888888888888888,
              "#fdca26"
             ],
             [
              1,
              "#f0f921"
             ]
            ],
            "type": "contour"
           }
          ],
          "contourcarpet": [
           {
            "colorbar": {
             "outlinewidth": 0,
             "ticks": ""
            },
            "type": "contourcarpet"
           }
          ],
          "heatmap": [
           {
            "colorbar": {
             "outlinewidth": 0,
             "ticks": ""
            },
            "colorscale": [
             [
              0,
              "#0d0887"
             ],
             [
              0.1111111111111111,
              "#46039f"
             ],
             [
              0.2222222222222222,
              "#7201a8"
             ],
             [
              0.3333333333333333,
              "#9c179e"
             ],
             [
              0.4444444444444444,
              "#bd3786"
             ],
             [
              0.5555555555555556,
              "#d8576b"
             ],
             [
              0.6666666666666666,
              "#ed7953"
             ],
             [
              0.7777777777777778,
              "#fb9f3a"
             ],
             [
              0.8888888888888888,
              "#fdca26"
             ],
             [
              1,
              "#f0f921"
             ]
            ],
            "type": "heatmap"
           }
          ],
          "heatmapgl": [
           {
            "colorbar": {
             "outlinewidth": 0,
             "ticks": ""
            },
            "colorscale": [
             [
              0,
              "#0d0887"
             ],
             [
              0.1111111111111111,
              "#46039f"
             ],
             [
              0.2222222222222222,
              "#7201a8"
             ],
             [
              0.3333333333333333,
              "#9c179e"
             ],
             [
              0.4444444444444444,
              "#bd3786"
             ],
             [
              0.5555555555555556,
              "#d8576b"
             ],
             [
              0.6666666666666666,
              "#ed7953"
             ],
             [
              0.7777777777777778,
              "#fb9f3a"
             ],
             [
              0.8888888888888888,
              "#fdca26"
             ],
             [
              1,
              "#f0f921"
             ]
            ],
            "type": "heatmapgl"
           }
          ],
          "histogram": [
           {
            "marker": {
             "colorbar": {
              "outlinewidth": 0,
              "ticks": ""
             }
            },
            "type": "histogram"
           }
          ],
          "histogram2d": [
           {
            "colorbar": {
             "outlinewidth": 0,
             "ticks": ""
            },
            "colorscale": [
             [
              0,
              "#0d0887"
             ],
             [
              0.1111111111111111,
              "#46039f"
             ],
             [
              0.2222222222222222,
              "#7201a8"
             ],
             [
              0.3333333333333333,
              "#9c179e"
             ],
             [
              0.4444444444444444,
              "#bd3786"
             ],
             [
              0.5555555555555556,
              "#d8576b"
             ],
             [
              0.6666666666666666,
              "#ed7953"
             ],
             [
              0.7777777777777778,
              "#fb9f3a"
             ],
             [
              0.8888888888888888,
              "#fdca26"
             ],
             [
              1,
              "#f0f921"
             ]
            ],
            "type": "histogram2d"
           }
          ],
          "histogram2dcontour": [
           {
            "colorbar": {
             "outlinewidth": 0,
             "ticks": ""
            },
            "colorscale": [
             [
              0,
              "#0d0887"
             ],
             [
              0.1111111111111111,
              "#46039f"
             ],
             [
              0.2222222222222222,
              "#7201a8"
             ],
             [
              0.3333333333333333,
              "#9c179e"
             ],
             [
              0.4444444444444444,
              "#bd3786"
             ],
             [
              0.5555555555555556,
              "#d8576b"
             ],
             [
              0.6666666666666666,
              "#ed7953"
             ],
             [
              0.7777777777777778,
              "#fb9f3a"
             ],
             [
              0.8888888888888888,
              "#fdca26"
             ],
             [
              1,
              "#f0f921"
             ]
            ],
            "type": "histogram2dcontour"
           }
          ],
          "mesh3d": [
           {
            "colorbar": {
             "outlinewidth": 0,
             "ticks": ""
            },
            "type": "mesh3d"
           }
          ],
          "parcoords": [
           {
            "line": {
             "colorbar": {
              "outlinewidth": 0,
              "ticks": ""
             }
            },
            "type": "parcoords"
           }
          ],
          "pie": [
           {
            "automargin": true,
            "type": "pie"
           }
          ],
          "scatter": [
           {
            "marker": {
             "colorbar": {
              "outlinewidth": 0,
              "ticks": ""
             }
            },
            "type": "scatter"
           }
          ],
          "scatter3d": [
           {
            "line": {
             "colorbar": {
              "outlinewidth": 0,
              "ticks": ""
             }
            },
            "marker": {
             "colorbar": {
              "outlinewidth": 0,
              "ticks": ""
             }
            },
            "type": "scatter3d"
           }
          ],
          "scattercarpet": [
           {
            "marker": {
             "colorbar": {
              "outlinewidth": 0,
              "ticks": ""
             }
            },
            "type": "scattercarpet"
           }
          ],
          "scattergeo": [
           {
            "marker": {
             "colorbar": {
              "outlinewidth": 0,
              "ticks": ""
             }
            },
            "type": "scattergeo"
           }
          ],
          "scattergl": [
           {
            "marker": {
             "colorbar": {
              "outlinewidth": 0,
              "ticks": ""
             }
            },
            "type": "scattergl"
           }
          ],
          "scattermapbox": [
           {
            "marker": {
             "colorbar": {
              "outlinewidth": 0,
              "ticks": ""
             }
            },
            "type": "scattermapbox"
           }
          ],
          "scatterpolar": [
           {
            "marker": {
             "colorbar": {
              "outlinewidth": 0,
              "ticks": ""
             }
            },
            "type": "scatterpolar"
           }
          ],
          "scatterpolargl": [
           {
            "marker": {
             "colorbar": {
              "outlinewidth": 0,
              "ticks": ""
             }
            },
            "type": "scatterpolargl"
           }
          ],
          "scatterternary": [
           {
            "marker": {
             "colorbar": {
              "outlinewidth": 0,
              "ticks": ""
             }
            },
            "type": "scatterternary"
           }
          ],
          "surface": [
           {
            "colorbar": {
             "outlinewidth": 0,
             "ticks": ""
            },
            "colorscale": [
             [
              0,
              "#0d0887"
             ],
             [
              0.1111111111111111,
              "#46039f"
             ],
             [
              0.2222222222222222,
              "#7201a8"
             ],
             [
              0.3333333333333333,
              "#9c179e"
             ],
             [
              0.4444444444444444,
              "#bd3786"
             ],
             [
              0.5555555555555556,
              "#d8576b"
             ],
             [
              0.6666666666666666,
              "#ed7953"
             ],
             [
              0.7777777777777778,
              "#fb9f3a"
             ],
             [
              0.8888888888888888,
              "#fdca26"
             ],
             [
              1,
              "#f0f921"
             ]
            ],
            "type": "surface"
           }
          ],
          "table": [
           {
            "cells": {
             "fill": {
              "color": "#EBF0F8"
             },
             "line": {
              "color": "white"
             }
            },
            "header": {
             "fill": {
              "color": "#C8D4E3"
             },
             "line": {
              "color": "white"
             }
            },
            "type": "table"
           }
          ]
         },
         "layout": {
          "annotationdefaults": {
           "arrowcolor": "#2a3f5f",
           "arrowhead": 0,
           "arrowwidth": 1
          },
          "autotypenumbers": "strict",
          "coloraxis": {
           "colorbar": {
            "outlinewidth": 0,
            "ticks": ""
           }
          },
          "colorscale": {
           "diverging": [
            [
             0,
             "#8e0152"
            ],
            [
             0.1,
             "#c51b7d"
            ],
            [
             0.2,
             "#de77ae"
            ],
            [
             0.3,
             "#f1b6da"
            ],
            [
             0.4,
             "#fde0ef"
            ],
            [
             0.5,
             "#f7f7f7"
            ],
            [
             0.6,
             "#e6f5d0"
            ],
            [
             0.7,
             "#b8e186"
            ],
            [
             0.8,
             "#7fbc41"
            ],
            [
             0.9,
             "#4d9221"
            ],
            [
             1,
             "#276419"
            ]
           ],
           "sequential": [
            [
             0,
             "#0d0887"
            ],
            [
             0.1111111111111111,
             "#46039f"
            ],
            [
             0.2222222222222222,
             "#7201a8"
            ],
            [
             0.3333333333333333,
             "#9c179e"
            ],
            [
             0.4444444444444444,
             "#bd3786"
            ],
            [
             0.5555555555555556,
             "#d8576b"
            ],
            [
             0.6666666666666666,
             "#ed7953"
            ],
            [
             0.7777777777777778,
             "#fb9f3a"
            ],
            [
             0.8888888888888888,
             "#fdca26"
            ],
            [
             1,
             "#f0f921"
            ]
           ],
           "sequentialminus": [
            [
             0,
             "#0d0887"
            ],
            [
             0.1111111111111111,
             "#46039f"
            ],
            [
             0.2222222222222222,
             "#7201a8"
            ],
            [
             0.3333333333333333,
             "#9c179e"
            ],
            [
             0.4444444444444444,
             "#bd3786"
            ],
            [
             0.5555555555555556,
             "#d8576b"
            ],
            [
             0.6666666666666666,
             "#ed7953"
            ],
            [
             0.7777777777777778,
             "#fb9f3a"
            ],
            [
             0.8888888888888888,
             "#fdca26"
            ],
            [
             1,
             "#f0f921"
            ]
           ]
          },
          "colorway": [
           "#636efa",
           "#EF553B",
           "#00cc96",
           "#ab63fa",
           "#FFA15A",
           "#19d3f3",
           "#FF6692",
           "#B6E880",
           "#FF97FF",
           "#FECB52"
          ],
          "font": {
           "color": "#2a3f5f"
          },
          "geo": {
           "bgcolor": "white",
           "lakecolor": "white",
           "landcolor": "#E5ECF6",
           "showlakes": true,
           "showland": true,
           "subunitcolor": "white"
          },
          "hoverlabel": {
           "align": "left"
          },
          "hovermode": "closest",
          "mapbox": {
           "style": "light"
          },
          "paper_bgcolor": "white",
          "plot_bgcolor": "#E5ECF6",
          "polar": {
           "angularaxis": {
            "gridcolor": "white",
            "linecolor": "white",
            "ticks": ""
           },
           "bgcolor": "#E5ECF6",
           "radialaxis": {
            "gridcolor": "white",
            "linecolor": "white",
            "ticks": ""
           }
          },
          "scene": {
           "xaxis": {
            "backgroundcolor": "#E5ECF6",
            "gridcolor": "white",
            "gridwidth": 2,
            "linecolor": "white",
            "showbackground": true,
            "ticks": "",
            "zerolinecolor": "white"
           },
           "yaxis": {
            "backgroundcolor": "#E5ECF6",
            "gridcolor": "white",
            "gridwidth": 2,
            "linecolor": "white",
            "showbackground": true,
            "ticks": "",
            "zerolinecolor": "white"
           },
           "zaxis": {
            "backgroundcolor": "#E5ECF6",
            "gridcolor": "white",
            "gridwidth": 2,
            "linecolor": "white",
            "showbackground": true,
            "ticks": "",
            "zerolinecolor": "white"
           }
          },
          "shapedefaults": {
           "line": {
            "color": "#2a3f5f"
           }
          },
          "ternary": {
           "aaxis": {
            "gridcolor": "white",
            "linecolor": "white",
            "ticks": ""
           },
           "baxis": {
            "gridcolor": "white",
            "linecolor": "white",
            "ticks": ""
           },
           "bgcolor": "#E5ECF6",
           "caxis": {
            "gridcolor": "white",
            "linecolor": "white",
            "ticks": ""
           }
          },
          "title": {
           "x": 0.05
          },
          "xaxis": {
           "automargin": true,
           "gridcolor": "white",
           "linecolor": "white",
           "ticks": "",
           "title": {
            "standoff": 15
           },
           "zerolinecolor": "white",
           "zerolinewidth": 2
          },
          "yaxis": {
           "automargin": true,
           "gridcolor": "white",
           "linecolor": "white",
           "ticks": "",
           "title": {
            "standoff": 15
           },
           "zerolinecolor": "white",
           "zerolinewidth": 2
          }
         }
        },
        "title": {
         "text": "Quantidade de Bacias por Estado"
        },
        "xaxis": {
         "tickangle": 75,
         "title": {
          "font": {
           "color": "lightgrey",
           "size": 40
          }
         }
        },
        "yaxis": {
         "title": {
          "text": "Quantidade de Bacias"
         }
        }
       }
      },
      "text/html": "<div>                            <div id=\"b6663858-20e4-4460-a3b7-9aae99143ac5\" class=\"plotly-graph-div\" style=\"height:525px; width:100%;\"></div>            <script type=\"text/javascript\">                require([\"plotly\"], function(Plotly) {                    window.PLOTLYENV=window.PLOTLYENV || {};                                    if (document.getElementById(\"b6663858-20e4-4460-a3b7-9aae99143ac5\")) {                    Plotly.newPlot(                        \"b6663858-20e4-4460-a3b7-9aae99143ac5\",                        [{\"marker\": {\"color\": \"lightblue\", \"line\": {\"color\": \"#333\", \"width\": 2}}, \"orientation\": \"v\", \"type\": \"bar\", \"x\": [\"AC\", \"AL\", \"AM\", \"AP\", \"BA\", \"CE\", \"ES\", \"GO\", \"MA\", \"MG\", \"MS\", \"MT\", \"PA\", \"PB\", \"PE\", \"PI\", \"PR\", \"RJ\", \"RN\", \"RR\", \"RS\", \"SC\", \"SE\", \"SP\"], \"y\": [1, 2, 3, 3, 13, 3, 3, 2, 4, 1, 2, 3, 6, 1, 3, 2, 2, 2, 1, 1, 2, 3, 1, 2]}],                        {\"template\": {\"data\": {\"bar\": [{\"error_x\": {\"color\": \"#2a3f5f\"}, \"error_y\": {\"color\": \"#2a3f5f\"}, \"marker\": {\"line\": {\"color\": \"#E5ECF6\", \"width\": 0.5}}, \"type\": \"bar\"}], \"barpolar\": [{\"marker\": {\"line\": {\"color\": \"#E5ECF6\", \"width\": 0.5}}, \"type\": \"barpolar\"}], \"carpet\": [{\"aaxis\": {\"endlinecolor\": \"#2a3f5f\", \"gridcolor\": \"white\", \"linecolor\": \"white\", \"minorgridcolor\": \"white\", \"startlinecolor\": \"#2a3f5f\"}, \"baxis\": {\"endlinecolor\": \"#2a3f5f\", \"gridcolor\": \"white\", \"linecolor\": \"white\", \"minorgridcolor\": \"white\", \"startlinecolor\": \"#2a3f5f\"}, \"type\": \"carpet\"}], \"choropleth\": [{\"colorbar\": {\"outlinewidth\": 0, \"ticks\": \"\"}, \"type\": \"choropleth\"}], \"contour\": [{\"colorbar\": {\"outlinewidth\": 0, \"ticks\": \"\"}, \"colorscale\": [[0.0, \"#0d0887\"], [0.1111111111111111, \"#46039f\"], [0.2222222222222222, \"#7201a8\"], [0.3333333333333333, \"#9c179e\"], [0.4444444444444444, \"#bd3786\"], [0.5555555555555556, \"#d8576b\"], [0.6666666666666666, \"#ed7953\"], [0.7777777777777778, \"#fb9f3a\"], [0.8888888888888888, \"#fdca26\"], [1.0, \"#f0f921\"]], \"type\": \"contour\"}], \"contourcarpet\": [{\"colorbar\": {\"outlinewidth\": 0, \"ticks\": \"\"}, \"type\": \"contourcarpet\"}], \"heatmap\": [{\"colorbar\": {\"outlinewidth\": 0, \"ticks\": \"\"}, \"colorscale\": [[0.0, \"#0d0887\"], [0.1111111111111111, \"#46039f\"], [0.2222222222222222, \"#7201a8\"], [0.3333333333333333, \"#9c179e\"], [0.4444444444444444, \"#bd3786\"], [0.5555555555555556, \"#d8576b\"], [0.6666666666666666, \"#ed7953\"], [0.7777777777777778, \"#fb9f3a\"], [0.8888888888888888, \"#fdca26\"], [1.0, \"#f0f921\"]], \"type\": \"heatmap\"}], \"heatmapgl\": [{\"colorbar\": {\"outlinewidth\": 0, \"ticks\": \"\"}, \"colorscale\": [[0.0, \"#0d0887\"], [0.1111111111111111, \"#46039f\"], [0.2222222222222222, \"#7201a8\"], [0.3333333333333333, \"#9c179e\"], [0.4444444444444444, \"#bd3786\"], [0.5555555555555556, \"#d8576b\"], [0.6666666666666666, \"#ed7953\"], [0.7777777777777778, \"#fb9f3a\"], [0.8888888888888888, \"#fdca26\"], [1.0, \"#f0f921\"]], \"type\": \"heatmapgl\"}], \"histogram\": [{\"marker\": {\"colorbar\": {\"outlinewidth\": 0, \"ticks\": \"\"}}, \"type\": \"histogram\"}], \"histogram2d\": [{\"colorbar\": {\"outlinewidth\": 0, \"ticks\": \"\"}, \"colorscale\": [[0.0, \"#0d0887\"], [0.1111111111111111, \"#46039f\"], [0.2222222222222222, \"#7201a8\"], [0.3333333333333333, \"#9c179e\"], [0.4444444444444444, \"#bd3786\"], [0.5555555555555556, \"#d8576b\"], [0.6666666666666666, \"#ed7953\"], [0.7777777777777778, \"#fb9f3a\"], [0.8888888888888888, \"#fdca26\"], [1.0, \"#f0f921\"]], \"type\": \"histogram2d\"}], \"histogram2dcontour\": [{\"colorbar\": {\"outlinewidth\": 0, \"ticks\": \"\"}, \"colorscale\": [[0.0, \"#0d0887\"], [0.1111111111111111, \"#46039f\"], [0.2222222222222222, \"#7201a8\"], [0.3333333333333333, \"#9c179e\"], [0.4444444444444444, \"#bd3786\"], [0.5555555555555556, \"#d8576b\"], [0.6666666666666666, \"#ed7953\"], [0.7777777777777778, \"#fb9f3a\"], [0.8888888888888888, \"#fdca26\"], [1.0, \"#f0f921\"]], \"type\": \"histogram2dcontour\"}], \"mesh3d\": [{\"colorbar\": {\"outlinewidth\": 0, \"ticks\": \"\"}, \"type\": \"mesh3d\"}], \"parcoords\": [{\"line\": {\"colorbar\": {\"outlinewidth\": 0, \"ticks\": \"\"}}, \"type\": \"parcoords\"}], \"pie\": [{\"automargin\": true, \"type\": \"pie\"}], \"scatter\": [{\"marker\": {\"colorbar\": {\"outlinewidth\": 0, \"ticks\": \"\"}}, \"type\": \"scatter\"}], \"scatter3d\": [{\"line\": {\"colorbar\": {\"outlinewidth\": 0, \"ticks\": \"\"}}, \"marker\": {\"colorbar\": {\"outlinewidth\": 0, \"ticks\": \"\"}}, \"type\": \"scatter3d\"}], \"scattercarpet\": [{\"marker\": {\"colorbar\": {\"outlinewidth\": 0, \"ticks\": \"\"}}, \"type\": \"scattercarpet\"}], \"scattergeo\": [{\"marker\": {\"colorbar\": {\"outlinewidth\": 0, \"ticks\": \"\"}}, \"type\": \"scattergeo\"}], \"scattergl\": [{\"marker\": {\"colorbar\": {\"outlinewidth\": 0, \"ticks\": \"\"}}, \"type\": \"scattergl\"}], \"scattermapbox\": [{\"marker\": {\"colorbar\": {\"outlinewidth\": 0, \"ticks\": \"\"}}, \"type\": \"scattermapbox\"}], \"scatterpolar\": [{\"marker\": {\"colorbar\": {\"outlinewidth\": 0, \"ticks\": \"\"}}, \"type\": \"scatterpolar\"}], \"scatterpolargl\": [{\"marker\": {\"colorbar\": {\"outlinewidth\": 0, \"ticks\": \"\"}}, \"type\": \"scatterpolargl\"}], \"scatterternary\": [{\"marker\": {\"colorbar\": {\"outlinewidth\": 0, \"ticks\": \"\"}}, \"type\": \"scatterternary\"}], \"surface\": [{\"colorbar\": {\"outlinewidth\": 0, \"ticks\": \"\"}, \"colorscale\": [[0.0, \"#0d0887\"], [0.1111111111111111, \"#46039f\"], [0.2222222222222222, \"#7201a8\"], [0.3333333333333333, \"#9c179e\"], [0.4444444444444444, \"#bd3786\"], [0.5555555555555556, \"#d8576b\"], [0.6666666666666666, \"#ed7953\"], [0.7777777777777778, \"#fb9f3a\"], [0.8888888888888888, \"#fdca26\"], [1.0, \"#f0f921\"]], \"type\": \"surface\"}], \"table\": [{\"cells\": {\"fill\": {\"color\": \"#EBF0F8\"}, \"line\": {\"color\": \"white\"}}, \"header\": {\"fill\": {\"color\": \"#C8D4E3\"}, \"line\": {\"color\": \"white\"}}, \"type\": \"table\"}]}, \"layout\": {\"annotationdefaults\": {\"arrowcolor\": \"#2a3f5f\", \"arrowhead\": 0, \"arrowwidth\": 1}, \"autotypenumbers\": \"strict\", \"coloraxis\": {\"colorbar\": {\"outlinewidth\": 0, \"ticks\": \"\"}}, \"colorscale\": {\"diverging\": [[0, \"#8e0152\"], [0.1, \"#c51b7d\"], [0.2, \"#de77ae\"], [0.3, \"#f1b6da\"], [0.4, \"#fde0ef\"], [0.5, \"#f7f7f7\"], [0.6, \"#e6f5d0\"], [0.7, \"#b8e186\"], [0.8, \"#7fbc41\"], [0.9, \"#4d9221\"], [1, \"#276419\"]], \"sequential\": [[0.0, \"#0d0887\"], [0.1111111111111111, \"#46039f\"], [0.2222222222222222, \"#7201a8\"], [0.3333333333333333, \"#9c179e\"], [0.4444444444444444, \"#bd3786\"], [0.5555555555555556, \"#d8576b\"], [0.6666666666666666, \"#ed7953\"], [0.7777777777777778, \"#fb9f3a\"], [0.8888888888888888, \"#fdca26\"], [1.0, \"#f0f921\"]], \"sequentialminus\": [[0.0, \"#0d0887\"], [0.1111111111111111, \"#46039f\"], [0.2222222222222222, \"#7201a8\"], [0.3333333333333333, \"#9c179e\"], [0.4444444444444444, \"#bd3786\"], [0.5555555555555556, \"#d8576b\"], [0.6666666666666666, \"#ed7953\"], [0.7777777777777778, \"#fb9f3a\"], [0.8888888888888888, \"#fdca26\"], [1.0, \"#f0f921\"]]}, \"colorway\": [\"#636efa\", \"#EF553B\", \"#00cc96\", \"#ab63fa\", \"#FFA15A\", \"#19d3f3\", \"#FF6692\", \"#B6E880\", \"#FF97FF\", \"#FECB52\"], \"font\": {\"color\": \"#2a3f5f\"}, \"geo\": {\"bgcolor\": \"white\", \"lakecolor\": \"white\", \"landcolor\": \"#E5ECF6\", \"showlakes\": true, \"showland\": true, \"subunitcolor\": \"white\"}, \"hoverlabel\": {\"align\": \"left\"}, \"hovermode\": \"closest\", \"mapbox\": {\"style\": \"light\"}, \"paper_bgcolor\": \"white\", \"plot_bgcolor\": \"#E5ECF6\", \"polar\": {\"angularaxis\": {\"gridcolor\": \"white\", \"linecolor\": \"white\", \"ticks\": \"\"}, \"bgcolor\": \"#E5ECF6\", \"radialaxis\": {\"gridcolor\": \"white\", \"linecolor\": \"white\", \"ticks\": \"\"}}, \"scene\": {\"xaxis\": {\"backgroundcolor\": \"#E5ECF6\", \"gridcolor\": \"white\", \"gridwidth\": 2, \"linecolor\": \"white\", \"showbackground\": true, \"ticks\": \"\", \"zerolinecolor\": \"white\"}, \"yaxis\": {\"backgroundcolor\": \"#E5ECF6\", \"gridcolor\": \"white\", \"gridwidth\": 2, \"linecolor\": \"white\", \"showbackground\": true, \"ticks\": \"\", \"zerolinecolor\": \"white\"}, \"zaxis\": {\"backgroundcolor\": \"#E5ECF6\", \"gridcolor\": \"white\", \"gridwidth\": 2, \"linecolor\": \"white\", \"showbackground\": true, \"ticks\": \"\", \"zerolinecolor\": \"white\"}}, \"shapedefaults\": {\"line\": {\"color\": \"#2a3f5f\"}}, \"ternary\": {\"aaxis\": {\"gridcolor\": \"white\", \"linecolor\": \"white\", \"ticks\": \"\"}, \"baxis\": {\"gridcolor\": \"white\", \"linecolor\": \"white\", \"ticks\": \"\"}, \"bgcolor\": \"#E5ECF6\", \"caxis\": {\"gridcolor\": \"white\", \"linecolor\": \"white\", \"ticks\": \"\"}}, \"title\": {\"x\": 0.05}, \"xaxis\": {\"automargin\": true, \"gridcolor\": \"white\", \"linecolor\": \"white\", \"ticks\": \"\", \"title\": {\"standoff\": 15}, \"zerolinecolor\": \"white\", \"zerolinewidth\": 2}, \"yaxis\": {\"automargin\": true, \"gridcolor\": \"white\", \"linecolor\": \"white\", \"ticks\": \"\", \"title\": {\"standoff\": 15}, \"zerolinecolor\": \"white\", \"zerolinewidth\": 2}}}, \"title\": {\"text\": \"Quantidade de Bacias por Estado\"}, \"xaxis\": {\"tickangle\": 75, \"title\": {\"font\": {\"color\": \"lightgrey\", \"size\": 40}}}, \"yaxis\": {\"title\": {\"text\": \"Quantidade de Bacias\"}}},                        {\"responsive\": true}                    ).then(function(){\n                            \nvar gd = document.getElementById('b6663858-20e4-4460-a3b7-9aae99143ac5');\nvar x = new MutationObserver(function (mutations, observer) {{\n        var display = window.getComputedStyle(gd).display;\n        if (!display || display === 'none') {{\n            console.log([gd, 'removed!']);\n            Plotly.purge(gd);\n            observer.disconnect();\n        }}\n}});\n\n// Listen for the removal of the full notebook cells\nvar notebookContainer = gd.closest('#notebook-container');\nif (notebookContainer) {{\n    x.observe(notebookContainer, {childList: true});\n}}\n\n// Listen for the clearing of the current output cell\nvar outputEl = gd.closest('.output');\nif (outputEl) {{\n    x.observe(outputEl, {childList: true});\n}}\n\n                        })                };                });            </script>        </div>"
     },
     "metadata": {}
    }
   ],
   "source": [
    "trace0 = go.Bar(y=Estados_Bacia_unique.values,\n",
    "                x=Estados_Bacia_unique.index,\n",
    "                marker = {'color': 'lightblue',\n",
    "                         'line': {'color': '#333',\n",
    "                                  'width': 2}\n",
    "                        },\n",
    "                orientation='v'\n",
    "              )\n",
    "\n",
    "data = [trace0]\n",
    "\n",
    "# Criando Layout\n",
    "configuracoes_layout = go.Layout(title='Quantidade de Bacias por Estado',\n",
    "                   xaxis=dict(\n",
    "                         titlefont=dict(\n",
    "                                   size=40,\n",
    "                                   color='lightgrey'),\n",
    "                   tickangle=75),\n",
    "                   yaxis={'title': 'Quantidade de Bacias'})\n",
    "\n",
    "# Objeto figura\n",
    "\n",
    "fig = go.Figure(data=data, layout=configuracoes_layout)\n",
    "\n",
    "# plotando o grafico\n",
    "py.iplot(fig)"
   ]
  },
  {
   "source": [
    "## Quantos Campos existem em cada estado?"
   ],
   "cell_type": "markdown",
   "metadata": {}
  },
  {
   "cell_type": "code",
   "execution_count": 118,
   "metadata": {},
   "outputs": [
    {
     "output_type": "execute_result",
     "data": {
      "text/plain": [
       "ESTADO\n",
       "BA    143\n",
       "RN    119\n",
       "ES     88\n",
       "RJ     71\n",
       "SE     46\n",
       "AL     24\n",
       "AM     14\n",
       "SP     13\n",
       "MA     10\n",
       "CE      8\n",
       "PR      5\n",
       "SC      2\n",
       "PA      1\n",
       "AP      0\n",
       "GO      0\n",
       "MT      0\n",
       "MG      0\n",
       "MS      0\n",
       "PB      0\n",
       "PE      0\n",
       "PI      0\n",
       "RR      0\n",
       "RS      0\n",
       "AC      0\n",
       "Name: CAMPO, dtype: int64"
      ]
     },
     "metadata": {},
     "execution_count": 118
    }
   ],
   "source": [
    "Estados_Campo_unique = Anp_dataset[['ESTADO', 'CAMPO']].groupby('ESTADO')['CAMPO'].nunique()\n",
    "Estados_Campo_unique.sort_values(ascending=False)"
   ]
  },
  {
   "cell_type": "code",
   "execution_count": 119,
   "metadata": {},
   "outputs": [
    {
     "output_type": "display_data",
     "data": {
      "application/vnd.plotly.v1+json": {
       "config": {
        "linkText": "Export to plotly.com",
        "plotlyServerURL": "https://plotly.com",
        "showLink": false
       },
       "data": [
        {
         "marker": {
          "color": "lightblue",
          "line": {
           "color": "#333",
           "width": 2
          }
         },
         "orientation": "v",
         "type": "bar",
         "x": [
          "AC",
          "AL",
          "AM",
          "AP",
          "BA",
          "CE",
          "ES",
          "GO",
          "MA",
          "MG",
          "MS",
          "MT",
          "PA",
          "PB",
          "PE",
          "PI",
          "PR",
          "RJ",
          "RN",
          "RR",
          "RS",
          "SC",
          "SE",
          "SP"
         ],
         "y": [
          0,
          24,
          14,
          0,
          143,
          8,
          88,
          0,
          10,
          0,
          0,
          0,
          1,
          0,
          0,
          0,
          5,
          71,
          119,
          0,
          0,
          2,
          46,
          13
         ]
        }
       ],
       "layout": {
        "template": {
         "data": {
          "bar": [
           {
            "error_x": {
             "color": "#2a3f5f"
            },
            "error_y": {
             "color": "#2a3f5f"
            },
            "marker": {
             "line": {
              "color": "#E5ECF6",
              "width": 0.5
             }
            },
            "type": "bar"
           }
          ],
          "barpolar": [
           {
            "marker": {
             "line": {
              "color": "#E5ECF6",
              "width": 0.5
             }
            },
            "type": "barpolar"
           }
          ],
          "carpet": [
           {
            "aaxis": {
             "endlinecolor": "#2a3f5f",
             "gridcolor": "white",
             "linecolor": "white",
             "minorgridcolor": "white",
             "startlinecolor": "#2a3f5f"
            },
            "baxis": {
             "endlinecolor": "#2a3f5f",
             "gridcolor": "white",
             "linecolor": "white",
             "minorgridcolor": "white",
             "startlinecolor": "#2a3f5f"
            },
            "type": "carpet"
           }
          ],
          "choropleth": [
           {
            "colorbar": {
             "outlinewidth": 0,
             "ticks": ""
            },
            "type": "choropleth"
           }
          ],
          "contour": [
           {
            "colorbar": {
             "outlinewidth": 0,
             "ticks": ""
            },
            "colorscale": [
             [
              0,
              "#0d0887"
             ],
             [
              0.1111111111111111,
              "#46039f"
             ],
             [
              0.2222222222222222,
              "#7201a8"
             ],
             [
              0.3333333333333333,
              "#9c179e"
             ],
             [
              0.4444444444444444,
              "#bd3786"
             ],
             [
              0.5555555555555556,
              "#d8576b"
             ],
             [
              0.6666666666666666,
              "#ed7953"
             ],
             [
              0.7777777777777778,
              "#fb9f3a"
             ],
             [
              0.8888888888888888,
              "#fdca26"
             ],
             [
              1,
              "#f0f921"
             ]
            ],
            "type": "contour"
           }
          ],
          "contourcarpet": [
           {
            "colorbar": {
             "outlinewidth": 0,
             "ticks": ""
            },
            "type": "contourcarpet"
           }
          ],
          "heatmap": [
           {
            "colorbar": {
             "outlinewidth": 0,
             "ticks": ""
            },
            "colorscale": [
             [
              0,
              "#0d0887"
             ],
             [
              0.1111111111111111,
              "#46039f"
             ],
             [
              0.2222222222222222,
              "#7201a8"
             ],
             [
              0.3333333333333333,
              "#9c179e"
             ],
             [
              0.4444444444444444,
              "#bd3786"
             ],
             [
              0.5555555555555556,
              "#d8576b"
             ],
             [
              0.6666666666666666,
              "#ed7953"
             ],
             [
              0.7777777777777778,
              "#fb9f3a"
             ],
             [
              0.8888888888888888,
              "#fdca26"
             ],
             [
              1,
              "#f0f921"
             ]
            ],
            "type": "heatmap"
           }
          ],
          "heatmapgl": [
           {
            "colorbar": {
             "outlinewidth": 0,
             "ticks": ""
            },
            "colorscale": [
             [
              0,
              "#0d0887"
             ],
             [
              0.1111111111111111,
              "#46039f"
             ],
             [
              0.2222222222222222,
              "#7201a8"
             ],
             [
              0.3333333333333333,
              "#9c179e"
             ],
             [
              0.4444444444444444,
              "#bd3786"
             ],
             [
              0.5555555555555556,
              "#d8576b"
             ],
             [
              0.6666666666666666,
              "#ed7953"
             ],
             [
              0.7777777777777778,
              "#fb9f3a"
             ],
             [
              0.8888888888888888,
              "#fdca26"
             ],
             [
              1,
              "#f0f921"
             ]
            ],
            "type": "heatmapgl"
           }
          ],
          "histogram": [
           {
            "marker": {
             "colorbar": {
              "outlinewidth": 0,
              "ticks": ""
             }
            },
            "type": "histogram"
           }
          ],
          "histogram2d": [
           {
            "colorbar": {
             "outlinewidth": 0,
             "ticks": ""
            },
            "colorscale": [
             [
              0,
              "#0d0887"
             ],
             [
              0.1111111111111111,
              "#46039f"
             ],
             [
              0.2222222222222222,
              "#7201a8"
             ],
             [
              0.3333333333333333,
              "#9c179e"
             ],
             [
              0.4444444444444444,
              "#bd3786"
             ],
             [
              0.5555555555555556,
              "#d8576b"
             ],
             [
              0.6666666666666666,
              "#ed7953"
             ],
             [
              0.7777777777777778,
              "#fb9f3a"
             ],
             [
              0.8888888888888888,
              "#fdca26"
             ],
             [
              1,
              "#f0f921"
             ]
            ],
            "type": "histogram2d"
           }
          ],
          "histogram2dcontour": [
           {
            "colorbar": {
             "outlinewidth": 0,
             "ticks": ""
            },
            "colorscale": [
             [
              0,
              "#0d0887"
             ],
             [
              0.1111111111111111,
              "#46039f"
             ],
             [
              0.2222222222222222,
              "#7201a8"
             ],
             [
              0.3333333333333333,
              "#9c179e"
             ],
             [
              0.4444444444444444,
              "#bd3786"
             ],
             [
              0.5555555555555556,
              "#d8576b"
             ],
             [
              0.6666666666666666,
              "#ed7953"
             ],
             [
              0.7777777777777778,
              "#fb9f3a"
             ],
             [
              0.8888888888888888,
              "#fdca26"
             ],
             [
              1,
              "#f0f921"
             ]
            ],
            "type": "histogram2dcontour"
           }
          ],
          "mesh3d": [
           {
            "colorbar": {
             "outlinewidth": 0,
             "ticks": ""
            },
            "type": "mesh3d"
           }
          ],
          "parcoords": [
           {
            "line": {
             "colorbar": {
              "outlinewidth": 0,
              "ticks": ""
             }
            },
            "type": "parcoords"
           }
          ],
          "pie": [
           {
            "automargin": true,
            "type": "pie"
           }
          ],
          "scatter": [
           {
            "marker": {
             "colorbar": {
              "outlinewidth": 0,
              "ticks": ""
             }
            },
            "type": "scatter"
           }
          ],
          "scatter3d": [
           {
            "line": {
             "colorbar": {
              "outlinewidth": 0,
              "ticks": ""
             }
            },
            "marker": {
             "colorbar": {
              "outlinewidth": 0,
              "ticks": ""
             }
            },
            "type": "scatter3d"
           }
          ],
          "scattercarpet": [
           {
            "marker": {
             "colorbar": {
              "outlinewidth": 0,
              "ticks": ""
             }
            },
            "type": "scattercarpet"
           }
          ],
          "scattergeo": [
           {
            "marker": {
             "colorbar": {
              "outlinewidth": 0,
              "ticks": ""
             }
            },
            "type": "scattergeo"
           }
          ],
          "scattergl": [
           {
            "marker": {
             "colorbar": {
              "outlinewidth": 0,
              "ticks": ""
             }
            },
            "type": "scattergl"
           }
          ],
          "scattermapbox": [
           {
            "marker": {
             "colorbar": {
              "outlinewidth": 0,
              "ticks": ""
             }
            },
            "type": "scattermapbox"
           }
          ],
          "scatterpolar": [
           {
            "marker": {
             "colorbar": {
              "outlinewidth": 0,
              "ticks": ""
             }
            },
            "type": "scatterpolar"
           }
          ],
          "scatterpolargl": [
           {
            "marker": {
             "colorbar": {
              "outlinewidth": 0,
              "ticks": ""
             }
            },
            "type": "scatterpolargl"
           }
          ],
          "scatterternary": [
           {
            "marker": {
             "colorbar": {
              "outlinewidth": 0,
              "ticks": ""
             }
            },
            "type": "scatterternary"
           }
          ],
          "surface": [
           {
            "colorbar": {
             "outlinewidth": 0,
             "ticks": ""
            },
            "colorscale": [
             [
              0,
              "#0d0887"
             ],
             [
              0.1111111111111111,
              "#46039f"
             ],
             [
              0.2222222222222222,
              "#7201a8"
             ],
             [
              0.3333333333333333,
              "#9c179e"
             ],
             [
              0.4444444444444444,
              "#bd3786"
             ],
             [
              0.5555555555555556,
              "#d8576b"
             ],
             [
              0.6666666666666666,
              "#ed7953"
             ],
             [
              0.7777777777777778,
              "#fb9f3a"
             ],
             [
              0.8888888888888888,
              "#fdca26"
             ],
             [
              1,
              "#f0f921"
             ]
            ],
            "type": "surface"
           }
          ],
          "table": [
           {
            "cells": {
             "fill": {
              "color": "#EBF0F8"
             },
             "line": {
              "color": "white"
             }
            },
            "header": {
             "fill": {
              "color": "#C8D4E3"
             },
             "line": {
              "color": "white"
             }
            },
            "type": "table"
           }
          ]
         },
         "layout": {
          "annotationdefaults": {
           "arrowcolor": "#2a3f5f",
           "arrowhead": 0,
           "arrowwidth": 1
          },
          "autotypenumbers": "strict",
          "coloraxis": {
           "colorbar": {
            "outlinewidth": 0,
            "ticks": ""
           }
          },
          "colorscale": {
           "diverging": [
            [
             0,
             "#8e0152"
            ],
            [
             0.1,
             "#c51b7d"
            ],
            [
             0.2,
             "#de77ae"
            ],
            [
             0.3,
             "#f1b6da"
            ],
            [
             0.4,
             "#fde0ef"
            ],
            [
             0.5,
             "#f7f7f7"
            ],
            [
             0.6,
             "#e6f5d0"
            ],
            [
             0.7,
             "#b8e186"
            ],
            [
             0.8,
             "#7fbc41"
            ],
            [
             0.9,
             "#4d9221"
            ],
            [
             1,
             "#276419"
            ]
           ],
           "sequential": [
            [
             0,
             "#0d0887"
            ],
            [
             0.1111111111111111,
             "#46039f"
            ],
            [
             0.2222222222222222,
             "#7201a8"
            ],
            [
             0.3333333333333333,
             "#9c179e"
            ],
            [
             0.4444444444444444,
             "#bd3786"
            ],
            [
             0.5555555555555556,
             "#d8576b"
            ],
            [
             0.6666666666666666,
             "#ed7953"
            ],
            [
             0.7777777777777778,
             "#fb9f3a"
            ],
            [
             0.8888888888888888,
             "#fdca26"
            ],
            [
             1,
             "#f0f921"
            ]
           ],
           "sequentialminus": [
            [
             0,
             "#0d0887"
            ],
            [
             0.1111111111111111,
             "#46039f"
            ],
            [
             0.2222222222222222,
             "#7201a8"
            ],
            [
             0.3333333333333333,
             "#9c179e"
            ],
            [
             0.4444444444444444,
             "#bd3786"
            ],
            [
             0.5555555555555556,
             "#d8576b"
            ],
            [
             0.6666666666666666,
             "#ed7953"
            ],
            [
             0.7777777777777778,
             "#fb9f3a"
            ],
            [
             0.8888888888888888,
             "#fdca26"
            ],
            [
             1,
             "#f0f921"
            ]
           ]
          },
          "colorway": [
           "#636efa",
           "#EF553B",
           "#00cc96",
           "#ab63fa",
           "#FFA15A",
           "#19d3f3",
           "#FF6692",
           "#B6E880",
           "#FF97FF",
           "#FECB52"
          ],
          "font": {
           "color": "#2a3f5f"
          },
          "geo": {
           "bgcolor": "white",
           "lakecolor": "white",
           "landcolor": "#E5ECF6",
           "showlakes": true,
           "showland": true,
           "subunitcolor": "white"
          },
          "hoverlabel": {
           "align": "left"
          },
          "hovermode": "closest",
          "mapbox": {
           "style": "light"
          },
          "paper_bgcolor": "white",
          "plot_bgcolor": "#E5ECF6",
          "polar": {
           "angularaxis": {
            "gridcolor": "white",
            "linecolor": "white",
            "ticks": ""
           },
           "bgcolor": "#E5ECF6",
           "radialaxis": {
            "gridcolor": "white",
            "linecolor": "white",
            "ticks": ""
           }
          },
          "scene": {
           "xaxis": {
            "backgroundcolor": "#E5ECF6",
            "gridcolor": "white",
            "gridwidth": 2,
            "linecolor": "white",
            "showbackground": true,
            "ticks": "",
            "zerolinecolor": "white"
           },
           "yaxis": {
            "backgroundcolor": "#E5ECF6",
            "gridcolor": "white",
            "gridwidth": 2,
            "linecolor": "white",
            "showbackground": true,
            "ticks": "",
            "zerolinecolor": "white"
           },
           "zaxis": {
            "backgroundcolor": "#E5ECF6",
            "gridcolor": "white",
            "gridwidth": 2,
            "linecolor": "white",
            "showbackground": true,
            "ticks": "",
            "zerolinecolor": "white"
           }
          },
          "shapedefaults": {
           "line": {
            "color": "#2a3f5f"
           }
          },
          "ternary": {
           "aaxis": {
            "gridcolor": "white",
            "linecolor": "white",
            "ticks": ""
           },
           "baxis": {
            "gridcolor": "white",
            "linecolor": "white",
            "ticks": ""
           },
           "bgcolor": "#E5ECF6",
           "caxis": {
            "gridcolor": "white",
            "linecolor": "white",
            "ticks": ""
           }
          },
          "title": {
           "x": 0.05
          },
          "xaxis": {
           "automargin": true,
           "gridcolor": "white",
           "linecolor": "white",
           "ticks": "",
           "title": {
            "standoff": 15
           },
           "zerolinecolor": "white",
           "zerolinewidth": 2
          },
          "yaxis": {
           "automargin": true,
           "gridcolor": "white",
           "linecolor": "white",
           "ticks": "",
           "title": {
            "standoff": 15
           },
           "zerolinecolor": "white",
           "zerolinewidth": 2
          }
         }
        },
        "title": {
         "text": "Quantidade de Campos por Estado"
        },
        "xaxis": {
         "tickangle": 75,
         "title": {
          "font": {
           "color": "lightgrey",
           "size": 40
          }
         }
        },
        "yaxis": {
         "title": {
          "text": "Quantidade de Campos"
         }
        }
       }
      },
      "text/html": "<div>                            <div id=\"443dce1c-05a7-40c0-93bf-2bbac530c4a3\" class=\"plotly-graph-div\" style=\"height:525px; width:100%;\"></div>            <script type=\"text/javascript\">                require([\"plotly\"], function(Plotly) {                    window.PLOTLYENV=window.PLOTLYENV || {};                                    if (document.getElementById(\"443dce1c-05a7-40c0-93bf-2bbac530c4a3\")) {                    Plotly.newPlot(                        \"443dce1c-05a7-40c0-93bf-2bbac530c4a3\",                        [{\"marker\": {\"color\": \"lightblue\", \"line\": {\"color\": \"#333\", \"width\": 2}}, \"orientation\": \"v\", \"type\": \"bar\", \"x\": [\"AC\", \"AL\", \"AM\", \"AP\", \"BA\", \"CE\", \"ES\", \"GO\", \"MA\", \"MG\", \"MS\", \"MT\", \"PA\", \"PB\", \"PE\", \"PI\", \"PR\", \"RJ\", \"RN\", \"RR\", \"RS\", \"SC\", \"SE\", \"SP\"], \"y\": [0, 24, 14, 0, 143, 8, 88, 0, 10, 0, 0, 0, 1, 0, 0, 0, 5, 71, 119, 0, 0, 2, 46, 13]}],                        {\"template\": {\"data\": {\"bar\": [{\"error_x\": {\"color\": \"#2a3f5f\"}, \"error_y\": {\"color\": \"#2a3f5f\"}, \"marker\": {\"line\": {\"color\": \"#E5ECF6\", \"width\": 0.5}}, \"type\": \"bar\"}], \"barpolar\": [{\"marker\": {\"line\": {\"color\": \"#E5ECF6\", \"width\": 0.5}}, \"type\": \"barpolar\"}], \"carpet\": [{\"aaxis\": {\"endlinecolor\": \"#2a3f5f\", \"gridcolor\": \"white\", \"linecolor\": \"white\", \"minorgridcolor\": \"white\", \"startlinecolor\": \"#2a3f5f\"}, \"baxis\": {\"endlinecolor\": \"#2a3f5f\", \"gridcolor\": \"white\", \"linecolor\": \"white\", \"minorgridcolor\": \"white\", \"startlinecolor\": \"#2a3f5f\"}, \"type\": \"carpet\"}], \"choropleth\": [{\"colorbar\": {\"outlinewidth\": 0, \"ticks\": \"\"}, \"type\": \"choropleth\"}], \"contour\": [{\"colorbar\": {\"outlinewidth\": 0, \"ticks\": \"\"}, \"colorscale\": [[0.0, \"#0d0887\"], [0.1111111111111111, \"#46039f\"], [0.2222222222222222, \"#7201a8\"], [0.3333333333333333, \"#9c179e\"], [0.4444444444444444, \"#bd3786\"], [0.5555555555555556, \"#d8576b\"], [0.6666666666666666, \"#ed7953\"], [0.7777777777777778, \"#fb9f3a\"], [0.8888888888888888, \"#fdca26\"], [1.0, \"#f0f921\"]], \"type\": \"contour\"}], \"contourcarpet\": [{\"colorbar\": {\"outlinewidth\": 0, \"ticks\": \"\"}, \"type\": \"contourcarpet\"}], \"heatmap\": [{\"colorbar\": {\"outlinewidth\": 0, \"ticks\": \"\"}, \"colorscale\": [[0.0, \"#0d0887\"], [0.1111111111111111, \"#46039f\"], [0.2222222222222222, \"#7201a8\"], [0.3333333333333333, \"#9c179e\"], [0.4444444444444444, \"#bd3786\"], [0.5555555555555556, \"#d8576b\"], [0.6666666666666666, \"#ed7953\"], [0.7777777777777778, \"#fb9f3a\"], [0.8888888888888888, \"#fdca26\"], [1.0, \"#f0f921\"]], \"type\": \"heatmap\"}], \"heatmapgl\": [{\"colorbar\": {\"outlinewidth\": 0, \"ticks\": \"\"}, \"colorscale\": [[0.0, \"#0d0887\"], [0.1111111111111111, \"#46039f\"], [0.2222222222222222, \"#7201a8\"], [0.3333333333333333, \"#9c179e\"], [0.4444444444444444, \"#bd3786\"], [0.5555555555555556, \"#d8576b\"], [0.6666666666666666, \"#ed7953\"], [0.7777777777777778, \"#fb9f3a\"], [0.8888888888888888, \"#fdca26\"], [1.0, \"#f0f921\"]], \"type\": \"heatmapgl\"}], \"histogram\": [{\"marker\": {\"colorbar\": {\"outlinewidth\": 0, \"ticks\": \"\"}}, \"type\": \"histogram\"}], \"histogram2d\": [{\"colorbar\": {\"outlinewidth\": 0, \"ticks\": \"\"}, \"colorscale\": [[0.0, \"#0d0887\"], [0.1111111111111111, \"#46039f\"], [0.2222222222222222, \"#7201a8\"], [0.3333333333333333, \"#9c179e\"], [0.4444444444444444, \"#bd3786\"], [0.5555555555555556, \"#d8576b\"], [0.6666666666666666, \"#ed7953\"], [0.7777777777777778, \"#fb9f3a\"], [0.8888888888888888, \"#fdca26\"], [1.0, \"#f0f921\"]], \"type\": \"histogram2d\"}], \"histogram2dcontour\": [{\"colorbar\": {\"outlinewidth\": 0, \"ticks\": \"\"}, \"colorscale\": [[0.0, \"#0d0887\"], [0.1111111111111111, \"#46039f\"], [0.2222222222222222, \"#7201a8\"], [0.3333333333333333, \"#9c179e\"], [0.4444444444444444, \"#bd3786\"], [0.5555555555555556, \"#d8576b\"], [0.6666666666666666, \"#ed7953\"], [0.7777777777777778, \"#fb9f3a\"], [0.8888888888888888, \"#fdca26\"], [1.0, \"#f0f921\"]], \"type\": \"histogram2dcontour\"}], \"mesh3d\": [{\"colorbar\": {\"outlinewidth\": 0, \"ticks\": \"\"}, \"type\": \"mesh3d\"}], \"parcoords\": [{\"line\": {\"colorbar\": {\"outlinewidth\": 0, \"ticks\": \"\"}}, \"type\": \"parcoords\"}], \"pie\": [{\"automargin\": true, \"type\": \"pie\"}], \"scatter\": [{\"marker\": {\"colorbar\": {\"outlinewidth\": 0, \"ticks\": \"\"}}, \"type\": \"scatter\"}], \"scatter3d\": [{\"line\": {\"colorbar\": {\"outlinewidth\": 0, \"ticks\": \"\"}}, \"marker\": {\"colorbar\": {\"outlinewidth\": 0, \"ticks\": \"\"}}, \"type\": \"scatter3d\"}], \"scattercarpet\": [{\"marker\": {\"colorbar\": {\"outlinewidth\": 0, \"ticks\": \"\"}}, \"type\": \"scattercarpet\"}], \"scattergeo\": [{\"marker\": {\"colorbar\": {\"outlinewidth\": 0, \"ticks\": \"\"}}, \"type\": \"scattergeo\"}], \"scattergl\": [{\"marker\": {\"colorbar\": {\"outlinewidth\": 0, \"ticks\": \"\"}}, \"type\": \"scattergl\"}], \"scattermapbox\": [{\"marker\": {\"colorbar\": {\"outlinewidth\": 0, \"ticks\": \"\"}}, \"type\": \"scattermapbox\"}], \"scatterpolar\": [{\"marker\": {\"colorbar\": {\"outlinewidth\": 0, \"ticks\": \"\"}}, \"type\": \"scatterpolar\"}], \"scatterpolargl\": [{\"marker\": {\"colorbar\": {\"outlinewidth\": 0, \"ticks\": \"\"}}, \"type\": \"scatterpolargl\"}], \"scatterternary\": [{\"marker\": {\"colorbar\": {\"outlinewidth\": 0, \"ticks\": \"\"}}, \"type\": \"scatterternary\"}], \"surface\": [{\"colorbar\": {\"outlinewidth\": 0, \"ticks\": \"\"}, \"colorscale\": [[0.0, \"#0d0887\"], [0.1111111111111111, \"#46039f\"], [0.2222222222222222, \"#7201a8\"], [0.3333333333333333, \"#9c179e\"], [0.4444444444444444, \"#bd3786\"], [0.5555555555555556, \"#d8576b\"], [0.6666666666666666, \"#ed7953\"], [0.7777777777777778, \"#fb9f3a\"], [0.8888888888888888, \"#fdca26\"], [1.0, \"#f0f921\"]], \"type\": \"surface\"}], \"table\": [{\"cells\": {\"fill\": {\"color\": \"#EBF0F8\"}, \"line\": {\"color\": \"white\"}}, \"header\": {\"fill\": {\"color\": \"#C8D4E3\"}, \"line\": {\"color\": \"white\"}}, \"type\": \"table\"}]}, \"layout\": {\"annotationdefaults\": {\"arrowcolor\": \"#2a3f5f\", \"arrowhead\": 0, \"arrowwidth\": 1}, \"autotypenumbers\": \"strict\", \"coloraxis\": {\"colorbar\": {\"outlinewidth\": 0, \"ticks\": \"\"}}, \"colorscale\": {\"diverging\": [[0, \"#8e0152\"], [0.1, \"#c51b7d\"], [0.2, \"#de77ae\"], [0.3, \"#f1b6da\"], [0.4, \"#fde0ef\"], [0.5, \"#f7f7f7\"], [0.6, \"#e6f5d0\"], [0.7, \"#b8e186\"], [0.8, \"#7fbc41\"], [0.9, \"#4d9221\"], [1, \"#276419\"]], \"sequential\": [[0.0, \"#0d0887\"], [0.1111111111111111, \"#46039f\"], [0.2222222222222222, \"#7201a8\"], [0.3333333333333333, \"#9c179e\"], [0.4444444444444444, \"#bd3786\"], [0.5555555555555556, \"#d8576b\"], [0.6666666666666666, \"#ed7953\"], [0.7777777777777778, \"#fb9f3a\"], [0.8888888888888888, \"#fdca26\"], [1.0, \"#f0f921\"]], \"sequentialminus\": [[0.0, \"#0d0887\"], [0.1111111111111111, \"#46039f\"], [0.2222222222222222, \"#7201a8\"], [0.3333333333333333, \"#9c179e\"], [0.4444444444444444, \"#bd3786\"], [0.5555555555555556, \"#d8576b\"], [0.6666666666666666, \"#ed7953\"], [0.7777777777777778, \"#fb9f3a\"], [0.8888888888888888, \"#fdca26\"], [1.0, \"#f0f921\"]]}, \"colorway\": [\"#636efa\", \"#EF553B\", \"#00cc96\", \"#ab63fa\", \"#FFA15A\", \"#19d3f3\", \"#FF6692\", \"#B6E880\", \"#FF97FF\", \"#FECB52\"], \"font\": {\"color\": \"#2a3f5f\"}, \"geo\": {\"bgcolor\": \"white\", \"lakecolor\": \"white\", \"landcolor\": \"#E5ECF6\", \"showlakes\": true, \"showland\": true, \"subunitcolor\": \"white\"}, \"hoverlabel\": {\"align\": \"left\"}, \"hovermode\": \"closest\", \"mapbox\": {\"style\": \"light\"}, \"paper_bgcolor\": \"white\", \"plot_bgcolor\": \"#E5ECF6\", \"polar\": {\"angularaxis\": {\"gridcolor\": \"white\", \"linecolor\": \"white\", \"ticks\": \"\"}, \"bgcolor\": \"#E5ECF6\", \"radialaxis\": {\"gridcolor\": \"white\", \"linecolor\": \"white\", \"ticks\": \"\"}}, \"scene\": {\"xaxis\": {\"backgroundcolor\": \"#E5ECF6\", \"gridcolor\": \"white\", \"gridwidth\": 2, \"linecolor\": \"white\", \"showbackground\": true, \"ticks\": \"\", \"zerolinecolor\": \"white\"}, \"yaxis\": {\"backgroundcolor\": \"#E5ECF6\", \"gridcolor\": \"white\", \"gridwidth\": 2, \"linecolor\": \"white\", \"showbackground\": true, \"ticks\": \"\", \"zerolinecolor\": \"white\"}, \"zaxis\": {\"backgroundcolor\": \"#E5ECF6\", \"gridcolor\": \"white\", \"gridwidth\": 2, \"linecolor\": \"white\", \"showbackground\": true, \"ticks\": \"\", \"zerolinecolor\": \"white\"}}, \"shapedefaults\": {\"line\": {\"color\": \"#2a3f5f\"}}, \"ternary\": {\"aaxis\": {\"gridcolor\": \"white\", \"linecolor\": \"white\", \"ticks\": \"\"}, \"baxis\": {\"gridcolor\": \"white\", \"linecolor\": \"white\", \"ticks\": \"\"}, \"bgcolor\": \"#E5ECF6\", \"caxis\": {\"gridcolor\": \"white\", \"linecolor\": \"white\", \"ticks\": \"\"}}, \"title\": {\"x\": 0.05}, \"xaxis\": {\"automargin\": true, \"gridcolor\": \"white\", \"linecolor\": \"white\", \"ticks\": \"\", \"title\": {\"standoff\": 15}, \"zerolinecolor\": \"white\", \"zerolinewidth\": 2}, \"yaxis\": {\"automargin\": true, \"gridcolor\": \"white\", \"linecolor\": \"white\", \"ticks\": \"\", \"title\": {\"standoff\": 15}, \"zerolinecolor\": \"white\", \"zerolinewidth\": 2}}}, \"title\": {\"text\": \"Quantidade de Campos por Estado\"}, \"xaxis\": {\"tickangle\": 75, \"title\": {\"font\": {\"color\": \"lightgrey\", \"size\": 40}}}, \"yaxis\": {\"title\": {\"text\": \"Quantidade de Campos\"}}},                        {\"responsive\": true}                    ).then(function(){\n                            \nvar gd = document.getElementById('443dce1c-05a7-40c0-93bf-2bbac530c4a3');\nvar x = new MutationObserver(function (mutations, observer) {{\n        var display = window.getComputedStyle(gd).display;\n        if (!display || display === 'none') {{\n            console.log([gd, 'removed!']);\n            Plotly.purge(gd);\n            observer.disconnect();\n        }}\n}});\n\n// Listen for the removal of the full notebook cells\nvar notebookContainer = gd.closest('#notebook-container');\nif (notebookContainer) {{\n    x.observe(notebookContainer, {childList: true});\n}}\n\n// Listen for the clearing of the current output cell\nvar outputEl = gd.closest('.output');\nif (outputEl) {{\n    x.observe(outputEl, {childList: true});\n}}\n\n                        })                };                });            </script>        </div>"
     },
     "metadata": {}
    }
   ],
   "source": [
    "trace0 = go.Bar(y=Estados_Campo_unique.values,\n",
    "                x=Estados_Campo_unique.index,\n",
    "                marker = {'color': 'lightblue',\n",
    "                         'line': {'color': '#333',\n",
    "                                  'width': 2}\n",
    "                        },\n",
    "                orientation='v'\n",
    "              )\n",
    "\n",
    "data = [trace0]\n",
    "\n",
    "# Criando Layout\n",
    "configuracoes_layout = go.Layout(title='Quantidade de Campos por Estado',\n",
    "                   xaxis=dict(\n",
    "                         titlefont=dict(\n",
    "                                   size=40,\n",
    "                                   color='lightgrey'),\n",
    "                   tickangle=75),\n",
    "                   yaxis={'title': 'Quantidade de Campos'})\n",
    "\n",
    "# Objeto figura\n",
    "\n",
    "fig = go.Figure(data=data, layout=configuracoes_layout)\n",
    "\n",
    "# plotando o grafico\n",
    "py.iplot(fig)"
   ]
  },
  {
   "source": [
    "## Como esta distribuída a variável \"Lamina de agua\" ?"
   ],
   "cell_type": "markdown",
   "metadata": {}
  },
  {
   "source": [
    "A primeira coisa a se fazer, é criar um filtro nas localizações dos poços, uma vez que só existe lamina de água em poços que estão no mar.\n",
    "\n",
    "Depois disso eu criei um boxplot para termos uma melhor avaliação de como esta as laminas de água "
   ],
   "cell_type": "markdown",
   "metadata": {}
  },
  {
   "cell_type": "code",
   "execution_count": 120,
   "metadata": {},
   "outputs": [
    {
     "output_type": "display_data",
     "data": {
      "application/vnd.plotly.v1+json": {
       "config": {
        "linkText": "Export to plotly.com",
        "plotlyServerURL": "https://plotly.com",
        "showLink": true
       },
       "data": [
        {
         "boxpoints": false,
         "line": {
          "width": 1.3
         },
         "marker": {
          "color": "rgba(255, 153, 51, 1.0)"
         },
         "name": "LAMINA_D_AGUA_M",
         "orientation": "v",
         "type": "box",
         "y": [
          1827,
          2730,
          1705.84,
          1705.35,
          1653.56,
          1267,
          92,
          1663,
          955,
          700,
          1919.4,
          150,
          446,
          2708,
          78.6,
          22.5,
          122,
          1403,
          1030,
          104,
          2248,
          505,
          2484,
          2321,
          127,
          103,
          2115,
          880,
          1323,
          1315,
          1653.2,
          1651.44,
          242,
          1037,
          132,
          2033,
          125,
          104,
          104,
          1638.46,
          108,
          104,
          1400,
          1224,
          1783,
          109,
          127.6,
          1332.8,
          122,
          122,
          1266,
          18.7,
          2142,
          30.8,
          131,
          1745,
          471,
          471,
          135,
          2026,
          1844,
          2135,
          1947,
          1324,
          135,
          1870,
          2156,
          104,
          59.3,
          145,
          1299,
          153,
          1858,
          78.6,
          1943,
          121,
          1818,
          1662.83,
          36,
          1077,
          130.5,
          1288.6,
          1237,
          1302,
          1224,
          142,
          1596,
          1557,
          1123,
          1848,
          870,
          192,
          100,
          601,
          151,
          12,
          1107,
          762,
          103,
          880,
          938,
          1099,
          779,
          902,
          448,
          23,
          30,
          538,
          445,
          918,
          87,
          445,
          43,
          132,
          925,
          747,
          20,
          860,
          87,
          129,
          486,
          182,
          108,
          877,
          103,
          60,
          28.7,
          25.6,
          880,
          820,
          1769,
          28,
          142,
          111,
          96,
          1668,
          1544,
          202,
          57,
          81,
          80,
          170,
          16,
          24.6,
          15,
          218,
          22,
          1028,
          138,
          2254,
          0,
          934,
          14,
          42.6,
          20,
          591,
          534,
          950,
          384,
          65,
          990,
          1071,
          770.8,
          0,
          104,
          117,
          243,
          164,
          117,
          1020,
          101,
          210,
          23,
          105,
          168,
          1241,
          102,
          32.3,
          25.7,
          466,
          156.5,
          2667,
          13,
          940,
          108,
          142,
          14,
          45,
          36,
          1423,
          1772,
          823,
          295,
          630,
          null,
          960,
          97,
          495,
          108,
          1131,
          1046,
          92,
          1331,
          1566,
          254,
          109,
          1290,
          122,
          240,
          2156,
          110,
          104,
          155,
          928,
          1027,
          155,
          121,
          1692,
          2150,
          1078,
          0,
          1470,
          1285,
          13.5,
          1973,
          1581.7,
          150,
          1436,
          637,
          669,
          1569,
          104,
          2139,
          1330,
          2114,
          1077,
          104,
          1244,
          104,
          1470,
          585.5,
          1609,
          2247,
          1078,
          669,
          1438,
          1609,
          416,
          1345,
          1339,
          1544,
          1275,
          1314,
          945,
          1046,
          134,
          1315,
          1048,
          2484,
          122,
          1438,
          1581.7,
          1472,
          1285,
          2011,
          2160,
          1183,
          137,
          1730,
          1419.6,
          1288.6,
          129,
          1863,
          778,
          2279,
          1432,
          1879,
          1026,
          1779,
          2180,
          2424,
          1175,
          1175,
          1175,
          1132,
          130,
          2031,
          1344,
          1429,
          1207,
          1499,
          1419,
          139,
          267,
          126,
          133.4,
          1473,
          70,
          122,
          969,
          469,
          518,
          39.2,
          1808,
          103,
          495,
          1639,
          122,
          297,
          106,
          2246,
          112,
          2178,
          1321,
          2128,
          96,
          1046,
          41.5,
          1228,
          1313,
          380,
          1816,
          1839,
          822,
          215,
          1596,
          2061,
          2125,
          1840,
          1455,
          2.65,
          2031,
          2161,
          1725,
          1663.92,
          2119,
          1746,
          1332,
          1184,
          254,
          1852,
          71,
          778,
          1677.5,
          189,
          2118,
          1821,
          1790,
          1828,
          155,
          957,
          814,
          711,
          604,
          368,
          1007,
          1996,
          32,
          80,
          1687,
          31.5,
          3.2,
          38,
          455,
          80,
          950,
          895,
          550,
          796,
          1583,
          80,
          16,
          823,
          951,
          960,
          584,
          1389,
          23,
          114,
          15.7,
          18,
          34.6,
          933,
          198,
          0,
          568,
          809,
          700,
          80,
          1063,
          330,
          330,
          80,
          80,
          295,
          2.8,
          254,
          869,
          1347,
          355,
          296,
          53.5,
          710,
          68,
          47,
          210,
          370,
          24.3,
          1087,
          2666,
          49,
          1453,
          1397,
          927,
          1044,
          1039,
          101,
          113,
          164,
          159,
          1827,
          1402,
          1060,
          1671,
          1467,
          1306,
          1496,
          281,
          1468,
          1338.7,
          1795,
          430,
          1444,
          1339,
          1046,
          1589,
          40,
          729,
          1467,
          477,
          1455,
          1455,
          294,
          1291,
          171,
          1010,
          235,
          1120,
          1044,
          715,
          1229,
          1104,
          1831,
          1268,
          1427,
          380,
          553,
          875,
          1161,
          115,
          1492,
          1456,
          100,
          0.25,
          1328,
          294,
          104,
          1445,
          1116,
          1553,
          704,
          704,
          252,
          35,
          1120,
          0,
          870,
          1188,
          1381,
          276,
          1357,
          1382,
          1413,
          111,
          1427,
          1360,
          1384,
          1368,
          1037,
          2316,
          2387,
          912,
          1530,
          29,
          97,
          290,
          29,
          87,
          600,
          950,
          922,
          87,
          727,
          19.7,
          875,
          187,
          146,
          14,
          593,
          1140,
          600,
          180,
          740,
          200,
          117,
          602,
          196,
          585,
          19.4,
          107,
          118,
          951,
          950,
          1351,
          873,
          19,
          477,
          199,
          97,
          560,
          450,
          750,
          687,
          476,
          1028,
          845,
          197,
          223,
          1150,
          468,
          479,
          1105,
          70,
          104,
          103,
          1326,
          1723,
          874,
          1083,
          888,
          1294,
          2172,
          1744,
          505,
          42,
          1421,
          1803,
          1381,
          1104,
          4.8,
          1429,
          2.2,
          1798,
          1890,
          324,
          25,
          343,
          116,
          1813,
          503,
          1527,
          1454,
          1454,
          748,
          1277,
          1482,
          1267,
          101,
          1580,
          108,
          1320,
          1340,
          104,
          1367,
          1.47,
          2144,
          1308,
          302,
          1121,
          977,
          104,
          682,
          108,
          1531,
          1072,
          104,
          1339,
          1384,
          1368,
          307,
          1274,
          1555,
          1092,
          242,
          1287,
          1424,
          1893,
          1055,
          1681,
          1165,
          1165,
          109,
          1092,
          122,
          1761,
          1888.3,
          1132,
          85.5,
          2223,
          276,
          26,
          1583,
          539,
          1562,
          2197,
          110,
          411,
          670,
          1084,
          985,
          469,
          1602,
          1322,
          1602,
          1912,
          624,
          623.5,
          624,
          624,
          1464,
          1756,
          1221,
          114,
          1055,
          1255,
          1893,
          1178,
          1178,
          1227,
          122.8,
          721,
          1737,
          1737,
          1484,
          500,
          203,
          1079.75,
          68,
          1091,
          104,
          1376,
          906,
          128.7,
          986,
          39.6,
          1186,
          1177,
          495,
          977,
          1471,
          1517,
          1429,
          130.5,
          1094,
          104,
          115,
          1436,
          97,
          104,
          985,
          103.2,
          1127,
          147,
          166.4,
          1142,
          2.96,
          555,
          1653,
          1186,
          1147,
          670,
          1192.5,
          1273,
          1068,
          1567,
          479,
          1350,
          197,
          110,
          1583,
          830,
          1166,
          531,
          708,
          101,
          25,
          488,
          507,
          1250,
          108,
          2.13,
          25,
          141,
          1184,
          128.7,
          985,
          1273,
          1752,
          517.6,
          1744,
          343,
          104,
          104,
          104,
          680,
          708,
          788,
          1354,
          161.2,
          2.97,
          276,
          1255,
          680,
          1338,
          1382,
          70,
          2140,
          928,
          158,
          151,
          1481,
          216,
          1567,
          1649,
          1068,
          1234,
          2.4,
          626,
          223,
          1430,
          1159,
          104,
          1255,
          1177,
          1530,
          334,
          1044,
          130.5,
          1596,
          132,
          1650,
          1031,
          1132,
          1510,
          104,
          1183,
          1660,
          531,
          1318,
          189,
          1072,
          1320,
          735,
          1389,
          1367,
          1660,
          977,
          977,
          1342,
          749,
          679.2,
          977,
          114,
          513,
          1349,
          1255,
          906,
          903,
          670,
          718,
          715,
          1142,
          40.1,
          1338,
          1403,
          159,
          1134,
          1389,
          1428,
          729,
          91,
          34,
          1362,
          12,
          30,
          769.5,
          2.26,
          953,
          1306,
          1553,
          1689,
          1608,
          3,
          121,
          1332,
          1326,
          1364,
          194,
          1240,
          1150,
          1275,
          1478,
          1560,
          22.5,
          2849,
          1525,
          1445,
          137.5,
          1270.4,
          120,
          1198,
          1381,
          770,
          40,
          1219,
          547,
          1084,
          1268,
          1145,
          771,
          767,
          158,
          131,
          108,
          950,
          1416,
          1445,
          1196,
          1831,
          890,
          836,
          116,
          1949,
          434,
          91,
          1219,
          937,
          952,
          15,
          34,
          208,
          44,
          1557,
          67,
          738,
          540,
          1496,
          799,
          20,
          25.5,
          1372,
          99.8,
          1460.5,
          976,
          1691,
          1663,
          895,
          1140,
          2052,
          159,
          1931,
          1880,
          2887,
          624,
          1119,
          1144,
          1470,
          1280,
          128.6,
          98,
          1830,
          28,
          958,
          1200,
          916,
          1266,
          1227,
          335,
          1241,
          1367,
          593,
          118,
          949,
          949,
          1665,
          1074,
          1471,
          950,
          1621,
          2.4,
          156,
          122,
          122,
          122,
          1632,
          870,
          870,
          1168,
          15,
          1266,
          1012,
          4,
          7,
          811,
          2081,
          1168,
          1543.7,
          1521,
          621,
          2849,
          1156,
          1547,
          127,
          1196,
          1539,
          1252,
          1455,
          1467,
          1079,
          903,
          1589,
          905,
          970,
          1574,
          783,
          902,
          311,
          950,
          939,
          1728,
          815,
          820,
          862,
          1316,
          0,
          621,
          425,
          1316,
          110,
          1210,
          252,
          1671,
          437,
          1590,
          1370,
          1129,
          1026,
          1386,
          1342,
          1544,
          1428,
          623.5,
          1720,
          164,
          1745,
          26,
          195,
          1743,
          847,
          48,
          1794,
          520,
          1436,
          1252,
          330,
          1235,
          2686,
          1160,
          1037,
          1134,
          91,
          548,
          143,
          141,
          141,
          2053,
          395,
          1638,
          799,
          1800,
          1869,
          6,
          1311,
          1161,
          623,
          171,
          1134,
          6.4,
          1163,
          46,
          1343,
          82.54,
          1037,
          2257,
          836,
          1113,
          888,
          958,
          864,
          1550,
          1196,
          1861,
          1555,
          216,
          107,
          1625,
          178,
          100,
          853,
          1244,
          1037,
          1180,
          1229,
          1384,
          1229,
          1403,
          1393,
          1445,
          851,
          21,
          897,
          1841,
          803,
          803,
          1595,
          2327,
          1037,
          281,
          1208,
          1252,
          1241,
          912,
          1129,
          0,
          1299,
          1735,
          1162,
          0,
          1380,
          294,
          1020,
          402,
          1072,
          1100,
          29,
          1163,
          2625,
          1854,
          1223,
          1069,
          1306,
          1312,
          790,
          790,
          1283,
          1127,
          1527,
          1280,
          1477,
          1234,
          1760,
          786,
          35,
          1097,
          770,
          995,
          790,
          1138,
          540,
          30,
          1357,
          1038,
          870,
          1370,
          150,
          1319,
          879,
          19,
          80,
          1164,
          19,
          1319,
          1219,
          391,
          43,
          891,
          1129,
          1473,
          425,
          2789,
          912,
          1854,
          1195,
          916,
          906,
          44,
          769,
          1689,
          1358,
          1046,
          1742,
          469,
          1339,
          1079,
          1235,
          1188,
          1233,
          1037,
          14,
          30,
          26,
          1537,
          900,
          2100,
          1535,
          977,
          1273,
          1864,
          1250,
          1674,
          1701,
          1427,
          430,
          1206,
          1420,
          1339,
          1557,
          2.2,
          783,
          3,
          871,
          1234,
          1440,
          1743,
          1163,
          1887,
          6.6,
          26,
          668,
          1163,
          1535,
          1347,
          1621,
          19,
          1663,
          108,
          1116,
          1037,
          990,
          1549,
          1285,
          1410,
          879,
          1653,
          143,
          1391,
          100,
          47,
          142,
          120,
          26,
          1656,
          101,
          118,
          19,
          null,
          2.5,
          986,
          1642,
          104,
          1020,
          227,
          1322,
          17,
          39,
          294,
          990,
          28,
          32,
          1539,
          130.5,
          1956,
          2135,
          106.5,
          1339,
          104,
          1259,
          142,
          28,
          104,
          101,
          144,
          25,
          null,
          null,
          null,
          null,
          null,
          null,
          104,
          2011,
          148,
          295,
          131,
          78,
          1275,
          411,
          1675,
          1451,
          141,
          13,
          619,
          277,
          22,
          968,
          1338.5,
          1327,
          670,
          199,
          1857,
          1271,
          2213,
          377,
          1009,
          1.8,
          323,
          1323,
          1029,
          296,
          43,
          1895,
          648,
          1332,
          117,
          49,
          75.6,
          96,
          80,
          337,
          38.6,
          28,
          437,
          2154,
          1764,
          2136,
          307,
          31,
          2.5,
          2.4,
          60,
          30,
          180,
          1434,
          56.9,
          1262,
          2,
          1.9,
          121,
          67,
          95,
          144.5,
          801,
          19,
          85,
          1451,
          555,
          47,
          60,
          49,
          1413,
          115,
          200,
          2163,
          1160,
          1160,
          1270,
          1403,
          17.5,
          134,
          151,
          770,
          104,
          117.5,
          108,
          830,
          1918,
          1246,
          1338.5,
          1132,
          1166,
          132,
          1808,
          1964,
          2484,
          1315,
          null,
          1132,
          1483,
          19,
          14,
          108,
          1494,
          42,
          21,
          134,
          1472,
          753,
          1671,
          957,
          945,
          11,
          56,
          103,
          382,
          1889,
          1195.8,
          550,
          860,
          1663,
          979,
          1048,
          732,
          120,
          170,
          30,
          1014,
          13,
          1889,
          1890,
          2336.5,
          2164,
          23,
          685,
          1611,
          2.3,
          3.2,
          1510,
          324,
          1154,
          104,
          1277,
          433,
          1269,
          475,
          505,
          775,
          1262,
          1467,
          6,
          19,
          2137,
          17,
          505,
          2155.8,
          104,
          2.3,
          80,
          60,
          108,
          96,
          21,
          1111,
          915,
          1025,
          1286,
          1467,
          100,
          25,
          1512,
          1080,
          1036,
          262,
          1771,
          637,
          797,
          866,
          22,
          101,
          18,
          1222,
          104,
          1050,
          1080,
          88,
          106,
          770,
          67,
          17.7,
          1438,
          1226,
          150,
          608,
          2017,
          1389,
          108,
          1.9,
          2126,
          2147,
          2141,
          1287,
          2131,
          1808,
          969,
          1464,
          1222,
          25,
          136,
          1505,
          1828,
          19,
          140,
          800,
          125,
          724,
          1224,
          2180,
          1320,
          2118,
          1797,
          2153,
          626,
          172,
          2202,
          1409,
          1222,
          131,
          1132,
          1080,
          1555,
          228,
          130,
          105,
          188,
          489,
          2,
          131.5,
          1277,
          134,
          1224,
          1364,
          1438,
          137,
          1710,
          1730,
          770,
          1288.6,
          1730,
          1841,
          1547,
          108,
          136,
          1023,
          1071,
          1202,
          38,
          1759,
          999,
          0,
          111,
          105,
          2280,
          478.5,
          1464.5,
          136,
          2273,
          177,
          1200,
          1925,
          1781.2,
          3.08,
          780,
          1359,
          2238,
          2052,
          2167,
          209,
          1193,
          122,
          1728,
          2153,
          2166,
          1314,
          95,
          1158,
          1131,
          1148,
          1030,
          1513,
          52,
          165,
          990,
          1816,
          1280,
          1035,
          724,
          1010,
          519,
          2460,
          1868.5,
          1052,
          1299,
          1299,
          1356,
          1885,
          2213,
          2022,
          1935,
          69,
          144,
          45,
          1800,
          122,
          382,
          28,
          1641,
          103,
          836,
          1818,
          106,
          122,
          1476,
          1183,
          104,
          104,
          152,
          152,
          1571.8,
          1539,
          1340,
          1266,
          990,
          1658,
          461,
          1607,
          1366,
          106,
          134,
          1462,
          497,
          1779,
          1183,
          127.6,
          1900,
          1092,
          1505,
          185,
          2173,
          1050,
          505,
          479,
          1244,
          133,
          285,
          2066,
          104,
          1549,
          709,
          1228,
          99.6,
          1196,
          2182,
          980,
          1841,
          400,
          1323,
          104,
          168,
          127,
          285,
          1784,
          130,
          2437,
          741,
          1610,
          2.5,
          104,
          178,
          1470,
          2156,
          1468,
          50,
          624,
          1198,
          2.2,
          2749,
          139,
          892,
          1085,
          106,
          1078,
          1077,
          1055,
          924,
          1196,
          1.9,
          939,
          700,
          343,
          1509,
          105,
          1639,
          2111,
          1383,
          446,
          1185,
          413,
          44.3,
          2139,
          933,
          1342,
          1029,
          1358,
          993,
          393,
          106,
          1266,
          770,
          13,
          880,
          820,
          602,
          146,
          122,
          1800,
          89,
          146,
          2027,
          1181.85,
          1226,
          947,
          1668,
          1484,
          483,
          1339,
          1970,
          1790,
          949,
          106,
          2138,
          1839,
          626,
          122,
          1621,
          1560,
          1085,
          108,
          101.3,
          1392,
          1397,
          990,
          118,
          130,
          413,
          1350,
          2788.8,
          1342.1,
          924,
          1695,
          2416.5,
          2240,
          2134,
          229,
          2694,
          1181,
          980,
          1332,
          1017,
          null,
          null,
          null,
          null,
          null,
          null,
          null,
          null,
          null,
          null,
          null,
          null,
          null,
          null,
          null,
          null,
          null,
          null,
          null,
          null,
          null,
          null,
          null,
          null,
          null,
          1889,
          1889,
          1785,
          1650.61,
          133,
          1738,
          1131,
          1202,
          1704,
          1376,
          1339,
          1747,
          1238,
          1154,
          668,
          2178,
          2803,
          null,
          null,
          null,
          null,
          null,
          null,
          null,
          null,
          null,
          null,
          null,
          null,
          null,
          null,
          null,
          null,
          null,
          null,
          null,
          null,
          null,
          1025,
          1719,
          106,
          1027,
          122,
          1769,
          128,
          1344,
          2266,
          2174,
          null,
          null,
          null,
          null,
          null,
          null,
          null,
          null,
          null,
          null,
          null,
          158,
          1926,
          1873,
          1822,
          134,
          2159,
          2437,
          1400,
          2328,
          1433,
          1343,
          1765,
          1824,
          122,
          275,
          1668,
          95,
          1790,
          1677.5,
          1548,
          1743,
          924,
          1431,
          122,
          1340,
          1780,
          1131,
          1003,
          1934,
          1393,
          1448,
          875,
          1730,
          2018,
          143,
          2244,
          2419,
          1673,
          1433,
          2477,
          1400,
          1333,
          123,
          2460,
          2812,
          2022,
          2215,
          159,
          968,
          2250,
          1740,
          2212,
          1359,
          980,
          1092,
          122,
          1145,
          1024,
          139,
          26,
          1860,
          1061,
          1031,
          1580.6,
          1806,
          2222.7,
          1889,
          1187,
          107,
          1765,
          1568,
          921,
          665,
          2009,
          1719,
          1448,
          1889,
          2266,
          1537,
          107,
          121,
          101,
          168,
          1098,
          1092,
          1451,
          1351,
          1401,
          1625,
          2237,
          2031,
          2160,
          837,
          1640,
          1748,
          2.56,
          257.5,
          1335,
          883,
          106.4,
          1705,
          949,
          1116,
          106,
          416,
          1609,
          1763,
          1566,
          2137,
          1429,
          1331,
          1429,
          128,
          1705.84,
          1264,
          2047,
          2583,
          139,
          106,
          1267.7,
          2119,
          1597,
          1417,
          122,
          106,
          2216,
          1515,
          106,
          2131,
          689,
          2229,
          2164,
          1698,
          2917,
          267,
          284,
          2126,
          2476,
          2.41,
          689,
          122,
          1037,
          953,
          1438,
          2120,
          1717,
          1320,
          1878,
          2145,
          2021,
          1451,
          1719,
          2578,
          1386,
          1721,
          132,
          2146,
          1700,
          874,
          106,
          2154,
          1474,
          1425,
          2135,
          1848,
          689,
          1355,
          1308,
          2125,
          1738,
          2.41,
          1292,
          1282,
          122,
          2.41,
          2295,
          132,
          2151,
          1721,
          1338.7,
          2133,
          2672,
          2032,
          1806,
          107,
          2126,
          2136,
          1040,
          106,
          1443,
          1826,
          2120,
          1375,
          837,
          1376,
          106.4,
          2437,
          1236,
          130,
          1474,
          2091,
          106,
          1520,
          1202,
          1653.56,
          1337,
          2128,
          1706,
          106,
          2151,
          1698,
          1090,
          2170.1,
          1093.1,
          0,
          2103,
          2127,
          0,
          1343,
          1092,
          2179,
          120,
          1330,
          null,
          null,
          null,
          null,
          null,
          null,
          null,
          null,
          null,
          null,
          316,
          2264,
          122,
          1362,
          106,
          1486,
          1295,
          134,
          1344,
          106,
          471,
          1266,
          122,
          2182,
          null,
          null,
          null,
          null,
          null,
          null,
          null,
          null,
          null,
          null,
          null,
          null,
          null,
          null,
          null,
          null,
          null,
          null,
          null,
          null,
          null,
          87,
          80,
          2142,
          2130,
          116,
          791,
          1548,
          235,
          2138,
          1844,
          1651.75,
          1204,
          2150,
          2504,
          122,
          1014,
          1808,
          87,
          null,
          null,
          605,
          995,
          110,
          133,
          888,
          2137,
          132,
          1885,
          137,
          1259,
          1401,
          null,
          null,
          null,
          null,
          null,
          null,
          null,
          null,
          1717,
          1351,
          542,
          2587,
          974,
          1683,
          2015,
          1494,
          718,
          null,
          null,
          null,
          null,
          null,
          null,
          null,
          1182,
          1024,
          2821.4,
          469,
          839,
          2008,
          2143,
          133,
          2242,
          2114,
          1576,
          1302,
          157.8,
          115,
          135,
          2479,
          476,
          824,
          670,
          2101,
          980,
          2015,
          32,
          29,
          1696,
          1470,
          1201,
          null,
          1314,
          1417,
          361,
          2146,
          22,
          1073,
          982,
          39,
          1094,
          1050,
          210,
          1200,
          948,
          6.3,
          195,
          2119,
          1275,
          1886,
          1537,
          743,
          875,
          106,
          2135,
          2146,
          1884,
          925,
          914,
          906,
          1629,
          1361,
          840,
          906,
          816.5,
          573,
          28,
          589,
          143,
          0,
          1181,
          1972,
          1469,
          2532,
          2295,
          2643,
          1597,
          1323,
          2131,
          442,
          2246,
          null,
          null,
          33.8,
          255,
          542,
          222,
          1913,
          2130,
          2214,
          122,
          106,
          2158,
          1235,
          1065,
          1805,
          1313,
          1348,
          750,
          865,
          510,
          53.5,
          7,
          924,
          0,
          1515,
          2181,
          1340,
          1440,
          1.43,
          1.43,
          1145,
          26,
          106,
          1725,
          122,
          2046,
          1065,
          2038,
          779,
          197,
          0,
          1098,
          24,
          1241,
          945,
          1706,
          2114,
          273,
          1180,
          1202,
          1737,
          122,
          88,
          122,
          122,
          836,
          1771,
          2115,
          1423,
          null,
          null,
          80,
          33,
          2143,
          1376,
          1433,
          103.3,
          25,
          82,
          297,
          130,
          2145,
          null,
          null,
          null,
          null,
          null,
          null,
          null,
          null,
          611,
          42,
          79,
          167,
          25,
          1333,
          122,
          1698,
          1455,
          2432,
          2812,
          1776,
          1005,
          1181.85,
          1181.85,
          1033,
          2775,
          null,
          1245,
          101,
          594,
          0,
          837,
          2177,
          2024,
          1728,
          1783,
          107,
          106,
          361,
          106,
          130,
          375,
          763,
          117,
          216.7,
          1574.3,
          122,
          523,
          2198,
          1376,
          875,
          1374,
          128,
          1438,
          1065,
          1342,
          103,
          1389,
          1848,
          null,
          null,
          null,
          437,
          1393,
          1963,
          1531,
          1558,
          1558.2,
          718,
          2120,
          2202,
          106,
          1745,
          822.9,
          1700,
          null,
          null,
          null,
          null,
          null,
          null,
          null,
          null,
          null,
          12,
          142,
          2013,
          1788,
          1790,
          1558,
          1743,
          1746,
          888,
          1692,
          778,
          null,
          null,
          null,
          null,
          null,
          null,
          87,
          105,
          1.8,
          1410,
          1496,
          1182,
          2196,
          1934,
          2.53,
          2138,
          117,
          42,
          null,
          null,
          909,
          1836,
          1228,
          1717,
          1073,
          1184,
          1547,
          1356,
          31.8,
          137,
          2126,
          19,
          88,
          null,
          122,
          122,
          106,
          1267.7,
          982,
          1181,
          1531,
          2031,
          null,
          null,
          null,
          null,
          null,
          null,
          null,
          null,
          null,
          null,
          null,
          null,
          null,
          null,
          null,
          263,
          209,
          851,
          null,
          1.9,
          2105,
          1095,
          1951,
          782,
          1610,
          null,
          null,
          919,
          1012,
          42,
          null,
          null,
          null,
          null,
          217,
          1642.25,
          496,
          81,
          1595,
          131,
          1606,
          1491,
          248.3,
          15,
          296,
          510,
          1537,
          1077,
          581,
          71,
          1831,
          542,
          837,
          null,
          null,
          null,
          null,
          null,
          null,
          992,
          1548,
          1577,
          41,
          909,
          1061,
          1494,
          1322,
          1455,
          891,
          1553,
          1252,
          1116,
          1753,
          2126,
          122,
          1460,
          2153,
          1526,
          1883,
          1360,
          19,
          102,
          101,
          103,
          15,
          1111,
          145,
          null,
          null,
          null,
          null,
          null,
          1963,
          2116,
          1568,
          791,
          3.1,
          2288,
          928,
          80,
          0,
          14,
          null,
          null,
          null,
          null,
          null,
          null,
          99,
          2.69,
          122,
          2004,
          2244.5,
          1077,
          1221,
          1227,
          667,
          1103,
          1722,
          948,
          455,
          47,
          66,
          2.2,
          1007,
          837,
          2239,
          2139,
          2210,
          946,
          44,
          436,
          102,
          47,
          117,
          2126,
          1761,
          1484,
          1494,
          215,
          2216,
          2032,
          106,
          128,
          219,
          2131,
          106,
          2151,
          2228,
          null,
          1955,
          null,
          null,
          null,
          null,
          null,
          null,
          1377,
          60,
          418,
          103,
          106.5,
          2144,
          2227,
          2829,
          361,
          1269,
          116,
          1025,
          272,
          2395,
          1906,
          1462,
          null,
          null,
          null,
          1320,
          477,
          1401,
          108,
          1477,
          924,
          791,
          646.6,
          114,
          81,
          2.4,
          80,
          719,
          602,
          210,
          930,
          null,
          null,
          null,
          1316,
          2110.5,
          1268,
          922,
          15,
          108,
          1589,
          null,
          null,
          null,
          1384,
          1838,
          2156,
          1444,
          1580,
          100,
          312.7,
          100,
          null,
          null,
          null,
          2024,
          102,
          2141,
          2709,
          130,
          1494,
          149,
          1275,
          413,
          59,
          208,
          23,
          null,
          null,
          3,
          21,
          1565,
          71,
          1068.5,
          1496,
          903,
          990,
          20,
          null,
          1701,
          null,
          1593,
          142,
          13.5,
          23.4,
          865,
          830,
          454,
          1025,
          117,
          1877,
          636.5,
          1353,
          294,
          null,
          106,
          1052,
          9,
          88,
          80,
          20.5,
          14,
          1.8,
          40,
          6,
          684,
          118,
          450,
          1140,
          985,
          939,
          1777,
          1148,
          1429,
          921,
          106,
          532,
          905,
          1407,
          525,
          87,
          196,
          2262,
          124,
          2164,
          43,
          1180,
          712,
          814,
          13,
          152,
          2140,
          2127,
          133,
          220,
          30,
          31.7,
          66,
          243,
          402,
          1010,
          35,
          1.9,
          24,
          46,
          810,
          604,
          1008,
          80,
          829,
          28,
          47,
          1389,
          387,
          2126,
          739,
          97,
          80,
          109,
          16,
          513,
          88,
          152,
          38,
          290,
          18,
          1701,
          17,
          20,
          532,
          966,
          112,
          1323,
          1273,
          914,
          1332,
          25,
          294,
          307,
          52,
          102,
          1935,
          34,
          728,
          1845,
          17,
          81,
          81,
          92,
          1890,
          null,
          25.8,
          82.3,
          23,
          88,
          870,
          1010,
          210,
          87,
          970,
          129,
          999,
          100,
          210,
          296,
          1180,
          1300,
          13.6,
          32,
          91,
          27,
          13,
          97.2,
          1524,
          602,
          89,
          22,
          1228,
          109,
          900,
          24,
          735,
          108,
          1.9,
          42,
          19,
          1416,
          913,
          111,
          2121,
          131,
          16,
          751,
          69,
          2820,
          1788,
          2140,
          2046,
          30,
          1351,
          101,
          86,
          370,
          1030,
          1305,
          2010,
          31.3,
          87,
          29,
          20,
          21,
          33,
          954,
          3,
          121,
          42,
          59,
          27,
          1380,
          1007,
          491,
          47,
          967,
          802,
          87,
          8,
          13,
          510,
          30,
          143,
          230,
          2.5,
          1123,
          108,
          1180,
          77.4,
          151,
          1113,
          8.6,
          1040,
          1606,
          1606,
          370,
          942,
          1215,
          810,
          12,
          18,
          1772,
          2213,
          916,
          2050,
          null,
          24,
          745,
          1211,
          17,
          2245,
          84,
          179,
          2251,
          122,
          54,
          108,
          67,
          160,
          46,
          36,
          937,
          1094,
          433,
          1850,
          928,
          1512,
          1730,
          1840,
          2.5,
          99,
          21,
          1775,
          1362,
          1.7,
          142,
          116,
          26,
          14,
          87,
          8,
          387,
          1111,
          2133,
          2212,
          35,
          13,
          20,
          1702,
          1550,
          122,
          35,
          19,
          1.7,
          26,
          1298,
          905,
          142,
          15.2,
          13,
          13,
          null,
          12,
          3,
          59,
          53,
          27,
          107,
          90,
          14,
          149.3,
          null,
          20,
          132,
          118,
          814,
          null,
          6,
          24,
          32,
          19,
          156,
          42,
          93,
          130,
          1734,
          1558,
          28.3,
          54,
          45,
          115,
          1.5,
          121,
          15,
          73,
          236,
          101,
          1131,
          106,
          1529,
          105,
          1333,
          1264,
          114,
          29,
          87,
          42,
          80,
          20,
          80,
          81,
          20,
          26,
          81,
          329,
          100,
          117,
          1.4,
          121.6,
          31,
          32,
          30,
          114,
          200,
          109,
          42,
          104,
          2005,
          1316,
          null,
          377.5,
          46,
          743,
          null,
          1.8,
          45.7,
          46,
          230,
          186,
          210,
          1343,
          null,
          1.5,
          15,
          29,
          147,
          82,
          207,
          25.9,
          null,
          111,
          14,
          26,
          43,
          205,
          92,
          2124,
          921,
          1734,
          null,
          142.6,
          489,
          850,
          103,
          170,
          6,
          215,
          11.6,
          28,
          39,
          769,
          16,
          108,
          1.6,
          27,
          29,
          1629,
          2118,
          1125,
          1.8,
          1555,
          96,
          276,
          840,
          584,
          21.4,
          2.9,
          61,
          12,
          null,
          null,
          null,
          46,
          2,
          null,
          19,
          13,
          15,
          2,
          2.8,
          35,
          14.9,
          22,
          14,
          19.8,
          138,
          36.6,
          null,
          437,
          26,
          28,
          75,
          13,
          18,
          48,
          133,
          null,
          28.4,
          null,
          null,
          null,
          2667.2,
          1705.84,
          null,
          30,
          167.4,
          97,
          126,
          7,
          1648,
          null,
          139,
          null,
          null,
          null,
          null,
          null,
          55,
          225,
          23.7,
          1.9,
          2.2,
          3.1,
          117,
          null,
          1313,
          121,
          26,
          28.7,
          null,
          12,
          36,
          61,
          136,
          28,
          null,
          52.5,
          1.2,
          null,
          1.6,
          943,
          78,
          13.5,
          3.5,
          2.2,
          189,
          28,
          101,
          33,
          66,
          1474,
          1183,
          105,
          null,
          null,
          null,
          null,
          null,
          2720,
          145,
          2.4,
          26,
          17,
          22.2,
          1.6,
          54,
          19,
          26,
          98,
          2.6,
          2.9,
          1.9,
          1.7,
          21,
          601,
          788,
          1.9,
          null,
          null,
          5,
          133,
          170,
          1111,
          47.8,
          121,
          14,
          2,
          114,
          81,
          2.8,
          1.3,
          15,
          13,
          null,
          145,
          1017,
          100,
          294,
          2129,
          2129,
          2133,
          2469,
          2072,
          85,
          65,
          108,
          115,
          2.2,
          99,
          68.9,
          154,
          null,
          2.2,
          28,
          821,
          18,
          1839,
          250,
          80,
          16,
          28,
          44,
          80,
          423,
          945,
          1065,
          1924,
          2283,
          47,
          29,
          121,
          1.7,
          null,
          650,
          3,
          189,
          1046,
          930,
          170,
          46,
          28,
          13.5,
          null,
          null,
          14.9,
          73,
          49,
          7,
          22,
          118,
          37,
          211,
          19,
          1.9,
          1.6,
          2.1,
          114,
          4,
          117,
          67,
          1.9,
          127,
          233,
          2.2,
          105,
          93,
          34,
          33,
          1710,
          14.9,
          16,
          19,
          20,
          56,
          53,
          2.4,
          176,
          112,
          145,
          20,
          null,
          102,
          47.8,
          127,
          63,
          140,
          13,
          33,
          2.3,
          1.6,
          98.7,
          4,
          10,
          42,
          null,
          2,
          1.4,
          1.8,
          108,
          2,
          2.2,
          1.8,
          1.5,
          1.8,
          1.6,
          15,
          713,
          957,
          25,
          1685,
          2.1,
          1.6,
          2.9,
          16,
          121,
          10,
          26,
          null,
          26,
          99,
          115,
          19.5,
          104,
          34,
          80,
          1.9,
          2238,
          130,
          56,
          290,
          122,
          2.1,
          225,
          285,
          117,
          null,
          14,
          20,
          28,
          1098,
          2.8,
          2.2,
          15,
          1,
          1.9,
          182,
          7,
          19,
          101,
          70,
          145,
          47,
          null,
          17,
          24,
          11,
          1.5,
          33,
          30,
          677,
          128,
          71,
          1181.85,
          1025,
          1329,
          2.1,
          95,
          35,
          97,
          111,
          614,
          90,
          19,
          121,
          67,
          109,
          96,
          1390,
          2772,
          2125,
          13,
          13,
          34,
          18,
          51.5,
          2.3,
          2129,
          2126.5,
          122,
          null,
          22,
          1.9,
          null,
          2,
          2.2,
          121.6,
          null,
          3.4,
          1.5,
          358,
          15,
          942,
          12,
          118,
          2,
          34.1,
          97,
          68,
          1044,
          1.6,
          null,
          2152,
          2012,
          1340,
          2158,
          106,
          122,
          1720,
          130,
          2158,
          1.7,
          1.8,
          null,
          2.1,
          820,
          13,
          17.5,
          52,
          2251,
          30,
          1928,
          770,
          770,
          623.3,
          770,
          100,
          17,
          625,
          null,
          null,
          48,
          1.5,
          8,
          98,
          29,
          20,
          88,
          36.5,
          20.5,
          21,
          21.3,
          50,
          43,
          1938,
          252,
          895,
          1137,
          922,
          582,
          1023,
          2,
          2.7,
          110,
          837,
          145,
          13,
          117,
          18.3,
          36,
          121,
          13.6,
          189,
          13,
          30.6,
          101,
          100,
          21,
          1.6,
          2,
          2.6,
          2988,
          2.73,
          2185,
          1181,
          1181,
          1181,
          2243.5,
          1698,
          45.6,
          102,
          103,
          14,
          29,
          97,
          89,
          32,
          52,
          75.6,
          11,
          207.7,
          1237,
          122,
          479,
          479,
          null,
          1443,
          1878,
          1822,
          1180,
          2220,
          2535,
          222,
          2218,
          1125,
          1316,
          null,
          820,
          495,
          65.5,
          13.6,
          3.5,
          58,
          25,
          13,
          36,
          1942,
          2118,
          2136,
          2227,
          1775,
          80.5,
          164,
          31,
          167,
          783,
          2.97,
          604,
          1720,
          1336,
          1.9,
          135,
          19,
          101,
          73.2,
          3.1,
          83,
          86,
          25.9,
          3.5,
          1095,
          null,
          1.9,
          2.6,
          2130,
          2124,
          88,
          2131,
          1154,
          1806,
          268.5,
          1.9,
          1550,
          47,
          960,
          993,
          1.7,
          26,
          27,
          3,
          2245,
          2496,
          133.4,
          469,
          1835,
          106,
          16,
          42,
          102,
          33,
          4,
          142,
          null,
          117,
          380,
          284,
          930,
          0,
          1773,
          4,
          3.1,
          null,
          null,
          1.8,
          null,
          114,
          1,
          114,
          2135,
          1356,
          97,
          72,
          1074,
          1733,
          2252,
          1253,
          1.8,
          117.6,
          122,
          2301,
          122,
          1940,
          2024,
          1681,
          2233,
          122,
          117,
          null,
          1522,
          771.4,
          6,
          1597,
          60,
          15,
          16,
          null,
          null,
          null,
          null,
          null,
          null,
          null,
          null,
          null,
          null,
          null,
          null,
          null,
          1.5,
          null,
          null,
          null,
          null,
          null,
          2.1,
          2.5,
          null,
          1.8,
          2,
          null,
          2,
          null,
          2.1,
          null,
          2.1,
          1.9,
          2.1,
          null,
          1.6,
          null,
          1,
          4.9,
          1.6,
          null,
          null,
          1.9,
          null,
          null,
          1,
          null,
          null,
          null,
          null,
          2,
          null,
          2,
          2,
          null,
          null,
          null,
          null,
          null,
          null,
          null,
          null,
          2.3,
          1,
          2.2,
          null,
          null,
          null,
          null,
          2.3,
          2.4,
          null,
          null,
          1,
          null,
          null,
          null,
          null,
          1.9,
          1.7,
          4,
          null,
          1,
          null,
          1.9,
          1.8,
          null,
          2.4,
          2.3,
          null,
          null,
          null,
          null,
          1.8,
          2.1,
          null,
          null,
          null,
          null,
          null,
          1,
          null,
          null,
          2,
          null,
          null,
          2.3,
          null,
          2.8,
          2.6,
          2,
          2,
          1.4,
          1.8,
          2.5,
          null,
          null,
          null,
          null,
          null,
          null,
          2,
          2.1,
          null,
          null,
          2.2,
          1.9,
          2.4,
          2.1,
          null,
          null,
          null,
          1.7,
          2.6,
          2.8,
          null,
          2.6,
          2.5,
          null,
          3.6,
          1.9,
          null,
          null,
          2.4,
          2.4,
          2.5,
          null,
          null,
          2.7,
          2.6,
          3.1,
          3,
          null,
          2,
          null,
          null,
          null,
          null,
          null,
          null,
          null,
          null,
          null,
          2.9,
          2.5,
          3.1,
          3.1,
          null,
          null,
          1.8,
          1.7,
          null,
          1.9,
          1.8,
          2,
          null,
          null,
          null,
          null,
          2.2,
          null,
          3.6,
          2.7,
          2.4,
          1,
          2.1,
          null,
          null,
          null,
          null,
          null,
          null,
          2.1,
          null,
          2.1,
          null,
          null,
          null,
          3.1,
          null,
          null,
          null,
          2.3,
          45.1,
          80,
          47,
          83.2,
          38,
          81.4,
          117,
          2,
          2.6,
          2,
          3.2,
          3.2,
          3.2,
          1.8,
          1.8,
          2.9,
          3.4,
          2.9,
          1.7,
          3.1,
          1.8,
          1.8,
          2.7,
          3,
          27.4,
          90,
          15,
          80,
          17,
          14,
          1.8,
          34.1,
          1.5,
          2.4,
          29,
          2.9,
          2.5,
          null,
          2.2,
          2.1,
          1.7,
          1.7,
          1.9,
          9,
          2.5,
          2.3,
          1.7,
          2.2,
          1.9,
          1.6,
          31,
          2.4,
          1.4,
          null,
          17,
          124,
          null,
          13.5,
          29,
          null,
          2.1,
          1.6,
          null,
          2.1,
          1.9,
          2.3,
          46,
          46,
          138,
          49.4,
          18,
          null,
          28,
          30,
          1,
          26,
          1.9,
          1.5,
          2.5,
          1.8,
          1.8,
          1.6,
          null,
          null,
          null,
          2.8,
          null,
          2.9,
          null,
          91,
          2,
          160,
          70.6,
          27,
          3,
          2.2,
          1.6,
          3.6,
          2,
          1.9,
          1.7,
          1.6,
          null,
          2,
          1.6,
          2.2,
          1.7,
          1.6,
          2,
          2.2,
          2.4,
          35,
          99,
          15.2,
          14,
          2,
          1.7,
          1.6,
          1.4,
          2.9,
          1.8,
          2.6,
          52,
          96,
          24,
          13,
          null,
          2.2,
          1.4,
          1.6,
          1.9,
          2,
          2.1,
          1.6,
          null,
          1.3,
          1.8,
          null,
          2.3,
          1.2,
          2,
          21.5,
          1.9,
          1.8,
          2.1,
          1.8,
          2.4,
          null,
          1.7,
          2.6,
          5,
          2,
          2.2,
          2.2,
          2,
          1.8,
          1.6,
          2.9,
          1.5,
          1.7,
          2.1,
          1.7,
          80,
          28,
          27,
          null,
          3.2,
          2.1,
          3.1,
          2.8,
          2,
          1.9,
          3,
          3.6,
          2.6,
          2,
          2.2,
          null,
          23,
          2.9,
          2.3,
          3,
          2.9,
          33.5,
          33.2,
          2.7,
          2.8,
          1.8,
          2.4,
          2.1,
          null,
          2.3,
          2.2,
          1.9,
          2.2,
          1.8,
          2.9,
          2.7,
          1.5,
          null,
          1.8,
          1.7,
          1.6,
          2,
          80,
          14.5,
          28,
          null,
          2,
          2.9,
          1.5,
          1.5,
          2.8,
          2.5,
          88,
          239,
          32,
          123,
          74,
          3,
          17,
          38,
          121,
          13,
          200,
          3,
          27,
          38,
          14,
          15.9,
          13.6,
          28.1,
          29,
          95,
          26,
          32,
          92,
          97,
          18,
          12,
          16,
          32,
          22,
          14,
          26,
          5.6,
          12,
          24,
          56,
          91,
          18.5,
          107,
          3.6,
          1,
          29,
          68.5,
          32.3,
          22.5,
          15,
          14.9,
          25.5,
          62.5,
          22.1,
          31,
          15.2,
          84,
          41,
          162,
          2.7,
          125.6,
          32,
          27,
          110,
          46,
          28,
          31,
          28,
          119.5,
          16,
          111,
          2,
          2.2,
          2.2,
          1.8,
          2.2,
          3,
          78,
          87,
          26.8,
          12,
          20.7,
          1,
          29.8,
          null,
          21,
          28,
          120,
          15,
          21.5,
          29,
          27,
          2,
          2.1,
          2,
          2.2,
          164,
          16,
          95,
          28,
          164,
          29,
          115,
          21,
          41.5,
          3,
          28,
          58,
          15.2,
          120,
          15,
          19,
          121,
          145.4,
          3.2,
          23,
          57,
          26,
          null,
          106,
          84,
          183,
          13,
          82,
          13.5,
          2,
          28,
          33.7,
          4.5,
          1.8,
          1.7,
          1.9,
          44,
          50.6,
          82.3,
          null,
          13,
          82.3,
          118,
          96,
          158.5,
          122,
          29,
          23,
          17.5,
          3.5,
          107,
          28,
          1.6,
          2.2,
          2.5,
          26,
          23,
          25,
          14.9,
          51,
          16,
          34.7,
          142,
          141,
          null,
          null,
          33,
          125,
          298,
          26,
          26,
          21,
          47,
          20,
          1.6,
          3.1,
          3.2,
          90.8,
          null,
          22,
          3.5,
          34.1,
          49,
          26,
          90,
          15,
          26,
          20,
          0,
          30,
          26,
          80,
          60.3,
          2.8,
          2.9,
          null,
          2.8,
          null,
          null,
          13,
          96,
          3.4,
          25.9,
          23,
          28,
          22,
          3,
          15,
          27,
          13,
          0,
          28,
          31,
          null,
          26,
          2.7,
          65,
          126,
          4.9,
          139,
          10,
          22,
          21,
          23.2,
          null,
          20,
          15,
          132,
          132,
          15.2,
          11,
          135,
          135,
          29,
          166,
          null,
          179,
          93,
          32,
          30,
          140,
          154,
          42,
          14,
          5.2,
          15,
          null,
          65,
          21,
          18,
          124,
          64,
          25,
          25,
          22.8,
          121,
          149,
          182,
          120,
          3.5,
          92,
          149.6,
          143.5,
          25.9,
          120.1,
          17.2,
          12,
          51.8,
          187,
          16,
          15,
          154.2,
          187,
          102,
          23,
          88,
          13.5,
          15.7,
          20,
          104,
          54.3,
          15,
          60.3,
          84.7,
          115,
          60.3,
          46,
          28,
          null,
          65.5,
          29.6,
          1.4,
          null,
          32,
          1.4,
          17,
          24,
          95,
          121,
          108,
          112,
          17.5,
          122,
          39,
          14,
          131,
          150,
          55,
          32,
          19,
          3,
          74,
          35,
          null,
          2,
          1.8,
          59.4,
          146,
          130,
          49.5,
          238,
          null,
          33,
          null,
          42,
          15,
          2,
          42,
          17.5,
          121,
          73,
          16,
          47,
          3.4,
          58,
          30.5,
          24,
          108,
          11,
          21.6,
          28,
          16,
          115,
          202,
          44,
          21,
          24,
          28,
          28,
          28,
          25,
          13.5,
          28,
          28,
          16,
          15,
          null,
          20,
          136,
          146.6,
          43,
          31.5,
          21,
          63,
          91,
          36,
          109,
          125,
          13,
          125,
          18,
          33,
          121,
          20,
          26,
          29,
          165,
          21,
          46,
          13.8,
          30,
          168,
          15,
          134,
          13,
          26,
          3.6,
          39.6,
          29,
          37,
          32,
          74,
          102,
          15,
          29,
          32.5,
          3,
          86,
          101,
          95,
          178,
          20,
          91,
          27,
          13,
          53,
          13,
          3,
          164,
          41.5,
          144,
          36,
          28,
          11,
          4.6,
          39,
          96,
          30,
          121,
          30,
          31,
          55,
          122,
          26,
          118.6,
          31,
          32,
          124,
          14,
          39,
          189,
          18,
          13,
          49,
          31,
          20,
          89,
          230,
          115,
          13,
          30,
          36,
          null,
          189,
          108,
          18,
          36,
          9,
          90.4,
          13,
          14,
          16,
          2.8,
          18,
          11,
          102,
          43,
          102.9,
          30,
          91,
          29,
          13,
          125,
          109,
          16,
          40.5,
          40.5,
          20,
          40,
          33,
          102.9,
          36,
          20,
          88.6,
          131,
          32,
          49,
          19,
          13,
          16,
          140.1,
          3.9,
          23,
          56,
          23,
          13,
          34,
          17,
          38,
          100,
          67,
          36,
          14.9,
          13,
          113,
          52,
          49,
          60,
          49.5,
          13,
          64,
          34,
          22,
          14,
          13,
          52,
          140,
          13.7,
          121,
          23.7,
          20,
          30,
          15.2,
          14,
          102.9,
          28,
          113,
          36,
          16,
          135,
          13,
          64,
          13,
          31.5,
          539,
          109,
          504.5,
          33,
          18.3,
          13,
          58,
          102.9,
          32,
          43,
          32.3,
          101,
          18,
          115,
          15.5,
          189,
          38,
          35,
          19,
          133,
          13,
          178,
          160,
          145,
          70,
          37,
          121,
          17.5,
          50,
          50,
          23.8,
          152,
          15.2,
          30,
          16,
          41,
          25.9,
          12.5,
          23.5,
          88,
          305,
          31.5,
          173,
          44,
          35,
          31,
          14.7,
          189,
          11,
          4,
          118.8,
          119,
          29,
          38,
          15.2,
          21,
          3,
          47,
          121,
          109,
          65,
          109,
          21,
          44,
          808,
          22,
          100,
          89,
          117.6,
          86,
          118,
          13,
          97.2,
          16,
          101,
          36,
          20,
          52,
          65,
          13,
          11,
          86,
          121,
          100,
          95,
          104.7,
          14,
          31.5,
          27,
          115,
          106,
          289,
          52,
          2,
          14,
          24,
          131,
          15,
          13,
          103,
          343,
          51.5,
          116,
          16,
          114,
          49,
          30,
          59,
          120,
          120,
          3.2,
          13,
          145,
          143.5,
          96,
          38.4,
          109,
          187,
          53,
          14,
          13,
          118,
          30,
          56.8,
          86,
          null,
          43,
          13,
          24,
          189,
          25.9,
          118,
          30,
          69,
          24.1,
          null,
          23,
          14,
          20,
          2,
          25.9,
          null,
          26,
          28,
          26,
          85,
          438,
          45,
          95,
          86,
          209,
          130.8,
          46,
          15,
          119,
          44,
          1.5,
          33,
          38,
          18,
          121,
          27.5,
          38,
          117,
          110,
          221,
          36,
          33,
          189,
          504.5,
          31.5,
          14,
          70,
          100,
          218,
          16,
          99,
          145,
          13,
          208,
          132,
          25,
          210,
          98.2,
          100,
          152,
          76,
          13,
          1.5,
          207,
          5.7,
          114,
          39,
          3.8,
          107.5,
          107.5,
          231,
          30,
          47,
          125,
          51.5,
          358,
          165,
          42,
          69,
          15,
          284.3,
          118,
          86,
          165,
          29,
          90,
          202,
          76,
          20,
          85.3,
          31.5,
          13,
          97,
          35,
          24,
          13,
          10,
          45,
          2.4,
          45,
          207,
          17,
          48,
          14,
          32,
          177,
          44,
          97,
          40.6,
          40,
          8,
          101,
          14,
          118,
          11,
          16,
          100,
          109,
          29,
          49,
          13,
          35,
          69,
          101,
          97,
          266,
          103,
          4.2,
          13,
          104,
          31,
          13,
          48,
          24.6,
          50.9,
          14,
          110,
          17,
          31.5,
          1.5,
          2.4,
          56,
          124,
          12,
          120,
          null,
          14,
          86,
          27,
          35,
          30,
          379,
          102,
          38.4,
          121,
          4.8,
          145,
          26,
          39,
          13,
          23,
          30,
          145,
          3,
          38,
          99.6,
          13,
          20,
          58.5,
          22,
          115,
          1.4,
          2.5,
          117,
          17,
          13,
          26,
          84,
          115,
          14,
          38,
          22,
          80.7,
          20,
          14,
          2.3,
          114,
          1.5,
          272,
          113,
          3.5,
          13,
          111,
          47,
          30,
          19,
          31.5,
          22,
          116,
          34,
          14,
          13,
          116,
          13,
          55,
          50.6,
          18,
          30,
          7,
          116,
          25,
          120,
          40,
          36,
          186,
          30,
          123,
          13,
          29,
          509,
          107.5,
          101,
          117,
          99,
          808,
          102,
          1.5,
          2.1,
          117,
          44,
          31.5,
          89,
          99,
          45,
          7,
          29,
          43,
          103,
          115,
          808,
          39,
          40,
          225,
          47,
          114,
          118,
          117,
          33,
          24,
          106,
          114,
          3,
          19.4,
          107,
          33,
          1.5,
          30,
          13,
          12,
          20,
          29,
          105,
          19,
          16,
          22,
          115,
          71.6,
          99,
          5,
          31,
          1.5,
          89,
          231,
          1.4,
          117,
          118,
          284,
          65,
          14,
          225,
          54,
          34,
          59,
          28,
          25,
          29,
          28,
          21,
          15,
          145,
          59,
          108,
          13,
          30,
          24,
          29,
          30,
          270,
          30,
          47,
          86,
          88,
          40,
          26,
          77,
          92,
          109,
          108,
          136.9,
          122,
          1.5,
          7,
          120,
          14,
          117,
          34,
          53,
          null,
          99,
          112,
          79,
          107,
          13,
          176,
          37,
          96,
          92,
          4,
          11,
          118,
          10,
          90,
          3.5,
          47,
          113,
          29,
          19,
          142,
          145,
          101,
          108,
          31,
          26,
          13,
          43,
          10,
          108,
          79,
          2.5,
          10,
          739,
          24,
          80,
          100,
          19,
          28,
          3,
          100,
          270,
          194,
          20,
          16,
          14,
          114,
          90,
          49,
          29,
          13,
          19,
          11,
          1.5,
          120,
          1.8,
          18,
          170,
          142,
          null,
          19,
          19,
          16,
          210,
          30,
          null,
          229,
          96,
          231,
          1.5,
          114,
          16,
          40,
          41,
          13,
          13,
          43,
          47,
          80,
          95,
          148,
          149,
          114,
          104.5,
          40,
          47,
          294,
          86,
          47,
          46,
          56,
          208,
          80,
          19,
          237,
          145,
          101,
          122,
          142,
          99,
          29,
          49,
          108,
          50,
          117,
          118,
          108,
          14,
          35,
          60,
          31.5,
          13,
          31.5,
          170,
          108,
          293,
          42,
          34,
          19,
          47,
          93,
          70,
          228,
          13,
          72,
          26,
          1.5,
          220,
          30,
          148,
          56,
          90,
          930,
          90,
          739,
          60,
          26,
          25.6,
          93,
          11,
          15,
          220,
          21,
          100,
          null,
          1.5,
          32,
          19,
          14,
          null,
          117,
          29,
          24,
          42,
          3,
          263,
          6,
          14,
          25,
          19,
          90,
          6,
          47,
          117,
          20,
          87,
          42,
          147,
          144,
          20,
          100,
          47,
          116,
          100.4,
          80,
          88,
          264,
          17,
          25,
          222,
          108,
          47,
          46,
          1.4,
          120,
          70,
          98,
          111,
          114,
          14,
          75,
          170,
          116,
          13,
          232,
          47,
          19,
          101,
          12,
          47,
          31,
          7.5,
          152,
          13,
          87,
          19,
          52,
          56,
          29,
          142,
          250,
          409,
          18,
          81,
          80,
          43,
          8,
          47,
          13,
          79,
          68,
          13,
          1.5,
          47,
          383,
          34,
          29,
          229,
          458,
          81,
          145,
          166,
          423,
          82,
          19,
          152,
          27,
          159,
          29,
          19,
          170,
          108,
          14,
          853,
          129,
          96,
          111,
          116,
          19,
          80,
          88,
          170,
          1164,
          101,
          25,
          142,
          108,
          147,
          27,
          103.7,
          170,
          30,
          108,
          15,
          80,
          80,
          19,
          116,
          108,
          47,
          111,
          30,
          7,
          29,
          114,
          117,
          142,
          119,
          75,
          232,
          25,
          116,
          101,
          116,
          13,
          19,
          12,
          116,
          127,
          29,
          144,
          9,
          170,
          243,
          87,
          42,
          81,
          26,
          43,
          21,
          26,
          111,
          77,
          47,
          229,
          67,
          940,
          88,
          113,
          5,
          207,
          46,
          114,
          114,
          null,
          187,
          25,
          80,
          966,
          347,
          212.5,
          252,
          872,
          133,
          20,
          84,
          50,
          142,
          87,
          108,
          92,
          85,
          30,
          null,
          170,
          22,
          72,
          96,
          47,
          36,
          73,
          114.7,
          501,
          13,
          145,
          325,
          26,
          87,
          236,
          102,
          13,
          170,
          12,
          7,
          142,
          87,
          81,
          78,
          102,
          297,
          24,
          116,
          80,
          101,
          80,
          108,
          17,
          82,
          110,
          91,
          47,
          13,
          20,
          170,
          23,
          116,
          276,
          6,
          210,
          120,
          13,
          145,
          106,
          12,
          248,
          26,
          133,
          115,
          22,
          237,
          634,
          29,
          13,
          16,
          115,
          88,
          120,
          81,
          393,
          108,
          105,
          13,
          116,
          200,
          87,
          26,
          14.8,
          43,
          24,
          14,
          81,
          108,
          75,
          142,
          75,
          109,
          271,
          276,
          14,
          6,
          81,
          88,
          26,
          210,
          80,
          17,
          57,
          739,
          88,
          18,
          101,
          96,
          487,
          17,
          87,
          17,
          80,
          14,
          15,
          13,
          108,
          113,
          101,
          80,
          25,
          43,
          114,
          419,
          108,
          103,
          548,
          16,
          81,
          1165,
          11,
          325,
          220,
          142,
          88,
          87,
          27,
          17,
          20,
          140,
          33,
          101,
          108,
          26,
          100,
          116,
          17,
          13,
          80,
          27,
          116,
          74,
          26,
          41,
          96,
          117,
          287,
          81,
          80,
          200,
          249,
          80,
          13,
          145,
          119,
          108,
          6,
          1119,
          170,
          145,
          95,
          96,
          81,
          24,
          78,
          19,
          397,
          16,
          61,
          96,
          125,
          117,
          644,
          10,
          737,
          13,
          21,
          81,
          120,
          112,
          287,
          102,
          23,
          17,
          237,
          80,
          170,
          14,
          80,
          117,
          42,
          129,
          88,
          26,
          200,
          80,
          15,
          170,
          147,
          581,
          25,
          5.2,
          4,
          15,
          326,
          26,
          67.3,
          80,
          1155,
          252,
          152,
          6,
          118,
          87,
          116,
          170,
          22,
          639,
          975,
          222.8,
          117,
          1110,
          23,
          80,
          116,
          721,
          209,
          37,
          17,
          37,
          37,
          101,
          1198,
          28,
          419,
          13,
          108,
          81,
          13,
          13,
          117,
          127,
          256,
          210,
          137,
          148,
          14,
          831,
          181,
          42,
          142,
          85,
          20,
          117,
          42,
          87,
          953,
          87,
          116,
          87,
          81,
          978,
          80,
          12,
          8,
          117,
          80,
          101,
          81,
          20,
          17,
          25,
          147,
          22,
          275,
          26,
          236,
          413,
          9.5,
          889,
          13,
          108,
          135,
          170,
          99,
          87,
          13,
          142,
          14,
          42,
          103.6,
          146,
          425,
          117.4,
          14,
          14,
          80,
          170,
          69,
          749,
          87,
          16,
          915,
          577,
          764,
          142,
          14,
          117,
          26,
          70,
          166,
          80,
          116,
          80,
          80,
          80,
          87,
          23,
          170,
          119,
          595,
          20,
          80,
          80,
          80,
          17,
          882,
          32,
          555,
          36,
          80,
          74,
          24,
          135,
          22,
          25,
          101,
          637,
          439,
          19,
          26,
          22,
          80,
          1251,
          252,
          80,
          13,
          116,
          81,
          80,
          18.5,
          689,
          90,
          87,
          81,
          10,
          117,
          112,
          80,
          80,
          268,
          38,
          43,
          117,
          551,
          923,
          118,
          410,
          797,
          600,
          129,
          50,
          602,
          138,
          563,
          12,
          195,
          23,
          24,
          101,
          534,
          142,
          222,
          4.5,
          119,
          118,
          27.6,
          0,
          131,
          15.6,
          28,
          1169.2,
          218,
          170,
          11,
          148,
          34,
          109,
          117,
          39,
          170,
          18,
          22,
          11,
          47,
          117,
          13,
          487,
          853,
          1027,
          146,
          119,
          22,
          6,
          23,
          33,
          142,
          131,
          164,
          1165,
          25,
          980,
          439,
          94,
          37,
          126,
          142,
          133.5,
          507,
          153,
          7,
          23,
          472,
          131,
          142,
          1254,
          490,
          550,
          286,
          998,
          833,
          882,
          600,
          146,
          252,
          497,
          27,
          1325,
          1054,
          1026,
          737,
          118,
          130,
          437,
          728,
          957,
          410.3,
          32,
          40.5,
          333,
          108,
          147,
          145.5,
          103.5,
          906,
          255,
          109,
          23,
          977,
          196,
          360,
          1286,
          194,
          48.7,
          103.5,
          23,
          170,
          123,
          129,
          170,
          95.6,
          96,
          1415,
          790,
          26,
          142,
          423,
          72,
          27,
          276,
          705,
          498,
          87,
          104,
          2164,
          461,
          818.3,
          471,
          1056,
          322,
          1479,
          1339,
          810,
          2.2,
          1011,
          1177,
          1390,
          787,
          976.5,
          101.5,
          2270,
          2143,
          2,
          23,
          29,
          1816,
          2046,
          327.3,
          1160,
          1314,
          1.8,
          1319,
          1168,
          1160,
          822,
          58,
          856,
          550,
          428,
          813,
          1496,
          1160,
          1160,
          1230,
          787,
          1356,
          1025,
          42,
          19,
          393,
          29,
          2,
          1.9,
          2,
          1894,
          212,
          117,
          867,
          122.84,
          748,
          422,
          2149,
          433,
          1168,
          377,
          1259,
          0,
          104,
          74,
          2256,
          28.5,
          1299,
          1299,
          1332,
          128.7,
          104,
          1420,
          576,
          14,
          1580.6,
          1327,
          818.3,
          781,
          1176,
          1381,
          1921,
          1044,
          1273,
          68,
          1418.3,
          70,
          2249,
          1472,
          819,
          1.9,
          101.5,
          11,
          1114,
          1907,
          381,
          142,
          100,
          1470,
          null,
          2118,
          8,
          1332,
          387,
          1393,
          1742,
          1192.5,
          104,
          1277,
          1356,
          2238,
          1269,
          145,
          16,
          108,
          184,
          12.2,
          831,
          483,
          1510,
          1195.8,
          495,
          1372,
          1272,
          1154,
          1583,
          1359,
          335,
          495,
          461,
          726,
          1707,
          1348,
          2164,
          2115,
          873,
          349,
          119.5,
          1571,
          523,
          438,
          26,
          1176,
          623,
          235,
          69,
          1299,
          1568,
          873,
          1154,
          null,
          282,
          411,
          2224,
          133,
          2.8,
          1.8,
          1.6,
          2.1,
          9,
          1354,
          20,
          31,
          1315,
          1132,
          1184,
          977,
          680,
          17.5,
          623,
          1154,
          1835,
          2197,
          2335,
          1.8,
          3.2,
          1.7,
          1.6,
          894,
          476,
          142,
          80,
          1707,
          1114,
          1508,
          104,
          1083,
          60.7,
          140,
          195,
          195,
          103,
          1150,
          105,
          104,
          467,
          2667,
          1198,
          3.22,
          1332,
          1706,
          295,
          196,
          1176,
          254,
          24,
          36,
          124,
          16,
          134,
          205,
          165,
          582,
          1035,
          523,
          2336,
          69,
          892,
          1060,
          114,
          14.9,
          50,
          1301,
          1160,
          1060,
          1356,
          2115,
          30,
          2249,
          92,
          1327,
          0,
          1181.85,
          859,
          1282.5,
          29,
          118,
          715,
          64,
          337,
          1016,
          804,
          954,
          880,
          210,
          35,
          750,
          750,
          118,
          512,
          221,
          18.5,
          221,
          143,
          19,
          960,
          48.7,
          62,
          330,
          1807,
          97,
          27.5,
          780,
          972,
          86,
          298,
          26.8,
          554,
          600,
          956,
          498,
          573,
          1939,
          1768,
          80,
          449,
          611,
          28.9,
          599,
          18,
          108,
          2485,
          28,
          816,
          1233,
          1030,
          1800,
          51.2,
          1816,
          108,
          995,
          822,
          156,
          195,
          879,
          87,
          87,
          880,
          116,
          148,
          38,
          61,
          337,
          1566,
          52,
          2013,
          2662,
          750,
          745,
          745,
          880,
          1752,
          25,
          709,
          1831,
          31.5,
          19.8,
          1801,
          673,
          939,
          31.5,
          916,
          652,
          118,
          1056,
          980,
          14.6,
          1105,
          1100,
          80,
          1522,
          135,
          25,
          970,
          210,
          17.2,
          80,
          1228,
          1709,
          1709,
          1709,
          1110,
          28.4,
          877,
          17,
          692,
          599,
          87,
          21.5,
          68,
          290,
          951,
          129,
          7,
          116,
          311,
          597,
          550,
          543,
          87,
          46,
          169,
          977,
          920,
          31,
          834,
          40,
          840,
          951,
          129,
          692,
          null,
          69,
          976,
          21,
          20,
          1880,
          1300,
          752,
          34,
          180,
          182,
          28,
          847,
          41.5,
          1553,
          745,
          2444,
          1830,
          981,
          770,
          1010,
          871,
          1380,
          1007,
          950,
          1330,
          655,
          930,
          91,
          918,
          277,
          336,
          1104,
          1290,
          600,
          1760,
          295,
          80,
          1732,
          1877,
          1799,
          900,
          80,
          1158,
          230,
          1109,
          1515,
          31.3,
          121,
          895,
          995,
          1702,
          16,
          28,
          26,
          1234,
          21.5,
          29,
          1639,
          2200,
          789,
          2203,
          58,
          87,
          1776,
          27.1,
          1052,
          395,
          962,
          107,
          21,
          55.4,
          1015,
          856,
          1760,
          771,
          869,
          1025,
          1641,
          148,
          460,
          142,
          131,
          222,
          13,
          135,
          117,
          50,
          986,
          1560,
          1015,
          746,
          433,
          700,
          589,
          958,
          981,
          23.1,
          200,
          2317,
          80,
          80,
          1095,
          996,
          30,
          297.5,
          868,
          135,
          408.5,
          116,
          1030,
          1180,
          1573,
          0,
          1266,
          932,
          1200,
          879,
          1113,
          1113,
          1868,
          14,
          1146,
          1728,
          981,
          584,
          730,
          19.8,
          35,
          44.8,
          32,
          14,
          20,
          1933,
          1085,
          28,
          618,
          441,
          756,
          1412,
          1207,
          794,
          769,
          100,
          1332,
          1871.5,
          974,
          1636,
          1967,
          1828,
          1038,
          22.1,
          976,
          766.5,
          766,
          763.5,
          97,
          1852,
          720,
          58,
          772,
          1654,
          625,
          573,
          573,
          976,
          2243,
          45,
          485,
          1140,
          6,
          402,
          931,
          402,
          723,
          0,
          296,
          17,
          1815,
          1024,
          14,
          880,
          48,
          1743,
          108,
          1171,
          1426,
          29,
          964,
          14,
          771.4,
          770,
          1332,
          1346,
          1551,
          32,
          1704,
          1819,
          1845,
          1840,
          1838,
          982,
          6.4,
          1754,
          165,
          14.5,
          671,
          295,
          2695,
          1008,
          72.3,
          1137,
          2288,
          1553,
          1168,
          41.5,
          830,
          2000,
          1647,
          222,
          17,
          734,
          27,
          1881,
          840,
          2437,
          1319,
          730,
          957,
          744,
          330,
          460,
          27,
          1025,
          206,
          875,
          835,
          1900,
          690,
          295,
          880,
          845,
          845,
          930,
          1070,
          1293,
          904,
          798,
          46.5,
          2460,
          32,
          962,
          1211,
          769.5,
          23.5,
          1470,
          118,
          49.7,
          1270,
          1800,
          860,
          1817,
          745,
          31.5,
          31.5,
          1083,
          40,
          895,
          32,
          14,
          1020,
          32,
          1707,
          129,
          840,
          1554,
          1900,
          816,
          2787,
          815,
          455,
          59,
          850,
          857,
          1801,
          880,
          947,
          402,
          1841,
          769.5,
          32,
          2741,
          769.6,
          2422,
          962,
          1285,
          1573,
          2604,
          39,
          1888,
          20,
          589,
          624,
          151,
          30,
          25,
          856,
          914,
          1884,
          769.5,
          599,
          914,
          1319,
          28.9,
          1899,
          1010,
          901,
          1560,
          836,
          1493,
          914,
          85,
          1446,
          1885,
          1578,
          1258,
          720,
          27.5,
          1681,
          770,
          210,
          584,
          29,
          1358,
          1171,
          1845,
          30,
          117,
          745,
          1002,
          1311,
          958,
          14,
          871,
          1119,
          1119,
          1338,
          24,
          589,
          1760,
          1110.1,
          69,
          988,
          888,
          37.8,
          29,
          551,
          1583,
          1922,
          24,
          54.4,
          44.1,
          296,
          1906,
          108,
          1906,
          1830,
          365,
          66,
          142,
          216,
          1212,
          6.6,
          1620,
          1274,
          87,
          1327,
          1327,
          1812,
          582,
          1446,
          1850,
          2223,
          0,
          2290,
          508,
          620,
          1794,
          825,
          560,
          962,
          32,
          1152,
          953,
          1043,
          1922,
          1347,
          770.3,
          770,
          923,
          772,
          72,
          888,
          771,
          29,
          945,
          771,
          834,
          1172,
          689,
          1491,
          6.5,
          151,
          769,
          866,
          825,
          43,
          370,
          370,
          370,
          440,
          1808,
          960,
          1327,
          118,
          1765,
          2304,
          1266,
          1514,
          1500,
          1404,
          856,
          945,
          1043,
          1374,
          990,
          800,
          213,
          24.2,
          60.8,
          1853,
          116,
          460,
          80,
          1027,
          1226,
          752,
          465,
          891,
          895,
          477,
          719,
          953,
          45,
          799,
          1843,
          1088,
          1404,
          1184,
          974,
          1068,
          1489,
          25,
          67,
          7,
          1822,
          845,
          1490,
          2777,
          930,
          1255,
          1672,
          799,
          15,
          1900,
          1012,
          721,
          1323,
          34.2,
          871,
          1025,
          851,
          941,
          42,
          703,
          309,
          80,
          52,
          500,
          33,
          686,
          990,
          771,
          875,
          2352,
          717,
          970,
          2853,
          1779,
          6.4,
          930,
          1041,
          1642,
          40,
          1289,
          950
         ]
        }
       ],
       "layout": {
        "legend": {
         "bgcolor": "#F5F6F9",
         "font": {
          "color": "#4D5663"
         }
        },
        "paper_bgcolor": "#F5F6F9",
        "plot_bgcolor": "#F5F6F9",
        "template": {
         "data": {
          "bar": [
           {
            "error_x": {
             "color": "#2a3f5f"
            },
            "error_y": {
             "color": "#2a3f5f"
            },
            "marker": {
             "line": {
              "color": "#E5ECF6",
              "width": 0.5
             }
            },
            "type": "bar"
           }
          ],
          "barpolar": [
           {
            "marker": {
             "line": {
              "color": "#E5ECF6",
              "width": 0.5
             }
            },
            "type": "barpolar"
           }
          ],
          "carpet": [
           {
            "aaxis": {
             "endlinecolor": "#2a3f5f",
             "gridcolor": "white",
             "linecolor": "white",
             "minorgridcolor": "white",
             "startlinecolor": "#2a3f5f"
            },
            "baxis": {
             "endlinecolor": "#2a3f5f",
             "gridcolor": "white",
             "linecolor": "white",
             "minorgridcolor": "white",
             "startlinecolor": "#2a3f5f"
            },
            "type": "carpet"
           }
          ],
          "choropleth": [
           {
            "colorbar": {
             "outlinewidth": 0,
             "ticks": ""
            },
            "type": "choropleth"
           }
          ],
          "contour": [
           {
            "colorbar": {
             "outlinewidth": 0,
             "ticks": ""
            },
            "colorscale": [
             [
              0,
              "#0d0887"
             ],
             [
              0.1111111111111111,
              "#46039f"
             ],
             [
              0.2222222222222222,
              "#7201a8"
             ],
             [
              0.3333333333333333,
              "#9c179e"
             ],
             [
              0.4444444444444444,
              "#bd3786"
             ],
             [
              0.5555555555555556,
              "#d8576b"
             ],
             [
              0.6666666666666666,
              "#ed7953"
             ],
             [
              0.7777777777777778,
              "#fb9f3a"
             ],
             [
              0.8888888888888888,
              "#fdca26"
             ],
             [
              1,
              "#f0f921"
             ]
            ],
            "type": "contour"
           }
          ],
          "contourcarpet": [
           {
            "colorbar": {
             "outlinewidth": 0,
             "ticks": ""
            },
            "type": "contourcarpet"
           }
          ],
          "heatmap": [
           {
            "colorbar": {
             "outlinewidth": 0,
             "ticks": ""
            },
            "colorscale": [
             [
              0,
              "#0d0887"
             ],
             [
              0.1111111111111111,
              "#46039f"
             ],
             [
              0.2222222222222222,
              "#7201a8"
             ],
             [
              0.3333333333333333,
              "#9c179e"
             ],
             [
              0.4444444444444444,
              "#bd3786"
             ],
             [
              0.5555555555555556,
              "#d8576b"
             ],
             [
              0.6666666666666666,
              "#ed7953"
             ],
             [
              0.7777777777777778,
              "#fb9f3a"
             ],
             [
              0.8888888888888888,
              "#fdca26"
             ],
             [
              1,
              "#f0f921"
             ]
            ],
            "type": "heatmap"
           }
          ],
          "heatmapgl": [
           {
            "colorbar": {
             "outlinewidth": 0,
             "ticks": ""
            },
            "colorscale": [
             [
              0,
              "#0d0887"
             ],
             [
              0.1111111111111111,
              "#46039f"
             ],
             [
              0.2222222222222222,
              "#7201a8"
             ],
             [
              0.3333333333333333,
              "#9c179e"
             ],
             [
              0.4444444444444444,
              "#bd3786"
             ],
             [
              0.5555555555555556,
              "#d8576b"
             ],
             [
              0.6666666666666666,
              "#ed7953"
             ],
             [
              0.7777777777777778,
              "#fb9f3a"
             ],
             [
              0.8888888888888888,
              "#fdca26"
             ],
             [
              1,
              "#f0f921"
             ]
            ],
            "type": "heatmapgl"
           }
          ],
          "histogram": [
           {
            "marker": {
             "colorbar": {
              "outlinewidth": 0,
              "ticks": ""
             }
            },
            "type": "histogram"
           }
          ],
          "histogram2d": [
           {
            "colorbar": {
             "outlinewidth": 0,
             "ticks": ""
            },
            "colorscale": [
             [
              0,
              "#0d0887"
             ],
             [
              0.1111111111111111,
              "#46039f"
             ],
             [
              0.2222222222222222,
              "#7201a8"
             ],
             [
              0.3333333333333333,
              "#9c179e"
             ],
             [
              0.4444444444444444,
              "#bd3786"
             ],
             [
              0.5555555555555556,
              "#d8576b"
             ],
             [
              0.6666666666666666,
              "#ed7953"
             ],
             [
              0.7777777777777778,
              "#fb9f3a"
             ],
             [
              0.8888888888888888,
              "#fdca26"
             ],
             [
              1,
              "#f0f921"
             ]
            ],
            "type": "histogram2d"
           }
          ],
          "histogram2dcontour": [
           {
            "colorbar": {
             "outlinewidth": 0,
             "ticks": ""
            },
            "colorscale": [
             [
              0,
              "#0d0887"
             ],
             [
              0.1111111111111111,
              "#46039f"
             ],
             [
              0.2222222222222222,
              "#7201a8"
             ],
             [
              0.3333333333333333,
              "#9c179e"
             ],
             [
              0.4444444444444444,
              "#bd3786"
             ],
             [
              0.5555555555555556,
              "#d8576b"
             ],
             [
              0.6666666666666666,
              "#ed7953"
             ],
             [
              0.7777777777777778,
              "#fb9f3a"
             ],
             [
              0.8888888888888888,
              "#fdca26"
             ],
             [
              1,
              "#f0f921"
             ]
            ],
            "type": "histogram2dcontour"
           }
          ],
          "mesh3d": [
           {
            "colorbar": {
             "outlinewidth": 0,
             "ticks": ""
            },
            "type": "mesh3d"
           }
          ],
          "parcoords": [
           {
            "line": {
             "colorbar": {
              "outlinewidth": 0,
              "ticks": ""
             }
            },
            "type": "parcoords"
           }
          ],
          "pie": [
           {
            "automargin": true,
            "type": "pie"
           }
          ],
          "scatter": [
           {
            "marker": {
             "colorbar": {
              "outlinewidth": 0,
              "ticks": ""
             }
            },
            "type": "scatter"
           }
          ],
          "scatter3d": [
           {
            "line": {
             "colorbar": {
              "outlinewidth": 0,
              "ticks": ""
             }
            },
            "marker": {
             "colorbar": {
              "outlinewidth": 0,
              "ticks": ""
             }
            },
            "type": "scatter3d"
           }
          ],
          "scattercarpet": [
           {
            "marker": {
             "colorbar": {
              "outlinewidth": 0,
              "ticks": ""
             }
            },
            "type": "scattercarpet"
           }
          ],
          "scattergeo": [
           {
            "marker": {
             "colorbar": {
              "outlinewidth": 0,
              "ticks": ""
             }
            },
            "type": "scattergeo"
           }
          ],
          "scattergl": [
           {
            "marker": {
             "colorbar": {
              "outlinewidth": 0,
              "ticks": ""
             }
            },
            "type": "scattergl"
           }
          ],
          "scattermapbox": [
           {
            "marker": {
             "colorbar": {
              "outlinewidth": 0,
              "ticks": ""
             }
            },
            "type": "scattermapbox"
           }
          ],
          "scatterpolar": [
           {
            "marker": {
             "colorbar": {
              "outlinewidth": 0,
              "ticks": ""
             }
            },
            "type": "scatterpolar"
           }
          ],
          "scatterpolargl": [
           {
            "marker": {
             "colorbar": {
              "outlinewidth": 0,
              "ticks": ""
             }
            },
            "type": "scatterpolargl"
           }
          ],
          "scatterternary": [
           {
            "marker": {
             "colorbar": {
              "outlinewidth": 0,
              "ticks": ""
             }
            },
            "type": "scatterternary"
           }
          ],
          "surface": [
           {
            "colorbar": {
             "outlinewidth": 0,
             "ticks": ""
            },
            "colorscale": [
             [
              0,
              "#0d0887"
             ],
             [
              0.1111111111111111,
              "#46039f"
             ],
             [
              0.2222222222222222,
              "#7201a8"
             ],
             [
              0.3333333333333333,
              "#9c179e"
             ],
             [
              0.4444444444444444,
              "#bd3786"
             ],
             [
              0.5555555555555556,
              "#d8576b"
             ],
             [
              0.6666666666666666,
              "#ed7953"
             ],
             [
              0.7777777777777778,
              "#fb9f3a"
             ],
             [
              0.8888888888888888,
              "#fdca26"
             ],
             [
              1,
              "#f0f921"
             ]
            ],
            "type": "surface"
           }
          ],
          "table": [
           {
            "cells": {
             "fill": {
              "color": "#EBF0F8"
             },
             "line": {
              "color": "white"
             }
            },
            "header": {
             "fill": {
              "color": "#C8D4E3"
             },
             "line": {
              "color": "white"
             }
            },
            "type": "table"
           }
          ]
         },
         "layout": {
          "annotationdefaults": {
           "arrowcolor": "#2a3f5f",
           "arrowhead": 0,
           "arrowwidth": 1
          },
          "autotypenumbers": "strict",
          "coloraxis": {
           "colorbar": {
            "outlinewidth": 0,
            "ticks": ""
           }
          },
          "colorscale": {
           "diverging": [
            [
             0,
             "#8e0152"
            ],
            [
             0.1,
             "#c51b7d"
            ],
            [
             0.2,
             "#de77ae"
            ],
            [
             0.3,
             "#f1b6da"
            ],
            [
             0.4,
             "#fde0ef"
            ],
            [
             0.5,
             "#f7f7f7"
            ],
            [
             0.6,
             "#e6f5d0"
            ],
            [
             0.7,
             "#b8e186"
            ],
            [
             0.8,
             "#7fbc41"
            ],
            [
             0.9,
             "#4d9221"
            ],
            [
             1,
             "#276419"
            ]
           ],
           "sequential": [
            [
             0,
             "#0d0887"
            ],
            [
             0.1111111111111111,
             "#46039f"
            ],
            [
             0.2222222222222222,
             "#7201a8"
            ],
            [
             0.3333333333333333,
             "#9c179e"
            ],
            [
             0.4444444444444444,
             "#bd3786"
            ],
            [
             0.5555555555555556,
             "#d8576b"
            ],
            [
             0.6666666666666666,
             "#ed7953"
            ],
            [
             0.7777777777777778,
             "#fb9f3a"
            ],
            [
             0.8888888888888888,
             "#fdca26"
            ],
            [
             1,
             "#f0f921"
            ]
           ],
           "sequentialminus": [
            [
             0,
             "#0d0887"
            ],
            [
             0.1111111111111111,
             "#46039f"
            ],
            [
             0.2222222222222222,
             "#7201a8"
            ],
            [
             0.3333333333333333,
             "#9c179e"
            ],
            [
             0.4444444444444444,
             "#bd3786"
            ],
            [
             0.5555555555555556,
             "#d8576b"
            ],
            [
             0.6666666666666666,
             "#ed7953"
            ],
            [
             0.7777777777777778,
             "#fb9f3a"
            ],
            [
             0.8888888888888888,
             "#fdca26"
            ],
            [
             1,
             "#f0f921"
            ]
           ]
          },
          "colorway": [
           "#636efa",
           "#EF553B",
           "#00cc96",
           "#ab63fa",
           "#FFA15A",
           "#19d3f3",
           "#FF6692",
           "#B6E880",
           "#FF97FF",
           "#FECB52"
          ],
          "font": {
           "color": "#2a3f5f"
          },
          "geo": {
           "bgcolor": "white",
           "lakecolor": "white",
           "landcolor": "#E5ECF6",
           "showlakes": true,
           "showland": true,
           "subunitcolor": "white"
          },
          "hoverlabel": {
           "align": "left"
          },
          "hovermode": "closest",
          "mapbox": {
           "style": "light"
          },
          "paper_bgcolor": "white",
          "plot_bgcolor": "#E5ECF6",
          "polar": {
           "angularaxis": {
            "gridcolor": "white",
            "linecolor": "white",
            "ticks": ""
           },
           "bgcolor": "#E5ECF6",
           "radialaxis": {
            "gridcolor": "white",
            "linecolor": "white",
            "ticks": ""
           }
          },
          "scene": {
           "xaxis": {
            "backgroundcolor": "#E5ECF6",
            "gridcolor": "white",
            "gridwidth": 2,
            "linecolor": "white",
            "showbackground": true,
            "ticks": "",
            "zerolinecolor": "white"
           },
           "yaxis": {
            "backgroundcolor": "#E5ECF6",
            "gridcolor": "white",
            "gridwidth": 2,
            "linecolor": "white",
            "showbackground": true,
            "ticks": "",
            "zerolinecolor": "white"
           },
           "zaxis": {
            "backgroundcolor": "#E5ECF6",
            "gridcolor": "white",
            "gridwidth": 2,
            "linecolor": "white",
            "showbackground": true,
            "ticks": "",
            "zerolinecolor": "white"
           }
          },
          "shapedefaults": {
           "line": {
            "color": "#2a3f5f"
           }
          },
          "ternary": {
           "aaxis": {
            "gridcolor": "white",
            "linecolor": "white",
            "ticks": ""
           },
           "baxis": {
            "gridcolor": "white",
            "linecolor": "white",
            "ticks": ""
           },
           "bgcolor": "#E5ECF6",
           "caxis": {
            "gridcolor": "white",
            "linecolor": "white",
            "ticks": ""
           }
          },
          "title": {
           "x": 0.05
          },
          "xaxis": {
           "automargin": true,
           "gridcolor": "white",
           "linecolor": "white",
           "ticks": "",
           "title": {
            "standoff": 15
           },
           "zerolinecolor": "white",
           "zerolinewidth": 2
          },
          "yaxis": {
           "automargin": true,
           "gridcolor": "white",
           "linecolor": "white",
           "ticks": "",
           "title": {
            "standoff": 15
           },
           "zerolinecolor": "white",
           "zerolinewidth": 2
          }
         }
        },
        "title": {
         "font": {
          "color": "#4D5663"
         }
        },
        "xaxis": {
         "gridcolor": "#E1E5ED",
         "showgrid": true,
         "tickfont": {
          "color": "#4D5663"
         },
         "title": {
          "font": {
           "color": "#4D5663"
          },
          "text": ""
         },
         "zerolinecolor": "#E1E5ED"
        },
        "yaxis": {
         "gridcolor": "#E1E5ED",
         "showgrid": true,
         "tickfont": {
          "color": "#4D5663"
         },
         "title": {
          "font": {
           "color": "#4D5663"
          },
          "text": ""
         },
         "zerolinecolor": "#E1E5ED"
        }
       }
      },
      "text/html": "<div>                            <div id=\"c269b3e6-e776-4b09-8bf9-4cc0d6850a55\" class=\"plotly-graph-div\" style=\"height:525px; width:100%;\"></div>            <script type=\"text/javascript\">                require([\"plotly\"], function(Plotly) {                    window.PLOTLYENV=window.PLOTLYENV || {};\n                    window.PLOTLYENV.BASE_URL='https://plotly.com';                                    if (document.getElementById(\"c269b3e6-e776-4b09-8bf9-4cc0d6850a55\")) {                    Plotly.newPlot(                        \"c269b3e6-e776-4b09-8bf9-4cc0d6850a55\",                        [{\"boxpoints\": false, \"line\": {\"width\": 1.3}, \"marker\": {\"color\": \"rgba(255, 153, 51, 1.0)\"}, \"name\": \"LAMINA_D_AGUA_M\", \"orientation\": \"v\", \"type\": \"box\", \"y\": [1827.0, 2730.0, 1705.84, 1705.35, 1653.56, 1267.0, 92.0, 1663.0, 955.0, 700.0, 1919.4, 150.0, 446.0, 2708.0, 78.6, 22.5, 122.0, 1403.0, 1030.0, 104.0, 2248.0, 505.0, 2484.0, 2321.0, 127.0, 103.0, 2115.0, 880.0, 1323.0, 1315.0, 1653.2, 1651.44, 242.0, 1037.0, 132.0, 2033.0, 125.0, 104.0, 104.0, 1638.46, 108.0, 104.0, 1400.0, 1224.0, 1783.0, 109.0, 127.6, 1332.8, 122.0, 122.0, 1266.0, 18.7, 2142.0, 30.8, 131.0, 1745.0, 471.0, 471.0, 135.0, 2026.0, 1844.0, 2135.0, 1947.0, 1324.0, 135.0, 1870.0, 2156.0, 104.0, 59.3, 145.0, 1299.0, 153.0, 1858.0, 78.6, 1943.0, 121.0, 1818.0, 1662.83, 36.0, 1077.0, 130.5, 1288.6, 1237.0, 1302.0, 1224.0, 142.0, 1596.0, 1557.0, 1123.0, 1848.0, 870.0, 192.0, 100.0, 601.0, 151.0, 12.0, 1107.0, 762.0, 103.0, 880.0, 938.0, 1099.0, 779.0, 902.0, 448.0, 23.0, 30.0, 538.0, 445.0, 918.0, 87.0, 445.0, 43.0, 132.0, 925.0, 747.0, 20.0, 860.0, 87.0, 129.0, 486.0, 182.0, 108.0, 877.0, 103.0, 60.0, 28.7, 25.6, 880.0, 820.0, 1769.0, 28.0, 142.0, 111.0, 96.0, 1668.0, 1544.0, 202.0, 57.0, 81.0, 80.0, 170.0, 16.0, 24.6, 15.0, 218.0, 22.0, 1028.0, 138.0, 2254.0, 0.0, 934.0, 14.0, 42.6, 20.0, 591.0, 534.0, 950.0, 384.0, 65.0, 990.0, 1071.0, 770.8, 0.0, 104.0, 117.0, 243.0, 164.0, 117.0, 1020.0, 101.0, 210.0, 23.0, 105.0, 168.0, 1241.0, 102.0, 32.3, 25.7, 466.0, 156.5, 2667.0, 13.0, 940.0, 108.0, 142.0, 14.0, 45.0, 36.0, 1423.0, 1772.0, 823.0, 295.0, 630.0, null, 960.0, 97.0, 495.0, 108.0, 1131.0, 1046.0, 92.0, 1331.0, 1566.0, 254.0, 109.0, 1290.0, 122.0, 240.0, 2156.0, 110.0, 104.0, 155.0, 928.0, 1027.0, 155.0, 121.0, 1692.0, 2150.0, 1078.0, 0.0, 1470.0, 1285.0, 13.5, 1973.0, 1581.7, 150.0, 1436.0, 637.0, 669.0, 1569.0, 104.0, 2139.0, 1330.0, 2114.0, 1077.0, 104.0, 1244.0, 104.0, 1470.0, 585.5, 1609.0, 2247.0, 1078.0, 669.0, 1438.0, 1609.0, 416.0, 1345.0, 1339.0, 1544.0, 1275.0, 1314.0, 945.0, 1046.0, 134.0, 1315.0, 1048.0, 2484.0, 122.0, 1438.0, 1581.7, 1472.0, 1285.0, 2011.0, 2160.0, 1183.0, 137.0, 1730.0, 1419.6, 1288.6, 129.0, 1863.0, 778.0, 2279.0, 1432.0, 1879.0, 1026.0, 1779.0, 2180.0, 2424.0, 1175.0, 1175.0, 1175.0, 1132.0, 130.0, 2031.0, 1344.0, 1429.0, 1207.0, 1499.0, 1419.0, 139.0, 267.0, 126.0, 133.4, 1473.0, 70.0, 122.0, 969.0, 469.0, 518.0, 39.2, 1808.0, 103.0, 495.0, 1639.0, 122.0, 297.0, 106.0, 2246.0, 112.0, 2178.0, 1321.0, 2128.0, 96.0, 1046.0, 41.5, 1228.0, 1313.0, 380.0, 1816.0, 1839.0, 822.0, 215.0, 1596.0, 2061.0, 2125.0, 1840.0, 1455.0, 2.65, 2031.0, 2161.0, 1725.0, 1663.92, 2119.0, 1746.0, 1332.0, 1184.0, 254.0, 1852.0, 71.0, 778.0, 1677.5, 189.0, 2118.0, 1821.0, 1790.0, 1828.0, 155.0, 957.0, 814.0, 711.0, 604.0, 368.0, 1007.0, 1996.0, 32.0, 80.0, 1687.0, 31.5, 3.2, 38.0, 455.0, 80.0, 950.0, 895.0, 550.0, 796.0, 1583.0, 80.0, 16.0, 823.0, 951.0, 960.0, 584.0, 1389.0, 23.0, 114.0, 15.7, 18.0, 34.6, 933.0, 198.0, 0.0, 568.0, 809.0, 700.0, 80.0, 1063.0, 330.0, 330.0, 80.0, 80.0, 295.0, 2.8, 254.0, 869.0, 1347.0, 355.0, 296.0, 53.5, 710.0, 68.0, 47.0, 210.0, 370.0, 24.3, 1087.0, 2666.0, 49.0, 1453.0, 1397.0, 927.0, 1044.0, 1039.0, 101.0, 113.0, 164.0, 159.0, 1827.0, 1402.0, 1060.0, 1671.0, 1467.0, 1306.0, 1496.0, 281.0, 1468.0, 1338.7, 1795.0, 430.0, 1444.0, 1339.0, 1046.0, 1589.0, 40.0, 729.0, 1467.0, 477.0, 1455.0, 1455.0, 294.0, 1291.0, 171.0, 1010.0, 235.0, 1120.0, 1044.0, 715.0, 1229.0, 1104.0, 1831.0, 1268.0, 1427.0, 380.0, 553.0, 875.0, 1161.0, 115.0, 1492.0, 1456.0, 100.0, 0.25, 1328.0, 294.0, 104.0, 1445.0, 1116.0, 1553.0, 704.0, 704.0, 252.0, 35.0, 1120.0, 0.0, 870.0, 1188.0, 1381.0, 276.0, 1357.0, 1382.0, 1413.0, 111.0, 1427.0, 1360.0, 1384.0, 1368.0, 1037.0, 2316.0, 2387.0, 912.0, 1530.0, 29.0, 97.0, 290.0, 29.0, 87.0, 600.0, 950.0, 922.0, 87.0, 727.0, 19.7, 875.0, 187.0, 146.0, 14.0, 593.0, 1140.0, 600.0, 180.0, 740.0, 200.0, 117.0, 602.0, 196.0, 585.0, 19.4, 107.0, 118.0, 951.0, 950.0, 1351.0, 873.0, 19.0, 477.0, 199.0, 97.0, 560.0, 450.0, 750.0, 687.0, 476.0, 1028.0, 845.0, 197.0, 223.0, 1150.0, 468.0, 479.0, 1105.0, 70.0, 104.0, 103.0, 1326.0, 1723.0, 874.0, 1083.0, 888.0, 1294.0, 2172.0, 1744.0, 505.0, 42.0, 1421.0, 1803.0, 1381.0, 1104.0, 4.8, 1429.0, 2.2, 1798.0, 1890.0, 324.0, 25.0, 343.0, 116.0, 1813.0, 503.0, 1527.0, 1454.0, 1454.0, 748.0, 1277.0, 1482.0, 1267.0, 101.0, 1580.0, 108.0, 1320.0, 1340.0, 104.0, 1367.0, 1.47, 2144.0, 1308.0, 302.0, 1121.0, 977.0, 104.0, 682.0, 108.0, 1531.0, 1072.0, 104.0, 1339.0, 1384.0, 1368.0, 307.0, 1274.0, 1555.0, 1092.0, 242.0, 1287.0, 1424.0, 1893.0, 1055.0, 1681.0, 1165.0, 1165.0, 109.0, 1092.0, 122.0, 1761.0, 1888.3, 1132.0, 85.5, 2223.0, 276.0, 26.0, 1583.0, 539.0, 1562.0, 2197.0, 110.0, 411.0, 670.0, 1084.0, 985.0, 469.0, 1602.0, 1322.0, 1602.0, 1912.0, 624.0, 623.5, 624.0, 624.0, 1464.0, 1756.0, 1221.0, 114.0, 1055.0, 1255.0, 1893.0, 1178.0, 1178.0, 1227.0, 122.8, 721.0, 1737.0, 1737.0, 1484.0, 500.0, 203.0, 1079.75, 68.0, 1091.0, 104.0, 1376.0, 906.0, 128.7, 986.0, 39.6, 1186.0, 1177.0, 495.0, 977.0, 1471.0, 1517.0, 1429.0, 130.5, 1094.0, 104.0, 115.0, 1436.0, 97.0, 104.0, 985.0, 103.2, 1127.0, 147.0, 166.4, 1142.0, 2.96, 555.0, 1653.0, 1186.0, 1147.0, 670.0, 1192.5, 1273.0, 1068.0, 1567.0, 479.0, 1350.0, 197.0, 110.0, 1583.0, 830.0, 1166.0, 531.0, 708.0, 101.0, 25.0, 488.0, 507.0, 1250.0, 108.0, 2.13, 25.0, 141.0, 1184.0, 128.7, 985.0, 1273.0, 1752.0, 517.6, 1744.0, 343.0, 104.0, 104.0, 104.0, 680.0, 708.0, 788.0, 1354.0, 161.2, 2.97, 276.0, 1255.0, 680.0, 1338.0, 1382.0, 70.0, 2140.0, 928.0, 158.0, 151.0, 1481.0, 216.0, 1567.0, 1649.0, 1068.0, 1234.0, 2.4, 626.0, 223.0, 1430.0, 1159.0, 104.0, 1255.0, 1177.0, 1530.0, 334.0, 1044.0, 130.5, 1596.0, 132.0, 1650.0, 1031.0, 1132.0, 1510.0, 104.0, 1183.0, 1660.0, 531.0, 1318.0, 189.0, 1072.0, 1320.0, 735.0, 1389.0, 1367.0, 1660.0, 977.0, 977.0, 1342.0, 749.0, 679.2, 977.0, 114.0, 513.0, 1349.0, 1255.0, 906.0, 903.0, 670.0, 718.0, 715.0, 1142.0, 40.1, 1338.0, 1403.0, 159.0, 1134.0, 1389.0, 1428.0, 729.0, 91.0, 34.0, 1362.0, 12.0, 30.0, 769.5, 2.26, 953.0, 1306.0, 1553.0, 1689.0, 1608.0, 3.0, 121.0, 1332.0, 1326.0, 1364.0, 194.0, 1240.0, 1150.0, 1275.0, 1478.0, 1560.0, 22.5, 2849.0, 1525.0, 1445.0, 137.5, 1270.4, 120.0, 1198.0, 1381.0, 770.0, 40.0, 1219.0, 547.0, 1084.0, 1268.0, 1145.0, 771.0, 767.0, 158.0, 131.0, 108.0, 950.0, 1416.0, 1445.0, 1196.0, 1831.0, 890.0, 836.0, 116.0, 1949.0, 434.0, 91.0, 1219.0, 937.0, 952.0, 15.0, 34.0, 208.0, 44.0, 1557.0, 67.0, 738.0, 540.0, 1496.0, 799.0, 20.0, 25.5, 1372.0, 99.8, 1460.5, 976.0, 1691.0, 1663.0, 895.0, 1140.0, 2052.0, 159.0, 1931.0, 1880.0, 2887.0, 624.0, 1119.0, 1144.0, 1470.0, 1280.0, 128.6, 98.0, 1830.0, 28.0, 958.0, 1200.0, 916.0, 1266.0, 1227.0, 335.0, 1241.0, 1367.0, 593.0, 118.0, 949.0, 949.0, 1665.0, 1074.0, 1471.0, 950.0, 1621.0, 2.4, 156.0, 122.0, 122.0, 122.0, 1632.0, 870.0, 870.0, 1168.0, 15.0, 1266.0, 1012.0, 4.0, 7.0, 811.0, 2081.0, 1168.0, 1543.7, 1521.0, 621.0, 2849.0, 1156.0, 1547.0, 127.0, 1196.0, 1539.0, 1252.0, 1455.0, 1467.0, 1079.0, 903.0, 1589.0, 905.0, 970.0, 1574.0, 783.0, 902.0, 311.0, 950.0, 939.0, 1728.0, 815.0, 820.0, 862.0, 1316.0, 0.0, 621.0, 425.0, 1316.0, 110.0, 1210.0, 252.0, 1671.0, 437.0, 1590.0, 1370.0, 1129.0, 1026.0, 1386.0, 1342.0, 1544.0, 1428.0, 623.5, 1720.0, 164.0, 1745.0, 26.0, 195.0, 1743.0, 847.0, 48.0, 1794.0, 520.0, 1436.0, 1252.0, 330.0, 1235.0, 2686.0, 1160.0, 1037.0, 1134.0, 91.0, 548.0, 143.0, 141.0, 141.0, 2053.0, 395.0, 1638.0, 799.0, 1800.0, 1869.0, 6.0, 1311.0, 1161.0, 623.0, 171.0, 1134.0, 6.4, 1163.0, 46.0, 1343.0, 82.54, 1037.0, 2257.0, 836.0, 1113.0, 888.0, 958.0, 864.0, 1550.0, 1196.0, 1861.0, 1555.0, 216.0, 107.0, 1625.0, 178.0, 100.0, 853.0, 1244.0, 1037.0, 1180.0, 1229.0, 1384.0, 1229.0, 1403.0, 1393.0, 1445.0, 851.0, 21.0, 897.0, 1841.0, 803.0, 803.0, 1595.0, 2327.0, 1037.0, 281.0, 1208.0, 1252.0, 1241.0, 912.0, 1129.0, 0.0, 1299.0, 1735.0, 1162.0, 0.0, 1380.0, 294.0, 1020.0, 402.0, 1072.0, 1100.0, 29.0, 1163.0, 2625.0, 1854.0, 1223.0, 1069.0, 1306.0, 1312.0, 790.0, 790.0, 1283.0, 1127.0, 1527.0, 1280.0, 1477.0, 1234.0, 1760.0, 786.0, 35.0, 1097.0, 770.0, 995.0, 790.0, 1138.0, 540.0, 30.0, 1357.0, 1038.0, 870.0, 1370.0, 150.0, 1319.0, 879.0, 19.0, 80.0, 1164.0, 19.0, 1319.0, 1219.0, 391.0, 43.0, 891.0, 1129.0, 1473.0, 425.0, 2789.0, 912.0, 1854.0, 1195.0, 916.0, 906.0, 44.0, 769.0, 1689.0, 1358.0, 1046.0, 1742.0, 469.0, 1339.0, 1079.0, 1235.0, 1188.0, 1233.0, 1037.0, 14.0, 30.0, 26.0, 1537.0, 900.0, 2100.0, 1535.0, 977.0, 1273.0, 1864.0, 1250.0, 1674.0, 1701.0, 1427.0, 430.0, 1206.0, 1420.0, 1339.0, 1557.0, 2.2, 783.0, 3.0, 871.0, 1234.0, 1440.0, 1743.0, 1163.0, 1887.0, 6.6, 26.0, 668.0, 1163.0, 1535.0, 1347.0, 1621.0, 19.0, 1663.0, 108.0, 1116.0, 1037.0, 990.0, 1549.0, 1285.0, 1410.0, 879.0, 1653.0, 143.0, 1391.0, 100.0, 47.0, 142.0, 120.0, 26.0, 1656.0, 101.0, 118.0, 19.0, null, 2.5, 986.0, 1642.0, 104.0, 1020.0, 227.0, 1322.0, 17.0, 39.0, 294.0, 990.0, 28.0, 32.0, 1539.0, 130.5, 1956.0, 2135.0, 106.5, 1339.0, 104.0, 1259.0, 142.0, 28.0, 104.0, 101.0, 144.0, 25.0, null, null, null, null, null, null, 104.0, 2011.0, 148.0, 295.0, 131.0, 78.0, 1275.0, 411.0, 1675.0, 1451.0, 141.0, 13.0, 619.0, 277.0, 22.0, 968.0, 1338.5, 1327.0, 670.0, 199.0, 1857.0, 1271.0, 2213.0, 377.0, 1009.0, 1.8, 323.0, 1323.0, 1029.0, 296.0, 43.0, 1895.0, 648.0, 1332.0, 117.0, 49.0, 75.6, 96.0, 80.0, 337.0, 38.6, 28.0, 437.0, 2154.0, 1764.0, 2136.0, 307.0, 31.0, 2.5, 2.4, 60.0, 30.0, 180.0, 1434.0, 56.9, 1262.0, 2.0, 1.9, 121.0, 67.0, 95.0, 144.5, 801.0, 19.0, 85.0, 1451.0, 555.0, 47.0, 60.0, 49.0, 1413.0, 115.0, 200.0, 2163.0, 1160.0, 1160.0, 1270.0, 1403.0, 17.5, 134.0, 151.0, 770.0, 104.0, 117.5, 108.0, 830.0, 1918.0, 1246.0, 1338.5, 1132.0, 1166.0, 132.0, 1808.0, 1964.0, 2484.0, 1315.0, null, 1132.0, 1483.0, 19.0, 14.0, 108.0, 1494.0, 42.0, 21.0, 134.0, 1472.0, 753.0, 1671.0, 957.0, 945.0, 11.0, 56.0, 103.0, 382.0, 1889.0, 1195.8, 550.0, 860.0, 1663.0, 979.0, 1048.0, 732.0, 120.0, 170.0, 30.0, 1014.0, 13.0, 1889.0, 1890.0, 2336.5, 2164.0, 23.0, 685.0, 1611.0, 2.3, 3.2, 1510.0, 324.0, 1154.0, 104.0, 1277.0, 433.0, 1269.0, 475.0, 505.0, 775.0, 1262.0, 1467.0, 6.0, 19.0, 2137.0, 17.0, 505.0, 2155.8, 104.0, 2.3, 80.0, 60.0, 108.0, 96.0, 21.0, 1111.0, 915.0, 1025.0, 1286.0, 1467.0, 100.0, 25.0, 1512.0, 1080.0, 1036.0, 262.0, 1771.0, 637.0, 797.0, 866.0, 22.0, 101.0, 18.0, 1222.0, 104.0, 1050.0, 1080.0, 88.0, 106.0, 770.0, 67.0, 17.7, 1438.0, 1226.0, 150.0, 608.0, 2017.0, 1389.0, 108.0, 1.9, 2126.0, 2147.0, 2141.0, 1287.0, 2131.0, 1808.0, 969.0, 1464.0, 1222.0, 25.0, 136.0, 1505.0, 1828.0, 19.0, 140.0, 800.0, 125.0, 724.0, 1224.0, 2180.0, 1320.0, 2118.0, 1797.0, 2153.0, 626.0, 172.0, 2202.0, 1409.0, 1222.0, 131.0, 1132.0, 1080.0, 1555.0, 228.0, 130.0, 105.0, 188.0, 489.0, 2.0, 131.5, 1277.0, 134.0, 1224.0, 1364.0, 1438.0, 137.0, 1710.0, 1730.0, 770.0, 1288.6, 1730.0, 1841.0, 1547.0, 108.0, 136.0, 1023.0, 1071.0, 1202.0, 38.0, 1759.0, 999.0, 0.0, 111.0, 105.0, 2280.0, 478.5, 1464.5, 136.0, 2273.0, 177.0, 1200.0, 1925.0, 1781.2, 3.08, 780.0, 1359.0, 2238.0, 2052.0, 2167.0, 209.0, 1193.0, 122.0, 1728.0, 2153.0, 2166.0, 1314.0, 95.0, 1158.0, 1131.0, 1148.0, 1030.0, 1513.0, 52.0, 165.0, 990.0, 1816.0, 1280.0, 1035.0, 724.0, 1010.0, 519.0, 2460.0, 1868.5, 1052.0, 1299.0, 1299.0, 1356.0, 1885.0, 2213.0, 2022.0, 1935.0, 69.0, 144.0, 45.0, 1800.0, 122.0, 382.0, 28.0, 1641.0, 103.0, 836.0, 1818.0, 106.0, 122.0, 1476.0, 1183.0, 104.0, 104.0, 152.0, 152.0, 1571.8, 1539.0, 1340.0, 1266.0, 990.0, 1658.0, 461.0, 1607.0, 1366.0, 106.0, 134.0, 1462.0, 497.0, 1779.0, 1183.0, 127.6, 1900.0, 1092.0, 1505.0, 185.0, 2173.0, 1050.0, 505.0, 479.0, 1244.0, 133.0, 285.0, 2066.0, 104.0, 1549.0, 709.0, 1228.0, 99.6, 1196.0, 2182.0, 980.0, 1841.0, 400.0, 1323.0, 104.0, 168.0, 127.0, 285.0, 1784.0, 130.0, 2437.0, 741.0, 1610.0, 2.5, 104.0, 178.0, 1470.0, 2156.0, 1468.0, 50.0, 624.0, 1198.0, 2.2, 2749.0, 139.0, 892.0, 1085.0, 106.0, 1078.0, 1077.0, 1055.0, 924.0, 1196.0, 1.9, 939.0, 700.0, 343.0, 1509.0, 105.0, 1639.0, 2111.0, 1383.0, 446.0, 1185.0, 413.0, 44.3, 2139.0, 933.0, 1342.0, 1029.0, 1358.0, 993.0, 393.0, 106.0, 1266.0, 770.0, 13.0, 880.0, 820.0, 602.0, 146.0, 122.0, 1800.0, 89.0, 146.0, 2027.0, 1181.85, 1226.0, 947.0, 1668.0, 1484.0, 483.0, 1339.0, 1970.0, 1790.0, 949.0, 106.0, 2138.0, 1839.0, 626.0, 122.0, 1621.0, 1560.0, 1085.0, 108.0, 101.3, 1392.0, 1397.0, 990.0, 118.0, 130.0, 413.0, 1350.0, 2788.8, 1342.1, 924.0, 1695.0, 2416.5, 2240.0, 2134.0, 229.0, 2694.0, 1181.0, 980.0, 1332.0, 1017.0, null, null, null, null, null, null, null, null, null, null, null, null, null, null, null, null, null, null, null, null, null, null, null, null, null, 1889.0, 1889.0, 1785.0, 1650.61, 133.0, 1738.0, 1131.0, 1202.0, 1704.0, 1376.0, 1339.0, 1747.0, 1238.0, 1154.0, 668.0, 2178.0, 2803.0, null, null, null, null, null, null, null, null, null, null, null, null, null, null, null, null, null, null, null, null, null, 1025.0, 1719.0, 106.0, 1027.0, 122.0, 1769.0, 128.0, 1344.0, 2266.0, 2174.0, null, null, null, null, null, null, null, null, null, null, null, 158.0, 1926.0, 1873.0, 1822.0, 134.0, 2159.0, 2437.0, 1400.0, 2328.0, 1433.0, 1343.0, 1765.0, 1824.0, 122.0, 275.0, 1668.0, 95.0, 1790.0, 1677.5, 1548.0, 1743.0, 924.0, 1431.0, 122.0, 1340.0, 1780.0, 1131.0, 1003.0, 1934.0, 1393.0, 1448.0, 875.0, 1730.0, 2018.0, 143.0, 2244.0, 2419.0, 1673.0, 1433.0, 2477.0, 1400.0, 1333.0, 123.0, 2460.0, 2812.0, 2022.0, 2215.0, 159.0, 968.0, 2250.0, 1740.0, 2212.0, 1359.0, 980.0, 1092.0, 122.0, 1145.0, 1024.0, 139.0, 26.0, 1860.0, 1061.0, 1031.0, 1580.6, 1806.0, 2222.7, 1889.0, 1187.0, 107.0, 1765.0, 1568.0, 921.0, 665.0, 2009.0, 1719.0, 1448.0, 1889.0, 2266.0, 1537.0, 107.0, 121.0, 101.0, 168.0, 1098.0, 1092.0, 1451.0, 1351.0, 1401.0, 1625.0, 2237.0, 2031.0, 2160.0, 837.0, 1640.0, 1748.0, 2.56, 257.5, 1335.0, 883.0, 106.4, 1705.0, 949.0, 1116.0, 106.0, 416.0, 1609.0, 1763.0, 1566.0, 2137.0, 1429.0, 1331.0, 1429.0, 128.0, 1705.84, 1264.0, 2047.0, 2583.0, 139.0, 106.0, 1267.7, 2119.0, 1597.0, 1417.0, 122.0, 106.0, 2216.0, 1515.0, 106.0, 2131.0, 689.0, 2229.0, 2164.0, 1698.0, 2917.0, 267.0, 284.0, 2126.0, 2476.0, 2.41, 689.0, 122.0, 1037.0, 953.0, 1438.0, 2120.0, 1717.0, 1320.0, 1878.0, 2145.0, 2021.0, 1451.0, 1719.0, 2578.0, 1386.0, 1721.0, 132.0, 2146.0, 1700.0, 874.0, 106.0, 2154.0, 1474.0, 1425.0, 2135.0, 1848.0, 689.0, 1355.0, 1308.0, 2125.0, 1738.0, 2.41, 1292.0, 1282.0, 122.0, 2.41, 2295.0, 132.0, 2151.0, 1721.0, 1338.7, 2133.0, 2672.0, 2032.0, 1806.0, 107.0, 2126.0, 2136.0, 1040.0, 106.0, 1443.0, 1826.0, 2120.0, 1375.0, 837.0, 1376.0, 106.4, 2437.0, 1236.0, 130.0, 1474.0, 2091.0, 106.0, 1520.0, 1202.0, 1653.56, 1337.0, 2128.0, 1706.0, 106.0, 2151.0, 1698.0, 1090.0, 2170.1, 1093.1, 0.0, 2103.0, 2127.0, 0.0, 1343.0, 1092.0, 2179.0, 120.0, 1330.0, null, null, null, null, null, null, null, null, null, null, 316.0, 2264.0, 122.0, 1362.0, 106.0, 1486.0, 1295.0, 134.0, 1344.0, 106.0, 471.0, 1266.0, 122.0, 2182.0, null, null, null, null, null, null, null, null, null, null, null, null, null, null, null, null, null, null, null, null, null, 87.0, 80.0, 2142.0, 2130.0, 116.0, 791.0, 1548.0, 235.0, 2138.0, 1844.0, 1651.75, 1204.0, 2150.0, 2504.0, 122.0, 1014.0, 1808.0, 87.0, null, null, 605.0, 995.0, 110.0, 133.0, 888.0, 2137.0, 132.0, 1885.0, 137.0, 1259.0, 1401.0, null, null, null, null, null, null, null, null, 1717.0, 1351.0, 542.0, 2587.0, 974.0, 1683.0, 2015.0, 1494.0, 718.0, null, null, null, null, null, null, null, 1182.0, 1024.0, 2821.4, 469.0, 839.0, 2008.0, 2143.0, 133.0, 2242.0, 2114.0, 1576.0, 1302.0, 157.8, 115.0, 135.0, 2479.0, 476.0, 824.0, 670.0, 2101.0, 980.0, 2015.0, 32.0, 29.0, 1696.0, 1470.0, 1201.0, null, 1314.0, 1417.0, 361.0, 2146.0, 22.0, 1073.0, 982.0, 39.0, 1094.0, 1050.0, 210.0, 1200.0, 948.0, 6.3, 195.0, 2119.0, 1275.0, 1886.0, 1537.0, 743.0, 875.0, 106.0, 2135.0, 2146.0, 1884.0, 925.0, 914.0, 906.0, 1629.0, 1361.0, 840.0, 906.0, 816.5, 573.0, 28.0, 589.0, 143.0, 0.0, 1181.0, 1972.0, 1469.0, 2532.0, 2295.0, 2643.0, 1597.0, 1323.0, 2131.0, 442.0, 2246.0, null, null, 33.8, 255.0, 542.0, 222.0, 1913.0, 2130.0, 2214.0, 122.0, 106.0, 2158.0, 1235.0, 1065.0, 1805.0, 1313.0, 1348.0, 750.0, 865.0, 510.0, 53.5, 7.0, 924.0, 0.0, 1515.0, 2181.0, 1340.0, 1440.0, 1.43, 1.43, 1145.0, 26.0, 106.0, 1725.0, 122.0, 2046.0, 1065.0, 2038.0, 779.0, 197.0, 0.0, 1098.0, 24.0, 1241.0, 945.0, 1706.0, 2114.0, 273.0, 1180.0, 1202.0, 1737.0, 122.0, 88.0, 122.0, 122.0, 836.0, 1771.0, 2115.0, 1423.0, null, null, 80.0, 33.0, 2143.0, 1376.0, 1433.0, 103.3, 25.0, 82.0, 297.0, 130.0, 2145.0, null, null, null, null, null, null, null, null, 611.0, 42.0, 79.0, 167.0, 25.0, 1333.0, 122.0, 1698.0, 1455.0, 2432.0, 2812.0, 1776.0, 1005.0, 1181.85, 1181.85, 1033.0, 2775.0, null, 1245.0, 101.0, 594.0, 0.0, 837.0, 2177.0, 2024.0, 1728.0, 1783.0, 107.0, 106.0, 361.0, 106.0, 130.0, 375.0, 763.0, 117.0, 216.7, 1574.3, 122.0, 523.0, 2198.0, 1376.0, 875.0, 1374.0, 128.0, 1438.0, 1065.0, 1342.0, 103.0, 1389.0, 1848.0, null, null, null, 437.0, 1393.0, 1963.0, 1531.0, 1558.0, 1558.2, 718.0, 2120.0, 2202.0, 106.0, 1745.0, 822.9, 1700.0, null, null, null, null, null, null, null, null, null, 12.0, 142.0, 2013.0, 1788.0, 1790.0, 1558.0, 1743.0, 1746.0, 888.0, 1692.0, 778.0, null, null, null, null, null, null, 87.0, 105.0, 1.8, 1410.0, 1496.0, 1182.0, 2196.0, 1934.0, 2.53, 2138.0, 117.0, 42.0, null, null, 909.0, 1836.0, 1228.0, 1717.0, 1073.0, 1184.0, 1547.0, 1356.0, 31.8, 137.0, 2126.0, 19.0, 88.0, null, 122.0, 122.0, 106.0, 1267.7, 982.0, 1181.0, 1531.0, 2031.0, null, null, null, null, null, null, null, null, null, null, null, null, null, null, null, 263.0, 209.0, 851.0, null, 1.9, 2105.0, 1095.0, 1951.0, 782.0, 1610.0, null, null, 919.0, 1012.0, 42.0, null, null, null, null, 217.0, 1642.25, 496.0, 81.0, 1595.0, 131.0, 1606.0, 1491.0, 248.3, 15.0, 296.0, 510.0, 1537.0, 1077.0, 581.0, 71.0, 1831.0, 542.0, 837.0, null, null, null, null, null, null, 992.0, 1548.0, 1577.0, 41.0, 909.0, 1061.0, 1494.0, 1322.0, 1455.0, 891.0, 1553.0, 1252.0, 1116.0, 1753.0, 2126.0, 122.0, 1460.0, 2153.0, 1526.0, 1883.0, 1360.0, 19.0, 102.0, 101.0, 103.0, 15.0, 1111.0, 145.0, null, null, null, null, null, 1963.0, 2116.0, 1568.0, 791.0, 3.1, 2288.0, 928.0, 80.0, 0.0, 14.0, null, null, null, null, null, null, 99.0, 2.69, 122.0, 2004.0, 2244.5, 1077.0, 1221.0, 1227.0, 667.0, 1103.0, 1722.0, 948.0, 455.0, 47.0, 66.0, 2.2, 1007.0, 837.0, 2239.0, 2139.0, 2210.0, 946.0, 44.0, 436.0, 102.0, 47.0, 117.0, 2126.0, 1761.0, 1484.0, 1494.0, 215.0, 2216.0, 2032.0, 106.0, 128.0, 219.0, 2131.0, 106.0, 2151.0, 2228.0, null, 1955.0, null, null, null, null, null, null, 1377.0, 60.0, 418.0, 103.0, 106.5, 2144.0, 2227.0, 2829.0, 361.0, 1269.0, 116.0, 1025.0, 272.0, 2395.0, 1906.0, 1462.0, null, null, null, 1320.0, 477.0, 1401.0, 108.0, 1477.0, 924.0, 791.0, 646.6, 114.0, 81.0, 2.4, 80.0, 719.0, 602.0, 210.0, 930.0, null, null, null, 1316.0, 2110.5, 1268.0, 922.0, 15.0, 108.0, 1589.0, null, null, null, 1384.0, 1838.0, 2156.0, 1444.0, 1580.0, 100.0, 312.7, 100.0, null, null, null, 2024.0, 102.0, 2141.0, 2709.0, 130.0, 1494.0, 149.0, 1275.0, 413.0, 59.0, 208.0, 23.0, null, null, 3.0, 21.0, 1565.0, 71.0, 1068.5, 1496.0, 903.0, 990.0, 20.0, null, 1701.0, null, 1593.0, 142.0, 13.5, 23.4, 865.0, 830.0, 454.0, 1025.0, 117.0, 1877.0, 636.5, 1353.0, 294.0, null, 106.0, 1052.0, 9.0, 88.0, 80.0, 20.5, 14.0, 1.8, 40.0, 6.0, 684.0, 118.0, 450.0, 1140.0, 985.0, 939.0, 1777.0, 1148.0, 1429.0, 921.0, 106.0, 532.0, 905.0, 1407.0, 525.0, 87.0, 196.0, 2262.0, 124.0, 2164.0, 43.0, 1180.0, 712.0, 814.0, 13.0, 152.0, 2140.0, 2127.0, 133.0, 220.0, 30.0, 31.7, 66.0, 243.0, 402.0, 1010.0, 35.0, 1.9, 24.0, 46.0, 810.0, 604.0, 1008.0, 80.0, 829.0, 28.0, 47.0, 1389.0, 387.0, 2126.0, 739.0, 97.0, 80.0, 109.0, 16.0, 513.0, 88.0, 152.0, 38.0, 290.0, 18.0, 1701.0, 17.0, 20.0, 532.0, 966.0, 112.0, 1323.0, 1273.0, 914.0, 1332.0, 25.0, 294.0, 307.0, 52.0, 102.0, 1935.0, 34.0, 728.0, 1845.0, 17.0, 81.0, 81.0, 92.0, 1890.0, null, 25.8, 82.3, 23.0, 88.0, 870.0, 1010.0, 210.0, 87.0, 970.0, 129.0, 999.0, 100.0, 210.0, 296.0, 1180.0, 1300.0, 13.6, 32.0, 91.0, 27.0, 13.0, 97.2, 1524.0, 602.0, 89.0, 22.0, 1228.0, 109.0, 900.0, 24.0, 735.0, 108.0, 1.9, 42.0, 19.0, 1416.0, 913.0, 111.0, 2121.0, 131.0, 16.0, 751.0, 69.0, 2820.0, 1788.0, 2140.0, 2046.0, 30.0, 1351.0, 101.0, 86.0, 370.0, 1030.0, 1305.0, 2010.0, 31.3, 87.0, 29.0, 20.0, 21.0, 33.0, 954.0, 3.0, 121.0, 42.0, 59.0, 27.0, 1380.0, 1007.0, 491.0, 47.0, 967.0, 802.0, 87.0, 8.0, 13.0, 510.0, 30.0, 143.0, 230.0, 2.5, 1123.0, 108.0, 1180.0, 77.4, 151.0, 1113.0, 8.6, 1040.0, 1606.0, 1606.0, 370.0, 942.0, 1215.0, 810.0, 12.0, 18.0, 1772.0, 2213.0, 916.0, 2050.0, null, 24.0, 745.0, 1211.0, 17.0, 2245.0, 84.0, 179.0, 2251.0, 122.0, 54.0, 108.0, 67.0, 160.0, 46.0, 36.0, 937.0, 1094.0, 433.0, 1850.0, 928.0, 1512.0, 1730.0, 1840.0, 2.5, 99.0, 21.0, 1775.0, 1362.0, 1.7, 142.0, 116.0, 26.0, 14.0, 87.0, 8.0, 387.0, 1111.0, 2133.0, 2212.0, 35.0, 13.0, 20.0, 1702.0, 1550.0, 122.0, 35.0, 19.0, 1.7, 26.0, 1298.0, 905.0, 142.0, 15.2, 13.0, 13.0, null, 12.0, 3.0, 59.0, 53.0, 27.0, 107.0, 90.0, 14.0, 149.3, null, 20.0, 132.0, 118.0, 814.0, null, 6.0, 24.0, 32.0, 19.0, 156.0, 42.0, 93.0, 130.0, 1734.0, 1558.0, 28.3, 54.0, 45.0, 115.0, 1.5, 121.0, 15.0, 73.0, 236.0, 101.0, 1131.0, 106.0, 1529.0, 105.0, 1333.0, 1264.0, 114.0, 29.0, 87.0, 42.0, 80.0, 20.0, 80.0, 81.0, 20.0, 26.0, 81.0, 329.0, 100.0, 117.0, 1.4, 121.6, 31.0, 32.0, 30.0, 114.0, 200.0, 109.0, 42.0, 104.0, 2005.0, 1316.0, null, 377.5, 46.0, 743.0, null, 1.8, 45.7, 46.0, 230.0, 186.0, 210.0, 1343.0, null, 1.5, 15.0, 29.0, 147.0, 82.0, 207.0, 25.9, null, 111.0, 14.0, 26.0, 43.0, 205.0, 92.0, 2124.0, 921.0, 1734.0, null, 142.6, 489.0, 850.0, 103.0, 170.0, 6.0, 215.0, 11.6, 28.0, 39.0, 769.0, 16.0, 108.0, 1.6, 27.0, 29.0, 1629.0, 2118.0, 1125.0, 1.8, 1555.0, 96.0, 276.0, 840.0, 584.0, 21.4, 2.9, 61.0, 12.0, null, null, null, 46.0, 2.0, null, 19.0, 13.0, 15.0, 2.0, 2.8, 35.0, 14.9, 22.0, 14.0, 19.8, 138.0, 36.6, null, 437.0, 26.0, 28.0, 75.0, 13.0, 18.0, 48.0, 133.0, null, 28.4, null, null, null, 2667.2, 1705.84, null, 30.0, 167.4, 97.0, 126.0, 7.0, 1648.0, null, 139.0, null, null, null, null, null, 55.0, 225.0, 23.7, 1.9, 2.2, 3.1, 117.0, null, 1313.0, 121.0, 26.0, 28.7, null, 12.0, 36.0, 61.0, 136.0, 28.0, null, 52.5, 1.2, null, 1.6, 943.0, 78.0, 13.5, 3.5, 2.2, 189.0, 28.0, 101.0, 33.0, 66.0, 1474.0, 1183.0, 105.0, null, null, null, null, null, 2720.0, 145.0, 2.4, 26.0, 17.0, 22.2, 1.6, 54.0, 19.0, 26.0, 98.0, 2.6, 2.9, 1.9, 1.7, 21.0, 601.0, 788.0, 1.9, null, null, 5.0, 133.0, 170.0, 1111.0, 47.8, 121.0, 14.0, 2.0, 114.0, 81.0, 2.8, 1.3, 15.0, 13.0, null, 145.0, 1017.0, 100.0, 294.0, 2129.0, 2129.0, 2133.0, 2469.0, 2072.0, 85.0, 65.0, 108.0, 115.0, 2.2, 99.0, 68.9, 154.0, null, 2.2, 28.0, 821.0, 18.0, 1839.0, 250.0, 80.0, 16.0, 28.0, 44.0, 80.0, 423.0, 945.0, 1065.0, 1924.0, 2283.0, 47.0, 29.0, 121.0, 1.7, null, 650.0, 3.0, 189.0, 1046.0, 930.0, 170.0, 46.0, 28.0, 13.5, null, null, 14.9, 73.0, 49.0, 7.0, 22.0, 118.0, 37.0, 211.0, 19.0, 1.9, 1.6, 2.1, 114.0, 4.0, 117.0, 67.0, 1.9, 127.0, 233.0, 2.2, 105.0, 93.0, 34.0, 33.0, 1710.0, 14.9, 16.0, 19.0, 20.0, 56.0, 53.0, 2.4, 176.0, 112.0, 145.0, 20.0, null, 102.0, 47.8, 127.0, 63.0, 140.0, 13.0, 33.0, 2.3, 1.6, 98.7, 4.0, 10.0, 42.0, null, 2.0, 1.4, 1.8, 108.0, 2.0, 2.2, 1.8, 1.5, 1.8, 1.6, 15.0, 713.0, 957.0, 25.0, 1685.0, 2.1, 1.6, 2.9, 16.0, 121.0, 10.0, 26.0, null, 26.0, 99.0, 115.0, 19.5, 104.0, 34.0, 80.0, 1.9, 2238.0, 130.0, 56.0, 290.0, 122.0, 2.1, 225.0, 285.0, 117.0, null, 14.0, 20.0, 28.0, 1098.0, 2.8, 2.2, 15.0, 1.0, 1.9, 182.0, 7.0, 19.0, 101.0, 70.0, 145.0, 47.0, null, 17.0, 24.0, 11.0, 1.5, 33.0, 30.0, 677.0, 128.0, 71.0, 1181.85, 1025.0, 1329.0, 2.1, 95.0, 35.0, 97.0, 111.0, 614.0, 90.0, 19.0, 121.0, 67.0, 109.0, 96.0, 1390.0, 2772.0, 2125.0, 13.0, 13.0, 34.0, 18.0, 51.5, 2.3, 2129.0, 2126.5, 122.0, null, 22.0, 1.9, null, 2.0, 2.2, 121.6, null, 3.4, 1.5, 358.0, 15.0, 942.0, 12.0, 118.0, 2.0, 34.1, 97.0, 68.0, 1044.0, 1.6, null, 2152.0, 2012.0, 1340.0, 2158.0, 106.0, 122.0, 1720.0, 130.0, 2158.0, 1.7, 1.8, null, 2.1, 820.0, 13.0, 17.5, 52.0, 2251.0, 30.0, 1928.0, 770.0, 770.0, 623.3, 770.0, 100.0, 17.0, 625.0, null, null, 48.0, 1.5, 8.0, 98.0, 29.0, 20.0, 88.0, 36.5, 20.5, 21.0, 21.3, 50.0, 43.0, 1938.0, 252.0, 895.0, 1137.0, 922.0, 582.0, 1023.0, 2.0, 2.7, 110.0, 837.0, 145.0, 13.0, 117.0, 18.3, 36.0, 121.0, 13.6, 189.0, 13.0, 30.6, 101.0, 100.0, 21.0, 1.6, 2.0, 2.6, 2988.0, 2.73, 2185.0, 1181.0, 1181.0, 1181.0, 2243.5, 1698.0, 45.6, 102.0, 103.0, 14.0, 29.0, 97.0, 89.0, 32.0, 52.0, 75.6, 11.0, 207.7, 1237.0, 122.0, 479.0, 479.0, null, 1443.0, 1878.0, 1822.0, 1180.0, 2220.0, 2535.0, 222.0, 2218.0, 1125.0, 1316.0, null, 820.0, 495.0, 65.5, 13.6, 3.5, 58.0, 25.0, 13.0, 36.0, 1942.0, 2118.0, 2136.0, 2227.0, 1775.0, 80.5, 164.0, 31.0, 167.0, 783.0, 2.97, 604.0, 1720.0, 1336.0, 1.9, 135.0, 19.0, 101.0, 73.2, 3.1, 83.0, 86.0, 25.9, 3.5, 1095.0, null, 1.9, 2.6, 2130.0, 2124.0, 88.0, 2131.0, 1154.0, 1806.0, 268.5, 1.9, 1550.0, 47.0, 960.0, 993.0, 1.7, 26.0, 27.0, 3.0, 2245.0, 2496.0, 133.4, 469.0, 1835.0, 106.0, 16.0, 42.0, 102.0, 33.0, 4.0, 142.0, null, 117.0, 380.0, 284.0, 930.0, 0.0, 1773.0, 4.0, 3.1, null, null, 1.8, null, 114.0, 1.0, 114.0, 2135.0, 1356.0, 97.0, 72.0, 1074.0, 1733.0, 2252.0, 1253.0, 1.8, 117.6, 122.0, 2301.0, 122.0, 1940.0, 2024.0, 1681.0, 2233.0, 122.0, 117.0, null, 1522.0, 771.4, 6.0, 1597.0, 60.0, 15.0, 16.0, null, null, null, null, null, null, null, null, null, null, null, null, null, 1.5, null, null, null, null, null, 2.1, 2.5, null, 1.8, 2.0, null, 2.0, null, 2.1, null, 2.1, 1.9, 2.1, null, 1.6, null, 1.0, 4.9, 1.6, null, null, 1.9, null, null, 1.0, null, null, null, null, 2.0, null, 2.0, 2.0, null, null, null, null, null, null, null, null, 2.3, 1.0, 2.2, null, null, null, null, 2.3, 2.4, null, null, 1.0, null, null, null, null, 1.9, 1.7, 4.0, null, 1.0, null, 1.9, 1.8, null, 2.4, 2.3, null, null, null, null, 1.8, 2.1, null, null, null, null, null, 1.0, null, null, 2.0, null, null, 2.3, null, 2.8, 2.6, 2.0, 2.0, 1.4, 1.8, 2.5, null, null, null, null, null, null, 2.0, 2.1, null, null, 2.2, 1.9, 2.4, 2.1, null, null, null, 1.7, 2.6, 2.8, null, 2.6, 2.5, null, 3.6, 1.9, null, null, 2.4, 2.4, 2.5, null, null, 2.7, 2.6, 3.1, 3.0, null, 2.0, null, null, null, null, null, null, null, null, null, 2.9, 2.5, 3.1, 3.1, null, null, 1.8, 1.7, null, 1.9, 1.8, 2.0, null, null, null, null, 2.2, null, 3.6, 2.7, 2.4, 1.0, 2.1, null, null, null, null, null, null, 2.1, null, 2.1, null, null, null, 3.1, null, null, null, 2.3, 45.1, 80.0, 47.0, 83.2, 38.0, 81.4, 117.0, 2.0, 2.6, 2.0, 3.2, 3.2, 3.2, 1.8, 1.8, 2.9, 3.4, 2.9, 1.7, 3.1, 1.8, 1.8, 2.7, 3.0, 27.4, 90.0, 15.0, 80.0, 17.0, 14.0, 1.8, 34.1, 1.5, 2.4, 29.0, 2.9, 2.5, null, 2.2, 2.1, 1.7, 1.7, 1.9, 9.0, 2.5, 2.3, 1.7, 2.2, 1.9, 1.6, 31.0, 2.4, 1.4, null, 17.0, 124.0, null, 13.5, 29.0, null, 2.1, 1.6, null, 2.1, 1.9, 2.3, 46.0, 46.0, 138.0, 49.4, 18.0, null, 28.0, 30.0, 1.0, 26.0, 1.9, 1.5, 2.5, 1.8, 1.8, 1.6, null, null, null, 2.8, null, 2.9, null, 91.0, 2.0, 160.0, 70.6, 27.0, 3.0, 2.2, 1.6, 3.6, 2.0, 1.9, 1.7, 1.6, null, 2.0, 1.6, 2.2, 1.7, 1.6, 2.0, 2.2, 2.4, 35.0, 99.0, 15.2, 14.0, 2.0, 1.7, 1.6, 1.4, 2.9, 1.8, 2.6, 52.0, 96.0, 24.0, 13.0, null, 2.2, 1.4, 1.6, 1.9, 2.0, 2.1, 1.6, null, 1.3, 1.8, null, 2.3, 1.2, 2.0, 21.5, 1.9, 1.8, 2.1, 1.8, 2.4, null, 1.7, 2.6, 5.0, 2.0, 2.2, 2.2, 2.0, 1.8, 1.6, 2.9, 1.5, 1.7, 2.1, 1.7, 80.0, 28.0, 27.0, null, 3.2, 2.1, 3.1, 2.8, 2.0, 1.9, 3.0, 3.6, 2.6, 2.0, 2.2, null, 23.0, 2.9, 2.3, 3.0, 2.9, 33.5, 33.2, 2.7, 2.8, 1.8, 2.4, 2.1, null, 2.3, 2.2, 1.9, 2.2, 1.8, 2.9, 2.7, 1.5, null, 1.8, 1.7, 1.6, 2.0, 80.0, 14.5, 28.0, null, 2.0, 2.9, 1.5, 1.5, 2.8, 2.5, 88.0, 239.0, 32.0, 123.0, 74.0, 3.0, 17.0, 38.0, 121.0, 13.0, 200.0, 3.0, 27.0, 38.0, 14.0, 15.9, 13.6, 28.1, 29.0, 95.0, 26.0, 32.0, 92.0, 97.0, 18.0, 12.0, 16.0, 32.0, 22.0, 14.0, 26.0, 5.6, 12.0, 24.0, 56.0, 91.0, 18.5, 107.0, 3.6, 1.0, 29.0, 68.5, 32.3, 22.5, 15.0, 14.9, 25.5, 62.5, 22.1, 31.0, 15.2, 84.0, 41.0, 162.0, 2.7, 125.6, 32.0, 27.0, 110.0, 46.0, 28.0, 31.0, 28.0, 119.5, 16.0, 111.0, 2.0, 2.2, 2.2, 1.8, 2.2, 3.0, 78.0, 87.0, 26.8, 12.0, 20.7, 1.0, 29.8, null, 21.0, 28.0, 120.0, 15.0, 21.5, 29.0, 27.0, 2.0, 2.1, 2.0, 2.2, 164.0, 16.0, 95.0, 28.0, 164.0, 29.0, 115.0, 21.0, 41.5, 3.0, 28.0, 58.0, 15.2, 120.0, 15.0, 19.0, 121.0, 145.4, 3.2, 23.0, 57.0, 26.0, null, 106.0, 84.0, 183.0, 13.0, 82.0, 13.5, 2.0, 28.0, 33.7, 4.5, 1.8, 1.7, 1.9, 44.0, 50.6, 82.3, null, 13.0, 82.3, 118.0, 96.0, 158.5, 122.0, 29.0, 23.0, 17.5, 3.5, 107.0, 28.0, 1.6, 2.2, 2.5, 26.0, 23.0, 25.0, 14.9, 51.0, 16.0, 34.7, 142.0, 141.0, null, null, 33.0, 125.0, 298.0, 26.0, 26.0, 21.0, 47.0, 20.0, 1.6, 3.1, 3.2, 90.8, null, 22.0, 3.5, 34.1, 49.0, 26.0, 90.0, 15.0, 26.0, 20.0, 0.0, 30.0, 26.0, 80.0, 60.3, 2.8, 2.9, null, 2.8, null, null, 13.0, 96.0, 3.4, 25.9, 23.0, 28.0, 22.0, 3.0, 15.0, 27.0, 13.0, 0.0, 28.0, 31.0, null, 26.0, 2.7, 65.0, 126.0, 4.9, 139.0, 10.0, 22.0, 21.0, 23.2, null, 20.0, 15.0, 132.0, 132.0, 15.2, 11.0, 135.0, 135.0, 29.0, 166.0, null, 179.0, 93.0, 32.0, 30.0, 140.0, 154.0, 42.0, 14.0, 5.2, 15.0, null, 65.0, 21.0, 18.0, 124.0, 64.0, 25.0, 25.0, 22.8, 121.0, 149.0, 182.0, 120.0, 3.5, 92.0, 149.6, 143.5, 25.9, 120.1, 17.2, 12.0, 51.8, 187.0, 16.0, 15.0, 154.2, 187.0, 102.0, 23.0, 88.0, 13.5, 15.7, 20.0, 104.0, 54.3, 15.0, 60.3, 84.7, 115.0, 60.3, 46.0, 28.0, null, 65.5, 29.6, 1.4, null, 32.0, 1.4, 17.0, 24.0, 95.0, 121.0, 108.0, 112.0, 17.5, 122.0, 39.0, 14.0, 131.0, 150.0, 55.0, 32.0, 19.0, 3.0, 74.0, 35.0, null, 2.0, 1.8, 59.4, 146.0, 130.0, 49.5, 238.0, null, 33.0, null, 42.0, 15.0, 2.0, 42.0, 17.5, 121.0, 73.0, 16.0, 47.0, 3.4, 58.0, 30.5, 24.0, 108.0, 11.0, 21.6, 28.0, 16.0, 115.0, 202.0, 44.0, 21.0, 24.0, 28.0, 28.0, 28.0, 25.0, 13.5, 28.0, 28.0, 16.0, 15.0, null, 20.0, 136.0, 146.6, 43.0, 31.5, 21.0, 63.0, 91.0, 36.0, 109.0, 125.0, 13.0, 125.0, 18.0, 33.0, 121.0, 20.0, 26.0, 29.0, 165.0, 21.0, 46.0, 13.8, 30.0, 168.0, 15.0, 134.0, 13.0, 26.0, 3.6, 39.6, 29.0, 37.0, 32.0, 74.0, 102.0, 15.0, 29.0, 32.5, 3.0, 86.0, 101.0, 95.0, 178.0, 20.0, 91.0, 27.0, 13.0, 53.0, 13.0, 3.0, 164.0, 41.5, 144.0, 36.0, 28.0, 11.0, 4.6, 39.0, 96.0, 30.0, 121.0, 30.0, 31.0, 55.0, 122.0, 26.0, 118.6, 31.0, 32.0, 124.0, 14.0, 39.0, 189.0, 18.0, 13.0, 49.0, 31.0, 20.0, 89.0, 230.0, 115.0, 13.0, 30.0, 36.0, null, 189.0, 108.0, 18.0, 36.0, 9.0, 90.4, 13.0, 14.0, 16.0, 2.8, 18.0, 11.0, 102.0, 43.0, 102.9, 30.0, 91.0, 29.0, 13.0, 125.0, 109.0, 16.0, 40.5, 40.5, 20.0, 40.0, 33.0, 102.9, 36.0, 20.0, 88.6, 131.0, 32.0, 49.0, 19.0, 13.0, 16.0, 140.1, 3.9, 23.0, 56.0, 23.0, 13.0, 34.0, 17.0, 38.0, 100.0, 67.0, 36.0, 14.9, 13.0, 113.0, 52.0, 49.0, 60.0, 49.5, 13.0, 64.0, 34.0, 22.0, 14.0, 13.0, 52.0, 140.0, 13.7, 121.0, 23.7, 20.0, 30.0, 15.2, 14.0, 102.9, 28.0, 113.0, 36.0, 16.0, 135.0, 13.0, 64.0, 13.0, 31.5, 539.0, 109.0, 504.5, 33.0, 18.3, 13.0, 58.0, 102.9, 32.0, 43.0, 32.3, 101.0, 18.0, 115.0, 15.5, 189.0, 38.0, 35.0, 19.0, 133.0, 13.0, 178.0, 160.0, 145.0, 70.0, 37.0, 121.0, 17.5, 50.0, 50.0, 23.8, 152.0, 15.2, 30.0, 16.0, 41.0, 25.9, 12.5, 23.5, 88.0, 305.0, 31.5, 173.0, 44.0, 35.0, 31.0, 14.7, 189.0, 11.0, 4.0, 118.8, 119.0, 29.0, 38.0, 15.2, 21.0, 3.0, 47.0, 121.0, 109.0, 65.0, 109.0, 21.0, 44.0, 808.0, 22.0, 100.0, 89.0, 117.6, 86.0, 118.0, 13.0, 97.2, 16.0, 101.0, 36.0, 20.0, 52.0, 65.0, 13.0, 11.0, 86.0, 121.0, 100.0, 95.0, 104.7, 14.0, 31.5, 27.0, 115.0, 106.0, 289.0, 52.0, 2.0, 14.0, 24.0, 131.0, 15.0, 13.0, 103.0, 343.0, 51.5, 116.0, 16.0, 114.0, 49.0, 30.0, 59.0, 120.0, 120.0, 3.2, 13.0, 145.0, 143.5, 96.0, 38.4, 109.0, 187.0, 53.0, 14.0, 13.0, 118.0, 30.0, 56.8, 86.0, null, 43.0, 13.0, 24.0, 189.0, 25.9, 118.0, 30.0, 69.0, 24.1, null, 23.0, 14.0, 20.0, 2.0, 25.9, null, 26.0, 28.0, 26.0, 85.0, 438.0, 45.0, 95.0, 86.0, 209.0, 130.8, 46.0, 15.0, 119.0, 44.0, 1.5, 33.0, 38.0, 18.0, 121.0, 27.5, 38.0, 117.0, 110.0, 221.0, 36.0, 33.0, 189.0, 504.5, 31.5, 14.0, 70.0, 100.0, 218.0, 16.0, 99.0, 145.0, 13.0, 208.0, 132.0, 25.0, 210.0, 98.2, 100.0, 152.0, 76.0, 13.0, 1.5, 207.0, 5.7, 114.0, 39.0, 3.8, 107.5, 107.5, 231.0, 30.0, 47.0, 125.0, 51.5, 358.0, 165.0, 42.0, 69.0, 15.0, 284.3, 118.0, 86.0, 165.0, 29.0, 90.0, 202.0, 76.0, 20.0, 85.3, 31.5, 13.0, 97.0, 35.0, 24.0, 13.0, 10.0, 45.0, 2.4, 45.0, 207.0, 17.0, 48.0, 14.0, 32.0, 177.0, 44.0, 97.0, 40.6, 40.0, 8.0, 101.0, 14.0, 118.0, 11.0, 16.0, 100.0, 109.0, 29.0, 49.0, 13.0, 35.0, 69.0, 101.0, 97.0, 266.0, 103.0, 4.2, 13.0, 104.0, 31.0, 13.0, 48.0, 24.6, 50.9, 14.0, 110.0, 17.0, 31.5, 1.5, 2.4, 56.0, 124.0, 12.0, 120.0, null, 14.0, 86.0, 27.0, 35.0, 30.0, 379.0, 102.0, 38.4, 121.0, 4.8, 145.0, 26.0, 39.0, 13.0, 23.0, 30.0, 145.0, 3.0, 38.0, 99.6, 13.0, 20.0, 58.5, 22.0, 115.0, 1.4, 2.5, 117.0, 17.0, 13.0, 26.0, 84.0, 115.0, 14.0, 38.0, 22.0, 80.7, 20.0, 14.0, 2.3, 114.0, 1.5, 272.0, 113.0, 3.5, 13.0, 111.0, 47.0, 30.0, 19.0, 31.5, 22.0, 116.0, 34.0, 14.0, 13.0, 116.0, 13.0, 55.0, 50.6, 18.0, 30.0, 7.0, 116.0, 25.0, 120.0, 40.0, 36.0, 186.0, 30.0, 123.0, 13.0, 29.0, 509.0, 107.5, 101.0, 117.0, 99.0, 808.0, 102.0, 1.5, 2.1, 117.0, 44.0, 31.5, 89.0, 99.0, 45.0, 7.0, 29.0, 43.0, 103.0, 115.0, 808.0, 39.0, 40.0, 225.0, 47.0, 114.0, 118.0, 117.0, 33.0, 24.0, 106.0, 114.0, 3.0, 19.4, 107.0, 33.0, 1.5, 30.0, 13.0, 12.0, 20.0, 29.0, 105.0, 19.0, 16.0, 22.0, 115.0, 71.6, 99.0, 5.0, 31.0, 1.5, 89.0, 231.0, 1.4, 117.0, 118.0, 284.0, 65.0, 14.0, 225.0, 54.0, 34.0, 59.0, 28.0, 25.0, 29.0, 28.0, 21.0, 15.0, 145.0, 59.0, 108.0, 13.0, 30.0, 24.0, 29.0, 30.0, 270.0, 30.0, 47.0, 86.0, 88.0, 40.0, 26.0, 77.0, 92.0, 109.0, 108.0, 136.9, 122.0, 1.5, 7.0, 120.0, 14.0, 117.0, 34.0, 53.0, null, 99.0, 112.0, 79.0, 107.0, 13.0, 176.0, 37.0, 96.0, 92.0, 4.0, 11.0, 118.0, 10.0, 90.0, 3.5, 47.0, 113.0, 29.0, 19.0, 142.0, 145.0, 101.0, 108.0, 31.0, 26.0, 13.0, 43.0, 10.0, 108.0, 79.0, 2.5, 10.0, 739.0, 24.0, 80.0, 100.0, 19.0, 28.0, 3.0, 100.0, 270.0, 194.0, 20.0, 16.0, 14.0, 114.0, 90.0, 49.0, 29.0, 13.0, 19.0, 11.0, 1.5, 120.0, 1.8, 18.0, 170.0, 142.0, null, 19.0, 19.0, 16.0, 210.0, 30.0, null, 229.0, 96.0, 231.0, 1.5, 114.0, 16.0, 40.0, 41.0, 13.0, 13.0, 43.0, 47.0, 80.0, 95.0, 148.0, 149.0, 114.0, 104.5, 40.0, 47.0, 294.0, 86.0, 47.0, 46.0, 56.0, 208.0, 80.0, 19.0, 237.0, 145.0, 101.0, 122.0, 142.0, 99.0, 29.0, 49.0, 108.0, 50.0, 117.0, 118.0, 108.0, 14.0, 35.0, 60.0, 31.5, 13.0, 31.5, 170.0, 108.0, 293.0, 42.0, 34.0, 19.0, 47.0, 93.0, 70.0, 228.0, 13.0, 72.0, 26.0, 1.5, 220.0, 30.0, 148.0, 56.0, 90.0, 930.0, 90.0, 739.0, 60.0, 26.0, 25.6, 93.0, 11.0, 15.0, 220.0, 21.0, 100.0, null, 1.5, 32.0, 19.0, 14.0, null, 117.0, 29.0, 24.0, 42.0, 3.0, 263.0, 6.0, 14.0, 25.0, 19.0, 90.0, 6.0, 47.0, 117.0, 20.0, 87.0, 42.0, 147.0, 144.0, 20.0, 100.0, 47.0, 116.0, 100.4, 80.0, 88.0, 264.0, 17.0, 25.0, 222.0, 108.0, 47.0, 46.0, 1.4, 120.0, 70.0, 98.0, 111.0, 114.0, 14.0, 75.0, 170.0, 116.0, 13.0, 232.0, 47.0, 19.0, 101.0, 12.0, 47.0, 31.0, 7.5, 152.0, 13.0, 87.0, 19.0, 52.0, 56.0, 29.0, 142.0, 250.0, 409.0, 18.0, 81.0, 80.0, 43.0, 8.0, 47.0, 13.0, 79.0, 68.0, 13.0, 1.5, 47.0, 383.0, 34.0, 29.0, 229.0, 458.0, 81.0, 145.0, 166.0, 423.0, 82.0, 19.0, 152.0, 27.0, 159.0, 29.0, 19.0, 170.0, 108.0, 14.0, 853.0, 129.0, 96.0, 111.0, 116.0, 19.0, 80.0, 88.0, 170.0, 1164.0, 101.0, 25.0, 142.0, 108.0, 147.0, 27.0, 103.7, 170.0, 30.0, 108.0, 15.0, 80.0, 80.0, 19.0, 116.0, 108.0, 47.0, 111.0, 30.0, 7.0, 29.0, 114.0, 117.0, 142.0, 119.0, 75.0, 232.0, 25.0, 116.0, 101.0, 116.0, 13.0, 19.0, 12.0, 116.0, 127.0, 29.0, 144.0, 9.0, 170.0, 243.0, 87.0, 42.0, 81.0, 26.0, 43.0, 21.0, 26.0, 111.0, 77.0, 47.0, 229.0, 67.0, 940.0, 88.0, 113.0, 5.0, 207.0, 46.0, 114.0, 114.0, null, 187.0, 25.0, 80.0, 966.0, 347.0, 212.5, 252.0, 872.0, 133.0, 20.0, 84.0, 50.0, 142.0, 87.0, 108.0, 92.0, 85.0, 30.0, null, 170.0, 22.0, 72.0, 96.0, 47.0, 36.0, 73.0, 114.7, 501.0, 13.0, 145.0, 325.0, 26.0, 87.0, 236.0, 102.0, 13.0, 170.0, 12.0, 7.0, 142.0, 87.0, 81.0, 78.0, 102.0, 297.0, 24.0, 116.0, 80.0, 101.0, 80.0, 108.0, 17.0, 82.0, 110.0, 91.0, 47.0, 13.0, 20.0, 170.0, 23.0, 116.0, 276.0, 6.0, 210.0, 120.0, 13.0, 145.0, 106.0, 12.0, 248.0, 26.0, 133.0, 115.0, 22.0, 237.0, 634.0, 29.0, 13.0, 16.0, 115.0, 88.0, 120.0, 81.0, 393.0, 108.0, 105.0, 13.0, 116.0, 200.0, 87.0, 26.0, 14.8, 43.0, 24.0, 14.0, 81.0, 108.0, 75.0, 142.0, 75.0, 109.0, 271.0, 276.0, 14.0, 6.0, 81.0, 88.0, 26.0, 210.0, 80.0, 17.0, 57.0, 739.0, 88.0, 18.0, 101.0, 96.0, 487.0, 17.0, 87.0, 17.0, 80.0, 14.0, 15.0, 13.0, 108.0, 113.0, 101.0, 80.0, 25.0, 43.0, 114.0, 419.0, 108.0, 103.0, 548.0, 16.0, 81.0, 1165.0, 11.0, 325.0, 220.0, 142.0, 88.0, 87.0, 27.0, 17.0, 20.0, 140.0, 33.0, 101.0, 108.0, 26.0, 100.0, 116.0, 17.0, 13.0, 80.0, 27.0, 116.0, 74.0, 26.0, 41.0, 96.0, 117.0, 287.0, 81.0, 80.0, 200.0, 249.0, 80.0, 13.0, 145.0, 119.0, 108.0, 6.0, 1119.0, 170.0, 145.0, 95.0, 96.0, 81.0, 24.0, 78.0, 19.0, 397.0, 16.0, 61.0, 96.0, 125.0, 117.0, 644.0, 10.0, 737.0, 13.0, 21.0, 81.0, 120.0, 112.0, 287.0, 102.0, 23.0, 17.0, 237.0, 80.0, 170.0, 14.0, 80.0, 117.0, 42.0, 129.0, 88.0, 26.0, 200.0, 80.0, 15.0, 170.0, 147.0, 581.0, 25.0, 5.2, 4.0, 15.0, 326.0, 26.0, 67.3, 80.0, 1155.0, 252.0, 152.0, 6.0, 118.0, 87.0, 116.0, 170.0, 22.0, 639.0, 975.0, 222.8, 117.0, 1110.0, 23.0, 80.0, 116.0, 721.0, 209.0, 37.0, 17.0, 37.0, 37.0, 101.0, 1198.0, 28.0, 419.0, 13.0, 108.0, 81.0, 13.0, 13.0, 117.0, 127.0, 256.0, 210.0, 137.0, 148.0, 14.0, 831.0, 181.0, 42.0, 142.0, 85.0, 20.0, 117.0, 42.0, 87.0, 953.0, 87.0, 116.0, 87.0, 81.0, 978.0, 80.0, 12.0, 8.0, 117.0, 80.0, 101.0, 81.0, 20.0, 17.0, 25.0, 147.0, 22.0, 275.0, 26.0, 236.0, 413.0, 9.5, 889.0, 13.0, 108.0, 135.0, 170.0, 99.0, 87.0, 13.0, 142.0, 14.0, 42.0, 103.6, 146.0, 425.0, 117.4, 14.0, 14.0, 80.0, 170.0, 69.0, 749.0, 87.0, 16.0, 915.0, 577.0, 764.0, 142.0, 14.0, 117.0, 26.0, 70.0, 166.0, 80.0, 116.0, 80.0, 80.0, 80.0, 87.0, 23.0, 170.0, 119.0, 595.0, 20.0, 80.0, 80.0, 80.0, 17.0, 882.0, 32.0, 555.0, 36.0, 80.0, 74.0, 24.0, 135.0, 22.0, 25.0, 101.0, 637.0, 439.0, 19.0, 26.0, 22.0, 80.0, 1251.0, 252.0, 80.0, 13.0, 116.0, 81.0, 80.0, 18.5, 689.0, 90.0, 87.0, 81.0, 10.0, 117.0, 112.0, 80.0, 80.0, 268.0, 38.0, 43.0, 117.0, 551.0, 923.0, 118.0, 410.0, 797.0, 600.0, 129.0, 50.0, 602.0, 138.0, 563.0, 12.0, 195.0, 23.0, 24.0, 101.0, 534.0, 142.0, 222.0, 4.5, 119.0, 118.0, 27.6, 0.0, 131.0, 15.6, 28.0, 1169.2, 218.0, 170.0, 11.0, 148.0, 34.0, 109.0, 117.0, 39.0, 170.0, 18.0, 22.0, 11.0, 47.0, 117.0, 13.0, 487.0, 853.0, 1027.0, 146.0, 119.0, 22.0, 6.0, 23.0, 33.0, 142.0, 131.0, 164.0, 1165.0, 25.0, 980.0, 439.0, 94.0, 37.0, 126.0, 142.0, 133.5, 507.0, 153.0, 7.0, 23.0, 472.0, 131.0, 142.0, 1254.0, 490.0, 550.0, 286.0, 998.0, 833.0, 882.0, 600.0, 146.0, 252.0, 497.0, 27.0, 1325.0, 1054.0, 1026.0, 737.0, 118.0, 130.0, 437.0, 728.0, 957.0, 410.3, 32.0, 40.5, 333.0, 108.0, 147.0, 145.5, 103.5, 906.0, 255.0, 109.0, 23.0, 977.0, 196.0, 360.0, 1286.0, 194.0, 48.7, 103.5, 23.0, 170.0, 123.0, 129.0, 170.0, 95.6, 96.0, 1415.0, 790.0, 26.0, 142.0, 423.0, 72.0, 27.0, 276.0, 705.0, 498.0, 87.0, 104.0, 2164.0, 461.0, 818.3, 471.0, 1056.0, 322.0, 1479.0, 1339.0, 810.0, 2.2, 1011.0, 1177.0, 1390.0, 787.0, 976.5, 101.5, 2270.0, 2143.0, 2.0, 23.0, 29.0, 1816.0, 2046.0, 327.3, 1160.0, 1314.0, 1.8, 1319.0, 1168.0, 1160.0, 822.0, 58.0, 856.0, 550.0, 428.0, 813.0, 1496.0, 1160.0, 1160.0, 1230.0, 787.0, 1356.0, 1025.0, 42.0, 19.0, 393.0, 29.0, 2.0, 1.9, 2.0, 1894.0, 212.0, 117.0, 867.0, 122.84, 748.0, 422.0, 2149.0, 433.0, 1168.0, 377.0, 1259.0, 0.0, 104.0, 74.0, 2256.0, 28.5, 1299.0, 1299.0, 1332.0, 128.7, 104.0, 1420.0, 576.0, 14.0, 1580.6, 1327.0, 818.3, 781.0, 1176.0, 1381.0, 1921.0, 1044.0, 1273.0, 68.0, 1418.3, 70.0, 2249.0, 1472.0, 819.0, 1.9, 101.5, 11.0, 1114.0, 1907.0, 381.0, 142.0, 100.0, 1470.0, null, 2118.0, 8.0, 1332.0, 387.0, 1393.0, 1742.0, 1192.5, 104.0, 1277.0, 1356.0, 2238.0, 1269.0, 145.0, 16.0, 108.0, 184.0, 12.2, 831.0, 483.0, 1510.0, 1195.8, 495.0, 1372.0, 1272.0, 1154.0, 1583.0, 1359.0, 335.0, 495.0, 461.0, 726.0, 1707.0, 1348.0, 2164.0, 2115.0, 873.0, 349.0, 119.5, 1571.0, 523.0, 438.0, 26.0, 1176.0, 623.0, 235.0, 69.0, 1299.0, 1568.0, 873.0, 1154.0, null, 282.0, 411.0, 2224.0, 133.0, 2.8, 1.8, 1.6, 2.1, 9.0, 1354.0, 20.0, 31.0, 1315.0, 1132.0, 1184.0, 977.0, 680.0, 17.5, 623.0, 1154.0, 1835.0, 2197.0, 2335.0, 1.8, 3.2, 1.7, 1.6, 894.0, 476.0, 142.0, 80.0, 1707.0, 1114.0, 1508.0, 104.0, 1083.0, 60.7, 140.0, 195.0, 195.0, 103.0, 1150.0, 105.0, 104.0, 467.0, 2667.0, 1198.0, 3.22, 1332.0, 1706.0, 295.0, 196.0, 1176.0, 254.0, 24.0, 36.0, 124.0, 16.0, 134.0, 205.0, 165.0, 582.0, 1035.0, 523.0, 2336.0, 69.0, 892.0, 1060.0, 114.0, 14.9, 50.0, 1301.0, 1160.0, 1060.0, 1356.0, 2115.0, 30.0, 2249.0, 92.0, 1327.0, 0.0, 1181.85, 859.0, 1282.5, 29.0, 118.0, 715.0, 64.0, 337.0, 1016.0, 804.0, 954.0, 880.0, 210.0, 35.0, 750.0, 750.0, 118.0, 512.0, 221.0, 18.5, 221.0, 143.0, 19.0, 960.0, 48.7, 62.0, 330.0, 1807.0, 97.0, 27.5, 780.0, 972.0, 86.0, 298.0, 26.8, 554.0, 600.0, 956.0, 498.0, 573.0, 1939.0, 1768.0, 80.0, 449.0, 611.0, 28.9, 599.0, 18.0, 108.0, 2485.0, 28.0, 816.0, 1233.0, 1030.0, 1800.0, 51.2, 1816.0, 108.0, 995.0, 822.0, 156.0, 195.0, 879.0, 87.0, 87.0, 880.0, 116.0, 148.0, 38.0, 61.0, 337.0, 1566.0, 52.0, 2013.0, 2662.0, 750.0, 745.0, 745.0, 880.0, 1752.0, 25.0, 709.0, 1831.0, 31.5, 19.8, 1801.0, 673.0, 939.0, 31.5, 916.0, 652.0, 118.0, 1056.0, 980.0, 14.6, 1105.0, 1100.0, 80.0, 1522.0, 135.0, 25.0, 970.0, 210.0, 17.2, 80.0, 1228.0, 1709.0, 1709.0, 1709.0, 1110.0, 28.4, 877.0, 17.0, 692.0, 599.0, 87.0, 21.5, 68.0, 290.0, 951.0, 129.0, 7.0, 116.0, 311.0, 597.0, 550.0, 543.0, 87.0, 46.0, 169.0, 977.0, 920.0, 31.0, 834.0, 40.0, 840.0, 951.0, 129.0, 692.0, null, 69.0, 976.0, 21.0, 20.0, 1880.0, 1300.0, 752.0, 34.0, 180.0, 182.0, 28.0, 847.0, 41.5, 1553.0, 745.0, 2444.0, 1830.0, 981.0, 770.0, 1010.0, 871.0, 1380.0, 1007.0, 950.0, 1330.0, 655.0, 930.0, 91.0, 918.0, 277.0, 336.0, 1104.0, 1290.0, 600.0, 1760.0, 295.0, 80.0, 1732.0, 1877.0, 1799.0, 900.0, 80.0, 1158.0, 230.0, 1109.0, 1515.0, 31.3, 121.0, 895.0, 995.0, 1702.0, 16.0, 28.0, 26.0, 1234.0, 21.5, 29.0, 1639.0, 2200.0, 789.0, 2203.0, 58.0, 87.0, 1776.0, 27.1, 1052.0, 395.0, 962.0, 107.0, 21.0, 55.4, 1015.0, 856.0, 1760.0, 771.0, 869.0, 1025.0, 1641.0, 148.0, 460.0, 142.0, 131.0, 222.0, 13.0, 135.0, 117.0, 50.0, 986.0, 1560.0, 1015.0, 746.0, 433.0, 700.0, 589.0, 958.0, 981.0, 23.1, 200.0, 2317.0, 80.0, 80.0, 1095.0, 996.0, 30.0, 297.5, 868.0, 135.0, 408.5, 116.0, 1030.0, 1180.0, 1573.0, 0.0, 1266.0, 932.0, 1200.0, 879.0, 1113.0, 1113.0, 1868.0, 14.0, 1146.0, 1728.0, 981.0, 584.0, 730.0, 19.8, 35.0, 44.8, 32.0, 14.0, 20.0, 1933.0, 1085.0, 28.0, 618.0, 441.0, 756.0, 1412.0, 1207.0, 794.0, 769.0, 100.0, 1332.0, 1871.5, 974.0, 1636.0, 1967.0, 1828.0, 1038.0, 22.1, 976.0, 766.5, 766.0, 763.5, 97.0, 1852.0, 720.0, 58.0, 772.0, 1654.0, 625.0, 573.0, 573.0, 976.0, 2243.0, 45.0, 485.0, 1140.0, 6.0, 402.0, 931.0, 402.0, 723.0, 0.0, 296.0, 17.0, 1815.0, 1024.0, 14.0, 880.0, 48.0, 1743.0, 108.0, 1171.0, 1426.0, 29.0, 964.0, 14.0, 771.4, 770.0, 1332.0, 1346.0, 1551.0, 32.0, 1704.0, 1819.0, 1845.0, 1840.0, 1838.0, 982.0, 6.4, 1754.0, 165.0, 14.5, 671.0, 295.0, 2695.0, 1008.0, 72.3, 1137.0, 2288.0, 1553.0, 1168.0, 41.5, 830.0, 2000.0, 1647.0, 222.0, 17.0, 734.0, 27.0, 1881.0, 840.0, 2437.0, 1319.0, 730.0, 957.0, 744.0, 330.0, 460.0, 27.0, 1025.0, 206.0, 875.0, 835.0, 1900.0, 690.0, 295.0, 880.0, 845.0, 845.0, 930.0, 1070.0, 1293.0, 904.0, 798.0, 46.5, 2460.0, 32.0, 962.0, 1211.0, 769.5, 23.5, 1470.0, 118.0, 49.7, 1270.0, 1800.0, 860.0, 1817.0, 745.0, 31.5, 31.5, 1083.0, 40.0, 895.0, 32.0, 14.0, 1020.0, 32.0, 1707.0, 129.0, 840.0, 1554.0, 1900.0, 816.0, 2787.0, 815.0, 455.0, 59.0, 850.0, 857.0, 1801.0, 880.0, 947.0, 402.0, 1841.0, 769.5, 32.0, 2741.0, 769.6, 2422.0, 962.0, 1285.0, 1573.0, 2604.0, 39.0, 1888.0, 20.0, 589.0, 624.0, 151.0, 30.0, 25.0, 856.0, 914.0, 1884.0, 769.5, 599.0, 914.0, 1319.0, 28.9, 1899.0, 1010.0, 901.0, 1560.0, 836.0, 1493.0, 914.0, 85.0, 1446.0, 1885.0, 1578.0, 1258.0, 720.0, 27.5, 1681.0, 770.0, 210.0, 584.0, 29.0, 1358.0, 1171.0, 1845.0, 30.0, 117.0, 745.0, 1002.0, 1311.0, 958.0, 14.0, 871.0, 1119.0, 1119.0, 1338.0, 24.0, 589.0, 1760.0, 1110.1, 69.0, 988.0, 888.0, 37.8, 29.0, 551.0, 1583.0, 1922.0, 24.0, 54.4, 44.1, 296.0, 1906.0, 108.0, 1906.0, 1830.0, 365.0, 66.0, 142.0, 216.0, 1212.0, 6.6, 1620.0, 1274.0, 87.0, 1327.0, 1327.0, 1812.0, 582.0, 1446.0, 1850.0, 2223.0, 0.0, 2290.0, 508.0, 620.0, 1794.0, 825.0, 560.0, 962.0, 32.0, 1152.0, 953.0, 1043.0, 1922.0, 1347.0, 770.3, 770.0, 923.0, 772.0, 72.0, 888.0, 771.0, 29.0, 945.0, 771.0, 834.0, 1172.0, 689.0, 1491.0, 6.5, 151.0, 769.0, 866.0, 825.0, 43.0, 370.0, 370.0, 370.0, 440.0, 1808.0, 960.0, 1327.0, 118.0, 1765.0, 2304.0, 1266.0, 1514.0, 1500.0, 1404.0, 856.0, 945.0, 1043.0, 1374.0, 990.0, 800.0, 213.0, 24.2, 60.8, 1853.0, 116.0, 460.0, 80.0, 1027.0, 1226.0, 752.0, 465.0, 891.0, 895.0, 477.0, 719.0, 953.0, 45.0, 799.0, 1843.0, 1088.0, 1404.0, 1184.0, 974.0, 1068.0, 1489.0, 25.0, 67.0, 7.0, 1822.0, 845.0, 1490.0, 2777.0, 930.0, 1255.0, 1672.0, 799.0, 15.0, 1900.0, 1012.0, 721.0, 1323.0, 34.2, 871.0, 1025.0, 851.0, 941.0, 42.0, 703.0, 309.0, 80.0, 52.0, 500.0, 33.0, 686.0, 990.0, 771.0, 875.0, 2352.0, 717.0, 970.0, 2853.0, 1779.0, 6.4, 930.0, 1041.0, 1642.0, 40.0, 1289.0, 950.0]}],                        {\"legend\": {\"bgcolor\": \"#F5F6F9\", \"font\": {\"color\": \"#4D5663\"}}, \"paper_bgcolor\": \"#F5F6F9\", \"plot_bgcolor\": \"#F5F6F9\", \"template\": {\"data\": {\"bar\": [{\"error_x\": {\"color\": \"#2a3f5f\"}, \"error_y\": {\"color\": \"#2a3f5f\"}, \"marker\": {\"line\": {\"color\": \"#E5ECF6\", \"width\": 0.5}}, \"type\": \"bar\"}], \"barpolar\": [{\"marker\": {\"line\": {\"color\": \"#E5ECF6\", \"width\": 0.5}}, \"type\": \"barpolar\"}], \"carpet\": [{\"aaxis\": {\"endlinecolor\": \"#2a3f5f\", \"gridcolor\": \"white\", \"linecolor\": \"white\", \"minorgridcolor\": \"white\", \"startlinecolor\": \"#2a3f5f\"}, \"baxis\": {\"endlinecolor\": \"#2a3f5f\", \"gridcolor\": \"white\", \"linecolor\": \"white\", \"minorgridcolor\": \"white\", \"startlinecolor\": \"#2a3f5f\"}, \"type\": \"carpet\"}], \"choropleth\": [{\"colorbar\": {\"outlinewidth\": 0, \"ticks\": \"\"}, \"type\": \"choropleth\"}], \"contour\": [{\"colorbar\": {\"outlinewidth\": 0, \"ticks\": \"\"}, \"colorscale\": [[0.0, \"#0d0887\"], [0.1111111111111111, \"#46039f\"], [0.2222222222222222, \"#7201a8\"], [0.3333333333333333, \"#9c179e\"], [0.4444444444444444, \"#bd3786\"], [0.5555555555555556, \"#d8576b\"], [0.6666666666666666, \"#ed7953\"], [0.7777777777777778, \"#fb9f3a\"], [0.8888888888888888, \"#fdca26\"], [1.0, \"#f0f921\"]], \"type\": \"contour\"}], \"contourcarpet\": [{\"colorbar\": {\"outlinewidth\": 0, \"ticks\": \"\"}, \"type\": \"contourcarpet\"}], \"heatmap\": [{\"colorbar\": {\"outlinewidth\": 0, \"ticks\": \"\"}, \"colorscale\": [[0.0, \"#0d0887\"], [0.1111111111111111, \"#46039f\"], [0.2222222222222222, \"#7201a8\"], [0.3333333333333333, \"#9c179e\"], [0.4444444444444444, \"#bd3786\"], [0.5555555555555556, \"#d8576b\"], [0.6666666666666666, \"#ed7953\"], [0.7777777777777778, \"#fb9f3a\"], [0.8888888888888888, \"#fdca26\"], [1.0, \"#f0f921\"]], \"type\": \"heatmap\"}], \"heatmapgl\": [{\"colorbar\": {\"outlinewidth\": 0, \"ticks\": \"\"}, \"colorscale\": [[0.0, \"#0d0887\"], [0.1111111111111111, \"#46039f\"], [0.2222222222222222, \"#7201a8\"], [0.3333333333333333, \"#9c179e\"], [0.4444444444444444, \"#bd3786\"], [0.5555555555555556, \"#d8576b\"], [0.6666666666666666, \"#ed7953\"], [0.7777777777777778, \"#fb9f3a\"], [0.8888888888888888, \"#fdca26\"], [1.0, \"#f0f921\"]], \"type\": \"heatmapgl\"}], \"histogram\": [{\"marker\": {\"colorbar\": {\"outlinewidth\": 0, \"ticks\": \"\"}}, \"type\": \"histogram\"}], \"histogram2d\": [{\"colorbar\": {\"outlinewidth\": 0, \"ticks\": \"\"}, \"colorscale\": [[0.0, \"#0d0887\"], [0.1111111111111111, \"#46039f\"], [0.2222222222222222, \"#7201a8\"], [0.3333333333333333, \"#9c179e\"], [0.4444444444444444, \"#bd3786\"], [0.5555555555555556, \"#d8576b\"], [0.6666666666666666, \"#ed7953\"], [0.7777777777777778, \"#fb9f3a\"], [0.8888888888888888, \"#fdca26\"], [1.0, \"#f0f921\"]], \"type\": \"histogram2d\"}], \"histogram2dcontour\": [{\"colorbar\": {\"outlinewidth\": 0, \"ticks\": \"\"}, \"colorscale\": [[0.0, \"#0d0887\"], [0.1111111111111111, \"#46039f\"], [0.2222222222222222, \"#7201a8\"], [0.3333333333333333, \"#9c179e\"], [0.4444444444444444, \"#bd3786\"], [0.5555555555555556, \"#d8576b\"], [0.6666666666666666, \"#ed7953\"], [0.7777777777777778, \"#fb9f3a\"], [0.8888888888888888, \"#fdca26\"], [1.0, \"#f0f921\"]], \"type\": \"histogram2dcontour\"}], \"mesh3d\": [{\"colorbar\": {\"outlinewidth\": 0, \"ticks\": \"\"}, \"type\": \"mesh3d\"}], \"parcoords\": [{\"line\": {\"colorbar\": {\"outlinewidth\": 0, \"ticks\": \"\"}}, \"type\": \"parcoords\"}], \"pie\": [{\"automargin\": true, \"type\": \"pie\"}], \"scatter\": [{\"marker\": {\"colorbar\": {\"outlinewidth\": 0, \"ticks\": \"\"}}, \"type\": \"scatter\"}], \"scatter3d\": [{\"line\": {\"colorbar\": {\"outlinewidth\": 0, \"ticks\": \"\"}}, \"marker\": {\"colorbar\": {\"outlinewidth\": 0, \"ticks\": \"\"}}, \"type\": \"scatter3d\"}], \"scattercarpet\": [{\"marker\": {\"colorbar\": {\"outlinewidth\": 0, \"ticks\": \"\"}}, \"type\": \"scattercarpet\"}], \"scattergeo\": [{\"marker\": {\"colorbar\": {\"outlinewidth\": 0, \"ticks\": \"\"}}, \"type\": \"scattergeo\"}], \"scattergl\": [{\"marker\": {\"colorbar\": {\"outlinewidth\": 0, \"ticks\": \"\"}}, \"type\": \"scattergl\"}], \"scattermapbox\": [{\"marker\": {\"colorbar\": {\"outlinewidth\": 0, \"ticks\": \"\"}}, \"type\": \"scattermapbox\"}], \"scatterpolar\": [{\"marker\": {\"colorbar\": {\"outlinewidth\": 0, \"ticks\": \"\"}}, \"type\": \"scatterpolar\"}], \"scatterpolargl\": [{\"marker\": {\"colorbar\": {\"outlinewidth\": 0, \"ticks\": \"\"}}, \"type\": \"scatterpolargl\"}], \"scatterternary\": [{\"marker\": {\"colorbar\": {\"outlinewidth\": 0, \"ticks\": \"\"}}, \"type\": \"scatterternary\"}], \"surface\": [{\"colorbar\": {\"outlinewidth\": 0, \"ticks\": \"\"}, \"colorscale\": [[0.0, \"#0d0887\"], [0.1111111111111111, \"#46039f\"], [0.2222222222222222, \"#7201a8\"], [0.3333333333333333, \"#9c179e\"], [0.4444444444444444, \"#bd3786\"], [0.5555555555555556, \"#d8576b\"], [0.6666666666666666, \"#ed7953\"], [0.7777777777777778, \"#fb9f3a\"], [0.8888888888888888, \"#fdca26\"], [1.0, \"#f0f921\"]], \"type\": \"surface\"}], \"table\": [{\"cells\": {\"fill\": {\"color\": \"#EBF0F8\"}, \"line\": {\"color\": \"white\"}}, \"header\": {\"fill\": {\"color\": \"#C8D4E3\"}, \"line\": {\"color\": \"white\"}}, \"type\": \"table\"}]}, \"layout\": {\"annotationdefaults\": {\"arrowcolor\": \"#2a3f5f\", \"arrowhead\": 0, \"arrowwidth\": 1}, \"autotypenumbers\": \"strict\", \"coloraxis\": {\"colorbar\": {\"outlinewidth\": 0, \"ticks\": \"\"}}, \"colorscale\": {\"diverging\": [[0, \"#8e0152\"], [0.1, \"#c51b7d\"], [0.2, \"#de77ae\"], [0.3, \"#f1b6da\"], [0.4, \"#fde0ef\"], [0.5, \"#f7f7f7\"], [0.6, \"#e6f5d0\"], [0.7, \"#b8e186\"], [0.8, \"#7fbc41\"], [0.9, \"#4d9221\"], [1, \"#276419\"]], \"sequential\": [[0.0, \"#0d0887\"], [0.1111111111111111, \"#46039f\"], [0.2222222222222222, \"#7201a8\"], [0.3333333333333333, \"#9c179e\"], [0.4444444444444444, \"#bd3786\"], [0.5555555555555556, \"#d8576b\"], [0.6666666666666666, \"#ed7953\"], [0.7777777777777778, \"#fb9f3a\"], [0.8888888888888888, \"#fdca26\"], [1.0, \"#f0f921\"]], \"sequentialminus\": [[0.0, \"#0d0887\"], [0.1111111111111111, \"#46039f\"], [0.2222222222222222, \"#7201a8\"], [0.3333333333333333, \"#9c179e\"], [0.4444444444444444, \"#bd3786\"], [0.5555555555555556, \"#d8576b\"], [0.6666666666666666, \"#ed7953\"], [0.7777777777777778, \"#fb9f3a\"], [0.8888888888888888, \"#fdca26\"], [1.0, \"#f0f921\"]]}, \"colorway\": [\"#636efa\", \"#EF553B\", \"#00cc96\", \"#ab63fa\", \"#FFA15A\", \"#19d3f3\", \"#FF6692\", \"#B6E880\", \"#FF97FF\", \"#FECB52\"], \"font\": {\"color\": \"#2a3f5f\"}, \"geo\": {\"bgcolor\": \"white\", \"lakecolor\": \"white\", \"landcolor\": \"#E5ECF6\", \"showlakes\": true, \"showland\": true, \"subunitcolor\": \"white\"}, \"hoverlabel\": {\"align\": \"left\"}, \"hovermode\": \"closest\", \"mapbox\": {\"style\": \"light\"}, \"paper_bgcolor\": \"white\", \"plot_bgcolor\": \"#E5ECF6\", \"polar\": {\"angularaxis\": {\"gridcolor\": \"white\", \"linecolor\": \"white\", \"ticks\": \"\"}, \"bgcolor\": \"#E5ECF6\", \"radialaxis\": {\"gridcolor\": \"white\", \"linecolor\": \"white\", \"ticks\": \"\"}}, \"scene\": {\"xaxis\": {\"backgroundcolor\": \"#E5ECF6\", \"gridcolor\": \"white\", \"gridwidth\": 2, \"linecolor\": \"white\", \"showbackground\": true, \"ticks\": \"\", \"zerolinecolor\": \"white\"}, \"yaxis\": {\"backgroundcolor\": \"#E5ECF6\", \"gridcolor\": \"white\", \"gridwidth\": 2, \"linecolor\": \"white\", \"showbackground\": true, \"ticks\": \"\", \"zerolinecolor\": \"white\"}, \"zaxis\": {\"backgroundcolor\": \"#E5ECF6\", \"gridcolor\": \"white\", \"gridwidth\": 2, \"linecolor\": \"white\", \"showbackground\": true, \"ticks\": \"\", \"zerolinecolor\": \"white\"}}, \"shapedefaults\": {\"line\": {\"color\": \"#2a3f5f\"}}, \"ternary\": {\"aaxis\": {\"gridcolor\": \"white\", \"linecolor\": \"white\", \"ticks\": \"\"}, \"baxis\": {\"gridcolor\": \"white\", \"linecolor\": \"white\", \"ticks\": \"\"}, \"bgcolor\": \"#E5ECF6\", \"caxis\": {\"gridcolor\": \"white\", \"linecolor\": \"white\", \"ticks\": \"\"}}, \"title\": {\"x\": 0.05}, \"xaxis\": {\"automargin\": true, \"gridcolor\": \"white\", \"linecolor\": \"white\", \"ticks\": \"\", \"title\": {\"standoff\": 15}, \"zerolinecolor\": \"white\", \"zerolinewidth\": 2}, \"yaxis\": {\"automargin\": true, \"gridcolor\": \"white\", \"linecolor\": \"white\", \"ticks\": \"\", \"title\": {\"standoff\": 15}, \"zerolinecolor\": \"white\", \"zerolinewidth\": 2}}}, \"title\": {\"font\": {\"color\": \"#4D5663\"}}, \"xaxis\": {\"gridcolor\": \"#E1E5ED\", \"showgrid\": true, \"tickfont\": {\"color\": \"#4D5663\"}, \"title\": {\"font\": {\"color\": \"#4D5663\"}, \"text\": \"\"}, \"zerolinecolor\": \"#E1E5ED\"}, \"yaxis\": {\"gridcolor\": \"#E1E5ED\", \"showgrid\": true, \"tickfont\": {\"color\": \"#4D5663\"}, \"title\": {\"font\": {\"color\": \"#4D5663\"}, \"text\": \"\"}, \"zerolinecolor\": \"#E1E5ED\"}},                        {\"showLink\": true, \"linkText\": \"Export to plotly.com\", \"plotlyServerURL\": \"https://plotly.com\", \"responsive\": true}                    ).then(function(){\n                            \nvar gd = document.getElementById('c269b3e6-e776-4b09-8bf9-4cc0d6850a55');\nvar x = new MutationObserver(function (mutations, observer) {{\n        var display = window.getComputedStyle(gd).display;\n        if (!display || display === 'none') {{\n            console.log([gd, 'removed!']);\n            Plotly.purge(gd);\n            observer.disconnect();\n        }}\n}});\n\n// Listen for the removal of the full notebook cells\nvar notebookContainer = gd.closest('#notebook-container');\nif (notebookContainer) {{\n    x.observe(notebookContainer, {childList: true});\n}}\n\n// Listen for the clearing of the current output cell\nvar outputEl = gd.closest('.output');\nif (outputEl) {{\n    x.observe(outputEl, {childList: true});\n}}\n\n                        })                };                });            </script>        </div>"
     },
     "metadata": {}
    }
   ],
   "source": [
    "Anp_dataset[Anp_dataset['TERRA_MAR']=='M'].LAMINA_D_AGUA_M.iplot(kind='box')"
   ]
  },
  {
   "source": [
    "## Qual são as situações do Poços?\n"
   ],
   "cell_type": "markdown",
   "metadata": {}
  },
  {
   "cell_type": "code",
   "execution_count": 121,
   "metadata": {},
   "outputs": [
    {
     "output_type": "execute_result",
     "data": {
      "text/plain": [
       "SITUACAO\n",
       "PRODUTOR                                                                               9912\n",
       "ABANDONADO DEFINITIVAMENTE                                                             5074\n",
       "ABANDONADO AGUARDANDO ABANDONO DEFINITIVO/ARRASAMENTO                                  3120\n",
       "EM INTERVENÇÃO PARA AVALIAÇÃO, COMPLETAÇÃO OU RESTAURAÇÃO                              2711\n",
       "INJETOR                                                                                2653\n",
       "ARRASADO                                                                               2193\n",
       "DEVOLVIDO                                                                              1446\n",
       "ABANDONADO POR LOGÍSTICA EXPLORATÓRIA                                                   719\n",
       "CEDIDO PARA PRODUÇÃO DE ÁGUA                                                            262\n",
       "ABANDONADO/PARADO AGUARDANDO INTERVENÇÃO PARA AVALIAÇÃO, COMPLETAÇÃO OU RESTAURAÇÃO     253\n",
       "PRODUÇÃO DE AGUA PARA INJEÇÃO                                                           187\n",
       "OUTRO                                                                                    96\n",
       "EQUIPADO AGUARDANDO INÍCIO DE PRODUÇÃO                                                   60\n",
       "DE DESCARTE                                                                              40\n",
       "EQUIPADO AGUARDANDO INÍCIO DE INJEÇÃO                                                     9\n",
       "EM ABANDONO                                                                               8\n",
       "EM PERFURAÇÃO                                                                             6\n",
       "ABANDONADO AGUARDANDO REINÍCIO DE PERFURAÇÃO                                              2\n",
       "Name: POCO, dtype: int64"
      ]
     },
     "metadata": {},
     "execution_count": 121
    }
   ],
   "source": [
    "situacao=Anp_dataset.groupby('SITUACAO')['POCO'].nunique().sort_values( ascending=False)\n",
    "situacao"
   ]
  },
  {
   "source": [
    "## Quais são os tipos de Poços?"
   ],
   "cell_type": "markdown",
   "metadata": {}
  },
  {
   "cell_type": "code",
   "execution_count": 122,
   "metadata": {},
   "outputs": [],
   "source": [
    "tipo_poco=Anp_dataset.groupby('TIPO')['POCO'].nunique().sort_values( ascending=False)"
   ]
  },
  {
   "cell_type": "code",
   "execution_count": 123,
   "metadata": {},
   "outputs": [
    {
     "output_type": "display_data",
     "data": {
      "application/vnd.plotly.v1+json": {
       "config": {
        "linkText": "Export to plotly.com",
        "plotlyServerURL": "https://plotly.com",
        "showLink": false
       },
       "data": [
        {
         "marker": {
          "color": "lightblue",
          "line": {
           "color": "#333",
           "width": 2
          }
         },
         "opacity": 0.7,
         "type": "bar",
         "x": [
          "Explotatório",
          "Exploratório"
         ],
         "y": [
          21240,
          8334
         ]
        }
       ],
       "layout": {
        "template": {
         "data": {
          "bar": [
           {
            "error_x": {
             "color": "#2a3f5f"
            },
            "error_y": {
             "color": "#2a3f5f"
            },
            "marker": {
             "line": {
              "color": "#E5ECF6",
              "width": 0.5
             }
            },
            "type": "bar"
           }
          ],
          "barpolar": [
           {
            "marker": {
             "line": {
              "color": "#E5ECF6",
              "width": 0.5
             }
            },
            "type": "barpolar"
           }
          ],
          "carpet": [
           {
            "aaxis": {
             "endlinecolor": "#2a3f5f",
             "gridcolor": "white",
             "linecolor": "white",
             "minorgridcolor": "white",
             "startlinecolor": "#2a3f5f"
            },
            "baxis": {
             "endlinecolor": "#2a3f5f",
             "gridcolor": "white",
             "linecolor": "white",
             "minorgridcolor": "white",
             "startlinecolor": "#2a3f5f"
            },
            "type": "carpet"
           }
          ],
          "choropleth": [
           {
            "colorbar": {
             "outlinewidth": 0,
             "ticks": ""
            },
            "type": "choropleth"
           }
          ],
          "contour": [
           {
            "colorbar": {
             "outlinewidth": 0,
             "ticks": ""
            },
            "colorscale": [
             [
              0,
              "#0d0887"
             ],
             [
              0.1111111111111111,
              "#46039f"
             ],
             [
              0.2222222222222222,
              "#7201a8"
             ],
             [
              0.3333333333333333,
              "#9c179e"
             ],
             [
              0.4444444444444444,
              "#bd3786"
             ],
             [
              0.5555555555555556,
              "#d8576b"
             ],
             [
              0.6666666666666666,
              "#ed7953"
             ],
             [
              0.7777777777777778,
              "#fb9f3a"
             ],
             [
              0.8888888888888888,
              "#fdca26"
             ],
             [
              1,
              "#f0f921"
             ]
            ],
            "type": "contour"
           }
          ],
          "contourcarpet": [
           {
            "colorbar": {
             "outlinewidth": 0,
             "ticks": ""
            },
            "type": "contourcarpet"
           }
          ],
          "heatmap": [
           {
            "colorbar": {
             "outlinewidth": 0,
             "ticks": ""
            },
            "colorscale": [
             [
              0,
              "#0d0887"
             ],
             [
              0.1111111111111111,
              "#46039f"
             ],
             [
              0.2222222222222222,
              "#7201a8"
             ],
             [
              0.3333333333333333,
              "#9c179e"
             ],
             [
              0.4444444444444444,
              "#bd3786"
             ],
             [
              0.5555555555555556,
              "#d8576b"
             ],
             [
              0.6666666666666666,
              "#ed7953"
             ],
             [
              0.7777777777777778,
              "#fb9f3a"
             ],
             [
              0.8888888888888888,
              "#fdca26"
             ],
             [
              1,
              "#f0f921"
             ]
            ],
            "type": "heatmap"
           }
          ],
          "heatmapgl": [
           {
            "colorbar": {
             "outlinewidth": 0,
             "ticks": ""
            },
            "colorscale": [
             [
              0,
              "#0d0887"
             ],
             [
              0.1111111111111111,
              "#46039f"
             ],
             [
              0.2222222222222222,
              "#7201a8"
             ],
             [
              0.3333333333333333,
              "#9c179e"
             ],
             [
              0.4444444444444444,
              "#bd3786"
             ],
             [
              0.5555555555555556,
              "#d8576b"
             ],
             [
              0.6666666666666666,
              "#ed7953"
             ],
             [
              0.7777777777777778,
              "#fb9f3a"
             ],
             [
              0.8888888888888888,
              "#fdca26"
             ],
             [
              1,
              "#f0f921"
             ]
            ],
            "type": "heatmapgl"
           }
          ],
          "histogram": [
           {
            "marker": {
             "colorbar": {
              "outlinewidth": 0,
              "ticks": ""
             }
            },
            "type": "histogram"
           }
          ],
          "histogram2d": [
           {
            "colorbar": {
             "outlinewidth": 0,
             "ticks": ""
            },
            "colorscale": [
             [
              0,
              "#0d0887"
             ],
             [
              0.1111111111111111,
              "#46039f"
             ],
             [
              0.2222222222222222,
              "#7201a8"
             ],
             [
              0.3333333333333333,
              "#9c179e"
             ],
             [
              0.4444444444444444,
              "#bd3786"
             ],
             [
              0.5555555555555556,
              "#d8576b"
             ],
             [
              0.6666666666666666,
              "#ed7953"
             ],
             [
              0.7777777777777778,
              "#fb9f3a"
             ],
             [
              0.8888888888888888,
              "#fdca26"
             ],
             [
              1,
              "#f0f921"
             ]
            ],
            "type": "histogram2d"
           }
          ],
          "histogram2dcontour": [
           {
            "colorbar": {
             "outlinewidth": 0,
             "ticks": ""
            },
            "colorscale": [
             [
              0,
              "#0d0887"
             ],
             [
              0.1111111111111111,
              "#46039f"
             ],
             [
              0.2222222222222222,
              "#7201a8"
             ],
             [
              0.3333333333333333,
              "#9c179e"
             ],
             [
              0.4444444444444444,
              "#bd3786"
             ],
             [
              0.5555555555555556,
              "#d8576b"
             ],
             [
              0.6666666666666666,
              "#ed7953"
             ],
             [
              0.7777777777777778,
              "#fb9f3a"
             ],
             [
              0.8888888888888888,
              "#fdca26"
             ],
             [
              1,
              "#f0f921"
             ]
            ],
            "type": "histogram2dcontour"
           }
          ],
          "mesh3d": [
           {
            "colorbar": {
             "outlinewidth": 0,
             "ticks": ""
            },
            "type": "mesh3d"
           }
          ],
          "parcoords": [
           {
            "line": {
             "colorbar": {
              "outlinewidth": 0,
              "ticks": ""
             }
            },
            "type": "parcoords"
           }
          ],
          "pie": [
           {
            "automargin": true,
            "type": "pie"
           }
          ],
          "scatter": [
           {
            "marker": {
             "colorbar": {
              "outlinewidth": 0,
              "ticks": ""
             }
            },
            "type": "scatter"
           }
          ],
          "scatter3d": [
           {
            "line": {
             "colorbar": {
              "outlinewidth": 0,
              "ticks": ""
             }
            },
            "marker": {
             "colorbar": {
              "outlinewidth": 0,
              "ticks": ""
             }
            },
            "type": "scatter3d"
           }
          ],
          "scattercarpet": [
           {
            "marker": {
             "colorbar": {
              "outlinewidth": 0,
              "ticks": ""
             }
            },
            "type": "scattercarpet"
           }
          ],
          "scattergeo": [
           {
            "marker": {
             "colorbar": {
              "outlinewidth": 0,
              "ticks": ""
             }
            },
            "type": "scattergeo"
           }
          ],
          "scattergl": [
           {
            "marker": {
             "colorbar": {
              "outlinewidth": 0,
              "ticks": ""
             }
            },
            "type": "scattergl"
           }
          ],
          "scattermapbox": [
           {
            "marker": {
             "colorbar": {
              "outlinewidth": 0,
              "ticks": ""
             }
            },
            "type": "scattermapbox"
           }
          ],
          "scatterpolar": [
           {
            "marker": {
             "colorbar": {
              "outlinewidth": 0,
              "ticks": ""
             }
            },
            "type": "scatterpolar"
           }
          ],
          "scatterpolargl": [
           {
            "marker": {
             "colorbar": {
              "outlinewidth": 0,
              "ticks": ""
             }
            },
            "type": "scatterpolargl"
           }
          ],
          "scatterternary": [
           {
            "marker": {
             "colorbar": {
              "outlinewidth": 0,
              "ticks": ""
             }
            },
            "type": "scatterternary"
           }
          ],
          "surface": [
           {
            "colorbar": {
             "outlinewidth": 0,
             "ticks": ""
            },
            "colorscale": [
             [
              0,
              "#0d0887"
             ],
             [
              0.1111111111111111,
              "#46039f"
             ],
             [
              0.2222222222222222,
              "#7201a8"
             ],
             [
              0.3333333333333333,
              "#9c179e"
             ],
             [
              0.4444444444444444,
              "#bd3786"
             ],
             [
              0.5555555555555556,
              "#d8576b"
             ],
             [
              0.6666666666666666,
              "#ed7953"
             ],
             [
              0.7777777777777778,
              "#fb9f3a"
             ],
             [
              0.8888888888888888,
              "#fdca26"
             ],
             [
              1,
              "#f0f921"
             ]
            ],
            "type": "surface"
           }
          ],
          "table": [
           {
            "cells": {
             "fill": {
              "color": "#EBF0F8"
             },
             "line": {
              "color": "white"
             }
            },
            "header": {
             "fill": {
              "color": "#C8D4E3"
             },
             "line": {
              "color": "white"
             }
            },
            "type": "table"
           }
          ]
         },
         "layout": {
          "annotationdefaults": {
           "arrowcolor": "#2a3f5f",
           "arrowhead": 0,
           "arrowwidth": 1
          },
          "autotypenumbers": "strict",
          "coloraxis": {
           "colorbar": {
            "outlinewidth": 0,
            "ticks": ""
           }
          },
          "colorscale": {
           "diverging": [
            [
             0,
             "#8e0152"
            ],
            [
             0.1,
             "#c51b7d"
            ],
            [
             0.2,
             "#de77ae"
            ],
            [
             0.3,
             "#f1b6da"
            ],
            [
             0.4,
             "#fde0ef"
            ],
            [
             0.5,
             "#f7f7f7"
            ],
            [
             0.6,
             "#e6f5d0"
            ],
            [
             0.7,
             "#b8e186"
            ],
            [
             0.8,
             "#7fbc41"
            ],
            [
             0.9,
             "#4d9221"
            ],
            [
             1,
             "#276419"
            ]
           ],
           "sequential": [
            [
             0,
             "#0d0887"
            ],
            [
             0.1111111111111111,
             "#46039f"
            ],
            [
             0.2222222222222222,
             "#7201a8"
            ],
            [
             0.3333333333333333,
             "#9c179e"
            ],
            [
             0.4444444444444444,
             "#bd3786"
            ],
            [
             0.5555555555555556,
             "#d8576b"
            ],
            [
             0.6666666666666666,
             "#ed7953"
            ],
            [
             0.7777777777777778,
             "#fb9f3a"
            ],
            [
             0.8888888888888888,
             "#fdca26"
            ],
            [
             1,
             "#f0f921"
            ]
           ],
           "sequentialminus": [
            [
             0,
             "#0d0887"
            ],
            [
             0.1111111111111111,
             "#46039f"
            ],
            [
             0.2222222222222222,
             "#7201a8"
            ],
            [
             0.3333333333333333,
             "#9c179e"
            ],
            [
             0.4444444444444444,
             "#bd3786"
            ],
            [
             0.5555555555555556,
             "#d8576b"
            ],
            [
             0.6666666666666666,
             "#ed7953"
            ],
            [
             0.7777777777777778,
             "#fb9f3a"
            ],
            [
             0.8888888888888888,
             "#fdca26"
            ],
            [
             1,
             "#f0f921"
            ]
           ]
          },
          "colorway": [
           "#636efa",
           "#EF553B",
           "#00cc96",
           "#ab63fa",
           "#FFA15A",
           "#19d3f3",
           "#FF6692",
           "#B6E880",
           "#FF97FF",
           "#FECB52"
          ],
          "font": {
           "color": "#2a3f5f"
          },
          "geo": {
           "bgcolor": "white",
           "lakecolor": "white",
           "landcolor": "#E5ECF6",
           "showlakes": true,
           "showland": true,
           "subunitcolor": "white"
          },
          "hoverlabel": {
           "align": "left"
          },
          "hovermode": "closest",
          "mapbox": {
           "style": "light"
          },
          "paper_bgcolor": "white",
          "plot_bgcolor": "#E5ECF6",
          "polar": {
           "angularaxis": {
            "gridcolor": "white",
            "linecolor": "white",
            "ticks": ""
           },
           "bgcolor": "#E5ECF6",
           "radialaxis": {
            "gridcolor": "white",
            "linecolor": "white",
            "ticks": ""
           }
          },
          "scene": {
           "xaxis": {
            "backgroundcolor": "#E5ECF6",
            "gridcolor": "white",
            "gridwidth": 2,
            "linecolor": "white",
            "showbackground": true,
            "ticks": "",
            "zerolinecolor": "white"
           },
           "yaxis": {
            "backgroundcolor": "#E5ECF6",
            "gridcolor": "white",
            "gridwidth": 2,
            "linecolor": "white",
            "showbackground": true,
            "ticks": "",
            "zerolinecolor": "white"
           },
           "zaxis": {
            "backgroundcolor": "#E5ECF6",
            "gridcolor": "white",
            "gridwidth": 2,
            "linecolor": "white",
            "showbackground": true,
            "ticks": "",
            "zerolinecolor": "white"
           }
          },
          "shapedefaults": {
           "line": {
            "color": "#2a3f5f"
           }
          },
          "ternary": {
           "aaxis": {
            "gridcolor": "white",
            "linecolor": "white",
            "ticks": ""
           },
           "baxis": {
            "gridcolor": "white",
            "linecolor": "white",
            "ticks": ""
           },
           "bgcolor": "#E5ECF6",
           "caxis": {
            "gridcolor": "white",
            "linecolor": "white",
            "ticks": ""
           }
          },
          "title": {
           "x": 0.05
          },
          "xaxis": {
           "automargin": true,
           "gridcolor": "white",
           "linecolor": "white",
           "ticks": "",
           "title": {
            "standoff": 15
           },
           "zerolinecolor": "white",
           "zerolinewidth": 2
          },
          "yaxis": {
           "automargin": true,
           "gridcolor": "white",
           "linecolor": "white",
           "ticks": "",
           "title": {
            "standoff": 15
           },
           "zerolinecolor": "white",
           "zerolinewidth": 2
          }
         }
        },
        "title": {
         "text": "Distribuição dos tipos de poços"
        },
        "xaxis": {
         "title": {
          "text": "Tipo de Poço"
         }
        },
        "yaxis": {
         "title": {
          "text": "Quantidade de Poços"
         }
        }
       }
      },
      "text/html": "<div>                            <div id=\"6c58fb5b-7942-4222-98d7-36c7447ff59f\" class=\"plotly-graph-div\" style=\"height:525px; width:100%;\"></div>            <script type=\"text/javascript\">                require([\"plotly\"], function(Plotly) {                    window.PLOTLYENV=window.PLOTLYENV || {};                                    if (document.getElementById(\"6c58fb5b-7942-4222-98d7-36c7447ff59f\")) {                    Plotly.newPlot(                        \"6c58fb5b-7942-4222-98d7-36c7447ff59f\",                        [{\"marker\": {\"color\": \"lightblue\", \"line\": {\"color\": \"#333\", \"width\": 2}}, \"opacity\": 0.7, \"type\": \"bar\", \"x\": [\"Explotat\\u00f3rio\", \"Explorat\\u00f3rio\"], \"y\": [21240, 8334]}],                        {\"template\": {\"data\": {\"bar\": [{\"error_x\": {\"color\": \"#2a3f5f\"}, \"error_y\": {\"color\": \"#2a3f5f\"}, \"marker\": {\"line\": {\"color\": \"#E5ECF6\", \"width\": 0.5}}, \"type\": \"bar\"}], \"barpolar\": [{\"marker\": {\"line\": {\"color\": \"#E5ECF6\", \"width\": 0.5}}, \"type\": \"barpolar\"}], \"carpet\": [{\"aaxis\": {\"endlinecolor\": \"#2a3f5f\", \"gridcolor\": \"white\", \"linecolor\": \"white\", \"minorgridcolor\": \"white\", \"startlinecolor\": \"#2a3f5f\"}, \"baxis\": {\"endlinecolor\": \"#2a3f5f\", \"gridcolor\": \"white\", \"linecolor\": \"white\", \"minorgridcolor\": \"white\", \"startlinecolor\": \"#2a3f5f\"}, \"type\": \"carpet\"}], \"choropleth\": [{\"colorbar\": {\"outlinewidth\": 0, \"ticks\": \"\"}, \"type\": \"choropleth\"}], \"contour\": [{\"colorbar\": {\"outlinewidth\": 0, \"ticks\": \"\"}, \"colorscale\": [[0.0, \"#0d0887\"], [0.1111111111111111, \"#46039f\"], [0.2222222222222222, \"#7201a8\"], [0.3333333333333333, \"#9c179e\"], [0.4444444444444444, \"#bd3786\"], [0.5555555555555556, \"#d8576b\"], [0.6666666666666666, \"#ed7953\"], [0.7777777777777778, \"#fb9f3a\"], [0.8888888888888888, \"#fdca26\"], [1.0, \"#f0f921\"]], \"type\": \"contour\"}], \"contourcarpet\": [{\"colorbar\": {\"outlinewidth\": 0, \"ticks\": \"\"}, \"type\": \"contourcarpet\"}], \"heatmap\": [{\"colorbar\": {\"outlinewidth\": 0, \"ticks\": \"\"}, \"colorscale\": [[0.0, \"#0d0887\"], [0.1111111111111111, \"#46039f\"], [0.2222222222222222, \"#7201a8\"], [0.3333333333333333, \"#9c179e\"], [0.4444444444444444, \"#bd3786\"], [0.5555555555555556, \"#d8576b\"], [0.6666666666666666, \"#ed7953\"], [0.7777777777777778, \"#fb9f3a\"], [0.8888888888888888, \"#fdca26\"], [1.0, \"#f0f921\"]], \"type\": \"heatmap\"}], \"heatmapgl\": [{\"colorbar\": {\"outlinewidth\": 0, \"ticks\": \"\"}, \"colorscale\": [[0.0, \"#0d0887\"], [0.1111111111111111, \"#46039f\"], [0.2222222222222222, \"#7201a8\"], [0.3333333333333333, \"#9c179e\"], [0.4444444444444444, \"#bd3786\"], [0.5555555555555556, \"#d8576b\"], [0.6666666666666666, \"#ed7953\"], [0.7777777777777778, \"#fb9f3a\"], [0.8888888888888888, \"#fdca26\"], [1.0, \"#f0f921\"]], \"type\": \"heatmapgl\"}], \"histogram\": [{\"marker\": {\"colorbar\": {\"outlinewidth\": 0, \"ticks\": \"\"}}, \"type\": \"histogram\"}], \"histogram2d\": [{\"colorbar\": {\"outlinewidth\": 0, \"ticks\": \"\"}, \"colorscale\": [[0.0, \"#0d0887\"], [0.1111111111111111, \"#46039f\"], [0.2222222222222222, \"#7201a8\"], [0.3333333333333333, \"#9c179e\"], [0.4444444444444444, \"#bd3786\"], [0.5555555555555556, \"#d8576b\"], [0.6666666666666666, \"#ed7953\"], [0.7777777777777778, \"#fb9f3a\"], [0.8888888888888888, \"#fdca26\"], [1.0, \"#f0f921\"]], \"type\": \"histogram2d\"}], \"histogram2dcontour\": [{\"colorbar\": {\"outlinewidth\": 0, \"ticks\": \"\"}, \"colorscale\": [[0.0, \"#0d0887\"], [0.1111111111111111, \"#46039f\"], [0.2222222222222222, \"#7201a8\"], [0.3333333333333333, \"#9c179e\"], [0.4444444444444444, \"#bd3786\"], [0.5555555555555556, \"#d8576b\"], [0.6666666666666666, \"#ed7953\"], [0.7777777777777778, \"#fb9f3a\"], [0.8888888888888888, \"#fdca26\"], [1.0, \"#f0f921\"]], \"type\": \"histogram2dcontour\"}], \"mesh3d\": [{\"colorbar\": {\"outlinewidth\": 0, \"ticks\": \"\"}, \"type\": \"mesh3d\"}], \"parcoords\": [{\"line\": {\"colorbar\": {\"outlinewidth\": 0, \"ticks\": \"\"}}, \"type\": \"parcoords\"}], \"pie\": [{\"automargin\": true, \"type\": \"pie\"}], \"scatter\": [{\"marker\": {\"colorbar\": {\"outlinewidth\": 0, \"ticks\": \"\"}}, \"type\": \"scatter\"}], \"scatter3d\": [{\"line\": {\"colorbar\": {\"outlinewidth\": 0, \"ticks\": \"\"}}, \"marker\": {\"colorbar\": {\"outlinewidth\": 0, \"ticks\": \"\"}}, \"type\": \"scatter3d\"}], \"scattercarpet\": [{\"marker\": {\"colorbar\": {\"outlinewidth\": 0, \"ticks\": \"\"}}, \"type\": \"scattercarpet\"}], \"scattergeo\": [{\"marker\": {\"colorbar\": {\"outlinewidth\": 0, \"ticks\": \"\"}}, \"type\": \"scattergeo\"}], \"scattergl\": [{\"marker\": {\"colorbar\": {\"outlinewidth\": 0, \"ticks\": \"\"}}, \"type\": \"scattergl\"}], \"scattermapbox\": [{\"marker\": {\"colorbar\": {\"outlinewidth\": 0, \"ticks\": \"\"}}, \"type\": \"scattermapbox\"}], \"scatterpolar\": [{\"marker\": {\"colorbar\": {\"outlinewidth\": 0, \"ticks\": \"\"}}, \"type\": \"scatterpolar\"}], \"scatterpolargl\": [{\"marker\": {\"colorbar\": {\"outlinewidth\": 0, \"ticks\": \"\"}}, \"type\": \"scatterpolargl\"}], \"scatterternary\": [{\"marker\": {\"colorbar\": {\"outlinewidth\": 0, \"ticks\": \"\"}}, \"type\": \"scatterternary\"}], \"surface\": [{\"colorbar\": {\"outlinewidth\": 0, \"ticks\": \"\"}, \"colorscale\": [[0.0, \"#0d0887\"], [0.1111111111111111, \"#46039f\"], [0.2222222222222222, \"#7201a8\"], [0.3333333333333333, \"#9c179e\"], [0.4444444444444444, \"#bd3786\"], [0.5555555555555556, \"#d8576b\"], [0.6666666666666666, \"#ed7953\"], [0.7777777777777778, \"#fb9f3a\"], [0.8888888888888888, \"#fdca26\"], [1.0, \"#f0f921\"]], \"type\": \"surface\"}], \"table\": [{\"cells\": {\"fill\": {\"color\": \"#EBF0F8\"}, \"line\": {\"color\": \"white\"}}, \"header\": {\"fill\": {\"color\": \"#C8D4E3\"}, \"line\": {\"color\": \"white\"}}, \"type\": \"table\"}]}, \"layout\": {\"annotationdefaults\": {\"arrowcolor\": \"#2a3f5f\", \"arrowhead\": 0, \"arrowwidth\": 1}, \"autotypenumbers\": \"strict\", \"coloraxis\": {\"colorbar\": {\"outlinewidth\": 0, \"ticks\": \"\"}}, \"colorscale\": {\"diverging\": [[0, \"#8e0152\"], [0.1, \"#c51b7d\"], [0.2, \"#de77ae\"], [0.3, \"#f1b6da\"], [0.4, \"#fde0ef\"], [0.5, \"#f7f7f7\"], [0.6, \"#e6f5d0\"], [0.7, \"#b8e186\"], [0.8, \"#7fbc41\"], [0.9, \"#4d9221\"], [1, \"#276419\"]], \"sequential\": [[0.0, \"#0d0887\"], [0.1111111111111111, \"#46039f\"], [0.2222222222222222, \"#7201a8\"], [0.3333333333333333, \"#9c179e\"], [0.4444444444444444, \"#bd3786\"], [0.5555555555555556, \"#d8576b\"], [0.6666666666666666, \"#ed7953\"], [0.7777777777777778, \"#fb9f3a\"], [0.8888888888888888, \"#fdca26\"], [1.0, \"#f0f921\"]], \"sequentialminus\": [[0.0, \"#0d0887\"], [0.1111111111111111, \"#46039f\"], [0.2222222222222222, \"#7201a8\"], [0.3333333333333333, \"#9c179e\"], [0.4444444444444444, \"#bd3786\"], [0.5555555555555556, \"#d8576b\"], [0.6666666666666666, \"#ed7953\"], [0.7777777777777778, \"#fb9f3a\"], [0.8888888888888888, \"#fdca26\"], [1.0, \"#f0f921\"]]}, \"colorway\": [\"#636efa\", \"#EF553B\", \"#00cc96\", \"#ab63fa\", \"#FFA15A\", \"#19d3f3\", \"#FF6692\", \"#B6E880\", \"#FF97FF\", \"#FECB52\"], \"font\": {\"color\": \"#2a3f5f\"}, \"geo\": {\"bgcolor\": \"white\", \"lakecolor\": \"white\", \"landcolor\": \"#E5ECF6\", \"showlakes\": true, \"showland\": true, \"subunitcolor\": \"white\"}, \"hoverlabel\": {\"align\": \"left\"}, \"hovermode\": \"closest\", \"mapbox\": {\"style\": \"light\"}, \"paper_bgcolor\": \"white\", \"plot_bgcolor\": \"#E5ECF6\", \"polar\": {\"angularaxis\": {\"gridcolor\": \"white\", \"linecolor\": \"white\", \"ticks\": \"\"}, \"bgcolor\": \"#E5ECF6\", \"radialaxis\": {\"gridcolor\": \"white\", \"linecolor\": \"white\", \"ticks\": \"\"}}, \"scene\": {\"xaxis\": {\"backgroundcolor\": \"#E5ECF6\", \"gridcolor\": \"white\", \"gridwidth\": 2, \"linecolor\": \"white\", \"showbackground\": true, \"ticks\": \"\", \"zerolinecolor\": \"white\"}, \"yaxis\": {\"backgroundcolor\": \"#E5ECF6\", \"gridcolor\": \"white\", \"gridwidth\": 2, \"linecolor\": \"white\", \"showbackground\": true, \"ticks\": \"\", \"zerolinecolor\": \"white\"}, \"zaxis\": {\"backgroundcolor\": \"#E5ECF6\", \"gridcolor\": \"white\", \"gridwidth\": 2, \"linecolor\": \"white\", \"showbackground\": true, \"ticks\": \"\", \"zerolinecolor\": \"white\"}}, \"shapedefaults\": {\"line\": {\"color\": \"#2a3f5f\"}}, \"ternary\": {\"aaxis\": {\"gridcolor\": \"white\", \"linecolor\": \"white\", \"ticks\": \"\"}, \"baxis\": {\"gridcolor\": \"white\", \"linecolor\": \"white\", \"ticks\": \"\"}, \"bgcolor\": \"#E5ECF6\", \"caxis\": {\"gridcolor\": \"white\", \"linecolor\": \"white\", \"ticks\": \"\"}}, \"title\": {\"x\": 0.05}, \"xaxis\": {\"automargin\": true, \"gridcolor\": \"white\", \"linecolor\": \"white\", \"ticks\": \"\", \"title\": {\"standoff\": 15}, \"zerolinecolor\": \"white\", \"zerolinewidth\": 2}, \"yaxis\": {\"automargin\": true, \"gridcolor\": \"white\", \"linecolor\": \"white\", \"ticks\": \"\", \"title\": {\"standoff\": 15}, \"zerolinecolor\": \"white\", \"zerolinewidth\": 2}}}, \"title\": {\"text\": \"Distribui\\u00e7\\u00e3o dos tipos de po\\u00e7os\"}, \"xaxis\": {\"title\": {\"text\": \"Tipo de Po\\u00e7o\"}}, \"yaxis\": {\"title\": {\"text\": \"Quantidade de Po\\u00e7os\"}}},                        {\"responsive\": true}                    ).then(function(){\n                            \nvar gd = document.getElementById('6c58fb5b-7942-4222-98d7-36c7447ff59f');\nvar x = new MutationObserver(function (mutations, observer) {{\n        var display = window.getComputedStyle(gd).display;\n        if (!display || display === 'none') {{\n            console.log([gd, 'removed!']);\n            Plotly.purge(gd);\n            observer.disconnect();\n        }}\n}});\n\n// Listen for the removal of the full notebook cells\nvar notebookContainer = gd.closest('#notebook-container');\nif (notebookContainer) {{\n    x.observe(notebookContainer, {childList: true});\n}}\n\n// Listen for the clearing of the current output cell\nvar outputEl = gd.closest('.output');\nif (outputEl) {{\n    x.observe(outputEl, {childList: true});\n}}\n\n                        })                };                });            </script>        </div>"
     },
     "metadata": {}
    }
   ],
   "source": [
    "data = [go.Bar(x=tipo_poco.index,\n",
    "               y=tipo_poco.values,\n",
    "               marker = {'color': 'lightblue',\n",
    "                         'line': {'color': '#333',\n",
    "                                  'width': 2}\n",
    "                        },\n",
    "               opacity= 0.7\n",
    "              )\n",
    "       ]\n",
    "\n",
    "# Criando Layout\n",
    "configuracoes_layout = go.Layout(title='Distribuição dos tipos de poços',\n",
    "                                 yaxis={'title':'Quantidade de Poços'},\n",
    "                                 xaxis={'title':'Tipo de Poço'})\n",
    "\n",
    "# Objeto figura\n",
    "\n",
    "fig = go.Figure(data=data, layout=configuracoes_layout)\n",
    "\n",
    "# plotando o grafico\n",
    "py.iplot(fig)"
   ]
  },
  {
   "source": [
    "- Poço Exploratório: Aquele perfurado em área de exploração. PORTARIA ANP Nº 283, DE 14/11/2001\n",
    "\n",
    "- Poço Explotatório de Produção: Identificado com o código 7, é aquele que visa drenar uma ou mais jazidas de um campo. PORTARIA ANP Nº 75, DE 03/05/2000"
   ],
   "cell_type": "markdown",
   "metadata": {}
  },
  {
   "source": [
    "## Quais são as categorias dos Poços?"
   ],
   "cell_type": "markdown",
   "metadata": {}
  },
  {
   "cell_type": "code",
   "execution_count": 124,
   "metadata": {},
   "outputs": [],
   "source": [
    "categorias_pocos=Anp_dataset.groupby('CATEGORIA')['POCO'].nunique().sort_values( ascending=False)"
   ]
  },
  {
   "cell_type": "code",
   "execution_count": 125,
   "metadata": {},
   "outputs": [
    {
     "output_type": "display_data",
     "data": {
      "application/vnd.plotly.v1+json": {
       "config": {
        "linkText": "Export to plotly.com",
        "plotlyServerURL": "https://plotly.com",
        "showLink": false
       },
       "data": [
        {
         "marker": {
          "color": "lightblue",
          "line": {
           "color": "#333",
           "width": 2
          }
         },
         "opacity": 0.7,
         "orientation": "v",
         "type": "bar",
         "x": [
          "Desenvolvimento",
          "Pioneiro",
          "Extensão",
          "Especial",
          "Injeção",
          "Pioneiro Adjacente",
          "Estratigráfico",
          "Jazida Mais Profunda",
          "Jazida Mais Rasa"
         ],
         "y": [
          18275,
          4059,
          2302,
          1965,
          1644,
          823,
          327,
          144,
          35
         ]
        }
       ],
       "layout": {
        "template": {
         "data": {
          "bar": [
           {
            "error_x": {
             "color": "#2a3f5f"
            },
            "error_y": {
             "color": "#2a3f5f"
            },
            "marker": {
             "line": {
              "color": "#E5ECF6",
              "width": 0.5
             }
            },
            "type": "bar"
           }
          ],
          "barpolar": [
           {
            "marker": {
             "line": {
              "color": "#E5ECF6",
              "width": 0.5
             }
            },
            "type": "barpolar"
           }
          ],
          "carpet": [
           {
            "aaxis": {
             "endlinecolor": "#2a3f5f",
             "gridcolor": "white",
             "linecolor": "white",
             "minorgridcolor": "white",
             "startlinecolor": "#2a3f5f"
            },
            "baxis": {
             "endlinecolor": "#2a3f5f",
             "gridcolor": "white",
             "linecolor": "white",
             "minorgridcolor": "white",
             "startlinecolor": "#2a3f5f"
            },
            "type": "carpet"
           }
          ],
          "choropleth": [
           {
            "colorbar": {
             "outlinewidth": 0,
             "ticks": ""
            },
            "type": "choropleth"
           }
          ],
          "contour": [
           {
            "colorbar": {
             "outlinewidth": 0,
             "ticks": ""
            },
            "colorscale": [
             [
              0,
              "#0d0887"
             ],
             [
              0.1111111111111111,
              "#46039f"
             ],
             [
              0.2222222222222222,
              "#7201a8"
             ],
             [
              0.3333333333333333,
              "#9c179e"
             ],
             [
              0.4444444444444444,
              "#bd3786"
             ],
             [
              0.5555555555555556,
              "#d8576b"
             ],
             [
              0.6666666666666666,
              "#ed7953"
             ],
             [
              0.7777777777777778,
              "#fb9f3a"
             ],
             [
              0.8888888888888888,
              "#fdca26"
             ],
             [
              1,
              "#f0f921"
             ]
            ],
            "type": "contour"
           }
          ],
          "contourcarpet": [
           {
            "colorbar": {
             "outlinewidth": 0,
             "ticks": ""
            },
            "type": "contourcarpet"
           }
          ],
          "heatmap": [
           {
            "colorbar": {
             "outlinewidth": 0,
             "ticks": ""
            },
            "colorscale": [
             [
              0,
              "#0d0887"
             ],
             [
              0.1111111111111111,
              "#46039f"
             ],
             [
              0.2222222222222222,
              "#7201a8"
             ],
             [
              0.3333333333333333,
              "#9c179e"
             ],
             [
              0.4444444444444444,
              "#bd3786"
             ],
             [
              0.5555555555555556,
              "#d8576b"
             ],
             [
              0.6666666666666666,
              "#ed7953"
             ],
             [
              0.7777777777777778,
              "#fb9f3a"
             ],
             [
              0.8888888888888888,
              "#fdca26"
             ],
             [
              1,
              "#f0f921"
             ]
            ],
            "type": "heatmap"
           }
          ],
          "heatmapgl": [
           {
            "colorbar": {
             "outlinewidth": 0,
             "ticks": ""
            },
            "colorscale": [
             [
              0,
              "#0d0887"
             ],
             [
              0.1111111111111111,
              "#46039f"
             ],
             [
              0.2222222222222222,
              "#7201a8"
             ],
             [
              0.3333333333333333,
              "#9c179e"
             ],
             [
              0.4444444444444444,
              "#bd3786"
             ],
             [
              0.5555555555555556,
              "#d8576b"
             ],
             [
              0.6666666666666666,
              "#ed7953"
             ],
             [
              0.7777777777777778,
              "#fb9f3a"
             ],
             [
              0.8888888888888888,
              "#fdca26"
             ],
             [
              1,
              "#f0f921"
             ]
            ],
            "type": "heatmapgl"
           }
          ],
          "histogram": [
           {
            "marker": {
             "colorbar": {
              "outlinewidth": 0,
              "ticks": ""
             }
            },
            "type": "histogram"
           }
          ],
          "histogram2d": [
           {
            "colorbar": {
             "outlinewidth": 0,
             "ticks": ""
            },
            "colorscale": [
             [
              0,
              "#0d0887"
             ],
             [
              0.1111111111111111,
              "#46039f"
             ],
             [
              0.2222222222222222,
              "#7201a8"
             ],
             [
              0.3333333333333333,
              "#9c179e"
             ],
             [
              0.4444444444444444,
              "#bd3786"
             ],
             [
              0.5555555555555556,
              "#d8576b"
             ],
             [
              0.6666666666666666,
              "#ed7953"
             ],
             [
              0.7777777777777778,
              "#fb9f3a"
             ],
             [
              0.8888888888888888,
              "#fdca26"
             ],
             [
              1,
              "#f0f921"
             ]
            ],
            "type": "histogram2d"
           }
          ],
          "histogram2dcontour": [
           {
            "colorbar": {
             "outlinewidth": 0,
             "ticks": ""
            },
            "colorscale": [
             [
              0,
              "#0d0887"
             ],
             [
              0.1111111111111111,
              "#46039f"
             ],
             [
              0.2222222222222222,
              "#7201a8"
             ],
             [
              0.3333333333333333,
              "#9c179e"
             ],
             [
              0.4444444444444444,
              "#bd3786"
             ],
             [
              0.5555555555555556,
              "#d8576b"
             ],
             [
              0.6666666666666666,
              "#ed7953"
             ],
             [
              0.7777777777777778,
              "#fb9f3a"
             ],
             [
              0.8888888888888888,
              "#fdca26"
             ],
             [
              1,
              "#f0f921"
             ]
            ],
            "type": "histogram2dcontour"
           }
          ],
          "mesh3d": [
           {
            "colorbar": {
             "outlinewidth": 0,
             "ticks": ""
            },
            "type": "mesh3d"
           }
          ],
          "parcoords": [
           {
            "line": {
             "colorbar": {
              "outlinewidth": 0,
              "ticks": ""
             }
            },
            "type": "parcoords"
           }
          ],
          "pie": [
           {
            "automargin": true,
            "type": "pie"
           }
          ],
          "scatter": [
           {
            "marker": {
             "colorbar": {
              "outlinewidth": 0,
              "ticks": ""
             }
            },
            "type": "scatter"
           }
          ],
          "scatter3d": [
           {
            "line": {
             "colorbar": {
              "outlinewidth": 0,
              "ticks": ""
             }
            },
            "marker": {
             "colorbar": {
              "outlinewidth": 0,
              "ticks": ""
             }
            },
            "type": "scatter3d"
           }
          ],
          "scattercarpet": [
           {
            "marker": {
             "colorbar": {
              "outlinewidth": 0,
              "ticks": ""
             }
            },
            "type": "scattercarpet"
           }
          ],
          "scattergeo": [
           {
            "marker": {
             "colorbar": {
              "outlinewidth": 0,
              "ticks": ""
             }
            },
            "type": "scattergeo"
           }
          ],
          "scattergl": [
           {
            "marker": {
             "colorbar": {
              "outlinewidth": 0,
              "ticks": ""
             }
            },
            "type": "scattergl"
           }
          ],
          "scattermapbox": [
           {
            "marker": {
             "colorbar": {
              "outlinewidth": 0,
              "ticks": ""
             }
            },
            "type": "scattermapbox"
           }
          ],
          "scatterpolar": [
           {
            "marker": {
             "colorbar": {
              "outlinewidth": 0,
              "ticks": ""
             }
            },
            "type": "scatterpolar"
           }
          ],
          "scatterpolargl": [
           {
            "marker": {
             "colorbar": {
              "outlinewidth": 0,
              "ticks": ""
             }
            },
            "type": "scatterpolargl"
           }
          ],
          "scatterternary": [
           {
            "marker": {
             "colorbar": {
              "outlinewidth": 0,
              "ticks": ""
             }
            },
            "type": "scatterternary"
           }
          ],
          "surface": [
           {
            "colorbar": {
             "outlinewidth": 0,
             "ticks": ""
            },
            "colorscale": [
             [
              0,
              "#0d0887"
             ],
             [
              0.1111111111111111,
              "#46039f"
             ],
             [
              0.2222222222222222,
              "#7201a8"
             ],
             [
              0.3333333333333333,
              "#9c179e"
             ],
             [
              0.4444444444444444,
              "#bd3786"
             ],
             [
              0.5555555555555556,
              "#d8576b"
             ],
             [
              0.6666666666666666,
              "#ed7953"
             ],
             [
              0.7777777777777778,
              "#fb9f3a"
             ],
             [
              0.8888888888888888,
              "#fdca26"
             ],
             [
              1,
              "#f0f921"
             ]
            ],
            "type": "surface"
           }
          ],
          "table": [
           {
            "cells": {
             "fill": {
              "color": "#EBF0F8"
             },
             "line": {
              "color": "white"
             }
            },
            "header": {
             "fill": {
              "color": "#C8D4E3"
             },
             "line": {
              "color": "white"
             }
            },
            "type": "table"
           }
          ]
         },
         "layout": {
          "annotationdefaults": {
           "arrowcolor": "#2a3f5f",
           "arrowhead": 0,
           "arrowwidth": 1
          },
          "autotypenumbers": "strict",
          "coloraxis": {
           "colorbar": {
            "outlinewidth": 0,
            "ticks": ""
           }
          },
          "colorscale": {
           "diverging": [
            [
             0,
             "#8e0152"
            ],
            [
             0.1,
             "#c51b7d"
            ],
            [
             0.2,
             "#de77ae"
            ],
            [
             0.3,
             "#f1b6da"
            ],
            [
             0.4,
             "#fde0ef"
            ],
            [
             0.5,
             "#f7f7f7"
            ],
            [
             0.6,
             "#e6f5d0"
            ],
            [
             0.7,
             "#b8e186"
            ],
            [
             0.8,
             "#7fbc41"
            ],
            [
             0.9,
             "#4d9221"
            ],
            [
             1,
             "#276419"
            ]
           ],
           "sequential": [
            [
             0,
             "#0d0887"
            ],
            [
             0.1111111111111111,
             "#46039f"
            ],
            [
             0.2222222222222222,
             "#7201a8"
            ],
            [
             0.3333333333333333,
             "#9c179e"
            ],
            [
             0.4444444444444444,
             "#bd3786"
            ],
            [
             0.5555555555555556,
             "#d8576b"
            ],
            [
             0.6666666666666666,
             "#ed7953"
            ],
            [
             0.7777777777777778,
             "#fb9f3a"
            ],
            [
             0.8888888888888888,
             "#fdca26"
            ],
            [
             1,
             "#f0f921"
            ]
           ],
           "sequentialminus": [
            [
             0,
             "#0d0887"
            ],
            [
             0.1111111111111111,
             "#46039f"
            ],
            [
             0.2222222222222222,
             "#7201a8"
            ],
            [
             0.3333333333333333,
             "#9c179e"
            ],
            [
             0.4444444444444444,
             "#bd3786"
            ],
            [
             0.5555555555555556,
             "#d8576b"
            ],
            [
             0.6666666666666666,
             "#ed7953"
            ],
            [
             0.7777777777777778,
             "#fb9f3a"
            ],
            [
             0.8888888888888888,
             "#fdca26"
            ],
            [
             1,
             "#f0f921"
            ]
           ]
          },
          "colorway": [
           "#636efa",
           "#EF553B",
           "#00cc96",
           "#ab63fa",
           "#FFA15A",
           "#19d3f3",
           "#FF6692",
           "#B6E880",
           "#FF97FF",
           "#FECB52"
          ],
          "font": {
           "color": "#2a3f5f"
          },
          "geo": {
           "bgcolor": "white",
           "lakecolor": "white",
           "landcolor": "#E5ECF6",
           "showlakes": true,
           "showland": true,
           "subunitcolor": "white"
          },
          "hoverlabel": {
           "align": "left"
          },
          "hovermode": "closest",
          "mapbox": {
           "style": "light"
          },
          "paper_bgcolor": "white",
          "plot_bgcolor": "#E5ECF6",
          "polar": {
           "angularaxis": {
            "gridcolor": "white",
            "linecolor": "white",
            "ticks": ""
           },
           "bgcolor": "#E5ECF6",
           "radialaxis": {
            "gridcolor": "white",
            "linecolor": "white",
            "ticks": ""
           }
          },
          "scene": {
           "xaxis": {
            "backgroundcolor": "#E5ECF6",
            "gridcolor": "white",
            "gridwidth": 2,
            "linecolor": "white",
            "showbackground": true,
            "ticks": "",
            "zerolinecolor": "white"
           },
           "yaxis": {
            "backgroundcolor": "#E5ECF6",
            "gridcolor": "white",
            "gridwidth": 2,
            "linecolor": "white",
            "showbackground": true,
            "ticks": "",
            "zerolinecolor": "white"
           },
           "zaxis": {
            "backgroundcolor": "#E5ECF6",
            "gridcolor": "white",
            "gridwidth": 2,
            "linecolor": "white",
            "showbackground": true,
            "ticks": "",
            "zerolinecolor": "white"
           }
          },
          "shapedefaults": {
           "line": {
            "color": "#2a3f5f"
           }
          },
          "ternary": {
           "aaxis": {
            "gridcolor": "white",
            "linecolor": "white",
            "ticks": ""
           },
           "baxis": {
            "gridcolor": "white",
            "linecolor": "white",
            "ticks": ""
           },
           "bgcolor": "#E5ECF6",
           "caxis": {
            "gridcolor": "white",
            "linecolor": "white",
            "ticks": ""
           }
          },
          "title": {
           "x": 0.05
          },
          "xaxis": {
           "automargin": true,
           "gridcolor": "white",
           "linecolor": "white",
           "ticks": "",
           "title": {
            "standoff": 15
           },
           "zerolinecolor": "white",
           "zerolinewidth": 2
          },
          "yaxis": {
           "automargin": true,
           "gridcolor": "white",
           "linecolor": "white",
           "ticks": "",
           "title": {
            "standoff": 15
           },
           "zerolinecolor": "white",
           "zerolinewidth": 2
          }
         }
        },
        "title": {
         "text": "Vendas por categoria de Produtos"
        },
        "xaxis": {
         "tickangle": 45,
         "title": {
          "font": {
           "color": "lightblue",
           "size": 40
          }
         }
        },
        "yaxis": {
         "title": {
          "text": "Quantidade vendida"
         }
        }
       }
      },
      "text/html": "<div>                            <div id=\"d433d201-6bef-4eeb-824e-c11b48884874\" class=\"plotly-graph-div\" style=\"height:525px; width:100%;\"></div>            <script type=\"text/javascript\">                require([\"plotly\"], function(Plotly) {                    window.PLOTLYENV=window.PLOTLYENV || {};                                    if (document.getElementById(\"d433d201-6bef-4eeb-824e-c11b48884874\")) {                    Plotly.newPlot(                        \"d433d201-6bef-4eeb-824e-c11b48884874\",                        [{\"marker\": {\"color\": \"lightblue\", \"line\": {\"color\": \"#333\", \"width\": 2}}, \"opacity\": 0.7, \"orientation\": \"v\", \"type\": \"bar\", \"x\": [\"Desenvolvimento\", \"Pioneiro\", \"Extens\\u00e3o\", \"Especial\", \"Inje\\u00e7\\u00e3o\", \"Pioneiro Adjacente\", \"Estratigr\\u00e1fico\", \"Jazida Mais Profunda\", \"Jazida Mais Rasa\"], \"y\": [18275, 4059, 2302, 1965, 1644, 823, 327, 144, 35]}],                        {\"template\": {\"data\": {\"bar\": [{\"error_x\": {\"color\": \"#2a3f5f\"}, \"error_y\": {\"color\": \"#2a3f5f\"}, \"marker\": {\"line\": {\"color\": \"#E5ECF6\", \"width\": 0.5}}, \"type\": \"bar\"}], \"barpolar\": [{\"marker\": {\"line\": {\"color\": \"#E5ECF6\", \"width\": 0.5}}, \"type\": \"barpolar\"}], \"carpet\": [{\"aaxis\": {\"endlinecolor\": \"#2a3f5f\", \"gridcolor\": \"white\", \"linecolor\": \"white\", \"minorgridcolor\": \"white\", \"startlinecolor\": \"#2a3f5f\"}, \"baxis\": {\"endlinecolor\": \"#2a3f5f\", \"gridcolor\": \"white\", \"linecolor\": \"white\", \"minorgridcolor\": \"white\", \"startlinecolor\": \"#2a3f5f\"}, \"type\": \"carpet\"}], \"choropleth\": [{\"colorbar\": {\"outlinewidth\": 0, \"ticks\": \"\"}, \"type\": \"choropleth\"}], \"contour\": [{\"colorbar\": {\"outlinewidth\": 0, \"ticks\": \"\"}, \"colorscale\": [[0.0, \"#0d0887\"], [0.1111111111111111, \"#46039f\"], [0.2222222222222222, \"#7201a8\"], [0.3333333333333333, \"#9c179e\"], [0.4444444444444444, \"#bd3786\"], [0.5555555555555556, \"#d8576b\"], [0.6666666666666666, \"#ed7953\"], [0.7777777777777778, \"#fb9f3a\"], [0.8888888888888888, \"#fdca26\"], [1.0, \"#f0f921\"]], \"type\": \"contour\"}], \"contourcarpet\": [{\"colorbar\": {\"outlinewidth\": 0, \"ticks\": \"\"}, \"type\": \"contourcarpet\"}], \"heatmap\": [{\"colorbar\": {\"outlinewidth\": 0, \"ticks\": \"\"}, \"colorscale\": [[0.0, \"#0d0887\"], [0.1111111111111111, \"#46039f\"], [0.2222222222222222, \"#7201a8\"], [0.3333333333333333, \"#9c179e\"], [0.4444444444444444, \"#bd3786\"], [0.5555555555555556, \"#d8576b\"], [0.6666666666666666, \"#ed7953\"], [0.7777777777777778, \"#fb9f3a\"], [0.8888888888888888, \"#fdca26\"], [1.0, \"#f0f921\"]], \"type\": \"heatmap\"}], \"heatmapgl\": [{\"colorbar\": {\"outlinewidth\": 0, \"ticks\": \"\"}, \"colorscale\": [[0.0, \"#0d0887\"], [0.1111111111111111, \"#46039f\"], [0.2222222222222222, \"#7201a8\"], [0.3333333333333333, \"#9c179e\"], [0.4444444444444444, \"#bd3786\"], [0.5555555555555556, \"#d8576b\"], [0.6666666666666666, \"#ed7953\"], [0.7777777777777778, \"#fb9f3a\"], [0.8888888888888888, \"#fdca26\"], [1.0, \"#f0f921\"]], \"type\": \"heatmapgl\"}], \"histogram\": [{\"marker\": {\"colorbar\": {\"outlinewidth\": 0, \"ticks\": \"\"}}, \"type\": \"histogram\"}], \"histogram2d\": [{\"colorbar\": {\"outlinewidth\": 0, \"ticks\": \"\"}, \"colorscale\": [[0.0, \"#0d0887\"], [0.1111111111111111, \"#46039f\"], [0.2222222222222222, \"#7201a8\"], [0.3333333333333333, \"#9c179e\"], [0.4444444444444444, \"#bd3786\"], [0.5555555555555556, \"#d8576b\"], [0.6666666666666666, \"#ed7953\"], [0.7777777777777778, \"#fb9f3a\"], [0.8888888888888888, \"#fdca26\"], [1.0, \"#f0f921\"]], \"type\": \"histogram2d\"}], \"histogram2dcontour\": [{\"colorbar\": {\"outlinewidth\": 0, \"ticks\": \"\"}, \"colorscale\": [[0.0, \"#0d0887\"], [0.1111111111111111, \"#46039f\"], [0.2222222222222222, \"#7201a8\"], [0.3333333333333333, \"#9c179e\"], [0.4444444444444444, \"#bd3786\"], [0.5555555555555556, \"#d8576b\"], [0.6666666666666666, \"#ed7953\"], [0.7777777777777778, \"#fb9f3a\"], [0.8888888888888888, \"#fdca26\"], [1.0, \"#f0f921\"]], \"type\": \"histogram2dcontour\"}], \"mesh3d\": [{\"colorbar\": {\"outlinewidth\": 0, \"ticks\": \"\"}, \"type\": \"mesh3d\"}], \"parcoords\": [{\"line\": {\"colorbar\": {\"outlinewidth\": 0, \"ticks\": \"\"}}, \"type\": \"parcoords\"}], \"pie\": [{\"automargin\": true, \"type\": \"pie\"}], \"scatter\": [{\"marker\": {\"colorbar\": {\"outlinewidth\": 0, \"ticks\": \"\"}}, \"type\": \"scatter\"}], \"scatter3d\": [{\"line\": {\"colorbar\": {\"outlinewidth\": 0, \"ticks\": \"\"}}, \"marker\": {\"colorbar\": {\"outlinewidth\": 0, \"ticks\": \"\"}}, \"type\": \"scatter3d\"}], \"scattercarpet\": [{\"marker\": {\"colorbar\": {\"outlinewidth\": 0, \"ticks\": \"\"}}, \"type\": \"scattercarpet\"}], \"scattergeo\": [{\"marker\": {\"colorbar\": {\"outlinewidth\": 0, \"ticks\": \"\"}}, \"type\": \"scattergeo\"}], \"scattergl\": [{\"marker\": {\"colorbar\": {\"outlinewidth\": 0, \"ticks\": \"\"}}, \"type\": \"scattergl\"}], \"scattermapbox\": [{\"marker\": {\"colorbar\": {\"outlinewidth\": 0, \"ticks\": \"\"}}, \"type\": \"scattermapbox\"}], \"scatterpolar\": [{\"marker\": {\"colorbar\": {\"outlinewidth\": 0, \"ticks\": \"\"}}, \"type\": \"scatterpolar\"}], \"scatterpolargl\": [{\"marker\": {\"colorbar\": {\"outlinewidth\": 0, \"ticks\": \"\"}}, \"type\": \"scatterpolargl\"}], \"scatterternary\": [{\"marker\": {\"colorbar\": {\"outlinewidth\": 0, \"ticks\": \"\"}}, \"type\": \"scatterternary\"}], \"surface\": [{\"colorbar\": {\"outlinewidth\": 0, \"ticks\": \"\"}, \"colorscale\": [[0.0, \"#0d0887\"], [0.1111111111111111, \"#46039f\"], [0.2222222222222222, \"#7201a8\"], [0.3333333333333333, \"#9c179e\"], [0.4444444444444444, \"#bd3786\"], [0.5555555555555556, \"#d8576b\"], [0.6666666666666666, \"#ed7953\"], [0.7777777777777778, \"#fb9f3a\"], [0.8888888888888888, \"#fdca26\"], [1.0, \"#f0f921\"]], \"type\": \"surface\"}], \"table\": [{\"cells\": {\"fill\": {\"color\": \"#EBF0F8\"}, \"line\": {\"color\": \"white\"}}, \"header\": {\"fill\": {\"color\": \"#C8D4E3\"}, \"line\": {\"color\": \"white\"}}, \"type\": \"table\"}]}, \"layout\": {\"annotationdefaults\": {\"arrowcolor\": \"#2a3f5f\", \"arrowhead\": 0, \"arrowwidth\": 1}, \"autotypenumbers\": \"strict\", \"coloraxis\": {\"colorbar\": {\"outlinewidth\": 0, \"ticks\": \"\"}}, \"colorscale\": {\"diverging\": [[0, \"#8e0152\"], [0.1, \"#c51b7d\"], [0.2, \"#de77ae\"], [0.3, \"#f1b6da\"], [0.4, \"#fde0ef\"], [0.5, \"#f7f7f7\"], [0.6, \"#e6f5d0\"], [0.7, \"#b8e186\"], [0.8, \"#7fbc41\"], [0.9, \"#4d9221\"], [1, \"#276419\"]], \"sequential\": [[0.0, \"#0d0887\"], [0.1111111111111111, \"#46039f\"], [0.2222222222222222, \"#7201a8\"], [0.3333333333333333, \"#9c179e\"], [0.4444444444444444, \"#bd3786\"], [0.5555555555555556, \"#d8576b\"], [0.6666666666666666, \"#ed7953\"], [0.7777777777777778, \"#fb9f3a\"], [0.8888888888888888, \"#fdca26\"], [1.0, \"#f0f921\"]], \"sequentialminus\": [[0.0, \"#0d0887\"], [0.1111111111111111, \"#46039f\"], [0.2222222222222222, \"#7201a8\"], [0.3333333333333333, \"#9c179e\"], [0.4444444444444444, \"#bd3786\"], [0.5555555555555556, \"#d8576b\"], [0.6666666666666666, \"#ed7953\"], [0.7777777777777778, \"#fb9f3a\"], [0.8888888888888888, \"#fdca26\"], [1.0, \"#f0f921\"]]}, \"colorway\": [\"#636efa\", \"#EF553B\", \"#00cc96\", \"#ab63fa\", \"#FFA15A\", \"#19d3f3\", \"#FF6692\", \"#B6E880\", \"#FF97FF\", \"#FECB52\"], \"font\": {\"color\": \"#2a3f5f\"}, \"geo\": {\"bgcolor\": \"white\", \"lakecolor\": \"white\", \"landcolor\": \"#E5ECF6\", \"showlakes\": true, \"showland\": true, \"subunitcolor\": \"white\"}, \"hoverlabel\": {\"align\": \"left\"}, \"hovermode\": \"closest\", \"mapbox\": {\"style\": \"light\"}, \"paper_bgcolor\": \"white\", \"plot_bgcolor\": \"#E5ECF6\", \"polar\": {\"angularaxis\": {\"gridcolor\": \"white\", \"linecolor\": \"white\", \"ticks\": \"\"}, \"bgcolor\": \"#E5ECF6\", \"radialaxis\": {\"gridcolor\": \"white\", \"linecolor\": \"white\", \"ticks\": \"\"}}, \"scene\": {\"xaxis\": {\"backgroundcolor\": \"#E5ECF6\", \"gridcolor\": \"white\", \"gridwidth\": 2, \"linecolor\": \"white\", \"showbackground\": true, \"ticks\": \"\", \"zerolinecolor\": \"white\"}, \"yaxis\": {\"backgroundcolor\": \"#E5ECF6\", \"gridcolor\": \"white\", \"gridwidth\": 2, \"linecolor\": \"white\", \"showbackground\": true, \"ticks\": \"\", \"zerolinecolor\": \"white\"}, \"zaxis\": {\"backgroundcolor\": \"#E5ECF6\", \"gridcolor\": \"white\", \"gridwidth\": 2, \"linecolor\": \"white\", \"showbackground\": true, \"ticks\": \"\", \"zerolinecolor\": \"white\"}}, \"shapedefaults\": {\"line\": {\"color\": \"#2a3f5f\"}}, \"ternary\": {\"aaxis\": {\"gridcolor\": \"white\", \"linecolor\": \"white\", \"ticks\": \"\"}, \"baxis\": {\"gridcolor\": \"white\", \"linecolor\": \"white\", \"ticks\": \"\"}, \"bgcolor\": \"#E5ECF6\", \"caxis\": {\"gridcolor\": \"white\", \"linecolor\": \"white\", \"ticks\": \"\"}}, \"title\": {\"x\": 0.05}, \"xaxis\": {\"automargin\": true, \"gridcolor\": \"white\", \"linecolor\": \"white\", \"ticks\": \"\", \"title\": {\"standoff\": 15}, \"zerolinecolor\": \"white\", \"zerolinewidth\": 2}, \"yaxis\": {\"automargin\": true, \"gridcolor\": \"white\", \"linecolor\": \"white\", \"ticks\": \"\", \"title\": {\"standoff\": 15}, \"zerolinecolor\": \"white\", \"zerolinewidth\": 2}}}, \"title\": {\"text\": \"Vendas por categoria de Produtos\"}, \"xaxis\": {\"tickangle\": 45, \"title\": {\"font\": {\"color\": \"lightblue\", \"size\": 40}}}, \"yaxis\": {\"title\": {\"text\": \"Quantidade vendida\"}}},                        {\"responsive\": true}                    ).then(function(){\n                            \nvar gd = document.getElementById('d433d201-6bef-4eeb-824e-c11b48884874');\nvar x = new MutationObserver(function (mutations, observer) {{\n        var display = window.getComputedStyle(gd).display;\n        if (!display || display === 'none') {{\n            console.log([gd, 'removed!']);\n            Plotly.purge(gd);\n            observer.disconnect();\n        }}\n}});\n\n// Listen for the removal of the full notebook cells\nvar notebookContainer = gd.closest('#notebook-container');\nif (notebookContainer) {{\n    x.observe(notebookContainer, {childList: true});\n}}\n\n// Listen for the clearing of the current output cell\nvar outputEl = gd.closest('.output');\nif (outputEl) {{\n    x.observe(outputEl, {childList: true});\n}}\n\n                        })                };                });            </script>        </div>"
     },
     "metadata": {}
    }
   ],
   "source": [
    "trace0 = go.Bar(y=categorias_pocos.values,\n",
    "                x=categorias_pocos.index,\n",
    "                marker = {'color': 'lightblue',\n",
    "                'line': {'color': '#333',\n",
    "                                  'width': 2}\n",
    "                                  },\n",
    "                orientation='v',\n",
    "                opacity= 0.7\n",
    "              )\n",
    "\n",
    "data = [trace0]\n",
    "\n",
    "# Criando Layout\n",
    "configuracoes_layout = go.Layout(title='Vendas por categoria de Produtos',\n",
    "                   xaxis=dict(\n",
    "                         titlefont=dict(\n",
    "                                   size=40,\n",
    "                                   color='lightblue'),\n",
    "                   tickangle=45),\n",
    "                   yaxis={'title': 'Quantidade vendida'})\n",
    "\n",
    "# Objeto figura\n",
    "\n",
    "fig = go.Figure(data=data, layout=configuracoes_layout)\n",
    "\n",
    "# plotando o grafico\n",
    "py.iplot(fig)"
   ]
  },
  {
   "source": [
    "## Poços do Tipo MAR ou TERRA, possuem alguma predominancia nas direções dos Poços?"
   ],
   "cell_type": "markdown",
   "metadata": {}
  },
  {
   "cell_type": "code",
   "execution_count": 53,
   "metadata": {},
   "outputs": [],
   "source": [
    "direcao_mar=Anp_dataset[Anp_dataset['TERRA_MAR']=='M'].DIRECAO.value_counts()\n",
    "direcao_terra=Anp_dataset[Anp_dataset['TERRA_MAR']=='T'].DIRECAO.value_counts()"
   ]
  },
  {
   "cell_type": "code",
   "execution_count": 71,
   "metadata": {},
   "outputs": [
    {
     "output_type": "display_data",
     "data": {
      "application/vnd.plotly.v1+json": {
       "config": {
        "linkText": "Export to plotly.com",
        "plotlyServerURL": "https://plotly.com",
        "showLink": false
       },
       "data": [
        {
         "direction": "clockwise",
         "hoverinfo": "label+value",
         "labels": [
          "Vertical",
          "Direcional",
          "Horizontal"
         ],
         "marker": {
          "line": {
           "color": "#000000",
           "width": 2
          }
         },
         "pull": [
          0.2,
          0,
          0
         ],
         "type": "pie",
         "values": [
          3684,
          2040,
          925
         ]
        }
       ],
       "layout": {
        "template": {
         "data": {
          "bar": [
           {
            "error_x": {
             "color": "#2a3f5f"
            },
            "error_y": {
             "color": "#2a3f5f"
            },
            "marker": {
             "line": {
              "color": "#E5ECF6",
              "width": 0.5
             }
            },
            "type": "bar"
           }
          ],
          "barpolar": [
           {
            "marker": {
             "line": {
              "color": "#E5ECF6",
              "width": 0.5
             }
            },
            "type": "barpolar"
           }
          ],
          "carpet": [
           {
            "aaxis": {
             "endlinecolor": "#2a3f5f",
             "gridcolor": "white",
             "linecolor": "white",
             "minorgridcolor": "white",
             "startlinecolor": "#2a3f5f"
            },
            "baxis": {
             "endlinecolor": "#2a3f5f",
             "gridcolor": "white",
             "linecolor": "white",
             "minorgridcolor": "white",
             "startlinecolor": "#2a3f5f"
            },
            "type": "carpet"
           }
          ],
          "choropleth": [
           {
            "colorbar": {
             "outlinewidth": 0,
             "ticks": ""
            },
            "type": "choropleth"
           }
          ],
          "contour": [
           {
            "colorbar": {
             "outlinewidth": 0,
             "ticks": ""
            },
            "colorscale": [
             [
              0,
              "#0d0887"
             ],
             [
              0.1111111111111111,
              "#46039f"
             ],
             [
              0.2222222222222222,
              "#7201a8"
             ],
             [
              0.3333333333333333,
              "#9c179e"
             ],
             [
              0.4444444444444444,
              "#bd3786"
             ],
             [
              0.5555555555555556,
              "#d8576b"
             ],
             [
              0.6666666666666666,
              "#ed7953"
             ],
             [
              0.7777777777777778,
              "#fb9f3a"
             ],
             [
              0.8888888888888888,
              "#fdca26"
             ],
             [
              1,
              "#f0f921"
             ]
            ],
            "type": "contour"
           }
          ],
          "contourcarpet": [
           {
            "colorbar": {
             "outlinewidth": 0,
             "ticks": ""
            },
            "type": "contourcarpet"
           }
          ],
          "heatmap": [
           {
            "colorbar": {
             "outlinewidth": 0,
             "ticks": ""
            },
            "colorscale": [
             [
              0,
              "#0d0887"
             ],
             [
              0.1111111111111111,
              "#46039f"
             ],
             [
              0.2222222222222222,
              "#7201a8"
             ],
             [
              0.3333333333333333,
              "#9c179e"
             ],
             [
              0.4444444444444444,
              "#bd3786"
             ],
             [
              0.5555555555555556,
              "#d8576b"
             ],
             [
              0.6666666666666666,
              "#ed7953"
             ],
             [
              0.7777777777777778,
              "#fb9f3a"
             ],
             [
              0.8888888888888888,
              "#fdca26"
             ],
             [
              1,
              "#f0f921"
             ]
            ],
            "type": "heatmap"
           }
          ],
          "heatmapgl": [
           {
            "colorbar": {
             "outlinewidth": 0,
             "ticks": ""
            },
            "colorscale": [
             [
              0,
              "#0d0887"
             ],
             [
              0.1111111111111111,
              "#46039f"
             ],
             [
              0.2222222222222222,
              "#7201a8"
             ],
             [
              0.3333333333333333,
              "#9c179e"
             ],
             [
              0.4444444444444444,
              "#bd3786"
             ],
             [
              0.5555555555555556,
              "#d8576b"
             ],
             [
              0.6666666666666666,
              "#ed7953"
             ],
             [
              0.7777777777777778,
              "#fb9f3a"
             ],
             [
              0.8888888888888888,
              "#fdca26"
             ],
             [
              1,
              "#f0f921"
             ]
            ],
            "type": "heatmapgl"
           }
          ],
          "histogram": [
           {
            "marker": {
             "colorbar": {
              "outlinewidth": 0,
              "ticks": ""
             }
            },
            "type": "histogram"
           }
          ],
          "histogram2d": [
           {
            "colorbar": {
             "outlinewidth": 0,
             "ticks": ""
            },
            "colorscale": [
             [
              0,
              "#0d0887"
             ],
             [
              0.1111111111111111,
              "#46039f"
             ],
             [
              0.2222222222222222,
              "#7201a8"
             ],
             [
              0.3333333333333333,
              "#9c179e"
             ],
             [
              0.4444444444444444,
              "#bd3786"
             ],
             [
              0.5555555555555556,
              "#d8576b"
             ],
             [
              0.6666666666666666,
              "#ed7953"
             ],
             [
              0.7777777777777778,
              "#fb9f3a"
             ],
             [
              0.8888888888888888,
              "#fdca26"
             ],
             [
              1,
              "#f0f921"
             ]
            ],
            "type": "histogram2d"
           }
          ],
          "histogram2dcontour": [
           {
            "colorbar": {
             "outlinewidth": 0,
             "ticks": ""
            },
            "colorscale": [
             [
              0,
              "#0d0887"
             ],
             [
              0.1111111111111111,
              "#46039f"
             ],
             [
              0.2222222222222222,
              "#7201a8"
             ],
             [
              0.3333333333333333,
              "#9c179e"
             ],
             [
              0.4444444444444444,
              "#bd3786"
             ],
             [
              0.5555555555555556,
              "#d8576b"
             ],
             [
              0.6666666666666666,
              "#ed7953"
             ],
             [
              0.7777777777777778,
              "#fb9f3a"
             ],
             [
              0.8888888888888888,
              "#fdca26"
             ],
             [
              1,
              "#f0f921"
             ]
            ],
            "type": "histogram2dcontour"
           }
          ],
          "mesh3d": [
           {
            "colorbar": {
             "outlinewidth": 0,
             "ticks": ""
            },
            "type": "mesh3d"
           }
          ],
          "parcoords": [
           {
            "line": {
             "colorbar": {
              "outlinewidth": 0,
              "ticks": ""
             }
            },
            "type": "parcoords"
           }
          ],
          "pie": [
           {
            "automargin": true,
            "type": "pie"
           }
          ],
          "scatter": [
           {
            "marker": {
             "colorbar": {
              "outlinewidth": 0,
              "ticks": ""
             }
            },
            "type": "scatter"
           }
          ],
          "scatter3d": [
           {
            "line": {
             "colorbar": {
              "outlinewidth": 0,
              "ticks": ""
             }
            },
            "marker": {
             "colorbar": {
              "outlinewidth": 0,
              "ticks": ""
             }
            },
            "type": "scatter3d"
           }
          ],
          "scattercarpet": [
           {
            "marker": {
             "colorbar": {
              "outlinewidth": 0,
              "ticks": ""
             }
            },
            "type": "scattercarpet"
           }
          ],
          "scattergeo": [
           {
            "marker": {
             "colorbar": {
              "outlinewidth": 0,
              "ticks": ""
             }
            },
            "type": "scattergeo"
           }
          ],
          "scattergl": [
           {
            "marker": {
             "colorbar": {
              "outlinewidth": 0,
              "ticks": ""
             }
            },
            "type": "scattergl"
           }
          ],
          "scattermapbox": [
           {
            "marker": {
             "colorbar": {
              "outlinewidth": 0,
              "ticks": ""
             }
            },
            "type": "scattermapbox"
           }
          ],
          "scatterpolar": [
           {
            "marker": {
             "colorbar": {
              "outlinewidth": 0,
              "ticks": ""
             }
            },
            "type": "scatterpolar"
           }
          ],
          "scatterpolargl": [
           {
            "marker": {
             "colorbar": {
              "outlinewidth": 0,
              "ticks": ""
             }
            },
            "type": "scatterpolargl"
           }
          ],
          "scatterternary": [
           {
            "marker": {
             "colorbar": {
              "outlinewidth": 0,
              "ticks": ""
             }
            },
            "type": "scatterternary"
           }
          ],
          "surface": [
           {
            "colorbar": {
             "outlinewidth": 0,
             "ticks": ""
            },
            "colorscale": [
             [
              0,
              "#0d0887"
             ],
             [
              0.1111111111111111,
              "#46039f"
             ],
             [
              0.2222222222222222,
              "#7201a8"
             ],
             [
              0.3333333333333333,
              "#9c179e"
             ],
             [
              0.4444444444444444,
              "#bd3786"
             ],
             [
              0.5555555555555556,
              "#d8576b"
             ],
             [
              0.6666666666666666,
              "#ed7953"
             ],
             [
              0.7777777777777778,
              "#fb9f3a"
             ],
             [
              0.8888888888888888,
              "#fdca26"
             ],
             [
              1,
              "#f0f921"
             ]
            ],
            "type": "surface"
           }
          ],
          "table": [
           {
            "cells": {
             "fill": {
              "color": "#EBF0F8"
             },
             "line": {
              "color": "white"
             }
            },
            "header": {
             "fill": {
              "color": "#C8D4E3"
             },
             "line": {
              "color": "white"
             }
            },
            "type": "table"
           }
          ]
         },
         "layout": {
          "annotationdefaults": {
           "arrowcolor": "#2a3f5f",
           "arrowhead": 0,
           "arrowwidth": 1
          },
          "autotypenumbers": "strict",
          "coloraxis": {
           "colorbar": {
            "outlinewidth": 0,
            "ticks": ""
           }
          },
          "colorscale": {
           "diverging": [
            [
             0,
             "#8e0152"
            ],
            [
             0.1,
             "#c51b7d"
            ],
            [
             0.2,
             "#de77ae"
            ],
            [
             0.3,
             "#f1b6da"
            ],
            [
             0.4,
             "#fde0ef"
            ],
            [
             0.5,
             "#f7f7f7"
            ],
            [
             0.6,
             "#e6f5d0"
            ],
            [
             0.7,
             "#b8e186"
            ],
            [
             0.8,
             "#7fbc41"
            ],
            [
             0.9,
             "#4d9221"
            ],
            [
             1,
             "#276419"
            ]
           ],
           "sequential": [
            [
             0,
             "#0d0887"
            ],
            [
             0.1111111111111111,
             "#46039f"
            ],
            [
             0.2222222222222222,
             "#7201a8"
            ],
            [
             0.3333333333333333,
             "#9c179e"
            ],
            [
             0.4444444444444444,
             "#bd3786"
            ],
            [
             0.5555555555555556,
             "#d8576b"
            ],
            [
             0.6666666666666666,
             "#ed7953"
            ],
            [
             0.7777777777777778,
             "#fb9f3a"
            ],
            [
             0.8888888888888888,
             "#fdca26"
            ],
            [
             1,
             "#f0f921"
            ]
           ],
           "sequentialminus": [
            [
             0,
             "#0d0887"
            ],
            [
             0.1111111111111111,
             "#46039f"
            ],
            [
             0.2222222222222222,
             "#7201a8"
            ],
            [
             0.3333333333333333,
             "#9c179e"
            ],
            [
             0.4444444444444444,
             "#bd3786"
            ],
            [
             0.5555555555555556,
             "#d8576b"
            ],
            [
             0.6666666666666666,
             "#ed7953"
            ],
            [
             0.7777777777777778,
             "#fb9f3a"
            ],
            [
             0.8888888888888888,
             "#fdca26"
            ],
            [
             1,
             "#f0f921"
            ]
           ]
          },
          "colorway": [
           "#636efa",
           "#EF553B",
           "#00cc96",
           "#ab63fa",
           "#FFA15A",
           "#19d3f3",
           "#FF6692",
           "#B6E880",
           "#FF97FF",
           "#FECB52"
          ],
          "font": {
           "color": "#2a3f5f"
          },
          "geo": {
           "bgcolor": "white",
           "lakecolor": "white",
           "landcolor": "#E5ECF6",
           "showlakes": true,
           "showland": true,
           "subunitcolor": "white"
          },
          "hoverlabel": {
           "align": "left"
          },
          "hovermode": "closest",
          "mapbox": {
           "style": "light"
          },
          "paper_bgcolor": "white",
          "plot_bgcolor": "#E5ECF6",
          "polar": {
           "angularaxis": {
            "gridcolor": "white",
            "linecolor": "white",
            "ticks": ""
           },
           "bgcolor": "#E5ECF6",
           "radialaxis": {
            "gridcolor": "white",
            "linecolor": "white",
            "ticks": ""
           }
          },
          "scene": {
           "xaxis": {
            "backgroundcolor": "#E5ECF6",
            "gridcolor": "white",
            "gridwidth": 2,
            "linecolor": "white",
            "showbackground": true,
            "ticks": "",
            "zerolinecolor": "white"
           },
           "yaxis": {
            "backgroundcolor": "#E5ECF6",
            "gridcolor": "white",
            "gridwidth": 2,
            "linecolor": "white",
            "showbackground": true,
            "ticks": "",
            "zerolinecolor": "white"
           },
           "zaxis": {
            "backgroundcolor": "#E5ECF6",
            "gridcolor": "white",
            "gridwidth": 2,
            "linecolor": "white",
            "showbackground": true,
            "ticks": "",
            "zerolinecolor": "white"
           }
          },
          "shapedefaults": {
           "line": {
            "color": "#2a3f5f"
           }
          },
          "ternary": {
           "aaxis": {
            "gridcolor": "white",
            "linecolor": "white",
            "ticks": ""
           },
           "baxis": {
            "gridcolor": "white",
            "linecolor": "white",
            "ticks": ""
           },
           "bgcolor": "#E5ECF6",
           "caxis": {
            "gridcolor": "white",
            "linecolor": "white",
            "ticks": ""
           }
          },
          "title": {
           "x": 0.05
          },
          "xaxis": {
           "automargin": true,
           "gridcolor": "white",
           "linecolor": "white",
           "ticks": "",
           "title": {
            "standoff": 15
           },
           "zerolinecolor": "white",
           "zerolinewidth": 2
          },
          "yaxis": {
           "automargin": true,
           "gridcolor": "white",
           "linecolor": "white",
           "ticks": "",
           "title": {
            "standoff": 15
           },
           "zerolinecolor": "white",
           "zerolinewidth": 2
          }
         }
        },
        "title": {
         "text": "Classificação das Direções dos Poços MAR"
        }
       }
      },
      "text/html": "<div>                            <div id=\"8e43acce-fa38-470f-a920-88d7f1470061\" class=\"plotly-graph-div\" style=\"height:525px; width:100%;\"></div>            <script type=\"text/javascript\">                require([\"plotly\"], function(Plotly) {                    window.PLOTLYENV=window.PLOTLYENV || {};                                    if (document.getElementById(\"8e43acce-fa38-470f-a920-88d7f1470061\")) {                    Plotly.newPlot(                        \"8e43acce-fa38-470f-a920-88d7f1470061\",                        [{\"direction\": \"clockwise\", \"hoverinfo\": \"label+value\", \"labels\": [\"Vertical\", \"Direcional\", \"Horizontal\"], \"marker\": {\"line\": {\"color\": \"#000000\", \"width\": 2}}, \"pull\": [0.2, 0, 0], \"type\": \"pie\", \"values\": [3684, 2040, 925]}],                        {\"template\": {\"data\": {\"bar\": [{\"error_x\": {\"color\": \"#2a3f5f\"}, \"error_y\": {\"color\": \"#2a3f5f\"}, \"marker\": {\"line\": {\"color\": \"#E5ECF6\", \"width\": 0.5}}, \"type\": \"bar\"}], \"barpolar\": [{\"marker\": {\"line\": {\"color\": \"#E5ECF6\", \"width\": 0.5}}, \"type\": \"barpolar\"}], \"carpet\": [{\"aaxis\": {\"endlinecolor\": \"#2a3f5f\", \"gridcolor\": \"white\", \"linecolor\": \"white\", \"minorgridcolor\": \"white\", \"startlinecolor\": \"#2a3f5f\"}, \"baxis\": {\"endlinecolor\": \"#2a3f5f\", \"gridcolor\": \"white\", \"linecolor\": \"white\", \"minorgridcolor\": \"white\", \"startlinecolor\": \"#2a3f5f\"}, \"type\": \"carpet\"}], \"choropleth\": [{\"colorbar\": {\"outlinewidth\": 0, \"ticks\": \"\"}, \"type\": \"choropleth\"}], \"contour\": [{\"colorbar\": {\"outlinewidth\": 0, \"ticks\": \"\"}, \"colorscale\": [[0.0, \"#0d0887\"], [0.1111111111111111, \"#46039f\"], [0.2222222222222222, \"#7201a8\"], [0.3333333333333333, \"#9c179e\"], [0.4444444444444444, \"#bd3786\"], [0.5555555555555556, \"#d8576b\"], [0.6666666666666666, \"#ed7953\"], [0.7777777777777778, \"#fb9f3a\"], [0.8888888888888888, \"#fdca26\"], [1.0, \"#f0f921\"]], \"type\": \"contour\"}], \"contourcarpet\": [{\"colorbar\": {\"outlinewidth\": 0, \"ticks\": \"\"}, \"type\": \"contourcarpet\"}], \"heatmap\": [{\"colorbar\": {\"outlinewidth\": 0, \"ticks\": \"\"}, \"colorscale\": [[0.0, \"#0d0887\"], [0.1111111111111111, \"#46039f\"], [0.2222222222222222, \"#7201a8\"], [0.3333333333333333, \"#9c179e\"], [0.4444444444444444, \"#bd3786\"], [0.5555555555555556, \"#d8576b\"], [0.6666666666666666, \"#ed7953\"], [0.7777777777777778, \"#fb9f3a\"], [0.8888888888888888, \"#fdca26\"], [1.0, \"#f0f921\"]], \"type\": \"heatmap\"}], \"heatmapgl\": [{\"colorbar\": {\"outlinewidth\": 0, \"ticks\": \"\"}, \"colorscale\": [[0.0, \"#0d0887\"], [0.1111111111111111, \"#46039f\"], [0.2222222222222222, \"#7201a8\"], [0.3333333333333333, \"#9c179e\"], [0.4444444444444444, \"#bd3786\"], [0.5555555555555556, \"#d8576b\"], [0.6666666666666666, \"#ed7953\"], [0.7777777777777778, \"#fb9f3a\"], [0.8888888888888888, \"#fdca26\"], [1.0, \"#f0f921\"]], \"type\": \"heatmapgl\"}], \"histogram\": [{\"marker\": {\"colorbar\": {\"outlinewidth\": 0, \"ticks\": \"\"}}, \"type\": \"histogram\"}], \"histogram2d\": [{\"colorbar\": {\"outlinewidth\": 0, \"ticks\": \"\"}, \"colorscale\": [[0.0, \"#0d0887\"], [0.1111111111111111, \"#46039f\"], [0.2222222222222222, \"#7201a8\"], [0.3333333333333333, \"#9c179e\"], [0.4444444444444444, \"#bd3786\"], [0.5555555555555556, \"#d8576b\"], [0.6666666666666666, \"#ed7953\"], [0.7777777777777778, \"#fb9f3a\"], [0.8888888888888888, \"#fdca26\"], [1.0, \"#f0f921\"]], \"type\": \"histogram2d\"}], \"histogram2dcontour\": [{\"colorbar\": {\"outlinewidth\": 0, \"ticks\": \"\"}, \"colorscale\": [[0.0, \"#0d0887\"], [0.1111111111111111, \"#46039f\"], [0.2222222222222222, \"#7201a8\"], [0.3333333333333333, \"#9c179e\"], [0.4444444444444444, \"#bd3786\"], [0.5555555555555556, \"#d8576b\"], [0.6666666666666666, \"#ed7953\"], [0.7777777777777778, \"#fb9f3a\"], [0.8888888888888888, \"#fdca26\"], [1.0, \"#f0f921\"]], \"type\": \"histogram2dcontour\"}], \"mesh3d\": [{\"colorbar\": {\"outlinewidth\": 0, \"ticks\": \"\"}, \"type\": \"mesh3d\"}], \"parcoords\": [{\"line\": {\"colorbar\": {\"outlinewidth\": 0, \"ticks\": \"\"}}, \"type\": \"parcoords\"}], \"pie\": [{\"automargin\": true, \"type\": \"pie\"}], \"scatter\": [{\"marker\": {\"colorbar\": {\"outlinewidth\": 0, \"ticks\": \"\"}}, \"type\": \"scatter\"}], \"scatter3d\": [{\"line\": {\"colorbar\": {\"outlinewidth\": 0, \"ticks\": \"\"}}, \"marker\": {\"colorbar\": {\"outlinewidth\": 0, \"ticks\": \"\"}}, \"type\": \"scatter3d\"}], \"scattercarpet\": [{\"marker\": {\"colorbar\": {\"outlinewidth\": 0, \"ticks\": \"\"}}, \"type\": \"scattercarpet\"}], \"scattergeo\": [{\"marker\": {\"colorbar\": {\"outlinewidth\": 0, \"ticks\": \"\"}}, \"type\": \"scattergeo\"}], \"scattergl\": [{\"marker\": {\"colorbar\": {\"outlinewidth\": 0, \"ticks\": \"\"}}, \"type\": \"scattergl\"}], \"scattermapbox\": [{\"marker\": {\"colorbar\": {\"outlinewidth\": 0, \"ticks\": \"\"}}, \"type\": \"scattermapbox\"}], \"scatterpolar\": [{\"marker\": {\"colorbar\": {\"outlinewidth\": 0, \"ticks\": \"\"}}, \"type\": \"scatterpolar\"}], \"scatterpolargl\": [{\"marker\": {\"colorbar\": {\"outlinewidth\": 0, \"ticks\": \"\"}}, \"type\": \"scatterpolargl\"}], \"scatterternary\": [{\"marker\": {\"colorbar\": {\"outlinewidth\": 0, \"ticks\": \"\"}}, \"type\": \"scatterternary\"}], \"surface\": [{\"colorbar\": {\"outlinewidth\": 0, \"ticks\": \"\"}, \"colorscale\": [[0.0, \"#0d0887\"], [0.1111111111111111, \"#46039f\"], [0.2222222222222222, \"#7201a8\"], [0.3333333333333333, \"#9c179e\"], [0.4444444444444444, \"#bd3786\"], [0.5555555555555556, \"#d8576b\"], [0.6666666666666666, \"#ed7953\"], [0.7777777777777778, \"#fb9f3a\"], [0.8888888888888888, \"#fdca26\"], [1.0, \"#f0f921\"]], \"type\": \"surface\"}], \"table\": [{\"cells\": {\"fill\": {\"color\": \"#EBF0F8\"}, \"line\": {\"color\": \"white\"}}, \"header\": {\"fill\": {\"color\": \"#C8D4E3\"}, \"line\": {\"color\": \"white\"}}, \"type\": \"table\"}]}, \"layout\": {\"annotationdefaults\": {\"arrowcolor\": \"#2a3f5f\", \"arrowhead\": 0, \"arrowwidth\": 1}, \"autotypenumbers\": \"strict\", \"coloraxis\": {\"colorbar\": {\"outlinewidth\": 0, \"ticks\": \"\"}}, \"colorscale\": {\"diverging\": [[0, \"#8e0152\"], [0.1, \"#c51b7d\"], [0.2, \"#de77ae\"], [0.3, \"#f1b6da\"], [0.4, \"#fde0ef\"], [0.5, \"#f7f7f7\"], [0.6, \"#e6f5d0\"], [0.7, \"#b8e186\"], [0.8, \"#7fbc41\"], [0.9, \"#4d9221\"], [1, \"#276419\"]], \"sequential\": [[0.0, \"#0d0887\"], [0.1111111111111111, \"#46039f\"], [0.2222222222222222, \"#7201a8\"], [0.3333333333333333, \"#9c179e\"], [0.4444444444444444, \"#bd3786\"], [0.5555555555555556, \"#d8576b\"], [0.6666666666666666, \"#ed7953\"], [0.7777777777777778, \"#fb9f3a\"], [0.8888888888888888, \"#fdca26\"], [1.0, \"#f0f921\"]], \"sequentialminus\": [[0.0, \"#0d0887\"], [0.1111111111111111, \"#46039f\"], [0.2222222222222222, \"#7201a8\"], [0.3333333333333333, \"#9c179e\"], [0.4444444444444444, \"#bd3786\"], [0.5555555555555556, \"#d8576b\"], [0.6666666666666666, \"#ed7953\"], [0.7777777777777778, \"#fb9f3a\"], [0.8888888888888888, \"#fdca26\"], [1.0, \"#f0f921\"]]}, \"colorway\": [\"#636efa\", \"#EF553B\", \"#00cc96\", \"#ab63fa\", \"#FFA15A\", \"#19d3f3\", \"#FF6692\", \"#B6E880\", \"#FF97FF\", \"#FECB52\"], \"font\": {\"color\": \"#2a3f5f\"}, \"geo\": {\"bgcolor\": \"white\", \"lakecolor\": \"white\", \"landcolor\": \"#E5ECF6\", \"showlakes\": true, \"showland\": true, \"subunitcolor\": \"white\"}, \"hoverlabel\": {\"align\": \"left\"}, \"hovermode\": \"closest\", \"mapbox\": {\"style\": \"light\"}, \"paper_bgcolor\": \"white\", \"plot_bgcolor\": \"#E5ECF6\", \"polar\": {\"angularaxis\": {\"gridcolor\": \"white\", \"linecolor\": \"white\", \"ticks\": \"\"}, \"bgcolor\": \"#E5ECF6\", \"radialaxis\": {\"gridcolor\": \"white\", \"linecolor\": \"white\", \"ticks\": \"\"}}, \"scene\": {\"xaxis\": {\"backgroundcolor\": \"#E5ECF6\", \"gridcolor\": \"white\", \"gridwidth\": 2, \"linecolor\": \"white\", \"showbackground\": true, \"ticks\": \"\", \"zerolinecolor\": \"white\"}, \"yaxis\": {\"backgroundcolor\": \"#E5ECF6\", \"gridcolor\": \"white\", \"gridwidth\": 2, \"linecolor\": \"white\", \"showbackground\": true, \"ticks\": \"\", \"zerolinecolor\": \"white\"}, \"zaxis\": {\"backgroundcolor\": \"#E5ECF6\", \"gridcolor\": \"white\", \"gridwidth\": 2, \"linecolor\": \"white\", \"showbackground\": true, \"ticks\": \"\", \"zerolinecolor\": \"white\"}}, \"shapedefaults\": {\"line\": {\"color\": \"#2a3f5f\"}}, \"ternary\": {\"aaxis\": {\"gridcolor\": \"white\", \"linecolor\": \"white\", \"ticks\": \"\"}, \"baxis\": {\"gridcolor\": \"white\", \"linecolor\": \"white\", \"ticks\": \"\"}, \"bgcolor\": \"#E5ECF6\", \"caxis\": {\"gridcolor\": \"white\", \"linecolor\": \"white\", \"ticks\": \"\"}}, \"title\": {\"x\": 0.05}, \"xaxis\": {\"automargin\": true, \"gridcolor\": \"white\", \"linecolor\": \"white\", \"ticks\": \"\", \"title\": {\"standoff\": 15}, \"zerolinecolor\": \"white\", \"zerolinewidth\": 2}, \"yaxis\": {\"automargin\": true, \"gridcolor\": \"white\", \"linecolor\": \"white\", \"ticks\": \"\", \"title\": {\"standoff\": 15}, \"zerolinecolor\": \"white\", \"zerolinewidth\": 2}}}, \"title\": {\"text\": \"Classifica\\u00e7\\u00e3o das Dire\\u00e7\\u00f5es dos Po\\u00e7os MAR\"}},                        {\"responsive\": true}                    ).then(function(){\n                            \nvar gd = document.getElementById('8e43acce-fa38-470f-a920-88d7f1470061');\nvar x = new MutationObserver(function (mutations, observer) {{\n        var display = window.getComputedStyle(gd).display;\n        if (!display || display === 'none') {{\n            console.log([gd, 'removed!']);\n            Plotly.purge(gd);\n            observer.disconnect();\n        }}\n}});\n\n// Listen for the removal of the full notebook cells\nvar notebookContainer = gd.closest('#notebook-container');\nif (notebookContainer) {{\n    x.observe(notebookContainer, {childList: true});\n}}\n\n// Listen for the clearing of the current output cell\nvar outputEl = gd.closest('.output');\nif (outputEl) {{\n    x.observe(outputEl, {childList: true});\n}}\n\n                        })                };                });            </script>        </div>"
     },
     "metadata": {}
    },
    {
     "output_type": "display_data",
     "data": {
      "application/vnd.plotly.v1+json": {
       "config": {
        "linkText": "Export to plotly.com",
        "plotlyServerURL": "https://plotly.com",
        "showLink": false
       },
       "data": [
        {
         "direction": "clockwise",
         "hoverinfo": "label+value",
         "labels": [
          "Vertical",
          "Direcional",
          "Horizontal"
         ],
         "marker": {
          "line": {
           "color": "#000000",
           "width": 2
          }
         },
         "pull": [
          0.2,
          0,
          0
         ],
         "type": "pie",
         "values": [
          19099,
          3520,
          307
         ]
        }
       ],
       "layout": {
        "template": {
         "data": {
          "bar": [
           {
            "error_x": {
             "color": "#2a3f5f"
            },
            "error_y": {
             "color": "#2a3f5f"
            },
            "marker": {
             "line": {
              "color": "#E5ECF6",
              "width": 0.5
             }
            },
            "type": "bar"
           }
          ],
          "barpolar": [
           {
            "marker": {
             "line": {
              "color": "#E5ECF6",
              "width": 0.5
             }
            },
            "type": "barpolar"
           }
          ],
          "carpet": [
           {
            "aaxis": {
             "endlinecolor": "#2a3f5f",
             "gridcolor": "white",
             "linecolor": "white",
             "minorgridcolor": "white",
             "startlinecolor": "#2a3f5f"
            },
            "baxis": {
             "endlinecolor": "#2a3f5f",
             "gridcolor": "white",
             "linecolor": "white",
             "minorgridcolor": "white",
             "startlinecolor": "#2a3f5f"
            },
            "type": "carpet"
           }
          ],
          "choropleth": [
           {
            "colorbar": {
             "outlinewidth": 0,
             "ticks": ""
            },
            "type": "choropleth"
           }
          ],
          "contour": [
           {
            "colorbar": {
             "outlinewidth": 0,
             "ticks": ""
            },
            "colorscale": [
             [
              0,
              "#0d0887"
             ],
             [
              0.1111111111111111,
              "#46039f"
             ],
             [
              0.2222222222222222,
              "#7201a8"
             ],
             [
              0.3333333333333333,
              "#9c179e"
             ],
             [
              0.4444444444444444,
              "#bd3786"
             ],
             [
              0.5555555555555556,
              "#d8576b"
             ],
             [
              0.6666666666666666,
              "#ed7953"
             ],
             [
              0.7777777777777778,
              "#fb9f3a"
             ],
             [
              0.8888888888888888,
              "#fdca26"
             ],
             [
              1,
              "#f0f921"
             ]
            ],
            "type": "contour"
           }
          ],
          "contourcarpet": [
           {
            "colorbar": {
             "outlinewidth": 0,
             "ticks": ""
            },
            "type": "contourcarpet"
           }
          ],
          "heatmap": [
           {
            "colorbar": {
             "outlinewidth": 0,
             "ticks": ""
            },
            "colorscale": [
             [
              0,
              "#0d0887"
             ],
             [
              0.1111111111111111,
              "#46039f"
             ],
             [
              0.2222222222222222,
              "#7201a8"
             ],
             [
              0.3333333333333333,
              "#9c179e"
             ],
             [
              0.4444444444444444,
              "#bd3786"
             ],
             [
              0.5555555555555556,
              "#d8576b"
             ],
             [
              0.6666666666666666,
              "#ed7953"
             ],
             [
              0.7777777777777778,
              "#fb9f3a"
             ],
             [
              0.8888888888888888,
              "#fdca26"
             ],
             [
              1,
              "#f0f921"
             ]
            ],
            "type": "heatmap"
           }
          ],
          "heatmapgl": [
           {
            "colorbar": {
             "outlinewidth": 0,
             "ticks": ""
            },
            "colorscale": [
             [
              0,
              "#0d0887"
             ],
             [
              0.1111111111111111,
              "#46039f"
             ],
             [
              0.2222222222222222,
              "#7201a8"
             ],
             [
              0.3333333333333333,
              "#9c179e"
             ],
             [
              0.4444444444444444,
              "#bd3786"
             ],
             [
              0.5555555555555556,
              "#d8576b"
             ],
             [
              0.6666666666666666,
              "#ed7953"
             ],
             [
              0.7777777777777778,
              "#fb9f3a"
             ],
             [
              0.8888888888888888,
              "#fdca26"
             ],
             [
              1,
              "#f0f921"
             ]
            ],
            "type": "heatmapgl"
           }
          ],
          "histogram": [
           {
            "marker": {
             "colorbar": {
              "outlinewidth": 0,
              "ticks": ""
             }
            },
            "type": "histogram"
           }
          ],
          "histogram2d": [
           {
            "colorbar": {
             "outlinewidth": 0,
             "ticks": ""
            },
            "colorscale": [
             [
              0,
              "#0d0887"
             ],
             [
              0.1111111111111111,
              "#46039f"
             ],
             [
              0.2222222222222222,
              "#7201a8"
             ],
             [
              0.3333333333333333,
              "#9c179e"
             ],
             [
              0.4444444444444444,
              "#bd3786"
             ],
             [
              0.5555555555555556,
              "#d8576b"
             ],
             [
              0.6666666666666666,
              "#ed7953"
             ],
             [
              0.7777777777777778,
              "#fb9f3a"
             ],
             [
              0.8888888888888888,
              "#fdca26"
             ],
             [
              1,
              "#f0f921"
             ]
            ],
            "type": "histogram2d"
           }
          ],
          "histogram2dcontour": [
           {
            "colorbar": {
             "outlinewidth": 0,
             "ticks": ""
            },
            "colorscale": [
             [
              0,
              "#0d0887"
             ],
             [
              0.1111111111111111,
              "#46039f"
             ],
             [
              0.2222222222222222,
              "#7201a8"
             ],
             [
              0.3333333333333333,
              "#9c179e"
             ],
             [
              0.4444444444444444,
              "#bd3786"
             ],
             [
              0.5555555555555556,
              "#d8576b"
             ],
             [
              0.6666666666666666,
              "#ed7953"
             ],
             [
              0.7777777777777778,
              "#fb9f3a"
             ],
             [
              0.8888888888888888,
              "#fdca26"
             ],
             [
              1,
              "#f0f921"
             ]
            ],
            "type": "histogram2dcontour"
           }
          ],
          "mesh3d": [
           {
            "colorbar": {
             "outlinewidth": 0,
             "ticks": ""
            },
            "type": "mesh3d"
           }
          ],
          "parcoords": [
           {
            "line": {
             "colorbar": {
              "outlinewidth": 0,
              "ticks": ""
             }
            },
            "type": "parcoords"
           }
          ],
          "pie": [
           {
            "automargin": true,
            "type": "pie"
           }
          ],
          "scatter": [
           {
            "marker": {
             "colorbar": {
              "outlinewidth": 0,
              "ticks": ""
             }
            },
            "type": "scatter"
           }
          ],
          "scatter3d": [
           {
            "line": {
             "colorbar": {
              "outlinewidth": 0,
              "ticks": ""
             }
            },
            "marker": {
             "colorbar": {
              "outlinewidth": 0,
              "ticks": ""
             }
            },
            "type": "scatter3d"
           }
          ],
          "scattercarpet": [
           {
            "marker": {
             "colorbar": {
              "outlinewidth": 0,
              "ticks": ""
             }
            },
            "type": "scattercarpet"
           }
          ],
          "scattergeo": [
           {
            "marker": {
             "colorbar": {
              "outlinewidth": 0,
              "ticks": ""
             }
            },
            "type": "scattergeo"
           }
          ],
          "scattergl": [
           {
            "marker": {
             "colorbar": {
              "outlinewidth": 0,
              "ticks": ""
             }
            },
            "type": "scattergl"
           }
          ],
          "scattermapbox": [
           {
            "marker": {
             "colorbar": {
              "outlinewidth": 0,
              "ticks": ""
             }
            },
            "type": "scattermapbox"
           }
          ],
          "scatterpolar": [
           {
            "marker": {
             "colorbar": {
              "outlinewidth": 0,
              "ticks": ""
             }
            },
            "type": "scatterpolar"
           }
          ],
          "scatterpolargl": [
           {
            "marker": {
             "colorbar": {
              "outlinewidth": 0,
              "ticks": ""
             }
            },
            "type": "scatterpolargl"
           }
          ],
          "scatterternary": [
           {
            "marker": {
             "colorbar": {
              "outlinewidth": 0,
              "ticks": ""
             }
            },
            "type": "scatterternary"
           }
          ],
          "surface": [
           {
            "colorbar": {
             "outlinewidth": 0,
             "ticks": ""
            },
            "colorscale": [
             [
              0,
              "#0d0887"
             ],
             [
              0.1111111111111111,
              "#46039f"
             ],
             [
              0.2222222222222222,
              "#7201a8"
             ],
             [
              0.3333333333333333,
              "#9c179e"
             ],
             [
              0.4444444444444444,
              "#bd3786"
             ],
             [
              0.5555555555555556,
              "#d8576b"
             ],
             [
              0.6666666666666666,
              "#ed7953"
             ],
             [
              0.7777777777777778,
              "#fb9f3a"
             ],
             [
              0.8888888888888888,
              "#fdca26"
             ],
             [
              1,
              "#f0f921"
             ]
            ],
            "type": "surface"
           }
          ],
          "table": [
           {
            "cells": {
             "fill": {
              "color": "#EBF0F8"
             },
             "line": {
              "color": "white"
             }
            },
            "header": {
             "fill": {
              "color": "#C8D4E3"
             },
             "line": {
              "color": "white"
             }
            },
            "type": "table"
           }
          ]
         },
         "layout": {
          "annotationdefaults": {
           "arrowcolor": "#2a3f5f",
           "arrowhead": 0,
           "arrowwidth": 1
          },
          "autotypenumbers": "strict",
          "coloraxis": {
           "colorbar": {
            "outlinewidth": 0,
            "ticks": ""
           }
          },
          "colorscale": {
           "diverging": [
            [
             0,
             "#8e0152"
            ],
            [
             0.1,
             "#c51b7d"
            ],
            [
             0.2,
             "#de77ae"
            ],
            [
             0.3,
             "#f1b6da"
            ],
            [
             0.4,
             "#fde0ef"
            ],
            [
             0.5,
             "#f7f7f7"
            ],
            [
             0.6,
             "#e6f5d0"
            ],
            [
             0.7,
             "#b8e186"
            ],
            [
             0.8,
             "#7fbc41"
            ],
            [
             0.9,
             "#4d9221"
            ],
            [
             1,
             "#276419"
            ]
           ],
           "sequential": [
            [
             0,
             "#0d0887"
            ],
            [
             0.1111111111111111,
             "#46039f"
            ],
            [
             0.2222222222222222,
             "#7201a8"
            ],
            [
             0.3333333333333333,
             "#9c179e"
            ],
            [
             0.4444444444444444,
             "#bd3786"
            ],
            [
             0.5555555555555556,
             "#d8576b"
            ],
            [
             0.6666666666666666,
             "#ed7953"
            ],
            [
             0.7777777777777778,
             "#fb9f3a"
            ],
            [
             0.8888888888888888,
             "#fdca26"
            ],
            [
             1,
             "#f0f921"
            ]
           ],
           "sequentialminus": [
            [
             0,
             "#0d0887"
            ],
            [
             0.1111111111111111,
             "#46039f"
            ],
            [
             0.2222222222222222,
             "#7201a8"
            ],
            [
             0.3333333333333333,
             "#9c179e"
            ],
            [
             0.4444444444444444,
             "#bd3786"
            ],
            [
             0.5555555555555556,
             "#d8576b"
            ],
            [
             0.6666666666666666,
             "#ed7953"
            ],
            [
             0.7777777777777778,
             "#fb9f3a"
            ],
            [
             0.8888888888888888,
             "#fdca26"
            ],
            [
             1,
             "#f0f921"
            ]
           ]
          },
          "colorway": [
           "#636efa",
           "#EF553B",
           "#00cc96",
           "#ab63fa",
           "#FFA15A",
           "#19d3f3",
           "#FF6692",
           "#B6E880",
           "#FF97FF",
           "#FECB52"
          ],
          "font": {
           "color": "#2a3f5f"
          },
          "geo": {
           "bgcolor": "white",
           "lakecolor": "white",
           "landcolor": "#E5ECF6",
           "showlakes": true,
           "showland": true,
           "subunitcolor": "white"
          },
          "hoverlabel": {
           "align": "left"
          },
          "hovermode": "closest",
          "mapbox": {
           "style": "light"
          },
          "paper_bgcolor": "white",
          "plot_bgcolor": "#E5ECF6",
          "polar": {
           "angularaxis": {
            "gridcolor": "white",
            "linecolor": "white",
            "ticks": ""
           },
           "bgcolor": "#E5ECF6",
           "radialaxis": {
            "gridcolor": "white",
            "linecolor": "white",
            "ticks": ""
           }
          },
          "scene": {
           "xaxis": {
            "backgroundcolor": "#E5ECF6",
            "gridcolor": "white",
            "gridwidth": 2,
            "linecolor": "white",
            "showbackground": true,
            "ticks": "",
            "zerolinecolor": "white"
           },
           "yaxis": {
            "backgroundcolor": "#E5ECF6",
            "gridcolor": "white",
            "gridwidth": 2,
            "linecolor": "white",
            "showbackground": true,
            "ticks": "",
            "zerolinecolor": "white"
           },
           "zaxis": {
            "backgroundcolor": "#E5ECF6",
            "gridcolor": "white",
            "gridwidth": 2,
            "linecolor": "white",
            "showbackground": true,
            "ticks": "",
            "zerolinecolor": "white"
           }
          },
          "shapedefaults": {
           "line": {
            "color": "#2a3f5f"
           }
          },
          "ternary": {
           "aaxis": {
            "gridcolor": "white",
            "linecolor": "white",
            "ticks": ""
           },
           "baxis": {
            "gridcolor": "white",
            "linecolor": "white",
            "ticks": ""
           },
           "bgcolor": "#E5ECF6",
           "caxis": {
            "gridcolor": "white",
            "linecolor": "white",
            "ticks": ""
           }
          },
          "title": {
           "x": 0.05
          },
          "xaxis": {
           "automargin": true,
           "gridcolor": "white",
           "linecolor": "white",
           "ticks": "",
           "title": {
            "standoff": 15
           },
           "zerolinecolor": "white",
           "zerolinewidth": 2
          },
          "yaxis": {
           "automargin": true,
           "gridcolor": "white",
           "linecolor": "white",
           "ticks": "",
           "title": {
            "standoff": 15
           },
           "zerolinecolor": "white",
           "zerolinewidth": 2
          }
         }
        },
        "title": {
         "text": "Classificação das Direções dos Poços TERRA"
        }
       }
      },
      "text/html": "<div>                            <div id=\"7f98133a-743a-410b-8063-3fa8fad8656b\" class=\"plotly-graph-div\" style=\"height:525px; width:100%;\"></div>            <script type=\"text/javascript\">                require([\"plotly\"], function(Plotly) {                    window.PLOTLYENV=window.PLOTLYENV || {};                                    if (document.getElementById(\"7f98133a-743a-410b-8063-3fa8fad8656b\")) {                    Plotly.newPlot(                        \"7f98133a-743a-410b-8063-3fa8fad8656b\",                        [{\"direction\": \"clockwise\", \"hoverinfo\": \"label+value\", \"labels\": [\"Vertical\", \"Direcional\", \"Horizontal\"], \"marker\": {\"line\": {\"color\": \"#000000\", \"width\": 2}}, \"pull\": [0.2, 0, 0], \"type\": \"pie\", \"values\": [19099, 3520, 307]}],                        {\"template\": {\"data\": {\"bar\": [{\"error_x\": {\"color\": \"#2a3f5f\"}, \"error_y\": {\"color\": \"#2a3f5f\"}, \"marker\": {\"line\": {\"color\": \"#E5ECF6\", \"width\": 0.5}}, \"type\": \"bar\"}], \"barpolar\": [{\"marker\": {\"line\": {\"color\": \"#E5ECF6\", \"width\": 0.5}}, \"type\": \"barpolar\"}], \"carpet\": [{\"aaxis\": {\"endlinecolor\": \"#2a3f5f\", \"gridcolor\": \"white\", \"linecolor\": \"white\", \"minorgridcolor\": \"white\", \"startlinecolor\": \"#2a3f5f\"}, \"baxis\": {\"endlinecolor\": \"#2a3f5f\", \"gridcolor\": \"white\", \"linecolor\": \"white\", \"minorgridcolor\": \"white\", \"startlinecolor\": \"#2a3f5f\"}, \"type\": \"carpet\"}], \"choropleth\": [{\"colorbar\": {\"outlinewidth\": 0, \"ticks\": \"\"}, \"type\": \"choropleth\"}], \"contour\": [{\"colorbar\": {\"outlinewidth\": 0, \"ticks\": \"\"}, \"colorscale\": [[0.0, \"#0d0887\"], [0.1111111111111111, \"#46039f\"], [0.2222222222222222, \"#7201a8\"], [0.3333333333333333, \"#9c179e\"], [0.4444444444444444, \"#bd3786\"], [0.5555555555555556, \"#d8576b\"], [0.6666666666666666, \"#ed7953\"], [0.7777777777777778, \"#fb9f3a\"], [0.8888888888888888, \"#fdca26\"], [1.0, \"#f0f921\"]], \"type\": \"contour\"}], \"contourcarpet\": [{\"colorbar\": {\"outlinewidth\": 0, \"ticks\": \"\"}, \"type\": \"contourcarpet\"}], \"heatmap\": [{\"colorbar\": {\"outlinewidth\": 0, \"ticks\": \"\"}, \"colorscale\": [[0.0, \"#0d0887\"], [0.1111111111111111, \"#46039f\"], [0.2222222222222222, \"#7201a8\"], [0.3333333333333333, \"#9c179e\"], [0.4444444444444444, \"#bd3786\"], [0.5555555555555556, \"#d8576b\"], [0.6666666666666666, \"#ed7953\"], [0.7777777777777778, \"#fb9f3a\"], [0.8888888888888888, \"#fdca26\"], [1.0, \"#f0f921\"]], \"type\": \"heatmap\"}], \"heatmapgl\": [{\"colorbar\": {\"outlinewidth\": 0, \"ticks\": \"\"}, \"colorscale\": [[0.0, \"#0d0887\"], [0.1111111111111111, \"#46039f\"], [0.2222222222222222, \"#7201a8\"], [0.3333333333333333, \"#9c179e\"], [0.4444444444444444, \"#bd3786\"], [0.5555555555555556, \"#d8576b\"], [0.6666666666666666, \"#ed7953\"], [0.7777777777777778, \"#fb9f3a\"], [0.8888888888888888, \"#fdca26\"], [1.0, \"#f0f921\"]], \"type\": \"heatmapgl\"}], \"histogram\": [{\"marker\": {\"colorbar\": {\"outlinewidth\": 0, \"ticks\": \"\"}}, \"type\": \"histogram\"}], \"histogram2d\": [{\"colorbar\": {\"outlinewidth\": 0, \"ticks\": \"\"}, \"colorscale\": [[0.0, \"#0d0887\"], [0.1111111111111111, \"#46039f\"], [0.2222222222222222, \"#7201a8\"], [0.3333333333333333, \"#9c179e\"], [0.4444444444444444, \"#bd3786\"], [0.5555555555555556, \"#d8576b\"], [0.6666666666666666, \"#ed7953\"], [0.7777777777777778, \"#fb9f3a\"], [0.8888888888888888, \"#fdca26\"], [1.0, \"#f0f921\"]], \"type\": \"histogram2d\"}], \"histogram2dcontour\": [{\"colorbar\": {\"outlinewidth\": 0, \"ticks\": \"\"}, \"colorscale\": [[0.0, \"#0d0887\"], [0.1111111111111111, \"#46039f\"], [0.2222222222222222, \"#7201a8\"], [0.3333333333333333, \"#9c179e\"], [0.4444444444444444, \"#bd3786\"], [0.5555555555555556, \"#d8576b\"], [0.6666666666666666, \"#ed7953\"], [0.7777777777777778, \"#fb9f3a\"], [0.8888888888888888, \"#fdca26\"], [1.0, \"#f0f921\"]], \"type\": \"histogram2dcontour\"}], \"mesh3d\": [{\"colorbar\": {\"outlinewidth\": 0, \"ticks\": \"\"}, \"type\": \"mesh3d\"}], \"parcoords\": [{\"line\": {\"colorbar\": {\"outlinewidth\": 0, \"ticks\": \"\"}}, \"type\": \"parcoords\"}], \"pie\": [{\"automargin\": true, \"type\": \"pie\"}], \"scatter\": [{\"marker\": {\"colorbar\": {\"outlinewidth\": 0, \"ticks\": \"\"}}, \"type\": \"scatter\"}], \"scatter3d\": [{\"line\": {\"colorbar\": {\"outlinewidth\": 0, \"ticks\": \"\"}}, \"marker\": {\"colorbar\": {\"outlinewidth\": 0, \"ticks\": \"\"}}, \"type\": \"scatter3d\"}], \"scattercarpet\": [{\"marker\": {\"colorbar\": {\"outlinewidth\": 0, \"ticks\": \"\"}}, \"type\": \"scattercarpet\"}], \"scattergeo\": [{\"marker\": {\"colorbar\": {\"outlinewidth\": 0, \"ticks\": \"\"}}, \"type\": \"scattergeo\"}], \"scattergl\": [{\"marker\": {\"colorbar\": {\"outlinewidth\": 0, \"ticks\": \"\"}}, \"type\": \"scattergl\"}], \"scattermapbox\": [{\"marker\": {\"colorbar\": {\"outlinewidth\": 0, \"ticks\": \"\"}}, \"type\": \"scattermapbox\"}], \"scatterpolar\": [{\"marker\": {\"colorbar\": {\"outlinewidth\": 0, \"ticks\": \"\"}}, \"type\": \"scatterpolar\"}], \"scatterpolargl\": [{\"marker\": {\"colorbar\": {\"outlinewidth\": 0, \"ticks\": \"\"}}, \"type\": \"scatterpolargl\"}], \"scatterternary\": [{\"marker\": {\"colorbar\": {\"outlinewidth\": 0, \"ticks\": \"\"}}, \"type\": \"scatterternary\"}], \"surface\": [{\"colorbar\": {\"outlinewidth\": 0, \"ticks\": \"\"}, \"colorscale\": [[0.0, \"#0d0887\"], [0.1111111111111111, \"#46039f\"], [0.2222222222222222, \"#7201a8\"], [0.3333333333333333, \"#9c179e\"], [0.4444444444444444, \"#bd3786\"], [0.5555555555555556, \"#d8576b\"], [0.6666666666666666, \"#ed7953\"], [0.7777777777777778, \"#fb9f3a\"], [0.8888888888888888, \"#fdca26\"], [1.0, \"#f0f921\"]], \"type\": \"surface\"}], \"table\": [{\"cells\": {\"fill\": {\"color\": \"#EBF0F8\"}, \"line\": {\"color\": \"white\"}}, \"header\": {\"fill\": {\"color\": \"#C8D4E3\"}, \"line\": {\"color\": \"white\"}}, \"type\": \"table\"}]}, \"layout\": {\"annotationdefaults\": {\"arrowcolor\": \"#2a3f5f\", \"arrowhead\": 0, \"arrowwidth\": 1}, \"autotypenumbers\": \"strict\", \"coloraxis\": {\"colorbar\": {\"outlinewidth\": 0, \"ticks\": \"\"}}, \"colorscale\": {\"diverging\": [[0, \"#8e0152\"], [0.1, \"#c51b7d\"], [0.2, \"#de77ae\"], [0.3, \"#f1b6da\"], [0.4, \"#fde0ef\"], [0.5, \"#f7f7f7\"], [0.6, \"#e6f5d0\"], [0.7, \"#b8e186\"], [0.8, \"#7fbc41\"], [0.9, \"#4d9221\"], [1, \"#276419\"]], \"sequential\": [[0.0, \"#0d0887\"], [0.1111111111111111, \"#46039f\"], [0.2222222222222222, \"#7201a8\"], [0.3333333333333333, \"#9c179e\"], [0.4444444444444444, \"#bd3786\"], [0.5555555555555556, \"#d8576b\"], [0.6666666666666666, \"#ed7953\"], [0.7777777777777778, \"#fb9f3a\"], [0.8888888888888888, \"#fdca26\"], [1.0, \"#f0f921\"]], \"sequentialminus\": [[0.0, \"#0d0887\"], [0.1111111111111111, \"#46039f\"], [0.2222222222222222, \"#7201a8\"], [0.3333333333333333, \"#9c179e\"], [0.4444444444444444, \"#bd3786\"], [0.5555555555555556, \"#d8576b\"], [0.6666666666666666, \"#ed7953\"], [0.7777777777777778, \"#fb9f3a\"], [0.8888888888888888, \"#fdca26\"], [1.0, \"#f0f921\"]]}, \"colorway\": [\"#636efa\", \"#EF553B\", \"#00cc96\", \"#ab63fa\", \"#FFA15A\", \"#19d3f3\", \"#FF6692\", \"#B6E880\", \"#FF97FF\", \"#FECB52\"], \"font\": {\"color\": \"#2a3f5f\"}, \"geo\": {\"bgcolor\": \"white\", \"lakecolor\": \"white\", \"landcolor\": \"#E5ECF6\", \"showlakes\": true, \"showland\": true, \"subunitcolor\": \"white\"}, \"hoverlabel\": {\"align\": \"left\"}, \"hovermode\": \"closest\", \"mapbox\": {\"style\": \"light\"}, \"paper_bgcolor\": \"white\", \"plot_bgcolor\": \"#E5ECF6\", \"polar\": {\"angularaxis\": {\"gridcolor\": \"white\", \"linecolor\": \"white\", \"ticks\": \"\"}, \"bgcolor\": \"#E5ECF6\", \"radialaxis\": {\"gridcolor\": \"white\", \"linecolor\": \"white\", \"ticks\": \"\"}}, \"scene\": {\"xaxis\": {\"backgroundcolor\": \"#E5ECF6\", \"gridcolor\": \"white\", \"gridwidth\": 2, \"linecolor\": \"white\", \"showbackground\": true, \"ticks\": \"\", \"zerolinecolor\": \"white\"}, \"yaxis\": {\"backgroundcolor\": \"#E5ECF6\", \"gridcolor\": \"white\", \"gridwidth\": 2, \"linecolor\": \"white\", \"showbackground\": true, \"ticks\": \"\", \"zerolinecolor\": \"white\"}, \"zaxis\": {\"backgroundcolor\": \"#E5ECF6\", \"gridcolor\": \"white\", \"gridwidth\": 2, \"linecolor\": \"white\", \"showbackground\": true, \"ticks\": \"\", \"zerolinecolor\": \"white\"}}, \"shapedefaults\": {\"line\": {\"color\": \"#2a3f5f\"}}, \"ternary\": {\"aaxis\": {\"gridcolor\": \"white\", \"linecolor\": \"white\", \"ticks\": \"\"}, \"baxis\": {\"gridcolor\": \"white\", \"linecolor\": \"white\", \"ticks\": \"\"}, \"bgcolor\": \"#E5ECF6\", \"caxis\": {\"gridcolor\": \"white\", \"linecolor\": \"white\", \"ticks\": \"\"}}, \"title\": {\"x\": 0.05}, \"xaxis\": {\"automargin\": true, \"gridcolor\": \"white\", \"linecolor\": \"white\", \"ticks\": \"\", \"title\": {\"standoff\": 15}, \"zerolinecolor\": \"white\", \"zerolinewidth\": 2}, \"yaxis\": {\"automargin\": true, \"gridcolor\": \"white\", \"linecolor\": \"white\", \"ticks\": \"\", \"title\": {\"standoff\": 15}, \"zerolinecolor\": \"white\", \"zerolinewidth\": 2}}}, \"title\": {\"text\": \"Classifica\\u00e7\\u00e3o das Dire\\u00e7\\u00f5es dos Po\\u00e7os TERRA\"}},                        {\"responsive\": true}                    ).then(function(){\n                            \nvar gd = document.getElementById('7f98133a-743a-410b-8063-3fa8fad8656b');\nvar x = new MutationObserver(function (mutations, observer) {{\n        var display = window.getComputedStyle(gd).display;\n        if (!display || display === 'none') {{\n            console.log([gd, 'removed!']);\n            Plotly.purge(gd);\n            observer.disconnect();\n        }}\n}});\n\n// Listen for the removal of the full notebook cells\nvar notebookContainer = gd.closest('#notebook-container');\nif (notebookContainer) {{\n    x.observe(notebookContainer, {childList: true});\n}}\n\n// Listen for the clearing of the current output cell\nvar outputEl = gd.closest('.output');\nif (outputEl) {{\n    x.observe(outputEl, {childList: true});\n}}\n\n                        })                };                });            </script>        </div>"
     },
     "metadata": {}
    }
   ],
   "source": [
    "# Criando gráfico\n",
    "# gráfico de pizza é legal pq tem poucas classificações, caso tivesse muitas classificações poderiamos usar o caso de barras\n",
    "trace = go.Pie(labels = direcao_mar.index,\n",
    "               values = direcao_mar.values,\n",
    "            marker = {'line' : {'color':'#000000','width':2}},\n",
    "               hoverinfo='label+value',\n",
    "               pull=[0.2,0,0], #esse paramêtro diz quanto quero destacar desse parâmetro \n",
    "               direction='clockwise'\n",
    "              )\n",
    "\n",
    "# Armazenando gráfico em uma lista\n",
    "\n",
    "data = [trace]\n",
    "\n",
    "trace1 = go.Pie(labels = direcao_terra.index,\n",
    "               values = direcao_terra.values,\n",
    "            marker = {'line' : {'color':'#000000','width':2}},\n",
    "               hoverinfo='label+value', \n",
    "               pull=[0.2,0,0], #esse paramêtro diz quanto quero destacar desse parâmetro \n",
    "               direction='clockwise'\n",
    "              )\n",
    "\n",
    "# Armazenando gráfico em uma lista\n",
    "\n",
    "data1 = [trace1]\n",
    "\n",
    "# Criando Layout\n",
    "\n",
    "layout1 = go.Layout(title='Classificação das Direções dos Poços TERRA')\n",
    "\n",
    "layout = go.Layout(title='Classificação das Direções dos Poços MAR')\n",
    "\n",
    "# Criando figura que será exibida\n",
    "fig = go.Figure(data=data, layout=layout)\n",
    "fig1 = go.Figure(data=data1, layout=layout1)\n",
    "\n",
    "py.iplot(fig)\n",
    "py.iplot(fig1)"
   ]
  },
  {
   "source": [
    "Podemos observar uma predominancia de poços verticais em ambos locais (Terra e Mar).\n",
    "\n",
    "No entanto, vale ressaltar que no Mar temos uma quantidade expressiva de poços com direção Horizontal."
   ],
   "cell_type": "markdown",
   "metadata": {}
  },
  {
   "cell_type": "code",
   "execution_count": null,
   "metadata": {},
   "outputs": [],
   "source": []
  }
 ]
}